{
 "cells": [
  {
   "cell_type": "code",
   "execution_count": 1,
   "metadata": {},
   "outputs": [],
   "source": [
    "import pandas as pd\n",
    "import numpy as np\n",
    "import matplotlib.pyplot as plt\n",
    "import seaborn as sns"
   ]
  },
  {
   "cell_type": "code",
   "execution_count": 2,
   "metadata": {},
   "outputs": [],
   "source": [
    "##load dataset\n",
    "file = \"data/processed_data\"\n",
    "\n",
    "train_info_path = file + \"/train_info.csv\"\n",
    "train_work_path = file + \"/train_work.csv\"\n",
    "train_label_path = \"data/label_train.csv\"\n",
    "\n",
    "test_info_path = file + \"/test_info.csv\"\n",
    "test_work_path = file + \"/test_work.csv\"\n",
    "test_label_path =  \"data/label_test.csv\"\n",
    "\n",
    "\n",
    "## data frame\n",
    "train_info = pd.read_csv(train_info_path)\n",
    "train_work = pd.read_csv(train_work_path)\n",
    "train_label = pd.read_csv(train_label_path)\n",
    "\n",
    "test_info = pd.read_csv(test_info_path)\n",
    "test_work = pd.read_csv(test_work_path)\n",
    "test_label = pd.read_csv(test_label_path)"
   ]
  },
  {
   "cell_type": "code",
   "execution_count": 3,
   "metadata": {},
   "outputs": [
    {
     "data": {
      "text/plain": [
       "((27502, 5), (247559, 19), (27502, 2))"
      ]
     },
     "execution_count": 3,
     "metadata": {},
     "output_type": "execute_result"
    }
   ],
   "source": [
    "train_info.shape, train_work.shape, train_label.shape"
   ]
  },
  {
   "cell_type": "code",
   "execution_count": 4,
   "metadata": {},
   "outputs": [],
   "source": [
    "# info: id_bh,\tbithYear,\tgender,\tnew_province_id\n",
    "# label: id_bd, label\n",
    "# work: main:id_bh , new_work_province_id ,  employee_lv , \n",
    "## year_from_date , year_to_date ,  month_from_date, month_to_date \n",
    "## num_year_contract, num_month_contract   \n",
    "## company_type,   id_management ,id_office ,  job_role_encode_knn                                                                                       \n",
    "\n",
    "## cach xu ly:\n",
    "## 1. group by thep id_bh o work \n",
    "## 2. merge voi info va label"
   ]
  },
  {
   "cell_type": "markdown",
   "metadata": {},
   "source": [
    "## 1. Tao DF de co the train, test"
   ]
  },
  {
   "cell_type": "code",
   "execution_count": 5,
   "metadata": {},
   "outputs": [],
   "source": [
    "def concat_data(df, df_add, col='id_bh', how='left'):\n",
    "    df = pd.merge(df, df_add, on=col, how=how)\n",
    "    return df"
   ]
  },
  {
   "cell_type": "code",
   "execution_count": 6,
   "metadata": {},
   "outputs": [],
   "source": [
    "use_cosl_train  = [\"id_bh\" , \"new_work_province_id\" ,  \"employee_lv\" , \n",
    "\"year_from_date\" , \"year_to_date\" ,  \"month_from_date\", \"month_to_date\" ,\n",
    "\"num_year_contract\", \"num_month_contract\"   ,\n",
    "\"company_type\",   \"id_management\" ,\"id_office\" ,  \"job_role_encode_knn\", \n",
    "\"bithYear\", \"gender\", \"new_province_id\", \"label\"  ] \n",
    "# train\n",
    "group_train_work = train_work.groupby('id_bh').agg(lambda x: x.tolist())\n",
    "train = concat_data(group_train_work, train_info, col='id_bh', how='left')\n",
    "train = concat_data(train, train_label, col='id_bh', how='left')\n",
    "train = train[use_cosl_train]\n",
    "# test\n",
    "group_test_work = test_work.groupby('id_bh').agg(lambda x: x.tolist())\n",
    "test = concat_data(group_test_work, test_info, col='id_bh', how='left')\n",
    "test = test[use_cosl_train[:-1]]"
   ]
  },
  {
   "cell_type": "code",
   "execution_count": 7,
   "metadata": {},
   "outputs": [],
   "source": [
    "## export \n",
    "train.to_csv(r\"data/processed_data/train_df.csv\")\n",
    "test.to_csv(r\"data/processed_data/test_df.csv\")"
   ]
  },
  {
   "cell_type": "code",
   "execution_count": 8,
   "metadata": {},
   "outputs": [
    {
     "data": {
      "text/plain": [
       "((27502, 17), (18134, 16))"
      ]
     },
     "execution_count": 8,
     "metadata": {},
     "output_type": "execute_result"
    }
   ],
   "source": [
    "train.shape, test.shape"
   ]
  },
  {
   "cell_type": "markdown",
   "metadata": {},
   "source": [
    "# 2. Feature engineering"
   ]
  },
  {
   "cell_type": "code",
   "execution_count": 9,
   "metadata": {},
   "outputs": [
    {
     "data": {
      "text/plain": [
       "count    27502.000000\n",
       "mean      1984.355756\n",
       "std          8.842248\n",
       "min       1941.000000\n",
       "25%       1979.000000\n",
       "50%       1985.000000\n",
       "75%       1991.000000\n",
       "max       2002.000000\n",
       "Name: bithYear, dtype: float64"
      ]
     },
     "execution_count": 9,
     "metadata": {},
     "output_type": "execute_result"
    }
   ],
   "source": [
    "# 2. Feature engineering\n",
    "## category list: company_type,\tid_management,\tid_office,\tjob_role_encode_knn ==> max frequent, last, count unique\n",
    "### new_work_province_id: max frequnt, last , count unique\n",
    "\n",
    "### new_work_province_id, id_office, company_type, id_management\n",
    "\n",
    "\n",
    "## number:\n",
    "### employee_lv bo gia tri -1: max, min (bo -1), mode(bo -1), std, mean, gia tri (max-min), count unique\n",
    "### year_from_date: max, min, std, mode, mean, count unique\n",
    "### year_to_date: max, min, std, mode, mean, count unique\n",
    "### month_from_date, month_to_date:  max, min, std, mode, mean\n",
    "### num_year_contract: max, min, mode, mean, std, q(75), q(25), count unique\n",
    "### num_month_contract: max, min, mode, mean, std, q(75), q(25), count unique\n",
    "## create new fea:\n",
    "\n",
    "train['bithYear'].describe()"
   ]
  },
  {
   "cell_type": "code",
   "execution_count": 10,
   "metadata": {},
   "outputs": [],
   "source": [
    "import statistics\n",
    "from statistics import mode\n",
    "## utils func for category var\n",
    "def max_frequent(list):\n",
    "    if (len(list) == 0):\n",
    "        return -999\n",
    "    return(mode(list))\n",
    "def max_frequent_without_filled_var(list):\n",
    "    if( -999 in list):\n",
    "        list.remove(-999)\n",
    "    if(-1 in list):\n",
    "        list.remove(-1)\n",
    "    if(-1.0 in list):\n",
    "        list.remove(-1.0)\n",
    "    a_set = set(list)\n",
    "    if ((len(list) == 0) or (len(a_set) == len(list)) ):\n",
    "        return -999\n",
    "    return(mode(list))\n",
    "def last_value(list):\n",
    "    if (len(list) == 0):\n",
    "        return -999\n",
    "    return list[-1]\n",
    "def count_unique(list):\n",
    "    return len(set(list))\n",
    "def count_unique_without_filled_var(list):\n",
    "    if( -999 in list):\n",
    "        list.remove(-999)\n",
    "    if(-1 in list):\n",
    "        list.remove(-1)\n",
    "    return len(set(list))\n",
    "\n",
    "category_cols = [\n",
    "    \"company_type\",\t\"id_management\",\t\"id_office\",\t\"job_role_encode_knn\" ,\"new_work_province_id\"\n",
    "]\n",
    "numeric_cols = [\n",
    "        \"employee_lv\" , \n",
    "        \"year_from_date\",\n",
    "        \"year_to_date\",\n",
    "        \"month_from_date\",\n",
    "        \"num_year_contract\",\n",
    "        \"num_month_contract\",\n",
    "]\n",
    "## utils fun for numeric features: max, min, mode, mean, std, q(75), q(25), count unique\n",
    "def min_without_filled_var(list):\n",
    "    if(-1 in list):\n",
    "        list.remove(-1)\n",
    "        if (len(list) == 0):\n",
    "            return -1\n",
    "        else: \n",
    "            return min(list)\n",
    "    return min(list)\n",
    "def std(list):\n",
    "    if (len(list) < 2):\n",
    "            return -999\n",
    "    if(-1 in list):\n",
    "        list.remove(-1)\n",
    "        if (len(list) < 2):\n",
    "            return -999\n",
    "        else: \n",
    "            return statistics.stdev(list)\n",
    "    return statistics.stdev(list)\n",
    "\n",
    "######################\n",
    "def features_engineering(df):\n",
    "    ## categorical cols\n",
    "    for col in category_cols:\n",
    "        df['category_max_fre_' + col] = df[col].apply(lambda x: max_frequent(x) ) ## category\n",
    "        df['category_max_fre_out_filled_var_' + col] = df[col].apply(lambda x: max_frequent_without_filled_var(x) ) ## category\n",
    "        df['category_last_value_' + col] = df[col].apply(lambda x: last_value(x) ) ## category\n",
    "        df['numeric_count_unique_' + col] = df[col].apply(lambda x: count_unique(x) ) ## numeric\n",
    "        df['numeric_count_unique_without_filled_var' + col] = df[col].apply(lambda x: count_unique_without_filled_var(x) ) ## numeric\n",
    "\n",
    "    ## numeric cols:\n",
    "    for col in numeric_cols:\n",
    "        ## chi co employee_lv la co fill nan\n",
    "        if (col == 'employee_lv'):\n",
    "            df['numeric_max_lv_' + 'of_'+ col] = df[col].apply(lambda x: max(x) )\n",
    "            df['numeric_min_lv_' + 'of_'+ col] = df[col].apply(lambda x: min_without_filled_var(x) )\n",
    "            df['numeric_mode_' + 'of_'+ col] = df[col].apply(lambda x: max_frequent(x) ) \n",
    "            df['numeric_mode_out_filled_var_' + 'of_'+ col] = df[col].apply(lambda x: max_frequent_without_filled_var(x) ) \n",
    "            df['numeric_mean_' + 'of_'+ col] = df[col].apply(lambda x: sum(x) / float(len(x)) ) \n",
    "            df['numeric_std_' + 'of_'+ col] = df[col].apply(lambda x: std(x) )\n",
    "            df['numeric_count_unique_' + 'of_'+ col]  = df[col].apply(lambda x: count_unique(x) ) ## numeric\n",
    "            df['numeric_count_unique_' + 'of_'+ col]  = df[col].apply(lambda x: count_unique_without_filled_var(x) ) ## numeric\n",
    "            df['numeric_Q25_' + 'of_'+ col ] = df[col].apply(lambda x: np.quantile(x, .25) )\n",
    "            df['numeric_Q75_' + 'of_'+ col ] = df[col].apply(lambda x: np.quantile(x, .75) )\n",
    "        else:\n",
    "            df['numeric_max_' + 'of_'+ col] = df[col].apply(lambda x: max(x) )\n",
    "            df['numeric_min_' + 'of_'+ col] = df[col].apply(lambda x: min_without_filled_var(x) )\n",
    "            df['numeric_mode_' + 'of_'+ col] = df[col].apply(lambda x: max_frequent(x) )  \n",
    "            df['numeric_mean_' + 'of_'+ col] = df[col].apply(lambda x: sum(x) / float(len(x)) ) \n",
    "            df['numeric_std_' + 'of_'+ col] = df[col].apply(lambda x: std(x) )\n",
    "            df['numeric_count_unique_' + 'of_'+ col]  = df[col].apply(lambda x: count_unique(x) ) ## numeric\n",
    "            df['numeric_Q25_' + 'of_'+ col ] = df[col].apply(lambda x: np.quantile(x, .25) )\n",
    "            df['numeric_Q75_' + 'of_'+ col ] = df[col].apply(lambda x: np.quantile(x, .75) )\n",
    "    ## create_new_fea between 2 features:(year_from_date, year_to_date) with bithYear\n",
    "    df['numeric_year_diff_max_year_from_vs_bithYear'] = df['numeric_max_of_year_from_date'] - df['bithYear']\n",
    "    df['numeric_year_diff_min_year_from_vs_bithYear'] = df['numeric_min_of_year_from_date'] - df['bithYear']\n",
    "    df['numeric_year_diff_max_year_to_vs_bithYear'] = df['numeric_max_of_year_to_date'] - df['bithYear']\n",
    "    df['numeric_year_diff_min_year_to_vs_bithYear'] = df['numeric_min_of_year_to_date'] - df['bithYear']\n",
    "\n",
    "    ## old:\n",
    "    df['numeric_olds'] = 2022 - df['bithYear']\n",
    "    ## ratio: num_old vs diff_min_year_from_vs_bithYear\n",
    "    df['numeric_ratio_olds_vs_(diff_min_year_from_vs_bithYear)'] = df['numeric_olds'] / df['numeric_year_diff_min_year_from_vs_bithYear']\n",
    "    df['numeric_ratio_olds_vs_(diff_min_year_from_vs_bithYear)'] = df['numeric_ratio_olds_vs_(diff_min_year_from_vs_bithYear)'].apply(lambda x: x if(x> 0) else -999)\n",
    "    ## fix value in create_new_fea cols\n",
    "    new_cols = [col for col in df.columns if 'numeric_year_diff_' in col]\n",
    "    for col in new_cols:\n",
    "        df[col] = df[col].apply(lambda x: x if(x> 0) else -999)\n",
    "    return df\n",
    "fe_train = features_engineering(train)\n",
    "\n",
    "  "
   ]
  },
  {
   "cell_type": "code",
   "execution_count": 11,
   "metadata": {},
   "outputs": [],
   "source": [
    "fe_test = features_engineering(test)"
   ]
  },
  {
   "cell_type": "code",
   "execution_count": 12,
   "metadata": {},
   "outputs": [
    {
     "data": {
      "text/plain": [
       "(85, 84)"
      ]
     },
     "execution_count": 12,
     "metadata": {},
     "output_type": "execute_result"
    }
   ],
   "source": [
    "numeric_ml_useful_cols = [col for col in fe_train.columns if 'numeric_' in col]\n",
    "category_ml_useful_cols = [col for col in fe_train.columns if 'category_' in col]\n",
    "old_cols = [\"bithYear\",\t\"gender\",\"new_province_id\", \"id_bh\", \"label\"]\n",
    "ml_useful_cols_train = numeric_ml_useful_cols + category_ml_useful_cols + old_cols\n",
    "ml_useful_cols_test = numeric_ml_useful_cols + category_ml_useful_cols + old_cols[:-1]\n",
    "len(ml_useful_cols_train), len(ml_useful_cols_test)"
   ]
  },
  {
   "cell_type": "markdown",
   "metadata": {},
   "source": [
    "## 3. Test baseline"
   ]
  },
  {
   "cell_type": "code",
   "execution_count": 14,
   "metadata": {},
   "outputs": [],
   "source": [
    "category_cols = category_ml_useful_cols + [\"gender\", \"new_province_id\"]"
   ]
  },
  {
   "cell_type": "code",
   "execution_count": 15,
   "metadata": {},
   "outputs": [],
   "source": [
    "df_train = fe_train[ml_useful_cols_train]\n",
    "df_test = fe_test[ml_useful_cols_test]"
   ]
  },
  {
   "cell_type": "code",
   "execution_count": 16,
   "metadata": {},
   "outputs": [],
   "source": [
    "# df_train.info()"
   ]
  },
  {
   "cell_type": "code",
   "execution_count": 17,
   "metadata": {},
   "outputs": [],
   "source": [
    "from lightgbm import LGBMClassifier as lgb\n",
    "from sklearn.model_selection import StratifiedKFold\n",
    "from sklearn.metrics import f1_score"
   ]
  },
  {
   "cell_type": "code",
   "execution_count": 18,
   "metadata": {},
   "outputs": [
    {
     "data": {
      "text/plain": [
       "{0: 32.46989374262102,\n",
       " 1: 0.3963338185067228,\n",
       " 2: 1.0159961579666779,\n",
       " 3: 0.5015775747296237,\n",
       " 4: 1.557833918658661,\n",
       " 5: 1.2327760096821911,\n",
       " 6: 66.590799031477}"
      ]
     },
     "execution_count": 18,
     "metadata": {},
     "output_type": "execute_result"
    }
   ],
   "source": [
    "## cal class weight\n",
    "from sklearn.utils import class_weight\n",
    "\n",
    "class_weights = class_weight.compute_class_weight(\n",
    "                                    class_weight = \"balanced\",\n",
    "                                    classes = [1,2,3,4,5,6,7], \n",
    "                                    y = df_train['label'] \n",
    "                                    )\n",
    "class_weights = {i : class_weights[i] for i in range(7)}\n",
    "class_weights"
   ]
  },
  {
   "cell_type": "code",
   "execution_count": 19,
   "metadata": {},
   "outputs": [],
   "source": [
    "skf = StratifiedKFold(n_splits= 5, random_state= 42, shuffle= True)\n",
    "X_train = df_train.drop(columns = ['label', 'id_bh']) \n",
    "X_train[category_cols] = X_train[category_cols].astype('category')\n",
    "y_train = df_train['label']\n",
    "cv_score = []\n",
    "params_k = {\n",
    "            'boosting_type': 'gbdt',\n",
    "            'objective': 'multiclass',\n",
    "            'num_class':7,\n",
    "            'categorical_feature': category_cols,\n",
    "            'verbose' : 0,\n",
    "           # # 'class_weight': class_weights_dict,\n",
    "            # 'subsample': 0.5,\n",
    "            # 'subsample_freq': 1,\n",
    "            # 'learning_rate': 0.01,\n",
    "            #  'num_leaves': 2**11-1,\n",
    "            #  'min_data_in_leaf': 2**12-1,\n",
    "            # 'feature_fraction': 0.5,\n",
    "            # 'max_bin': 100,\n",
    "            # 'n_estimators': 500,\n",
    "            # 'boost_from_average': False,\n",
    "            # \"feature_name\": X_train.columns.tolist(),\n",
    "            \"random_seed\":42\n",
    "}\n"
   ]
  },
  {
   "cell_type": "code",
   "execution_count": 20,
   "metadata": {},
   "outputs": [
    {
     "name": "stdout",
     "output_type": "stream",
     "text": [
      "Fold 0\n",
      "[LightGBM] [Warning] categorical_feature is set=category_max_fre_company_type,category_max_fre_out_filled_var_company_type,category_last_value_company_type,category_max_fre_id_management,category_max_fre_out_filled_var_id_management,category_last_value_id_management,category_max_fre_id_office,category_max_fre_out_filled_var_id_office,category_last_value_id_office,category_max_fre_job_role_encode_knn,category_max_fre_out_filled_var_job_role_encode_knn,category_last_value_job_role_encode_knn,category_max_fre_new_work_province_id\n"
     ]
    },
    {
     "name": "stderr",
     "output_type": "stream",
     "text": [
      "C:\\Users\\Toan\\anaconda3\\envs\\ml_com\\lib\\site-packages\\lightgbm\\sklearn.py:736: UserWarning: 'verbose' argument is deprecated and will be removed in a future release of LightGBM. Pass 'log_evaluation()' callback via 'callbacks' argument instead.\n",
      "  _log_warning(\"'verbose' argument is deprecated and will be removed in a future release of LightGBM. \"\n",
      "C:\\Users\\Toan\\anaconda3\\envs\\ml_com\\lib\\site-packages\\lightgbm\\basic.py:1487: UserWarning: categorical_feature keyword has been found in `params` and will be ignored.\n",
      "Please use categorical_feature argument of the Dataset constructor to pass this parameter.\n",
      "  _log_warning(f'{key} keyword has been found in `params` and will be ignored.\\n'\n",
      "C:\\Users\\Toan\\anaconda3\\envs\\ml_com\\lib\\site-packages\\lightgbm\\basic.py:1513: UserWarning: categorical_feature in param dict is overridden.\n",
      "  _log_warning(f'{cat_alias} in param dict is overridden.')\n"
     ]
    },
    {
     "name": "stdout",
     "output_type": "stream",
     "text": [
      "[LightGBM] [Warning] Auto-choosing col-wise multi-threading, the overhead of testing was 0.010630 seconds.\n",
      "You can set `force_col_wise=true` to remove the overhead.\n",
      "[LightGBM] [Warning] No further splits with positive gain, best gain: -inf\n",
      "[LightGBM] [Warning] No further splits with positive gain, best gain: -inf\n",
      "F1_SCORE:  0.732 \n",
      "\n",
      "Fold 1\n",
      "[LightGBM] [Warning] categorical_feature is set=category_max_fre_company_type,category_max_fre_out_filled_var_company_type,category_last_value_company_type,category_max_fre_id_management,category_max_fre_out_filled_var_id_management,category_last_value_id_management,category_max_fre_id_office,category_max_fre_out_filled_var_id_office,category_last_value_id_office,category_max_fre_job_role_encode_knn,category_max_fre_out_filled_var_job_role_encode_knn,category_last_value_job_role_encode_knn,category_max_fre_new_work_province_id\n",
      "[LightGBM] [Warning] Auto-choosing col-wise multi-threading, the overhead of testing was 0.009550 seconds.\n",
      "You can set `force_col_wise=true` to remove the overhead.\n"
     ]
    },
    {
     "name": "stderr",
     "output_type": "stream",
     "text": [
      "C:\\Users\\Toan\\anaconda3\\envs\\ml_com\\lib\\site-packages\\lightgbm\\sklearn.py:736: UserWarning: 'verbose' argument is deprecated and will be removed in a future release of LightGBM. Pass 'log_evaluation()' callback via 'callbacks' argument instead.\n",
      "  _log_warning(\"'verbose' argument is deprecated and will be removed in a future release of LightGBM. \"\n",
      "C:\\Users\\Toan\\anaconda3\\envs\\ml_com\\lib\\site-packages\\lightgbm\\basic.py:1487: UserWarning: categorical_feature keyword has been found in `params` and will be ignored.\n",
      "Please use categorical_feature argument of the Dataset constructor to pass this parameter.\n",
      "  _log_warning(f'{key} keyword has been found in `params` and will be ignored.\\n'\n",
      "C:\\Users\\Toan\\anaconda3\\envs\\ml_com\\lib\\site-packages\\lightgbm\\basic.py:1513: UserWarning: categorical_feature in param dict is overridden.\n",
      "  _log_warning(f'{cat_alias} in param dict is overridden.')\n"
     ]
    },
    {
     "name": "stdout",
     "output_type": "stream",
     "text": [
      "[LightGBM] [Warning] No further splits with positive gain, best gain: -inf\n",
      "F1_SCORE:  0.7394 \n",
      "\n",
      "Fold 2\n"
     ]
    },
    {
     "name": "stderr",
     "output_type": "stream",
     "text": [
      "C:\\Users\\Toan\\anaconda3\\envs\\ml_com\\lib\\site-packages\\lightgbm\\sklearn.py:736: UserWarning: 'verbose' argument is deprecated and will be removed in a future release of LightGBM. Pass 'log_evaluation()' callback via 'callbacks' argument instead.\n",
      "  _log_warning(\"'verbose' argument is deprecated and will be removed in a future release of LightGBM. \"\n",
      "C:\\Users\\Toan\\anaconda3\\envs\\ml_com\\lib\\site-packages\\lightgbm\\basic.py:1487: UserWarning: categorical_feature keyword has been found in `params` and will be ignored.\n",
      "Please use categorical_feature argument of the Dataset constructor to pass this parameter.\n",
      "  _log_warning(f'{key} keyword has been found in `params` and will be ignored.\\n'\n",
      "C:\\Users\\Toan\\anaconda3\\envs\\ml_com\\lib\\site-packages\\lightgbm\\basic.py:1513: UserWarning: categorical_feature in param dict is overridden.\n",
      "  _log_warning(f'{cat_alias} in param dict is overridden.')\n"
     ]
    },
    {
     "name": "stdout",
     "output_type": "stream",
     "text": [
      "[LightGBM] [Warning] categorical_feature is set=category_max_fre_company_type,category_max_fre_out_filled_var_company_type,category_last_value_company_type,category_max_fre_id_management,category_max_fre_out_filled_var_id_management,category_last_value_id_management,category_max_fre_id_office,category_max_fre_out_filled_var_id_office,category_last_value_id_office,category_max_fre_job_role_encode_knn,category_max_fre_out_filled_var_job_role_encode_knn,category_last_value_job_role_encode_knn,category_max_fre_new_work_province_id\n",
      "[LightGBM] [Warning] Auto-choosing col-wise multi-threading, the overhead of testing was 0.006628 seconds.\n",
      "You can set `force_col_wise=true` to remove the overhead.\n",
      "[LightGBM] [Warning] No further splits with positive gain, best gain: -inf\n",
      "F1_SCORE:  0.7524 \n",
      "\n",
      "Fold 3\n",
      "[LightGBM] [Warning] categorical_feature is set=category_max_fre_company_type,category_max_fre_out_filled_var_company_type,category_last_value_company_type,category_max_fre_id_management,category_max_fre_out_filled_var_id_management,category_last_value_id_management,category_max_fre_id_office,category_max_fre_out_filled_var_id_office,category_last_value_id_office,category_max_fre_job_role_encode_knn,category_max_fre_out_filled_var_job_role_encode_knn,category_last_value_job_role_encode_knn,category_max_fre_new_work_province_id\n",
      "[LightGBM] [Warning] Auto-choosing col-wise multi-threading, the overhead of testing was 0.010365 seconds.\n",
      "You can set `force_col_wise=true` to remove the overhead.\n",
      "[LightGBM] [Warning] No further splits with positive gain, best gain: -inf\n"
     ]
    },
    {
     "name": "stderr",
     "output_type": "stream",
     "text": [
      "C:\\Users\\Toan\\anaconda3\\envs\\ml_com\\lib\\site-packages\\lightgbm\\sklearn.py:736: UserWarning: 'verbose' argument is deprecated and will be removed in a future release of LightGBM. Pass 'log_evaluation()' callback via 'callbacks' argument instead.\n",
      "  _log_warning(\"'verbose' argument is deprecated and will be removed in a future release of LightGBM. \"\n",
      "C:\\Users\\Toan\\anaconda3\\envs\\ml_com\\lib\\site-packages\\lightgbm\\basic.py:1487: UserWarning: categorical_feature keyword has been found in `params` and will be ignored.\n",
      "Please use categorical_feature argument of the Dataset constructor to pass this parameter.\n",
      "  _log_warning(f'{key} keyword has been found in `params` and will be ignored.\\n'\n",
      "C:\\Users\\Toan\\anaconda3\\envs\\ml_com\\lib\\site-packages\\lightgbm\\basic.py:1513: UserWarning: categorical_feature in param dict is overridden.\n",
      "  _log_warning(f'{cat_alias} in param dict is overridden.')\n"
     ]
    },
    {
     "name": "stdout",
     "output_type": "stream",
     "text": [
      "F1_SCORE:  0.731 \n",
      "\n",
      "Fold 4\n"
     ]
    },
    {
     "name": "stderr",
     "output_type": "stream",
     "text": [
      "C:\\Users\\Toan\\anaconda3\\envs\\ml_com\\lib\\site-packages\\lightgbm\\sklearn.py:736: UserWarning: 'verbose' argument is deprecated and will be removed in a future release of LightGBM. Pass 'log_evaluation()' callback via 'callbacks' argument instead.\n",
      "  _log_warning(\"'verbose' argument is deprecated and will be removed in a future release of LightGBM. \"\n",
      "C:\\Users\\Toan\\anaconda3\\envs\\ml_com\\lib\\site-packages\\lightgbm\\basic.py:1487: UserWarning: categorical_feature keyword has been found in `params` and will be ignored.\n",
      "Please use categorical_feature argument of the Dataset constructor to pass this parameter.\n",
      "  _log_warning(f'{key} keyword has been found in `params` and will be ignored.\\n'\n",
      "C:\\Users\\Toan\\anaconda3\\envs\\ml_com\\lib\\site-packages\\lightgbm\\basic.py:1513: UserWarning: categorical_feature in param dict is overridden.\n",
      "  _log_warning(f'{cat_alias} in param dict is overridden.')\n"
     ]
    },
    {
     "name": "stdout",
     "output_type": "stream",
     "text": [
      "[LightGBM] [Warning] categorical_feature is set=category_max_fre_company_type,category_max_fre_out_filled_var_company_type,category_last_value_company_type,category_max_fre_id_management,category_max_fre_out_filled_var_id_management,category_last_value_id_management,category_max_fre_id_office,category_max_fre_out_filled_var_id_office,category_last_value_id_office,category_max_fre_job_role_encode_knn,category_max_fre_out_filled_var_job_role_encode_knn,category_last_value_job_role_encode_knn,category_max_fre_new_work_province_id\n",
      "[LightGBM] [Warning] Auto-choosing col-wise multi-threading, the overhead of testing was 0.010150 seconds.\n",
      "You can set `force_col_wise=true` to remove the overhead.\n",
      "[LightGBM] [Warning] No further splits with positive gain, best gain: -inf\n",
      "[LightGBM] [Warning] No further splits with positive gain, best gain: -inf\n",
      "F1_SCORE:  0.7484 \n",
      "\n"
     ]
    }
   ],
   "source": [
    "## Kfold\n",
    "for n_fold, (train_idx, valid_idx) in enumerate(skf.split(X_train, y_train)):\n",
    "    print(\"Fold %s\" % (n_fold))\n",
    "    train_x, train_y = X_train.iloc[train_idx], y_train.iloc[train_idx]\n",
    "    valid_x, valid_y = X_train.iloc[valid_idx], y_train.iloc[valid_idx]\n",
    "\n",
    "    clf = lgb(\n",
    "        **params_k\n",
    "    )\n",
    "    clf.fit(train_x, train_y, verbose= False)\n",
    "    score = f1_score(valid_y, clf.predict(valid_x),  average='macro')\n",
    "    print('F1_SCORE: ', round(score, 4), '\\n')\n",
    "    cv_score.append(score)"
   ]
  },
  {
   "cell_type": "code",
   "execution_count": 21,
   "metadata": {},
   "outputs": [
    {
     "name": "stdout",
     "output_type": "stream",
     "text": [
      "0.7406467632104027\n",
      "0.009577205369576682\n"
     ]
    }
   ],
   "source": [
    "print(sum(cv_score)/ 5)\n",
    "print(std(cv_score))"
   ]
  },
  {
   "cell_type": "markdown",
   "metadata": {},
   "source": [
    "## Predict"
   ]
  },
  {
   "cell_type": "code",
   "execution_count": 22,
   "metadata": {},
   "outputs": [
    {
     "data": {
      "text/plain": [
       "0         100000688\n",
       "1         100005503\n",
       "2         100006307\n",
       "3         100008625\n",
       "4         100009238\n",
       "            ...    \n",
       "18129    9714758429\n",
       "18130    9714758435\n",
       "18131    9715056070\n",
       "18132    9715637756\n",
       "18133    9716003602\n",
       "Name: id_bh, Length: 18134, dtype: int64"
      ]
     },
     "execution_count": 22,
     "metadata": {},
     "output_type": "execute_result"
    }
   ],
   "source": [
    "df_test['id_bh']"
   ]
  },
  {
   "cell_type": "code",
   "execution_count": 23,
   "metadata": {},
   "outputs": [
    {
     "name": "stderr",
     "output_type": "stream",
     "text": [
      "C:\\Users\\Toan\\anaconda3\\envs\\ml_com\\lib\\site-packages\\lightgbm\\basic.py:1487: UserWarning: categorical_feature keyword has been found in `params` and will be ignored.\n",
      "Please use categorical_feature argument of the Dataset constructor to pass this parameter.\n",
      "  _log_warning(f'{key} keyword has been found in `params` and will be ignored.\\n'\n",
      "C:\\Users\\Toan\\anaconda3\\envs\\ml_com\\lib\\site-packages\\lightgbm\\basic.py:1513: UserWarning: categorical_feature in param dict is overridden.\n",
      "  _log_warning(f'{cat_alias} in param dict is overridden.')\n"
     ]
    },
    {
     "name": "stdout",
     "output_type": "stream",
     "text": [
      "[LightGBM] [Warning] categorical_feature is set=category_max_fre_company_type,category_max_fre_out_filled_var_company_type,category_last_value_company_type,category_max_fre_id_management,category_max_fre_out_filled_var_id_management,category_last_value_id_management,category_max_fre_id_office,category_max_fre_out_filled_var_id_office,category_last_value_id_office,category_max_fre_job_role_encode_knn,category_max_fre_out_filled_var_job_role_encode_knn,category_last_value_job_role_encode_knn,category_max_fre_new_work_province_id\n",
      "[LightGBM] [Warning] Auto-choosing col-wise multi-threading, the overhead of testing was 0.012375 seconds.\n",
      "You can set `force_col_wise=true` to remove the overhead.\n",
      "[LightGBM] [Warning] No further splits with positive gain, best gain: -inf\n"
     ]
    }
   ],
   "source": [
    "id_test = df_test['id_bh']\n",
    "X_test = df_test.drop(columns = [ 'id_bh']) \n",
    "X_test[category_cols] = X_test[category_cols].astype('category')\n",
    "\n",
    "clf = lgb(**params_k)\n",
    "clf.fit( X_train, y_train)\n",
    "preds =  clf.predict(X_test)\n",
    "\n",
    "predict_df = pd.DataFrame()\n",
    "predict_df['id_bh'] =id_test\n",
    "predict_df['label'] = preds\n",
    "\n",
    "## merge voi label_test\n",
    "submit_file = concat_data(test_label,predict_df )"
   ]
  },
  {
   "cell_type": "code",
   "execution_count": 24,
   "metadata": {},
   "outputs": [
    {
     "data": {
      "text/html": [
       "<div>\n",
       "<style scoped>\n",
       "    .dataframe tbody tr th:only-of-type {\n",
       "        vertical-align: middle;\n",
       "    }\n",
       "\n",
       "    .dataframe tbody tr th {\n",
       "        vertical-align: top;\n",
       "    }\n",
       "\n",
       "    .dataframe thead th {\n",
       "        text-align: right;\n",
       "    }\n",
       "</style>\n",
       "<table border=\"1\" class=\"dataframe\">\n",
       "  <thead>\n",
       "    <tr style=\"text-align: right;\">\n",
       "      <th></th>\n",
       "      <th>id_bh</th>\n",
       "      <th>label</th>\n",
       "    </tr>\n",
       "  </thead>\n",
       "  <tbody>\n",
       "    <tr>\n",
       "      <th>0</th>\n",
       "      <td>113118886</td>\n",
       "      <td>2</td>\n",
       "    </tr>\n",
       "    <tr>\n",
       "      <th>1</th>\n",
       "      <td>2521527855</td>\n",
       "      <td>2</td>\n",
       "    </tr>\n",
       "    <tr>\n",
       "      <th>2</th>\n",
       "      <td>2421701111</td>\n",
       "      <td>2</td>\n",
       "    </tr>\n",
       "    <tr>\n",
       "      <th>3</th>\n",
       "      <td>2620332660</td>\n",
       "      <td>2</td>\n",
       "    </tr>\n",
       "    <tr>\n",
       "      <th>4</th>\n",
       "      <td>2905004143</td>\n",
       "      <td>6</td>\n",
       "    </tr>\n",
       "  </tbody>\n",
       "</table>\n",
       "</div>"
      ],
      "text/plain": [
       "        id_bh  label\n",
       "0   113118886      2\n",
       "1  2521527855      2\n",
       "2  2421701111      2\n",
       "3  2620332660      2\n",
       "4  2905004143      6"
      ]
     },
     "execution_count": 24,
     "metadata": {},
     "output_type": "execute_result"
    }
   ],
   "source": [
    "submit_file.head()\n",
    "# test_label.head()"
   ]
  },
  {
   "cell_type": "code",
   "execution_count": 25,
   "metadata": {},
   "outputs": [],
   "source": [
    "# submit_file.to_csv(\"data/submmit/baseline_lgb.csv\", index=False)"
   ]
  },
  {
   "cell_type": "code",
   "execution_count": 26,
   "metadata": {},
   "outputs": [
    {
     "data": {
      "text/plain": [
       "2    6526\n",
       "4    5424\n",
       "3    2321\n",
       "6    2059\n",
       "5    1747\n",
       "1      35\n",
       "7      22\n",
       "Name: label, dtype: int64"
      ]
     },
     "execution_count": 26,
     "metadata": {},
     "output_type": "execute_result"
    }
   ],
   "source": [
    "submit_file['label'].value_counts()"
   ]
  },
  {
   "cell_type": "markdown",
   "metadata": {},
   "source": [
    "## OPTUNA TUNE"
   ]
  },
  {
   "cell_type": "code",
   "execution_count": 29,
   "metadata": {},
   "outputs": [],
   "source": [
    "# import optuna\n",
    "# def objective(trial):\n",
    "#     # Specify a search space using distributions across plausible values of hyperparameters.\n",
    "#     param = {\n",
    "#         'boosting_type': 'gbdt',\n",
    "#         'objective': 'multiclass',\n",
    "#         'num_class':7,\n",
    "#         'categorical_feature': category_cols,       \n",
    "#         \"seed\": 42,\n",
    "#         'lambda_l1': trial.suggest_float('lambda_l1', 1e-8, 10.0, log=True),\n",
    "#         'lambda_l2': trial.suggest_float('lambda_l2', 1e-8, 10.0, log=True),\n",
    "#         'num_leaves': trial.suggest_int('num_leaves', 2, 256),\n",
    "#         'feature_fraction': trial.suggest_float('feature_fraction', 0.4, 1.0),\n",
    "#         'bagging_fraction': trial.suggest_float('bagging_fraction', 0.4, 1.0),\n",
    "#         'bagging_freq': trial.suggest_int('bagging_freq', 1, 7),\n",
    "#         'min_child_samples': trial.suggest_int('min_child_samples', 5, 100)\n",
    "#     }\n",
    "    \n",
    "#     # Run LightGBM for the hyperparameter values\n",
    "#     lgbcv = lgb(**param,\n",
    "#                 #    categorical_feature=ids_of_categorical,              \n",
    "                                  \n",
    "#                   )\n",
    "#     cv_score = []\n",
    "#     for n_fold, (train_idx, valid_idx) in enumerate(skf.split(X_train , y_train)):\n",
    "#         # print(\"Fold %s\" % (n_fold))\n",
    "#         train_x, train_y = X_train .iloc[train_idx], y_train.iloc[train_idx]\n",
    "#         valid_x, valid_y = X_train .iloc[valid_idx], y_train.iloc[valid_idx]\n",
    "\n",
    "#         clf = lgbcv\n",
    "#         clf.fit(train_x, train_y, verbose= False)\n",
    "#         score = f1_score(valid_y, clf.predict(valid_x),  average='macro')\n",
    "#         print('F1_SCORE: ', round(score, 4), '\\n')\n",
    "#         cv_score.append(score)\n",
    "    \n",
    "#     return sum(cv_score)/len(cv_score)\n",
    "\n",
    "# study = optuna.create_study(direction=\"maximize\")\n",
    "# study.optimize(objective, n_trials=50) "
   ]
  },
  {
   "cell_type": "markdown",
   "metadata": {},
   "source": [
    "## BEST SCORE"
   ]
  },
  {
   "cell_type": "code",
   "execution_count": 30,
   "metadata": {},
   "outputs": [],
   "source": [
    "## cv_best score: 0.7523 \n",
    "## best param\n",
    "# {'boosting_type': 'gbdt',\n",
    "#  'objective': 'multiclass',\n",
    "#  'num_class': 7,\n",
    "#  'categorical_feature': ['category_max_fre_company_type',\n",
    "#   'category_max_fre_out_filled_var_company_type',\n",
    "#   'category_last_value_company_type',\n",
    "#   'category_max_fre_id_management',\n",
    "#   'category_max_fre_out_filled_var_id_management',\n",
    "#   'category_last_value_id_management',\n",
    "#   'category_max_fre_id_office',\n",
    "#   'category_max_fre_out_filled_var_id_office',\n",
    "#   'category_last_value_id_office',\n",
    "#   'category_max_fre_job_role_encode_knn',\n",
    "#   'category_max_fre_out_filled_var_job_role_encode_knn',\n",
    "#   'category_last_value_job_role_encode_knn',\n",
    "#   'category_max_fre_new_work_province_id',\n",
    "#   'category_max_fre_out_filled_var_new_work_province_id',\n",
    "#   'category_last_value_new_work_province_id',\n",
    "#   'gender',\n",
    "#   'new_province_id'],\n",
    "#  'seed': 42,\n",
    "#  'lambda_l1': 0.0009552784116637494,\n",
    "#  'lambda_l2': 0.9252524868601694,\n",
    "#  'num_leaves': 194,\n",
    "#  'feature_fraction': 0.6686224568825423,\n",
    "#  'bagging_fraction': 0.9710918845473522,\n",
    "#  'bagging_freq': 6,\n",
    "#  'min_child_samples': 83}\n",
    "\n",
    "## update best param\n",
    "# best_params = {\n",
    "#         'boosting_type': 'gbdt',\n",
    "#         'objective': 'multiclass',\n",
    "#         'num_class':7,\n",
    "#         'categorical_feature': category_cols,       \n",
    "#         \"seed\": 42,\n",
    "# } \n",
    "# best_params.update(study.best_params)\n",
    "# best_params"
   ]
  },
  {
   "cell_type": "code",
   "execution_count": null,
   "metadata": {},
   "outputs": [],
   "source": [
    "## submmit\n",
    "# id_test = df_test['id_bh']\n",
    "# X_test = df_test.drop(columns = [ 'id_bh']) \n",
    "# X_test[category_cols] = X_test[category_cols].astype('category')\n",
    "\n",
    "# clf = lgb(**best_params)\n",
    "# clf.fit( X_train, y_train)\n",
    "# preds =  clf.predict(X_test)\n",
    "\n",
    "# predict_df = pd.DataFrame()\n",
    "# predict_df['id_bh'] =id_test\n",
    "# predict_df['label'] = preds\n",
    "\n",
    "# ## merge voi label_test\n",
    "# submit_file = concat_data(test_label,predict_df )\n",
    "# submit_file.to_csv(\"data/submmit/baseline_lgb.csv\", index=False)"
   ]
  }
 ],
 "metadata": {
  "interpreter": {
   "hash": "98695b7a08c9cf565d1db0672d8357aa94ece3889704c89d84fdcde5b877d054"
  },
  "kernelspec": {
   "display_name": "Python 3.8.12 ('ml_com')",
   "language": "python",
   "name": "python3"
  },
  "language_info": {
   "codemirror_mode": {
    "name": "ipython",
    "version": 3
   },
   "file_extension": ".py",
   "mimetype": "text/x-python",
   "name": "python",
   "nbconvert_exporter": "python",
   "pygments_lexer": "ipython3",
   "version": "3.8.12"
  },
  "orig_nbformat": 4
 },
 "nbformat": 4,
 "nbformat_minor": 2
}
