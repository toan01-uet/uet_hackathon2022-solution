{
 "cells": [
  {
   "cell_type": "code",
   "execution_count": 1,
   "metadata": {},
   "outputs": [],
   "source": [
    "import pandas as pd\n",
    "import numpy as np\n",
    "import matplotlib.pyplot as plt\n",
    "import seaborn as sns"
   ]
  },
  {
   "cell_type": "code",
   "execution_count": 2,
   "metadata": {},
   "outputs": [],
   "source": [
    "##load dataset\n",
    "file = \"data\"\n",
    "\n",
    "train_info_path = file + \"/info_train.csv\"\n",
    "train_work_path = file + \"/work_train.csv\"\n",
    "train_label_path = file + \"/label_train.csv\"\n",
    "\n",
    "test_info_path = file + \"/info_test.csv\"\n",
    "test_work_path = file + \"/work_test.csv\"\n",
    "test_label_path = file + \"/label_test.csv\"\n",
    "\n",
    "\n",
    "## data frame\n",
    "train_info = pd.read_csv(train_info_path)\n",
    "train_work = pd.read_csv(train_work_path)\n",
    "train_label = pd.read_csv(train_label_path)\n",
    "\n",
    "test_info = pd.read_csv(test_info_path)\n",
    "test_work = pd.read_csv(test_work_path)\n",
    "test_label = pd.read_csv(test_label_path)"
   ]
  },
  {
   "cell_type": "code",
   "execution_count": 3,
   "metadata": {},
   "outputs": [
    {
     "name": "stdout",
     "output_type": "stream",
     "text": [
      "<class 'pandas.core.frame.DataFrame'>\n",
      "RangeIndex: 27502 entries, 0 to 27501\n",
      "Data columns (total 4 columns):\n",
      " #   Column    Non-Null Count  Dtype \n",
      "---  ------    --------------  ----- \n",
      " 0   bithYear  27502 non-null  int64 \n",
      " 1   gender    27502 non-null  object\n",
      " 2   address   13214 non-null  object\n",
      " 3   id_bh     27502 non-null  int64 \n",
      "dtypes: int64(2), object(2)\n",
      "memory usage: 859.6+ KB\n"
     ]
    },
    {
     "data": {
      "text/plain": [
       "None"
      ]
     },
     "metadata": {},
     "output_type": "display_data"
    },
    {
     "name": "stdout",
     "output_type": "stream",
     "text": [
      "/////////\n",
      "<class 'pandas.core.frame.DataFrame'>\n",
      "RangeIndex: 247559 entries, 0 to 247558\n",
      "Data columns (total 10 columns):\n",
      " #   Column         Non-Null Count   Dtype  \n",
      "---  ------         --------------   -----  \n",
      " 0   id             247559 non-null  int64  \n",
      " 1   id_bh          247559 non-null  int64  \n",
      " 2   id_management  247559 non-null  int64  \n",
      " 3   id_office      235391 non-null  object \n",
      " 4   company_type   247559 non-null  int64  \n",
      " 5   job/role       214102 non-null  object \n",
      " 6   from_date      247559 non-null  int64  \n",
      " 7   to_date        247559 non-null  int64  \n",
      " 8   employee_lv    247554 non-null  float64\n",
      " 9   address        183528 non-null  object \n",
      "dtypes: float64(1), int64(6), object(3)\n",
      "memory usage: 18.9+ MB\n"
     ]
    },
    {
     "data": {
      "text/plain": [
       "None"
      ]
     },
     "metadata": {},
     "output_type": "display_data"
    },
    {
     "name": "stdout",
     "output_type": "stream",
     "text": [
      "/////////\n",
      "<class 'pandas.core.frame.DataFrame'>\n",
      "RangeIndex: 27502 entries, 0 to 27501\n",
      "Data columns (total 2 columns):\n",
      " #   Column  Non-Null Count  Dtype\n",
      "---  ------  --------------  -----\n",
      " 0   id_bh   27502 non-null  int64\n",
      " 1   label   27502 non-null  int64\n",
      "dtypes: int64(2)\n",
      "memory usage: 429.8 KB\n"
     ]
    },
    {
     "data": {
      "text/plain": [
       "None"
      ]
     },
     "metadata": {},
     "output_type": "display_data"
    }
   ],
   "source": [
    "display(train_info.info())\n",
    "print(\"/////////\")\n",
    "display(train_work.info())\n",
    "print(\"/////////\")\n",
    "display(train_label.info())"
   ]
  },
  {
   "cell_type": "code",
   "execution_count": 4,
   "metadata": {},
   "outputs": [
    {
     "name": "stdout",
     "output_type": "stream",
     "text": [
      "<class 'pandas.core.frame.DataFrame'>\n",
      "RangeIndex: 18134 entries, 0 to 18133\n",
      "Data columns (total 4 columns):\n",
      " #   Column    Non-Null Count  Dtype \n",
      "---  ------    --------------  ----- \n",
      " 0   bithYear  18134 non-null  int64 \n",
      " 1   gender    18134 non-null  object\n",
      " 2   address   8693 non-null   object\n",
      " 3   id_bh     18134 non-null  int64 \n",
      "dtypes: int64(2), object(2)\n",
      "memory usage: 566.8+ KB\n"
     ]
    },
    {
     "data": {
      "text/plain": [
       "None"
      ]
     },
     "metadata": {},
     "output_type": "display_data"
    },
    {
     "name": "stdout",
     "output_type": "stream",
     "text": [
      "/////////\n",
      "<class 'pandas.core.frame.DataFrame'>\n",
      "RangeIndex: 162283 entries, 0 to 162282\n",
      "Data columns (total 10 columns):\n",
      " #   Column         Non-Null Count   Dtype  \n",
      "---  ------         --------------   -----  \n",
      " 0   id             162283 non-null  int64  \n",
      " 1   id_bh          162283 non-null  int64  \n",
      " 2   id_management  162283 non-null  int64  \n",
      " 3   id_office      154300 non-null  object \n",
      " 4   company_type   162283 non-null  int64  \n",
      " 5   job/role       140198 non-null  object \n",
      " 6   from_date      162283 non-null  int64  \n",
      " 7   to_date        162283 non-null  int64  \n",
      " 8   employee_lv    162280 non-null  float64\n",
      " 9   address        120728 non-null  object \n",
      "dtypes: float64(1), int64(6), object(3)\n",
      "memory usage: 12.4+ MB\n"
     ]
    },
    {
     "data": {
      "text/plain": [
       "None"
      ]
     },
     "metadata": {},
     "output_type": "display_data"
    },
    {
     "name": "stdout",
     "output_type": "stream",
     "text": [
      "/////////\n",
      "<class 'pandas.core.frame.DataFrame'>\n",
      "RangeIndex: 18134 entries, 0 to 18133\n",
      "Data columns (total 1 columns):\n",
      " #   Column  Non-Null Count  Dtype\n",
      "---  ------  --------------  -----\n",
      " 0   id_bh   18134 non-null  int64\n",
      "dtypes: int64(1)\n",
      "memory usage: 141.8 KB\n"
     ]
    },
    {
     "data": {
      "text/plain": [
       "None"
      ]
     },
     "metadata": {},
     "output_type": "display_data"
    }
   ],
   "source": [
    "display(test_info.info())\n",
    "print(\"/////////\")\n",
    "display(test_work.info())\n",
    "print(\"/////////\")\n",
    "display(test_label.info())"
   ]
  },
  {
   "cell_type": "code",
   "execution_count": 5,
   "metadata": {},
   "outputs": [],
   "source": [
    "## file label la: id tu file info\n",
    "## train - 27502 - id\n",
    "## test - 18134 -id\n",
    "\n",
    "## - info: train, test co lap lai id nguoi"
   ]
  },
  {
   "cell_type": "markdown",
   "metadata": {},
   "source": [
    "## 1. View data"
   ]
  },
  {
   "cell_type": "markdown",
   "metadata": {},
   "source": [
    "### 1.1. info"
   ]
  },
  {
   "cell_type": "code",
   "execution_count": 6,
   "metadata": {},
   "outputs": [
    {
     "name": "stdout",
     "output_type": "stream",
     "text": [
      "(27502, 3)\n",
      "(18134, 3)\n"
     ]
    }
   ],
   "source": [
    "## check id unique\n",
    "print(train_info.groupby('id_bh').nunique().shape)\n",
    "print(test_info.groupby('id_bh').nunique().shape)"
   ]
  },
  {
   "cell_type": "code",
   "execution_count": 7,
   "metadata": {},
   "outputs": [
    {
     "name": "stdout",
     "output_type": "stream",
     "text": [
      "(45636, 3)\n",
      "<class 'pandas.core.frame.DataFrame'>\n",
      "Int64Index: 45636 entries, 0 to 18133\n",
      "Data columns (total 4 columns):\n",
      " #   Column    Non-Null Count  Dtype \n",
      "---  ------    --------------  ----- \n",
      " 0   bithYear  45636 non-null  int64 \n",
      " 1   gender    45636 non-null  object\n",
      " 2   address   21907 non-null  object\n",
      " 3   id_bh     45636 non-null  int64 \n",
      "dtypes: int64(2), object(2)\n",
      "memory usage: 1.7+ MB\n"
     ]
    }
   ],
   "source": [
    "info = pd.concat([train_info, test_info],axis=0)\n",
    "print(info.groupby('id_bh').nunique().shape)\n",
    "info.info()"
   ]
  },
  {
   "cell_type": "code",
   "execution_count": 8,
   "metadata": {},
   "outputs": [
    {
     "data": {
      "text/html": [
       "<div>\n",
       "<style scoped>\n",
       "    .dataframe tbody tr th:only-of-type {\n",
       "        vertical-align: middle;\n",
       "    }\n",
       "\n",
       "    .dataframe tbody tr th {\n",
       "        vertical-align: top;\n",
       "    }\n",
       "\n",
       "    .dataframe thead th {\n",
       "        text-align: right;\n",
       "    }\n",
       "</style>\n",
       "<table border=\"1\" class=\"dataframe\">\n",
       "  <thead>\n",
       "    <tr style=\"text-align: right;\">\n",
       "      <th></th>\n",
       "      <th>bithYear</th>\n",
       "      <th>gender</th>\n",
       "      <th>address</th>\n",
       "      <th>id_bh</th>\n",
       "    </tr>\n",
       "  </thead>\n",
       "  <tbody>\n",
       "    <tr>\n",
       "      <th>0</th>\n",
       "      <td>1971</td>\n",
       "      <td>MALE</td>\n",
       "      <td>hà Nội</td>\n",
       "      <td>113039360</td>\n",
       "    </tr>\n",
       "    <tr>\n",
       "      <th>1</th>\n",
       "      <td>1993</td>\n",
       "      <td>FEMALE</td>\n",
       "      <td>Thành phố Hà Nội</td>\n",
       "      <td>116074930</td>\n",
       "    </tr>\n",
       "    <tr>\n",
       "      <th>2</th>\n",
       "      <td>1977</td>\n",
       "      <td>MALE</td>\n",
       "      <td>NaN</td>\n",
       "      <td>203060233</td>\n",
       "    </tr>\n",
       "    <tr>\n",
       "      <th>3</th>\n",
       "      <td>1996</td>\n",
       "      <td>FEMALE</td>\n",
       "      <td>NaN</td>\n",
       "      <td>131373210</td>\n",
       "    </tr>\n",
       "    <tr>\n",
       "      <th>4</th>\n",
       "      <td>1971</td>\n",
       "      <td>MALE</td>\n",
       "      <td>NaN</td>\n",
       "      <td>198079441</td>\n",
       "    </tr>\n",
       "  </tbody>\n",
       "</table>\n",
       "</div>"
      ],
      "text/plain": [
       "   bithYear  gender           address      id_bh\n",
       "0      1971    MALE            hà Nội  113039360\n",
       "1      1993  FEMALE  Thành phố Hà Nội  116074930\n",
       "2      1977    MALE               NaN  203060233\n",
       "3      1996  FEMALE               NaN  131373210\n",
       "4      1971    MALE               NaN  198079441"
      ]
     },
     "execution_count": 8,
     "metadata": {},
     "output_type": "execute_result"
    }
   ],
   "source": [
    "info.head(5)"
   ]
  },
  {
   "cell_type": "code",
   "execution_count": 9,
   "metadata": {},
   "outputs": [
    {
     "name": "stdout",
     "output_type": "stream",
     "text": [
      "count    45636.000000\n",
      "mean      1984.331317\n",
      "std          8.838014\n",
      "min       1941.000000\n",
      "25%       1978.000000\n",
      "50%       1985.000000\n",
      "75%       1991.000000\n",
      "max       2018.000000\n",
      "Name: bithYear, dtype: float64\n"
     ]
    }
   ],
   "source": [
    "## check value in bithYear\n",
    "print(info['bithYear'].describe())"
   ]
  },
  {
   "cell_type": "code",
   "execution_count": 10,
   "metadata": {},
   "outputs": [
    {
     "data": {
      "text/html": [
       "<div>\n",
       "<style scoped>\n",
       "    .dataframe tbody tr th:only-of-type {\n",
       "        vertical-align: middle;\n",
       "    }\n",
       "\n",
       "    .dataframe tbody tr th {\n",
       "        vertical-align: top;\n",
       "    }\n",
       "\n",
       "    .dataframe thead th {\n",
       "        text-align: right;\n",
       "    }\n",
       "</style>\n",
       "<table border=\"1\" class=\"dataframe\">\n",
       "  <thead>\n",
       "    <tr style=\"text-align: right;\">\n",
       "      <th></th>\n",
       "      <th>bithYear</th>\n",
       "      <th>gender</th>\n",
       "      <th>address</th>\n",
       "      <th>id_bh</th>\n",
       "    </tr>\n",
       "  </thead>\n",
       "  <tbody>\n",
       "    <tr>\n",
       "      <th>10551</th>\n",
       "      <td>2004</td>\n",
       "      <td>FEMALE</td>\n",
       "      <td>NaN</td>\n",
       "      <td>123374023</td>\n",
       "    </tr>\n",
       "    <tr>\n",
       "      <th>11256</th>\n",
       "      <td>2018</td>\n",
       "      <td>MALE</td>\n",
       "      <td>NaN</td>\n",
       "      <td>1921488221</td>\n",
       "    </tr>\n",
       "    <tr>\n",
       "      <th>13838</th>\n",
       "      <td>2003</td>\n",
       "      <td>MALE</td>\n",
       "      <td>NaN</td>\n",
       "      <td>2421340343</td>\n",
       "    </tr>\n",
       "  </tbody>\n",
       "</table>\n",
       "</div>"
      ],
      "text/plain": [
       "       bithYear  gender address       id_bh\n",
       "10551      2004  FEMALE     NaN   123374023\n",
       "11256      2018    MALE     NaN  1921488221\n",
       "13838      2003    MALE     NaN  2421340343"
      ]
     },
     "execution_count": 10,
     "metadata": {},
     "output_type": "execute_result"
    }
   ],
   "source": [
    "## max bithyear 2018?? - co 3 ng la sinh tu 2002\n",
    "info[info['bithYear'] > 2002]"
   ]
  },
  {
   "cell_type": "code",
   "execution_count": 11,
   "metadata": {},
   "outputs": [
    {
     "data": {
      "text/plain": [
       "FEMALE    23764\n",
       "MALE      21872\n",
       "Name: gender, dtype: int64"
      ]
     },
     "execution_count": 11,
     "metadata": {},
     "output_type": "execute_result"
    }
   ],
   "source": [
    "info['gender'].value_counts()"
   ]
  },
  {
   "cell_type": "code",
   "execution_count": 12,
   "metadata": {},
   "outputs": [],
   "source": [
    "## fix gender male - 0, female -1\n",
    "gender_ ={1:\"MALE\", 0:\"FEMALE\"}\n",
    "# info.gender.replace(gender_)\n",
    "# info.head()"
   ]
  },
  {
   "cell_type": "code",
   "execution_count": 13,
   "metadata": {},
   "outputs": [],
   "source": [
    "info['address'].value_counts().to_csv(\"add_info\")"
   ]
  },
  {
   "cell_type": "code",
   "execution_count": 14,
   "metadata": {},
   "outputs": [
    {
     "data": {
      "text/html": [
       "<div>\n",
       "<style scoped>\n",
       "    .dataframe tbody tr th:only-of-type {\n",
       "        vertical-align: middle;\n",
       "    }\n",
       "\n",
       "    .dataframe tbody tr th {\n",
       "        vertical-align: top;\n",
       "    }\n",
       "\n",
       "    .dataframe thead th {\n",
       "        text-align: right;\n",
       "    }\n",
       "</style>\n",
       "<table border=\"1\" class=\"dataframe\">\n",
       "  <thead>\n",
       "    <tr style=\"text-align: right;\">\n",
       "      <th></th>\n",
       "      <th>bithYear</th>\n",
       "      <th>gender</th>\n",
       "      <th>address</th>\n",
       "      <th>id_bh</th>\n",
       "    </tr>\n",
       "  </thead>\n",
       "  <tbody>\n",
       "    <tr>\n",
       "      <th>0</th>\n",
       "      <td>1971</td>\n",
       "      <td>MALE</td>\n",
       "      <td>HÀ NỘI</td>\n",
       "      <td>113039360</td>\n",
       "    </tr>\n",
       "    <tr>\n",
       "      <th>1</th>\n",
       "      <td>1993</td>\n",
       "      <td>FEMALE</td>\n",
       "      <td>THÀNH PHỐ HÀ NỘI</td>\n",
       "      <td>116074930</td>\n",
       "    </tr>\n",
       "    <tr>\n",
       "      <th>2</th>\n",
       "      <td>1977</td>\n",
       "      <td>MALE</td>\n",
       "      <td>NAN</td>\n",
       "      <td>203060233</td>\n",
       "    </tr>\n",
       "    <tr>\n",
       "      <th>3</th>\n",
       "      <td>1996</td>\n",
       "      <td>FEMALE</td>\n",
       "      <td>NAN</td>\n",
       "      <td>131373210</td>\n",
       "    </tr>\n",
       "    <tr>\n",
       "      <th>4</th>\n",
       "      <td>1971</td>\n",
       "      <td>MALE</td>\n",
       "      <td>NAN</td>\n",
       "      <td>198079441</td>\n",
       "    </tr>\n",
       "    <tr>\n",
       "      <th>5</th>\n",
       "      <td>1990</td>\n",
       "      <td>FEMALE</td>\n",
       "      <td>NAN</td>\n",
       "      <td>122297926</td>\n",
       "    </tr>\n",
       "    <tr>\n",
       "      <th>6</th>\n",
       "      <td>1985</td>\n",
       "      <td>MALE</td>\n",
       "      <td>NAN</td>\n",
       "      <td>131779898</td>\n",
       "    </tr>\n",
       "    <tr>\n",
       "      <th>7</th>\n",
       "      <td>1993</td>\n",
       "      <td>MALE</td>\n",
       "      <td>NAN</td>\n",
       "      <td>124687252</td>\n",
       "    </tr>\n",
       "    <tr>\n",
       "      <th>8</th>\n",
       "      <td>1988</td>\n",
       "      <td>FEMALE</td>\n",
       "      <td>NAN</td>\n",
       "      <td>124692420</td>\n",
       "    </tr>\n",
       "    <tr>\n",
       "      <th>9</th>\n",
       "      <td>1992</td>\n",
       "      <td>FEMALE</td>\n",
       "      <td>NAN</td>\n",
       "      <td>131397218</td>\n",
       "    </tr>\n",
       "    <tr>\n",
       "      <th>10</th>\n",
       "      <td>1991</td>\n",
       "      <td>MALE</td>\n",
       "      <td>NAM ĐỊNH</td>\n",
       "      <td>116023499</td>\n",
       "    </tr>\n",
       "    <tr>\n",
       "      <th>11</th>\n",
       "      <td>1994</td>\n",
       "      <td>MALE</td>\n",
       "      <td>THÀNH PHỐ HÀ NỘI</td>\n",
       "      <td>7916338450</td>\n",
       "    </tr>\n",
       "    <tr>\n",
       "      <th>12</th>\n",
       "      <td>1995</td>\n",
       "      <td>MALE</td>\n",
       "      <td>NAN</td>\n",
       "      <td>124723316</td>\n",
       "    </tr>\n",
       "    <tr>\n",
       "      <th>13</th>\n",
       "      <td>1973</td>\n",
       "      <td>MALE</td>\n",
       "      <td>HÀ NỘI</td>\n",
       "      <td>111221371</td>\n",
       "    </tr>\n",
       "    <tr>\n",
       "      <th>14</th>\n",
       "      <td>1982</td>\n",
       "      <td>MALE</td>\n",
       "      <td>HÀ NỘI</td>\n",
       "      <td>1110002009</td>\n",
       "    </tr>\n",
       "    <tr>\n",
       "      <th>15</th>\n",
       "      <td>1977</td>\n",
       "      <td>FEMALE</td>\n",
       "      <td>NAN</td>\n",
       "      <td>8507010180</td>\n",
       "    </tr>\n",
       "    <tr>\n",
       "      <th>16</th>\n",
       "      <td>1988</td>\n",
       "      <td>FEMALE</td>\n",
       "      <td>NAN</td>\n",
       "      <td>131547836</td>\n",
       "    </tr>\n",
       "    <tr>\n",
       "      <th>17</th>\n",
       "      <td>1976</td>\n",
       "      <td>FEMALE</td>\n",
       "      <td>TỔ 21</td>\n",
       "      <td>116034592</td>\n",
       "    </tr>\n",
       "    <tr>\n",
       "      <th>18</th>\n",
       "      <td>1986</td>\n",
       "      <td>MALE</td>\n",
       "      <td>HÀ NỘI</td>\n",
       "      <td>110161279</td>\n",
       "    </tr>\n",
       "    <tr>\n",
       "      <th>19</th>\n",
       "      <td>1983</td>\n",
       "      <td>MALE</td>\n",
       "      <td>NAN</td>\n",
       "      <td>131547834</td>\n",
       "    </tr>\n",
       "  </tbody>\n",
       "</table>\n",
       "</div>"
      ],
      "text/plain": [
       "    bithYear  gender           address       id_bh\n",
       "0       1971    MALE            HÀ NỘI   113039360\n",
       "1       1993  FEMALE  THÀNH PHỐ HÀ NỘI   116074930\n",
       "2       1977    MALE               NAN   203060233\n",
       "3       1996  FEMALE               NAN   131373210\n",
       "4       1971    MALE               NAN   198079441\n",
       "5       1990  FEMALE               NAN   122297926\n",
       "6       1985    MALE               NAN   131779898\n",
       "7       1993    MALE               NAN   124687252\n",
       "8       1988  FEMALE               NAN   124692420\n",
       "9       1992  FEMALE               NAN   131397218\n",
       "10      1991    MALE          NAM ĐỊNH   116023499\n",
       "11      1994    MALE  THÀNH PHỐ HÀ NỘI  7916338450\n",
       "12      1995    MALE               NAN   124723316\n",
       "13      1973    MALE            HÀ NỘI   111221371\n",
       "14      1982    MALE            HÀ NỘI  1110002009\n",
       "15      1977  FEMALE               NAN  8507010180\n",
       "16      1988  FEMALE               NAN   131547836\n",
       "17      1976  FEMALE             TỔ 21   116034592\n",
       "18      1986    MALE            HÀ NỘI   110161279\n",
       "19      1983    MALE               NAN   131547834"
      ]
     },
     "execution_count": 14,
     "metadata": {},
     "output_type": "execute_result"
    }
   ],
   "source": [
    "info['address'] = info.apply(lambda row: str(row.address).upper(), axis = 1)\n",
    "info.head(20)"
   ]
  },
  {
   "cell_type": "code",
   "execution_count": 15,
   "metadata": {},
   "outputs": [],
   "source": [
    "## address: Nhieu ten bi trung: can quy ve chuan cua 63 tinh thanh"
   ]
  },
  {
   "cell_type": "markdown",
   "metadata": {},
   "source": [
    "## 2. WORK"
   ]
  },
  {
   "cell_type": "code",
   "execution_count": 16,
   "metadata": {},
   "outputs": [
    {
     "data": {
      "text/html": [
       "<div>\n",
       "<style scoped>\n",
       "    .dataframe tbody tr th:only-of-type {\n",
       "        vertical-align: middle;\n",
       "    }\n",
       "\n",
       "    .dataframe tbody tr th {\n",
       "        vertical-align: top;\n",
       "    }\n",
       "\n",
       "    .dataframe thead th {\n",
       "        text-align: right;\n",
       "    }\n",
       "</style>\n",
       "<table border=\"1\" class=\"dataframe\">\n",
       "  <thead>\n",
       "    <tr style=\"text-align: right;\">\n",
       "      <th></th>\n",
       "      <th>id</th>\n",
       "      <th>id_bh</th>\n",
       "      <th>id_management</th>\n",
       "      <th>id_office</th>\n",
       "      <th>company_type</th>\n",
       "      <th>job/role</th>\n",
       "      <th>from_date</th>\n",
       "      <th>to_date</th>\n",
       "      <th>employee_lv</th>\n",
       "      <th>address</th>\n",
       "    </tr>\n",
       "  </thead>\n",
       "  <tbody>\n",
       "    <tr>\n",
       "      <th>0</th>\n",
       "      <td>1</td>\n",
       "      <td>113039360</td>\n",
       "      <td>106</td>\n",
       "      <td>TF2212F</td>\n",
       "      <td>-1</td>\n",
       "      <td>Giám đốc</td>\n",
       "      <td>20130100</td>\n",
       "      <td>20151200</td>\n",
       "      <td>7.0</td>\n",
       "      <td>Hà Nội</td>\n",
       "    </tr>\n",
       "    <tr>\n",
       "      <th>1</th>\n",
       "      <td>1</td>\n",
       "      <td>113039360</td>\n",
       "      <td>106</td>\n",
       "      <td>TF2212F</td>\n",
       "      <td>-1</td>\n",
       "      <td>Giám đốc</td>\n",
       "      <td>20160100</td>\n",
       "      <td>20220400</td>\n",
       "      <td>10.0</td>\n",
       "      <td>Hà Nội</td>\n",
       "    </tr>\n",
       "    <tr>\n",
       "      <th>2</th>\n",
       "      <td>2</td>\n",
       "      <td>116074930</td>\n",
       "      <td>102</td>\n",
       "      <td>TB16010</td>\n",
       "      <td>-1</td>\n",
       "      <td>Nhân viên lễ tân</td>\n",
       "      <td>20160600</td>\n",
       "      <td>20161200</td>\n",
       "      <td>7.0</td>\n",
       "      <td>Hà Nội</td>\n",
       "    </tr>\n",
       "    <tr>\n",
       "      <th>3</th>\n",
       "      <td>2</td>\n",
       "      <td>116074930</td>\n",
       "      <td>102</td>\n",
       "      <td>TB16010</td>\n",
       "      <td>-1</td>\n",
       "      <td>Nhân viên lễ tân</td>\n",
       "      <td>20170100</td>\n",
       "      <td>20170300</td>\n",
       "      <td>8.0</td>\n",
       "      <td>Hà Nội</td>\n",
       "    </tr>\n",
       "    <tr>\n",
       "      <th>4</th>\n",
       "      <td>2</td>\n",
       "      <td>116074930</td>\n",
       "      <td>102</td>\n",
       "      <td>NaN</td>\n",
       "      <td>-1</td>\n",
       "      <td>NaN</td>\n",
       "      <td>20170400</td>\n",
       "      <td>20170700</td>\n",
       "      <td>-1.0</td>\n",
       "      <td>NaN</td>\n",
       "    </tr>\n",
       "  </tbody>\n",
       "</table>\n",
       "</div>"
      ],
      "text/plain": [
       "   id      id_bh  id_management id_office  company_type          job/role  \\\n",
       "0   1  113039360            106   TF2212F            -1          Giám đốc   \n",
       "1   1  113039360            106   TF2212F            -1          Giám đốc   \n",
       "2   2  116074930            102   TB16010            -1  Nhân viên lễ tân   \n",
       "3   2  116074930            102   TB16010            -1  Nhân viên lễ tân   \n",
       "4   2  116074930            102       NaN            -1               NaN   \n",
       "\n",
       "   from_date   to_date  employee_lv address  \n",
       "0   20130100  20151200          7.0  Hà Nội  \n",
       "1   20160100  20220400         10.0  Hà Nội  \n",
       "2   20160600  20161200          7.0  Hà Nội  \n",
       "3   20170100  20170300          8.0  Hà Nội  \n",
       "4   20170400  20170700         -1.0     NaN  "
      ]
     },
     "execution_count": 16,
     "metadata": {},
     "output_type": "execute_result"
    }
   ],
   "source": [
    "work = pd.concat([train_work, test_work], axis = 0)\n",
    "work.head()"
   ]
  },
  {
   "cell_type": "code",
   "execution_count": 17,
   "metadata": {},
   "outputs": [
    {
     "name": "stdout",
     "output_type": "stream",
     "text": [
      "<class 'pandas.core.frame.DataFrame'>\n",
      "Int64Index: 409842 entries, 0 to 162282\n",
      "Data columns (total 10 columns):\n",
      " #   Column         Non-Null Count   Dtype  \n",
      "---  ------         --------------   -----  \n",
      " 0   id             409842 non-null  int64  \n",
      " 1   id_bh          409842 non-null  int64  \n",
      " 2   id_management  409842 non-null  int64  \n",
      " 3   id_office      389691 non-null  object \n",
      " 4   company_type   409842 non-null  int64  \n",
      " 5   job/role       354300 non-null  object \n",
      " 6   from_date      409842 non-null  int64  \n",
      " 7   to_date        409842 non-null  int64  \n",
      " 8   employee_lv    409834 non-null  float64\n",
      " 9   address        304256 non-null  object \n",
      "dtypes: float64(1), int64(6), object(3)\n",
      "memory usage: 34.4+ MB\n"
     ]
    }
   ],
   "source": [
    "work.info()"
   ]
  },
  {
   "cell_type": "markdown",
   "metadata": {},
   "source": [
    "### 2.1. id_management - cate"
   ]
  },
  {
   "cell_type": "code",
   "execution_count": null,
   "metadata": {},
   "outputs": [],
   "source": []
  },
  {
   "cell_type": "code",
   "execution_count": 18,
   "metadata": {},
   "outputs": [
    {
     "data": {
      "text/plain": [
       "2600    92105\n",
       "2400    48207\n",
       "7500    19784\n",
       "7900    15630\n",
       "2700    14417\n",
       "Name: id_management, dtype: int64"
      ]
     },
     "execution_count": 18,
     "metadata": {},
     "output_type": "execute_result"
    }
   ],
   "source": [
    "work['id_management'].value_counts().head()"
   ]
  },
  {
   "cell_type": "code",
   "execution_count": 19,
   "metadata": {},
   "outputs": [],
   "source": [
    "## nhieu gia tri qua: chac la cat bot :D, roi label encoder"
   ]
  },
  {
   "cell_type": "markdown",
   "metadata": {},
   "source": [
    "### 2.2. id_office - category\n",
    "17271 - toa khac nhau: tach 2 chu cai dau va chu cai cuoi"
   ]
  },
  {
   "cell_type": "code",
   "execution_count": 20,
   "metadata": {},
   "outputs": [
    {
     "data": {
      "text/plain": [
       "YN0042Z    19345\n",
       "HZ0000Z    13309\n",
       "YN0023Z     9240\n",
       "YN0021Z     6468\n",
       "YN0114Z     5506\n",
       "           ...  \n",
       "TI0494I        1\n",
       "YV0119A        1\n",
       "TG3753G        1\n",
       "TG1782G        1\n",
       "TC0885C        1\n",
       "Name: id_office, Length: 17271, dtype: int64"
      ]
     },
     "execution_count": 20,
     "metadata": {},
     "output_type": "execute_result"
    }
   ],
   "source": [
    "work['id_office'].value_counts()"
   ]
  },
  {
   "cell_type": "markdown",
   "metadata": {},
   "source": [
    "### 2.3. company_type - category"
   ]
  },
  {
   "cell_type": "code",
   "execution_count": 21,
   "metadata": {},
   "outputs": [
    {
     "data": {
      "text/plain": [
       "-1    282123\n",
       " 1     45243\n",
       " 6     36322\n",
       " 7     29706\n",
       " 3      4867\n",
       " 8      4712\n",
       " 2      3421\n",
       " 4      3307\n",
       " 5       141\n",
       "Name: company_type, dtype: int64"
      ]
     },
     "execution_count": 21,
     "metadata": {},
     "output_type": "execute_result"
    }
   ],
   "source": [
    "work['company_type'].value_counts()"
   ]
  },
  {
   "cell_type": "markdown",
   "metadata": {},
   "source": [
    "## 2.4. job/role\n",
    "- nhieu cong viec\n",
    "- can xem xet su khac nhau cua cac title nhu: Công nhân vs Công nhân sản xuất"
   ]
  },
  {
   "cell_type": "code",
   "execution_count": 22,
   "metadata": {},
   "outputs": [
    {
     "data": {
      "text/plain": [
       "Công nhân                                        19748\n",
       "Giáo viên                                        17911\n",
       "Nhân viên                                        15676\n",
       "Công nhân vận hành máy may                       11726\n",
       "Công nhân sản xuất                                9025\n",
       "                                                 ...  \n",
       "Phó Trưởng phòng - Kiểm sát viên cao cấp             1\n",
       "Phó Trưởng phòng Viện 3                              1\n",
       "Kiểm sát viên cao cấp                                1\n",
       "Kỹ sư xây dựng bậc 6/8 - Phó phòng kinh doanh        1\n",
       "Đội phó đội Đô Lương                                 1\n",
       "Name: job/role, Length: 42006, dtype: int64"
      ]
     },
     "execution_count": 22,
     "metadata": {},
     "output_type": "execute_result"
    }
   ],
   "source": [
    "work['job/role'].value_counts()"
   ]
  },
  {
   "cell_type": "markdown",
   "metadata": {},
   "source": [
    "## 2.5. employee_lv - category: ordinal"
   ]
  },
  {
   "cell_type": "code",
   "execution_count": 23,
   "metadata": {},
   "outputs": [
    {
     "data": {
      "text/plain": [
       "8.0      51981\n",
       "7.0      51543\n",
       "9.0      45103\n",
       "6.0      44652\n",
       "5.0      34321\n",
       "         ...  \n",
       "56.0        50\n",
       "57.0        39\n",
       "58.0        38\n",
       "331.0        1\n",
       "369.0        1\n",
       "Name: employee_lv, Length: 63, dtype: int64"
      ]
     },
     "execution_count": 23,
     "metadata": {},
     "output_type": "execute_result"
    }
   ],
   "source": [
    "work['employee_lv'].value_counts()"
   ]
  },
  {
   "cell_type": "code",
   "execution_count": 24,
   "metadata": {},
   "outputs": [
    {
     "data": {
      "text/html": [
       "<div>\n",
       "<style scoped>\n",
       "    .dataframe tbody tr th:only-of-type {\n",
       "        vertical-align: middle;\n",
       "    }\n",
       "\n",
       "    .dataframe tbody tr th {\n",
       "        vertical-align: top;\n",
       "    }\n",
       "\n",
       "    .dataframe thead th {\n",
       "        text-align: right;\n",
       "    }\n",
       "</style>\n",
       "<table border=\"1\" class=\"dataframe\">\n",
       "  <thead>\n",
       "    <tr style=\"text-align: right;\">\n",
       "      <th></th>\n",
       "      <th>id</th>\n",
       "      <th>id_bh</th>\n",
       "      <th>id_management</th>\n",
       "      <th>id_office</th>\n",
       "      <th>company_type</th>\n",
       "      <th>job/role</th>\n",
       "      <th>from_date</th>\n",
       "      <th>to_date</th>\n",
       "      <th>employee_lv</th>\n",
       "      <th>address</th>\n",
       "    </tr>\n",
       "  </thead>\n",
       "  <tbody>\n",
       "    <tr>\n",
       "      <th>39</th>\n",
       "      <td>9</td>\n",
       "      <td>131779898</td>\n",
       "      <td>102</td>\n",
       "      <td>IC0029B</td>\n",
       "      <td>-1</td>\n",
       "      <td>Quản lý dự án</td>\n",
       "      <td>20200600</td>\n",
       "      <td>20220100</td>\n",
       "      <td>59.0</td>\n",
       "      <td>Tp. Hà Nội</td>\n",
       "    </tr>\n",
       "    <tr>\n",
       "      <th>40</th>\n",
       "      <td>9</td>\n",
       "      <td>131779898</td>\n",
       "      <td>102</td>\n",
       "      <td>IC0029B</td>\n",
       "      <td>-1</td>\n",
       "      <td>NaN</td>\n",
       "      <td>20220200</td>\n",
       "      <td>20220200</td>\n",
       "      <td>59.0</td>\n",
       "      <td>NaN</td>\n",
       "    </tr>\n",
       "    <tr>\n",
       "      <th>41</th>\n",
       "      <td>9</td>\n",
       "      <td>131779898</td>\n",
       "      <td>102</td>\n",
       "      <td>IC0029B</td>\n",
       "      <td>-1</td>\n",
       "      <td>Quản lý dự án</td>\n",
       "      <td>20220300</td>\n",
       "      <td>20220400</td>\n",
       "      <td>59.0</td>\n",
       "      <td>NaN</td>\n",
       "    </tr>\n",
       "    <tr>\n",
       "      <th>132</th>\n",
       "      <td>32</td>\n",
       "      <td>114030539</td>\n",
       "      <td>7509</td>\n",
       "      <td>YN0121I</td>\n",
       "      <td>-1</td>\n",
       "      <td>Quản trị viên tập sự</td>\n",
       "      <td>20170700</td>\n",
       "      <td>20180600</td>\n",
       "      <td>52.0</td>\n",
       "      <td>Đồng Nai</td>\n",
       "    </tr>\n",
       "    <tr>\n",
       "      <th>133</th>\n",
       "      <td>32</td>\n",
       "      <td>114030539</td>\n",
       "      <td>7509</td>\n",
       "      <td>YN0121I</td>\n",
       "      <td>-1</td>\n",
       "      <td>Quản trị viên tập sự</td>\n",
       "      <td>20180700</td>\n",
       "      <td>20181200</td>\n",
       "      <td>55.0</td>\n",
       "      <td>Đồng Nai</td>\n",
       "    </tr>\n",
       "    <tr>\n",
       "      <th>...</th>\n",
       "      <td>...</td>\n",
       "      <td>...</td>\n",
       "      <td>...</td>\n",
       "      <td>...</td>\n",
       "      <td>...</td>\n",
       "      <td>...</td>\n",
       "      <td>...</td>\n",
       "      <td>...</td>\n",
       "      <td>...</td>\n",
       "      <td>...</td>\n",
       "    </tr>\n",
       "    <tr>\n",
       "      <th>151957</th>\n",
       "      <td>49355</td>\n",
       "      <td>4025569131</td>\n",
       "      <td>7900</td>\n",
       "      <td>YN0486Z</td>\n",
       "      <td>-1</td>\n",
       "      <td>Trưởng phòng</td>\n",
       "      <td>20180700</td>\n",
       "      <td>20190600</td>\n",
       "      <td>55.0</td>\n",
       "      <td>TP.HCM</td>\n",
       "    </tr>\n",
       "    <tr>\n",
       "      <th>151958</th>\n",
       "      <td>49355</td>\n",
       "      <td>4025569131</td>\n",
       "      <td>7900</td>\n",
       "      <td>YN0486Z</td>\n",
       "      <td>-1</td>\n",
       "      <td>Trưởng phòng</td>\n",
       "      <td>20190700</td>\n",
       "      <td>20200800</td>\n",
       "      <td>59.0</td>\n",
       "      <td>TP.HCM</td>\n",
       "    </tr>\n",
       "    <tr>\n",
       "      <th>151959</th>\n",
       "      <td>49355</td>\n",
       "      <td>4025569131</td>\n",
       "      <td>7900</td>\n",
       "      <td>YN0486Z</td>\n",
       "      <td>-1</td>\n",
       "      <td>NaN</td>\n",
       "      <td>20200900</td>\n",
       "      <td>20210200</td>\n",
       "      <td>59.0</td>\n",
       "      <td>NaN</td>\n",
       "    </tr>\n",
       "    <tr>\n",
       "      <th>151960</th>\n",
       "      <td>49355</td>\n",
       "      <td>4025569131</td>\n",
       "      <td>7900</td>\n",
       "      <td>YN0486Z</td>\n",
       "      <td>-1</td>\n",
       "      <td>Trưởng phòng</td>\n",
       "      <td>20210300</td>\n",
       "      <td>20220400</td>\n",
       "      <td>59.0</td>\n",
       "      <td>NaN</td>\n",
       "    </tr>\n",
       "    <tr>\n",
       "      <th>155309</th>\n",
       "      <td>51310</td>\n",
       "      <td>7411076779</td>\n",
       "      <td>7509</td>\n",
       "      <td>YN0121I</td>\n",
       "      <td>-1</td>\n",
       "      <td>Chuyên viên - Đào tạo kỹ thuật</td>\n",
       "      <td>20220100</td>\n",
       "      <td>20220400</td>\n",
       "      <td>51.0</td>\n",
       "      <td>Đồng Nai)</td>\n",
       "    </tr>\n",
       "  </tbody>\n",
       "</table>\n",
       "<p>3028 rows × 10 columns</p>\n",
       "</div>"
      ],
      "text/plain": [
       "           id       id_bh  id_management id_office  company_type  \\\n",
       "39          9   131779898            102   IC0029B            -1   \n",
       "40          9   131779898            102   IC0029B            -1   \n",
       "41          9   131779898            102   IC0029B            -1   \n",
       "132        32   114030539           7509   YN0121I            -1   \n",
       "133        32   114030539           7509   YN0121I            -1   \n",
       "...       ...         ...            ...       ...           ...   \n",
       "151957  49355  4025569131           7900   YN0486Z            -1   \n",
       "151958  49355  4025569131           7900   YN0486Z            -1   \n",
       "151959  49355  4025569131           7900   YN0486Z            -1   \n",
       "151960  49355  4025569131           7900   YN0486Z            -1   \n",
       "155309  51310  7411076779           7509   YN0121I            -1   \n",
       "\n",
       "                              job/role  from_date   to_date  employee_lv  \\\n",
       "39                       Quản lý dự án   20200600  20220100         59.0   \n",
       "40                                 NaN   20220200  20220200         59.0   \n",
       "41                       Quản lý dự án   20220300  20220400         59.0   \n",
       "132               Quản trị viên tập sự   20170700  20180600         52.0   \n",
       "133               Quản trị viên tập sự   20180700  20181200         55.0   \n",
       "...                                ...        ...       ...          ...   \n",
       "151957                    Trưởng phòng   20180700  20190600         55.0   \n",
       "151958                    Trưởng phòng   20190700  20200800         59.0   \n",
       "151959                             NaN   20200900  20210200         59.0   \n",
       "151960                    Trưởng phòng   20210300  20220400         59.0   \n",
       "155309  Chuyên viên - Đào tạo kỹ thuật   20220100  20220400         51.0   \n",
       "\n",
       "           address  \n",
       "39      Tp. Hà Nội  \n",
       "40             NaN  \n",
       "41             NaN  \n",
       "132       Đồng Nai  \n",
       "133       Đồng Nai  \n",
       "...            ...  \n",
       "151957      TP.HCM  \n",
       "151958      TP.HCM  \n",
       "151959         NaN  \n",
       "151960         NaN  \n",
       "155309   Đồng Nai)  \n",
       "\n",
       "[3028 rows x 10 columns]"
      ]
     },
     "execution_count": 24,
     "metadata": {},
     "output_type": "execute_result"
    }
   ],
   "source": [
    "## check 331, 369: employee level\n",
    "work[work['employee_lv'] > 50]"
   ]
  },
  {
   "cell_type": "code",
   "execution_count": 25,
   "metadata": {},
   "outputs": [
    {
     "data": {
      "text/html": [
       "<div>\n",
       "<style scoped>\n",
       "    .dataframe tbody tr th:only-of-type {\n",
       "        vertical-align: middle;\n",
       "    }\n",
       "\n",
       "    .dataframe tbody tr th {\n",
       "        vertical-align: top;\n",
       "    }\n",
       "\n",
       "    .dataframe thead th {\n",
       "        text-align: right;\n",
       "    }\n",
       "</style>\n",
       "<table border=\"1\" class=\"dataframe\">\n",
       "  <thead>\n",
       "    <tr style=\"text-align: right;\">\n",
       "      <th></th>\n",
       "      <th>id</th>\n",
       "      <th>id_bh</th>\n",
       "      <th>id_management</th>\n",
       "      <th>company_type</th>\n",
       "      <th>from_date</th>\n",
       "      <th>to_date</th>\n",
       "      <th>employee_lv</th>\n",
       "    </tr>\n",
       "  </thead>\n",
       "  <tbody>\n",
       "    <tr>\n",
       "      <th>count</th>\n",
       "      <td>409842.000000</td>\n",
       "      <td>4.098420e+05</td>\n",
       "      <td>409842.000000</td>\n",
       "      <td>409842.000000</td>\n",
       "      <td>4.098420e+05</td>\n",
       "      <td>4.098420e+05</td>\n",
       "      <td>409834.000000</td>\n",
       "    </tr>\n",
       "    <tr>\n",
       "      <th>mean</th>\n",
       "      <td>30840.738975</td>\n",
       "      <td>3.916199e+09</td>\n",
       "      <td>3565.329383</td>\n",
       "      <td>0.639432</td>\n",
       "      <td>2.014827e+07</td>\n",
       "      <td>2.015701e+07</td>\n",
       "      <td>8.111279</td>\n",
       "    </tr>\n",
       "    <tr>\n",
       "      <th>std</th>\n",
       "      <td>15652.978624</td>\n",
       "      <td>2.766450e+09</td>\n",
       "      <td>2371.753886</td>\n",
       "      <td>2.854080</td>\n",
       "      <td>5.794083e+04</td>\n",
       "      <td>5.538133e+04</td>\n",
       "      <td>6.988868</td>\n",
       "    </tr>\n",
       "    <tr>\n",
       "      <th>min</th>\n",
       "      <td>1.000000</td>\n",
       "      <td>1.000007e+08</td>\n",
       "      <td>100.000000</td>\n",
       "      <td>-1.000000</td>\n",
       "      <td>1.968110e+07</td>\n",
       "      <td>1.975080e+07</td>\n",
       "      <td>-1.000000</td>\n",
       "    </tr>\n",
       "    <tr>\n",
       "      <th>25%</th>\n",
       "      <td>20426.000000</td>\n",
       "      <td>2.408009e+09</td>\n",
       "      <td>2400.000000</td>\n",
       "      <td>-1.000000</td>\n",
       "      <td>2.012030e+07</td>\n",
       "      <td>2.013060e+07</td>\n",
       "      <td>5.000000</td>\n",
       "    </tr>\n",
       "    <tr>\n",
       "      <th>50%</th>\n",
       "      <td>31014.000000</td>\n",
       "      <td>2.616138e+09</td>\n",
       "      <td>2600.000000</td>\n",
       "      <td>-1.000000</td>\n",
       "      <td>2.016100e+07</td>\n",
       "      <td>2.017070e+07</td>\n",
       "      <td>7.000000</td>\n",
       "    </tr>\n",
       "    <tr>\n",
       "      <th>75%</th>\n",
       "      <td>44674.000000</td>\n",
       "      <td>6.822600e+09</td>\n",
       "      <td>4900.000000</td>\n",
       "      <td>1.000000</td>\n",
       "      <td>2.019030e+07</td>\n",
       "      <td>2.020030e+07</td>\n",
       "      <td>9.000000</td>\n",
       "    </tr>\n",
       "    <tr>\n",
       "      <th>max</th>\n",
       "      <td>55011.000000</td>\n",
       "      <td>9.820174e+09</td>\n",
       "      <td>9600.000000</td>\n",
       "      <td>8.000000</td>\n",
       "      <td>2.022040e+07</td>\n",
       "      <td>2.031100e+07</td>\n",
       "      <td>369.000000</td>\n",
       "    </tr>\n",
       "  </tbody>\n",
       "</table>\n",
       "</div>"
      ],
      "text/plain": [
       "                  id         id_bh  id_management   company_type  \\\n",
       "count  409842.000000  4.098420e+05  409842.000000  409842.000000   \n",
       "mean    30840.738975  3.916199e+09    3565.329383       0.639432   \n",
       "std     15652.978624  2.766450e+09    2371.753886       2.854080   \n",
       "min         1.000000  1.000007e+08     100.000000      -1.000000   \n",
       "25%     20426.000000  2.408009e+09    2400.000000      -1.000000   \n",
       "50%     31014.000000  2.616138e+09    2600.000000      -1.000000   \n",
       "75%     44674.000000  6.822600e+09    4900.000000       1.000000   \n",
       "max     55011.000000  9.820174e+09    9600.000000       8.000000   \n",
       "\n",
       "          from_date       to_date    employee_lv  \n",
       "count  4.098420e+05  4.098420e+05  409834.000000  \n",
       "mean   2.014827e+07  2.015701e+07       8.111279  \n",
       "std    5.794083e+04  5.538133e+04       6.988868  \n",
       "min    1.968110e+07  1.975080e+07      -1.000000  \n",
       "25%    2.012030e+07  2.013060e+07       5.000000  \n",
       "50%    2.016100e+07  2.017070e+07       7.000000  \n",
       "75%    2.019030e+07  2.020030e+07       9.000000  \n",
       "max    2.022040e+07  2.031100e+07     369.000000  "
      ]
     },
     "execution_count": 25,
     "metadata": {},
     "output_type": "execute_result"
    }
   ],
   "source": [
    "work.describe()"
   ]
  },
  {
   "cell_type": "code",
   "execution_count": 26,
   "metadata": {},
   "outputs": [],
   "source": [
    "## 2.5. job/role"
   ]
  },
  {
   "cell_type": "markdown",
   "metadata": {},
   "source": [
    "### 2.6. address"
   ]
  },
  {
   "cell_type": "code",
   "execution_count": 27,
   "metadata": {},
   "outputs": [
    {
     "data": {
      "text/plain": [
       "Vĩnh Phúc                 70289\n",
       "Bắc Ninh                  15127\n",
       "Bắc Giang                 13830\n",
       "Hà Nội                    12991\n",
       "tỉnh Nghệ An              12726\n",
       "                          ...  \n",
       "CHDCND Lào                    1\n",
       "sư đoàn 333 Quân khu 5        1\n",
       "CT                            1\n",
       "XD &amp; KDN SÀI GÒN          1\n",
       "Cầu giấy HN                   1\n",
       "Name: address, Length: 2141, dtype: int64"
      ]
     },
     "execution_count": 27,
     "metadata": {},
     "output_type": "execute_result"
    }
   ],
   "source": [
    "work['address'].value_counts()"
   ]
  },
  {
   "cell_type": "code",
   "execution_count": 28,
   "metadata": {},
   "outputs": [],
   "source": [
    "## can xu ly text: chuyen tu viet tat dia danh thanh ten that (HN - HA NOI, THPCM - ), SAI GON - THANH PHO HO CHI MINH\n",
    "## "
   ]
  },
  {
   "cell_type": "markdown",
   "metadata": {},
   "source": [
    "### 2.7. Date - can check ngay lai xem thoi gian max, min la ntn"
   ]
  },
  {
   "cell_type": "markdown",
   "metadata": {},
   "source": [
    "### Problem:\n",
    "#### 1. xu ly text (category var): \n",
    "- option 1(uu tien): sua dc cai nao thi sua\n",
    "- option 2(): dung k-mean ==> cluster ve 63 tinh thanh?, hoac word-simarity\n",
    "#### 2. Tong hop features: nhieu nghe? chuyen viec nhieu?\n",
    "- Can xem xem: cai muc luong trong label la luong cua muc gan nhat?\n",
    "- Can ket hop: group by roi them 1 so fea:\n",
    "            - So cong viec lam truoc day (count cai job)\n",
    "            - So lan chuyen viec, ... (count unique cai id)\n",
    "            - So lan len chuc (count unique id cua toa nha?)\n",
    "            "
   ]
  },
  {
   "cell_type": "code",
   "execution_count": null,
   "metadata": {},
   "outputs": [],
   "source": []
  }
 ],
 "metadata": {
  "interpreter": {
   "hash": "98695b7a08c9cf565d1db0672d8357aa94ece3889704c89d84fdcde5b877d054"
  },
  "kernelspec": {
   "display_name": "Python 3.8.12 ('ml_com')",
   "language": "python",
   "name": "python3"
  },
  "language_info": {
   "codemirror_mode": {
    "name": "ipython",
    "version": 3
   },
   "file_extension": ".py",
   "mimetype": "text/x-python",
   "name": "python",
   "nbconvert_exporter": "python",
   "pygments_lexer": "ipython3",
   "version": "3.8.12"
  },
  "orig_nbformat": 4
 },
 "nbformat": 4,
 "nbformat_minor": 2
}
