{
 "cells": [
  {
   "cell_type": "code",
   "execution_count": 2,
   "metadata": {},
   "outputs": [],
   "source": [
    "import pandas as pd\n",
    "import numpy as np\n",
    "import matplotlib.pyplot as plt\n",
    "import seaborn as sns\n",
    "import re"
   ]
  },
  {
   "cell_type": "code",
   "execution_count": 3,
   "metadata": {},
   "outputs": [],
   "source": [
    "##load dataset\n",
    "file = \"data\"\n",
    "\n",
    "train_info_path = file + \"/info_train.csv\"\n",
    "train_work_path = file + \"/work_train.csv\"\n",
    "train_label_path = file + \"/label_train.csv\"\n",
    "\n",
    "test_info_path = file + \"/info_test.csv\"\n",
    "test_work_path = file + \"/work_test.csv\"\n",
    "test_label_path = file + \"/label_test.csv\"\n",
    "\n",
    "\n",
    "## data frame\n",
    "train_info = pd.read_csv(train_info_path)\n",
    "train_work = pd.read_csv(train_work_path)\n",
    "train_label = pd.read_csv(train_label_path)\n",
    "\n",
    "test_info = pd.read_csv(test_info_path)\n",
    "test_work = pd.read_csv(test_work_path)\n",
    "test_label = pd.read_csv(test_label_path)"
   ]
  },
  {
   "cell_type": "code",
   "execution_count": 4,
   "metadata": {},
   "outputs": [
    {
     "name": "stdout",
     "output_type": "stream",
     "text": [
      "<class 'pandas.core.frame.DataFrame'>\n",
      "RangeIndex: 247559 entries, 0 to 247558\n",
      "Data columns (total 10 columns):\n",
      " #   Column         Non-Null Count   Dtype  \n",
      "---  ------         --------------   -----  \n",
      " 0   id             247559 non-null  int64  \n",
      " 1   id_bh          247559 non-null  int64  \n",
      " 2   id_management  247559 non-null  int64  \n",
      " 3   id_office      235391 non-null  object \n",
      " 4   company_type   247559 non-null  int64  \n",
      " 5   job/role       214102 non-null  object \n",
      " 6   from_date      247559 non-null  int64  \n",
      " 7   to_date        247559 non-null  int64  \n",
      " 8   employee_lv    247554 non-null  float64\n",
      " 9   address        183528 non-null  object \n",
      "dtypes: float64(1), int64(6), object(3)\n",
      "memory usage: 18.9+ MB\n"
     ]
    }
   ],
   "source": [
    "train_work.info()"
   ]
  },
  {
   "cell_type": "code",
   "execution_count": 5,
   "metadata": {},
   "outputs": [
    {
     "name": "stdout",
     "output_type": "stream",
     "text": [
      "<class 'pandas.core.frame.DataFrame'>\n",
      "RangeIndex: 162283 entries, 0 to 162282\n",
      "Data columns (total 10 columns):\n",
      " #   Column         Non-Null Count   Dtype  \n",
      "---  ------         --------------   -----  \n",
      " 0   id             162283 non-null  int64  \n",
      " 1   id_bh          162283 non-null  int64  \n",
      " 2   id_management  162283 non-null  int64  \n",
      " 3   id_office      154300 non-null  object \n",
      " 4   company_type   162283 non-null  int64  \n",
      " 5   job/role       140198 non-null  object \n",
      " 6   from_date      162283 non-null  int64  \n",
      " 7   to_date        162283 non-null  int64  \n",
      " 8   employee_lv    162280 non-null  float64\n",
      " 9   address        120728 non-null  object \n",
      "dtypes: float64(1), int64(6), object(3)\n",
      "memory usage: 12.4+ MB\n"
     ]
    }
   ],
   "source": [
    "test_work.info()"
   ]
  },
  {
   "cell_type": "code",
   "execution_count": 6,
   "metadata": {},
   "outputs": [
    {
     "data": {
      "text/html": [
       "<div>\n",
       "<style scoped>\n",
       "    .dataframe tbody tr th:only-of-type {\n",
       "        vertical-align: middle;\n",
       "    }\n",
       "\n",
       "    .dataframe tbody tr th {\n",
       "        vertical-align: top;\n",
       "    }\n",
       "\n",
       "    .dataframe thead th {\n",
       "        text-align: right;\n",
       "    }\n",
       "</style>\n",
       "<table border=\"1\" class=\"dataframe\">\n",
       "  <thead>\n",
       "    <tr style=\"text-align: right;\">\n",
       "      <th></th>\n",
       "      <th>id</th>\n",
       "      <th>id_bh</th>\n",
       "      <th>id_management</th>\n",
       "      <th>id_office</th>\n",
       "      <th>company_type</th>\n",
       "      <th>job/role</th>\n",
       "      <th>from_date</th>\n",
       "      <th>to_date</th>\n",
       "      <th>employee_lv</th>\n",
       "      <th>address</th>\n",
       "    </tr>\n",
       "  </thead>\n",
       "  <tbody>\n",
       "    <tr>\n",
       "      <th>0</th>\n",
       "      <td>1</td>\n",
       "      <td>113039360</td>\n",
       "      <td>106</td>\n",
       "      <td>TF2212F</td>\n",
       "      <td>-1</td>\n",
       "      <td>Giám đốc</td>\n",
       "      <td>20130100</td>\n",
       "      <td>20151200</td>\n",
       "      <td>7.0</td>\n",
       "      <td>Hà Nội</td>\n",
       "    </tr>\n",
       "    <tr>\n",
       "      <th>1</th>\n",
       "      <td>1</td>\n",
       "      <td>113039360</td>\n",
       "      <td>106</td>\n",
       "      <td>TF2212F</td>\n",
       "      <td>-1</td>\n",
       "      <td>Giám đốc</td>\n",
       "      <td>20160100</td>\n",
       "      <td>20220400</td>\n",
       "      <td>10.0</td>\n",
       "      <td>Hà Nội</td>\n",
       "    </tr>\n",
       "    <tr>\n",
       "      <th>2</th>\n",
       "      <td>2</td>\n",
       "      <td>116074930</td>\n",
       "      <td>102</td>\n",
       "      <td>TB16010</td>\n",
       "      <td>-1</td>\n",
       "      <td>Nhân viên lễ tân</td>\n",
       "      <td>20160600</td>\n",
       "      <td>20161200</td>\n",
       "      <td>7.0</td>\n",
       "      <td>Hà Nội</td>\n",
       "    </tr>\n",
       "    <tr>\n",
       "      <th>3</th>\n",
       "      <td>2</td>\n",
       "      <td>116074930</td>\n",
       "      <td>102</td>\n",
       "      <td>TB16010</td>\n",
       "      <td>-1</td>\n",
       "      <td>Nhân viên lễ tân</td>\n",
       "      <td>20170100</td>\n",
       "      <td>20170300</td>\n",
       "      <td>8.0</td>\n",
       "      <td>Hà Nội</td>\n",
       "    </tr>\n",
       "    <tr>\n",
       "      <th>4</th>\n",
       "      <td>2</td>\n",
       "      <td>116074930</td>\n",
       "      <td>102</td>\n",
       "      <td>NaN</td>\n",
       "      <td>-1</td>\n",
       "      <td>NaN</td>\n",
       "      <td>20170400</td>\n",
       "      <td>20170700</td>\n",
       "      <td>-1.0</td>\n",
       "      <td>NaN</td>\n",
       "    </tr>\n",
       "    <tr>\n",
       "      <th>5</th>\n",
       "      <td>2</td>\n",
       "      <td>116074930</td>\n",
       "      <td>102</td>\n",
       "      <td>TB16010</td>\n",
       "      <td>-1</td>\n",
       "      <td>Nhân viên Sales Admin</td>\n",
       "      <td>20170800</td>\n",
       "      <td>20191200</td>\n",
       "      <td>8.0</td>\n",
       "      <td>Hà Nội</td>\n",
       "    </tr>\n",
       "    <tr>\n",
       "      <th>6</th>\n",
       "      <td>2</td>\n",
       "      <td>116074930</td>\n",
       "      <td>102</td>\n",
       "      <td>TB16010</td>\n",
       "      <td>-1</td>\n",
       "      <td>Nhân viên Sales Admin</td>\n",
       "      <td>20200100</td>\n",
       "      <td>20200600</td>\n",
       "      <td>9.0</td>\n",
       "      <td>Việt Nam</td>\n",
       "    </tr>\n",
       "    <tr>\n",
       "      <th>7</th>\n",
       "      <td>2</td>\n",
       "      <td>116074930</td>\n",
       "      <td>102</td>\n",
       "      <td>TB16010</td>\n",
       "      <td>-1</td>\n",
       "      <td>NaN</td>\n",
       "      <td>20200700</td>\n",
       "      <td>20201200</td>\n",
       "      <td>9.0</td>\n",
       "      <td>NaN</td>\n",
       "    </tr>\n",
       "    <tr>\n",
       "      <th>8</th>\n",
       "      <td>2</td>\n",
       "      <td>116074930</td>\n",
       "      <td>102</td>\n",
       "      <td>TB16010</td>\n",
       "      <td>-1</td>\n",
       "      <td>Nhân viên Sales Admin</td>\n",
       "      <td>20210100</td>\n",
       "      <td>20210100</td>\n",
       "      <td>9.0</td>\n",
       "      <td>Hà Nội</td>\n",
       "    </tr>\n",
       "    <tr>\n",
       "      <th>9</th>\n",
       "      <td>4</td>\n",
       "      <td>203060233</td>\n",
       "      <td>102</td>\n",
       "      <td>CB16291</td>\n",
       "      <td>-1</td>\n",
       "      <td>Kế toán</td>\n",
       "      <td>20030300</td>\n",
       "      <td>20050900</td>\n",
       "      <td>1.0</td>\n",
       "      <td>NaN</td>\n",
       "    </tr>\n",
       "    <tr>\n",
       "      <th>10</th>\n",
       "      <td>4</td>\n",
       "      <td>203060233</td>\n",
       "      <td>102</td>\n",
       "      <td>NaN</td>\n",
       "      <td>-1</td>\n",
       "      <td>NaN</td>\n",
       "      <td>20051000</td>\n",
       "      <td>20070900</td>\n",
       "      <td>-1.0</td>\n",
       "      <td>NaN</td>\n",
       "    </tr>\n",
       "    <tr>\n",
       "      <th>11</th>\n",
       "      <td>4</td>\n",
       "      <td>203060233</td>\n",
       "      <td>102</td>\n",
       "      <td>CB16291</td>\n",
       "      <td>-1</td>\n",
       "      <td>Phó giám đốc</td>\n",
       "      <td>20071000</td>\n",
       "      <td>20071200</td>\n",
       "      <td>1.0</td>\n",
       "      <td>TP Hà Nội</td>\n",
       "    </tr>\n",
       "    <tr>\n",
       "      <th>12</th>\n",
       "      <td>4</td>\n",
       "      <td>203060233</td>\n",
       "      <td>102</td>\n",
       "      <td>CB16291</td>\n",
       "      <td>-1</td>\n",
       "      <td>Phó giám đốc</td>\n",
       "      <td>20080100</td>\n",
       "      <td>20081200</td>\n",
       "      <td>2.0</td>\n",
       "      <td>TP Hà Nội</td>\n",
       "    </tr>\n",
       "    <tr>\n",
       "      <th>13</th>\n",
       "      <td>4</td>\n",
       "      <td>203060233</td>\n",
       "      <td>102</td>\n",
       "      <td>CB16291</td>\n",
       "      <td>-1</td>\n",
       "      <td>Phó giám đốc</td>\n",
       "      <td>20090100</td>\n",
       "      <td>20100600</td>\n",
       "      <td>3.0</td>\n",
       "      <td>NaN</td>\n",
       "    </tr>\n",
       "    <tr>\n",
       "      <th>14</th>\n",
       "      <td>4</td>\n",
       "      <td>203060233</td>\n",
       "      <td>102</td>\n",
       "      <td>NaN</td>\n",
       "      <td>-1</td>\n",
       "      <td>NaN</td>\n",
       "      <td>20100700</td>\n",
       "      <td>20100800</td>\n",
       "      <td>-1.0</td>\n",
       "      <td>NaN</td>\n",
       "    </tr>\n",
       "    <tr>\n",
       "      <th>15</th>\n",
       "      <td>4</td>\n",
       "      <td>203060233</td>\n",
       "      <td>102</td>\n",
       "      <td>TB0280B</td>\n",
       "      <td>-1</td>\n",
       "      <td>Phó giám đốc</td>\n",
       "      <td>20100900</td>\n",
       "      <td>20101200</td>\n",
       "      <td>3.0</td>\n",
       "      <td>Hà Nội</td>\n",
       "    </tr>\n",
       "    <tr>\n",
       "      <th>16</th>\n",
       "      <td>4</td>\n",
       "      <td>203060233</td>\n",
       "      <td>102</td>\n",
       "      <td>TB0280B</td>\n",
       "      <td>-1</td>\n",
       "      <td>Phó giám đốc</td>\n",
       "      <td>20110100</td>\n",
       "      <td>20110900</td>\n",
       "      <td>4.0</td>\n",
       "      <td>Hà Nội</td>\n",
       "    </tr>\n",
       "    <tr>\n",
       "      <th>17</th>\n",
       "      <td>4</td>\n",
       "      <td>203060233</td>\n",
       "      <td>102</td>\n",
       "      <td>TB0280B</td>\n",
       "      <td>-1</td>\n",
       "      <td>Phó giám đốc</td>\n",
       "      <td>20111000</td>\n",
       "      <td>20131200</td>\n",
       "      <td>5.0</td>\n",
       "      <td>Hà Nội</td>\n",
       "    </tr>\n",
       "    <tr>\n",
       "      <th>18</th>\n",
       "      <td>4</td>\n",
       "      <td>203060233</td>\n",
       "      <td>102</td>\n",
       "      <td>TB0280B</td>\n",
       "      <td>-1</td>\n",
       "      <td>Phó giám đốc</td>\n",
       "      <td>20140100</td>\n",
       "      <td>20141200</td>\n",
       "      <td>6.0</td>\n",
       "      <td>Hà Nội</td>\n",
       "    </tr>\n",
       "    <tr>\n",
       "      <th>19</th>\n",
       "      <td>4</td>\n",
       "      <td>203060233</td>\n",
       "      <td>102</td>\n",
       "      <td>TB0280B</td>\n",
       "      <td>-1</td>\n",
       "      <td>Phó giám đốc</td>\n",
       "      <td>20150100</td>\n",
       "      <td>20151200</td>\n",
       "      <td>7.0</td>\n",
       "      <td>Hà Nội</td>\n",
       "    </tr>\n",
       "  </tbody>\n",
       "</table>\n",
       "</div>"
      ],
      "text/plain": [
       "    id      id_bh  id_management id_office  company_type  \\\n",
       "0    1  113039360            106   TF2212F            -1   \n",
       "1    1  113039360            106   TF2212F            -1   \n",
       "2    2  116074930            102   TB16010            -1   \n",
       "3    2  116074930            102   TB16010            -1   \n",
       "4    2  116074930            102       NaN            -1   \n",
       "5    2  116074930            102   TB16010            -1   \n",
       "6    2  116074930            102   TB16010            -1   \n",
       "7    2  116074930            102   TB16010            -1   \n",
       "8    2  116074930            102   TB16010            -1   \n",
       "9    4  203060233            102   CB16291            -1   \n",
       "10   4  203060233            102       NaN            -1   \n",
       "11   4  203060233            102   CB16291            -1   \n",
       "12   4  203060233            102   CB16291            -1   \n",
       "13   4  203060233            102   CB16291            -1   \n",
       "14   4  203060233            102       NaN            -1   \n",
       "15   4  203060233            102   TB0280B            -1   \n",
       "16   4  203060233            102   TB0280B            -1   \n",
       "17   4  203060233            102   TB0280B            -1   \n",
       "18   4  203060233            102   TB0280B            -1   \n",
       "19   4  203060233            102   TB0280B            -1   \n",
       "\n",
       "                 job/role  from_date   to_date  employee_lv    address  \n",
       "0                Giám đốc   20130100  20151200          7.0     Hà Nội  \n",
       "1                Giám đốc   20160100  20220400         10.0     Hà Nội  \n",
       "2        Nhân viên lễ tân   20160600  20161200          7.0     Hà Nội  \n",
       "3        Nhân viên lễ tân   20170100  20170300          8.0     Hà Nội  \n",
       "4                     NaN   20170400  20170700         -1.0        NaN  \n",
       "5   Nhân viên Sales Admin   20170800  20191200          8.0     Hà Nội  \n",
       "6   Nhân viên Sales Admin   20200100  20200600          9.0   Việt Nam  \n",
       "7                     NaN   20200700  20201200          9.0        NaN  \n",
       "8   Nhân viên Sales Admin   20210100  20210100          9.0     Hà Nội  \n",
       "9                 Kế toán   20030300  20050900          1.0        NaN  \n",
       "10                    NaN   20051000  20070900         -1.0        NaN  \n",
       "11           Phó giám đốc   20071000  20071200          1.0  TP Hà Nội  \n",
       "12           Phó giám đốc   20080100  20081200          2.0  TP Hà Nội  \n",
       "13           Phó giám đốc   20090100  20100600          3.0        NaN  \n",
       "14                    NaN   20100700  20100800         -1.0        NaN  \n",
       "15           Phó giám đốc   20100900  20101200          3.0     Hà Nội  \n",
       "16           Phó giám đốc   20110100  20110900          4.0     Hà Nội  \n",
       "17           Phó giám đốc   20111000  20131200          5.0     Hà Nội  \n",
       "18           Phó giám đốc   20140100  20141200          6.0     Hà Nội  \n",
       "19           Phó giám đốc   20150100  20151200          7.0     Hà Nội  "
      ]
     },
     "execution_count": 6,
     "metadata": {},
     "output_type": "execute_result"
    }
   ],
   "source": [
    "train_work.head(20)"
   ]
  },
  {
   "cell_type": "code",
   "execution_count": 7,
   "metadata": {},
   "outputs": [],
   "source": [
    "## concat \n",
    "work = pd.concat([train_work, test_work],axis=0)"
   ]
  },
  {
   "cell_type": "markdown",
   "metadata": {},
   "source": [
    "## 1. Address"
   ]
  },
  {
   "cell_type": "code",
   "execution_count": 8,
   "metadata": {},
   "outputs": [],
   "source": [
    "train_work['address'].value_counts().to_csv(\"address_work\")"
   ]
  },
  {
   "cell_type": "code",
   "execution_count": 9,
   "metadata": {},
   "outputs": [],
   "source": [
    "## format text\n",
    "def preprocess_address(add):\n",
    "    add = re.sub(r'(SÀI GÒN)|(TPHCM)|(HCM)|(TP HCM)','TP HỒ CHÍ MINH',add) #Change some symnonyms\n",
    "    add = re.sub(r'(HN)','HÀ NỘI',add)\n",
    "    add = re.sub(r'(BG)','BẮC GIANG',add)\n",
    "    # Remove some special characters\n",
    "    add = re.sub(r'([\\;\\:\\|•«\\n])', ' ', add)\n",
    "    return add\n",
    "## upper word\n",
    "work['address'] = work['address'].fillna(-99)\n",
    "work['address'] = work.apply(lambda row: str(row.address).upper(), axis = 1)\n",
    "work['address'] = work.apply(lambda row: preprocess_address(row.address), axis = 1)"
   ]
  },
  {
   "cell_type": "code",
   "execution_count": 10,
   "metadata": {},
   "outputs": [],
   "source": [
    "from difflib import SequenceMatcher\n",
    "def similar(a, b):\n",
    "    a = str(a).upper().strip()\n",
    "    b = str(b).upper().strip()\n",
    "    rp_a = ''\n",
    "    rp_b = ''\n",
    "    for s in a.split(' '):\n",
    "        rp_a += s\n",
    "    for s in b.split(' '):\n",
    "        rp_b += s\n",
    "    return SequenceMatcher(None, rp_a, rp_b).ratio()\n",
    "## province dict\n",
    "province_dict = {\n",
    "    \"An Giang\": 1,\n",
    "    \"Kon Tum\": 33,\n",
    "\"Bà Rịa – Vũng Tàu\": 2,\n",
    "\"Lai Châu\": 34,\n",
    "\"Bắc Giang\"\t: 3,\n",
    "\"Lâm Đồng\": 35,\n",
    "\t\"Bắc Kạn\": 4,\t\n",
    "\t\"Lạng Sơn\": 36,\n",
    "\t\"Bạc Liêu\": 5,\t\n",
    "\t\"Lào Cai\": 37,\n",
    "\t\"Bắc Ninh\": 6, \t\n",
    "\t\"Long An\": 38,\n",
    "\t\"Bến Tre\": 7,\t\n",
    "\t\"Nam Định\": 39,\n",
    "\t\"Bình Định\"\t: 8,\n",
    "\t\"Nghệ An\": 40,\n",
    "\t\"Bình Dương\": 9\t,\n",
    "\t\"Ninh Bình\": 41,\n",
    "\t\"Bình Phước\"\t: 10,\n",
    "\t\"Ninh Thuận\": 42,\n",
    "\t\"Bình Thuận\"\t: 11,\n",
    "\t\"Phú Thọ\": 43,\n",
    "\t\"Cà Mau\"\t: 12,\n",
    "\t\"Phú Yên\": 44,\n",
    "\t\"Cần Thơ\"\t: 13,\n",
    "\t\"Quảng Bình\": 45,\n",
    "\t\"Cao Bằng\"\t: 14,\n",
    "\t\"Quảng Nam\" : 46,\n",
    "\t\"Đà Nẵng\" : 15,\n",
    "\t\"Quảng Ngãi\": 47,\n",
    "\t\"Đắk Lắk\"\t: 16,\n",
    "\t\"Quảng Ninh\" : 48, \n",
    "\t\"Đắk Nông\"\t: 17,\n",
    "\t\"Quảng Trị\": 49,\n",
    "\t\"Điện Biên\"\t: 18,\n",
    "\t\"Sóc Trăng\": 50,\n",
    "\t\"Đồng Nai\"\t: 19,\n",
    "\t\"Sơn La\": 51,\n",
    "\t\"Đồng Tháp\"\t: 20,\n",
    "\t\"Tây Ninh\": 52,\n",
    "\t\"Gia Lai\"\t: 21,\n",
    "\t\"Thái Bình\": 53,\n",
    "\t\"Hà Giang\"\t: 22,\n",
    "\t\"Thái Nguyên\": 54,\n",
    "\t\"Hà Nam\"\t: 23,\n",
    "\t\"Thanh Hóa\": 55,\n",
    "\t\"Hà Nội\"\t: 24,\n",
    "\t\"Thừa Thiên Huế\": 56,\n",
    "\t\"Hà Tĩnh\"\t: 25,\n",
    "\t\"Tiền Giang\": 57,\n",
    "\t\"Hải Dương\"\t: 26,\n",
    "\t\"TP Hồ Chí Minh\" : 58,\n",
    "\t\"Hải Phòng\"\t: 27, \n",
    "\t\"Trà Vinh\": 59,\n",
    "\t\"Hậu Giang\"\t: 28,\n",
    "\t\"Tuyên Quang\": 60, \n",
    "\t\"Hòa Bình\"\t: 29,\n",
    "\t\"Vĩnh Long\": 61,\n",
    "\t\"Hưng Yên\"\t: 30,\n",
    "\t\"Vĩnh Phúc\": 62,\n",
    "\t\"Khánh Hòa\"\t: 31,\n",
    "\t\"Yên Bái\": 63,\n",
    "\t\"Kiên Giang\": 32\t \t \n",
    "}"
   ]
  },
  {
   "cell_type": "code",
   "execution_count": 11,
   "metadata": {},
   "outputs": [],
   "source": [
    "## caculate similarity\n",
    "for k, v in province_dict.items():\n",
    "    col_name = str(v)\n",
    "    work[col_name] = work.apply(lambda row: similar( row.address, k), axis = 1)"
   ]
  },
  {
   "cell_type": "code",
   "execution_count": 12,
   "metadata": {},
   "outputs": [],
   "source": [
    "## caculate max similarity\n",
    "province_id = list(range(1,64))\n",
    "province_col_name  = [str(x) for x in province_id]\n",
    "work['max_similar_score'] = work[province_col_name].max(axis= 1)\n",
    "work['work_province_id'] = work[province_col_name].idxmax(axis= 1)\n",
    "\n",
    "## thresh hold = 0.5\n",
    "work['new_work_province_id']  = work.apply(lambda row: row.work_province_id if row.max_similar_score > 0.5 else -999, axis = 1)"
   ]
  },
  {
   "cell_type": "markdown",
   "metadata": {},
   "source": [
    "##### use col: new_work_province_id (address cu)"
   ]
  },
  {
   "cell_type": "markdown",
   "metadata": {},
   "source": [
    "## 2. employee_lv"
   ]
  },
  {
   "cell_type": "code",
   "execution_count": 13,
   "metadata": {},
   "outputs": [],
   "source": [
    "work['employee_lv'].value_counts().to_csv(\"employ_lv.csv\")"
   ]
  },
  {
   "cell_type": "code",
   "execution_count": 14,
   "metadata": {},
   "outputs": [
    {
     "data": {
      "text/plain": [
       "count    409842.000000\n",
       "mean          8.109388\n",
       "std           6.947890\n",
       "min          -1.000000\n",
       "25%           5.000000\n",
       "50%           7.000000\n",
       "75%           9.000000\n",
       "max          59.000000\n",
       "Name: employee_lv, dtype: float64"
      ]
     },
     "execution_count": 14,
     "metadata": {},
     "output_type": "execute_result"
    }
   ],
   "source": [
    "## outlier : -1, 331, 369 - Nan dien la -1\n",
    "work['employee_lv'] = work['employee_lv'].fillna(-1)\n",
    "work['employee_lv'] = work['employee_lv'].apply(lambda x: x if(x < 300) else -1 )\n",
    "work['employee_lv'].describe()"
   ]
  },
  {
   "cell_type": "markdown",
   "metadata": {},
   "source": [
    "## 3. date (create new fea - num_day_work) - from_date, to_date"
   ]
  },
  {
   "cell_type": "code",
   "execution_count": 15,
   "metadata": {},
   "outputs": [
    {
     "data": {
      "text/plain": [
       "('2013', 1)"
      ]
     },
     "execution_count": 15,
     "metadata": {},
     "output_type": "execute_result"
    }
   ],
   "source": [
    "date = '20130100'\n",
    "date[:4], int(date[4:6])"
   ]
  },
  {
   "cell_type": "code",
   "execution_count": 16,
   "metadata": {},
   "outputs": [],
   "source": [
    "# work[['from_date', 'to_date']].head(20)\n",
    "work['year_from_date'] = work.apply(lambda row: int(str(row.from_date)[:4]), axis = 1)\n",
    "work['year_to_date'] = work.apply(lambda row: int(str(row.to_date)[:4]), axis = 1)\n",
    "work['month_from_date'] = work.apply(lambda row: int(str(row.from_date)[4:6]), axis = 1)\n",
    "work['month_to_date'] = work.apply(lambda row: int(str(row.to_date)[4:6]), axis = 1)"
   ]
  },
  {
   "cell_type": "code",
   "execution_count": 17,
   "metadata": {},
   "outputs": [],
   "source": [
    "## create feature: num_year_contract, num_month_contract\n",
    "work['num_year_contract'] = work['year_to_date'] - work['year_from_date']\n",
    "work['num_month_contract'] = work.apply(lambda row:\n",
    "           abs((row.year_to_date - row.year_from_date) * 12 + (row.month_to_date - row.month_from_date)), axis = 1\n",
    ")"
   ]
  },
  {
   "cell_type": "code",
   "execution_count": 18,
   "metadata": {},
   "outputs": [
    {
     "data": {
      "text/html": [
       "<div>\n",
       "<style scoped>\n",
       "    .dataframe tbody tr th:only-of-type {\n",
       "        vertical-align: middle;\n",
       "    }\n",
       "\n",
       "    .dataframe tbody tr th {\n",
       "        vertical-align: top;\n",
       "    }\n",
       "\n",
       "    .dataframe thead th {\n",
       "        text-align: right;\n",
       "    }\n",
       "</style>\n",
       "<table border=\"1\" class=\"dataframe\">\n",
       "  <thead>\n",
       "    <tr style=\"text-align: right;\">\n",
       "      <th></th>\n",
       "      <th>from_date</th>\n",
       "      <th>to_date</th>\n",
       "      <th>year_from_date</th>\n",
       "      <th>year_to_date</th>\n",
       "      <th>month_from_date</th>\n",
       "      <th>month_to_date</th>\n",
       "      <th>num_year_contract</th>\n",
       "      <th>num_month_contract</th>\n",
       "    </tr>\n",
       "  </thead>\n",
       "  <tbody>\n",
       "    <tr>\n",
       "      <th>count</th>\n",
       "      <td>4.098420e+05</td>\n",
       "      <td>4.098420e+05</td>\n",
       "      <td>409842.000000</td>\n",
       "      <td>409842.000000</td>\n",
       "      <td>409842.000000</td>\n",
       "      <td>409842.000000</td>\n",
       "      <td>409842.000000</td>\n",
       "      <td>409842.000000</td>\n",
       "    </tr>\n",
       "    <tr>\n",
       "      <th>mean</th>\n",
       "      <td>2.014827e+07</td>\n",
       "      <td>2.015701e+07</td>\n",
       "      <td>2014.775718</td>\n",
       "      <td>2015.624145</td>\n",
       "      <td>5.080307</td>\n",
       "      <td>7.660281</td>\n",
       "      <td>0.848427</td>\n",
       "      <td>12.761098</td>\n",
       "    </tr>\n",
       "    <tr>\n",
       "      <th>std</th>\n",
       "      <td>5.794083e+04</td>\n",
       "      <td>5.538133e+04</td>\n",
       "      <td>5.800276</td>\n",
       "      <td>5.545428</td>\n",
       "      <td>3.779333</td>\n",
       "      <td>3.804081</td>\n",
       "      <td>1.229122</td>\n",
       "      <td>14.129194</td>\n",
       "    </tr>\n",
       "    <tr>\n",
       "      <th>min</th>\n",
       "      <td>1.968110e+07</td>\n",
       "      <td>1.975080e+07</td>\n",
       "      <td>1968.000000</td>\n",
       "      <td>1975.000000</td>\n",
       "      <td>1.000000</td>\n",
       "      <td>1.000000</td>\n",
       "      <td>0.000000</td>\n",
       "      <td>0.000000</td>\n",
       "    </tr>\n",
       "    <tr>\n",
       "      <th>25%</th>\n",
       "      <td>2.012030e+07</td>\n",
       "      <td>2.013060e+07</td>\n",
       "      <td>2012.000000</td>\n",
       "      <td>2013.000000</td>\n",
       "      <td>1.000000</td>\n",
       "      <td>4.000000</td>\n",
       "      <td>0.000000</td>\n",
       "      <td>4.000000</td>\n",
       "    </tr>\n",
       "    <tr>\n",
       "      <th>50%</th>\n",
       "      <td>2.016100e+07</td>\n",
       "      <td>2.017070e+07</td>\n",
       "      <td>2016.000000</td>\n",
       "      <td>2017.000000</td>\n",
       "      <td>4.000000</td>\n",
       "      <td>8.000000</td>\n",
       "      <td>0.000000</td>\n",
       "      <td>9.000000</td>\n",
       "    </tr>\n",
       "    <tr>\n",
       "      <th>75%</th>\n",
       "      <td>2.019030e+07</td>\n",
       "      <td>2.020030e+07</td>\n",
       "      <td>2019.000000</td>\n",
       "      <td>2020.000000</td>\n",
       "      <td>9.000000</td>\n",
       "      <td>12.000000</td>\n",
       "      <td>1.000000</td>\n",
       "      <td>17.000000</td>\n",
       "    </tr>\n",
       "    <tr>\n",
       "      <th>max</th>\n",
       "      <td>2.022040e+07</td>\n",
       "      <td>2.031100e+07</td>\n",
       "      <td>2022.000000</td>\n",
       "      <td>2031.000000</td>\n",
       "      <td>12.000000</td>\n",
       "      <td>12.000000</td>\n",
       "      <td>38.000000</td>\n",
       "      <td>459.000000</td>\n",
       "    </tr>\n",
       "  </tbody>\n",
       "</table>\n",
       "</div>"
      ],
      "text/plain": [
       "          from_date       to_date  year_from_date   year_to_date  \\\n",
       "count  4.098420e+05  4.098420e+05   409842.000000  409842.000000   \n",
       "mean   2.014827e+07  2.015701e+07     2014.775718    2015.624145   \n",
       "std    5.794083e+04  5.538133e+04        5.800276       5.545428   \n",
       "min    1.968110e+07  1.975080e+07     1968.000000    1975.000000   \n",
       "25%    2.012030e+07  2.013060e+07     2012.000000    2013.000000   \n",
       "50%    2.016100e+07  2.017070e+07     2016.000000    2017.000000   \n",
       "75%    2.019030e+07  2.020030e+07     2019.000000    2020.000000   \n",
       "max    2.022040e+07  2.031100e+07     2022.000000    2031.000000   \n",
       "\n",
       "       month_from_date  month_to_date  num_year_contract  num_month_contract  \n",
       "count    409842.000000  409842.000000      409842.000000       409842.000000  \n",
       "mean          5.080307       7.660281           0.848427           12.761098  \n",
       "std           3.779333       3.804081           1.229122           14.129194  \n",
       "min           1.000000       1.000000           0.000000            0.000000  \n",
       "25%           1.000000       4.000000           0.000000            4.000000  \n",
       "50%           4.000000       8.000000           0.000000            9.000000  \n",
       "75%           9.000000      12.000000           1.000000           17.000000  \n",
       "max          12.000000      12.000000          38.000000          459.000000  "
      ]
     },
     "execution_count": 18,
     "metadata": {},
     "output_type": "execute_result"
    }
   ],
   "source": [
    "work[['from_date','to_date','year_from_date', 'year_to_date', \n",
    "'month_from_date', 'month_to_date', 'num_year_contract', 'num_month_contract'\n",
    "]].describe()"
   ]
  },
  {
   "cell_type": "markdown",
   "metadata": {},
   "source": [
    "##### use_Cols = \n",
    "['from_date','to_date','year_from_date', 'year_to_date', \n",
    "'month_from_date', 'month_to_date', 'num_year_contract', 'num_month_contract'\n",
    "]"
   ]
  },
  {
   "cell_type": "markdown",
   "metadata": {},
   "source": [
    "## 4. job/role"
   ]
  },
  {
   "cell_type": "code",
   "execution_count": 19,
   "metadata": {},
   "outputs": [],
   "source": [
    "# work['job/role'].value_counts().to_csv(\"job_role.csv\")"
   ]
  },
  {
   "cell_type": "code",
   "execution_count": 20,
   "metadata": {},
   "outputs": [],
   "source": [
    "## label enconder\n",
    "# work['job_role_encode'],_ = work['job/role'].factorize()\n",
    "# work['job/role'] = work['job/role'].fillna(-999)\n",
    "# work['job_role_encode'] = work['job_role_encode'].fillna(-999)\n",
    "# work['job_role_encode'] = work['job_role_encode'].astype('category')"
   ]
  },
  {
   "cell_type": "code",
   "execution_count": 21,
   "metadata": {},
   "outputs": [],
   "source": [
    "## use cols: job/role, job_role_encode"
   ]
  },
  {
   "cell_type": "markdown",
   "metadata": {},
   "source": [
    "## 5. company_type"
   ]
  },
  {
   "cell_type": "code",
   "execution_count": 22,
   "metadata": {},
   "outputs": [],
   "source": [
    "## k co null\n",
    "work['company_type'] = work['company_type'].astype('category')"
   ]
  },
  {
   "cell_type": "code",
   "execution_count": 23,
   "metadata": {},
   "outputs": [],
   "source": [
    "## usecol: company_type"
   ]
  },
  {
   "cell_type": "markdown",
   "metadata": {},
   "source": [
    "## 6. id_management\t"
   ]
  },
  {
   "cell_type": "code",
   "execution_count": 24,
   "metadata": {},
   "outputs": [],
   "source": [
    "# work['id_management'] = work['id_management'].fillna(-999)\n",
    "# work['id_management'] = work['id_management'].astype('category')"
   ]
  },
  {
   "cell_type": "markdown",
   "metadata": {},
   "source": [
    "## 7. id_office\t"
   ]
  },
  {
   "cell_type": "code",
   "execution_count": 25,
   "metadata": {},
   "outputs": [
    {
     "data": {
      "text/plain": [
       "YN0042Z    19345\n",
       "HZ0000Z    13309\n",
       "YN0023Z     9240\n",
       "YN0021Z     6468\n",
       "YN0114Z     5506\n",
       "           ...  \n",
       "TI0494I        1\n",
       "YV0119A        1\n",
       "TG3753G        1\n",
       "TG1782G        1\n",
       "TC0885C        1\n",
       "Name: id_office, Length: 17271, dtype: int64"
      ]
     },
     "execution_count": 25,
     "metadata": {},
     "output_type": "execute_result"
    }
   ],
   "source": [
    "work['id_office'].value_counts()"
   ]
  },
  {
   "cell_type": "code",
   "execution_count": 26,
   "metadata": {},
   "outputs": [
    {
     "data": {
      "text/plain": [
       "True"
      ]
     },
     "execution_count": 26,
     "metadata": {},
     "output_type": "execute_result"
    }
   ],
   "source": [
    "isinstance('asdasd', str)"
   ]
  },
  {
   "cell_type": "code",
   "execution_count": 27,
   "metadata": {},
   "outputs": [],
   "source": [
    "work['two_1stchar_id_office'] = work.apply(lambda row: row.id_office[:2] if (isinstance(row.id_office, str))\n",
    "                else row.id_office\n",
    " , axis = 1)\n",
    "work['last_char_id_office'] = work.apply(lambda row: row.id_office[-1] if (isinstance(row.id_office, str))\n",
    "            else row.id_office\n",
    ", axis = 1)"
   ]
  },
  {
   "cell_type": "code",
   "execution_count": 28,
   "metadata": {},
   "outputs": [],
   "source": [
    "## label and fill nan\n",
    "## label enconder\n",
    "# work['id_office_encode'],_ = work['id_office'].factorize()\n",
    "# work['id_office'] = work['id_office'].fillna(-999)\n",
    "# work['id_office_encode'] = work['id_office_encode'].fillna(-999)\n",
    "# work['id_office_encode'] = work['id_office_encode'].astype('category')"
   ]
  },
  {
   "cell_type": "code",
   "execution_count": 29,
   "metadata": {},
   "outputs": [],
   "source": [
    "# work['two_1stchar_id_office'] = work['two_1stchar_id_office'].fillna(-999)\n",
    "# work['last_char_id_office'] = work['last_char_id_office'].fillna(-999)"
   ]
  },
  {
   "cell_type": "code",
   "execution_count": 30,
   "metadata": {},
   "outputs": [],
   "source": [
    "# work[['id_office', 'two_1stchar_id_office', 'last_char_id_office']]"
   ]
  },
  {
   "cell_type": "code",
   "execution_count": 31,
   "metadata": {},
   "outputs": [
    {
     "data": {
      "text/plain": [
       "id_office\n",
       "YN0042Z      19345\n",
       "HZ0000Z      13309\n",
       "YN0023Z       9240\n",
       "YN0021Z       6468\n",
       "YN0114Z       5506\n",
       "             ...  \n",
       "TZ0170Z          1\n",
       "TZ01719          1\n",
       "TZ0171Z          1\n",
       "QW13178          1\n",
       "TO8464O          1\n",
       "Length: 17271, dtype: int64"
      ]
     },
     "execution_count": 31,
     "metadata": {},
     "output_type": "execute_result"
    }
   ],
   "source": [
    "work[['id_office']].value_counts()"
   ]
  },
  {
   "cell_type": "code",
   "execution_count": 32,
   "metadata": {},
   "outputs": [],
   "source": [
    "# use_Cols = ['id_office', 'id_office_encode', 'two_1stchar_id_office', 'last_char_id_office'\n",
    "# ]"
   ]
  },
  {
   "cell_type": "code",
   "execution_count": 33,
   "metadata": {},
   "outputs": [],
   "source": [
    "## useful cols \n",
    "use_cols = [\n",
    "    'id',\n",
    "    'id_bh',\n",
    "    'new_work_province_id',\n",
    "    'employee_lv',\n",
    "    'from_date','to_date','year_from_date', 'year_to_date', \n",
    "    'month_from_date', 'month_to_date', 'num_year_contract', 'num_month_contract',\n",
    "    \"job/role\", \n",
    "    \"company_type\",\n",
    "    \"id_management\",\n",
    "    \"id_office\"\n",
    "] "
   ]
  },
  {
   "cell_type": "code",
   "execution_count": 34,
   "metadata": {},
   "outputs": [
    {
     "name": "stdout",
     "output_type": "stream",
     "text": [
      "<class 'pandas.core.frame.DataFrame'>\n",
      "Int64Index: 409842 entries, 0 to 162282\n",
      "Data columns (total 16 columns):\n",
      " #   Column                Non-Null Count   Dtype   \n",
      "---  ------                --------------   -----   \n",
      " 0   id                    409842 non-null  int64   \n",
      " 1   id_bh                 409842 non-null  int64   \n",
      " 2   new_work_province_id  409842 non-null  object  \n",
      " 3   employee_lv           409842 non-null  float64 \n",
      " 4   from_date             409842 non-null  int64   \n",
      " 5   to_date               409842 non-null  int64   \n",
      " 6   year_from_date        409842 non-null  int64   \n",
      " 7   year_to_date          409842 non-null  int64   \n",
      " 8   month_from_date       409842 non-null  int64   \n",
      " 9   month_to_date         409842 non-null  int64   \n",
      " 10  num_year_contract     409842 non-null  int64   \n",
      " 11  num_month_contract    409842 non-null  int64   \n",
      " 12  job/role              354300 non-null  object  \n",
      " 13  company_type          409842 non-null  category\n",
      " 14  id_management         409842 non-null  int64   \n",
      " 15  id_office             389691 non-null  object  \n",
      "dtypes: category(1), float64(1), int64(11), object(3)\n",
      "memory usage: 50.4+ MB\n"
     ]
    }
   ],
   "source": [
    "export_work = work[use_cols]\n",
    "export_work.info()"
   ]
  },
  {
   "cell_type": "markdown",
   "metadata": {},
   "source": [
    "## cluster job/role"
   ]
  },
  {
   "cell_type": "code",
   "execution_count": 35,
   "metadata": {},
   "outputs": [
    {
     "name": "stderr",
     "output_type": "stream",
     "text": [
      "C:\\Users\\Toan\\AppData\\Local\\Temp/ipykernel_19764/453157816.py:3: SettingWithCopyWarning: \n",
      "A value is trying to be set on a copy of a slice from a DataFrame.\n",
      "Try using .loc[row_indexer,col_indexer] = value instead\n",
      "\n",
      "See the caveats in the documentation: https://pandas.pydata.org/pandas-docs/stable/user_guide/indexing.html#returning-a-view-versus-a-copy\n",
      "  export_work['job_role_fillNan'] = export_work['job/role'].fillna(\"none\")\n"
     ]
    }
   ],
   "source": [
    "## cluster job role\n",
    "from sklearn.feature_extraction.text import TfidfVectorizer\n",
    "export_work['job_role_fillNan'] = export_work['job/role'].fillna(\"none\")\n",
    "vectorizer = TfidfVectorizer(\n",
    "    ngram_range = (1,2),\n",
    "        min_df=5, \n",
    "    max_df= 0.8, \n",
    "    max_features=1000,\n",
    "    sublinear_tf=True\n",
    ")\n",
    "job_role = export_work['job_role_fillNan'].values\n",
    "X_job_role = vectorizer.fit_transform(job_role)"
   ]
  },
  {
   "cell_type": "code",
   "execution_count": 36,
   "metadata": {},
   "outputs": [],
   "source": [
    "from sklearn.cluster import KMeans\n",
    "from sklearn import metrics\n",
    "from scipy.spatial.distance import cdist\n",
    "import numpy as np\n",
    "import matplotlib.pyplot as plt"
   ]
  },
  {
   "cell_type": "code",
   "execution_count": 38,
   "metadata": {},
   "outputs": [
    {
     "data": {
      "text/plain": [
       "array([ 12,  12,   7, ...,  41, 292, 292])"
      ]
     },
     "execution_count": 38,
     "metadata": {},
     "output_type": "execute_result"
    }
   ],
   "source": [
    "kmeanModel = KMeans(n_clusters=300, random_state = 2022).fit(X_job_role) \n",
    "kmeanModel.labels_"
   ]
  },
  {
   "cell_type": "code",
   "execution_count": 39,
   "metadata": {},
   "outputs": [
    {
     "name": "stderr",
     "output_type": "stream",
     "text": [
      "C:\\Users\\Toan\\AppData\\Local\\Temp/ipykernel_19764/3463333387.py:1: SettingWithCopyWarning: \n",
      "A value is trying to be set on a copy of a slice from a DataFrame.\n",
      "Try using .loc[row_indexer,col_indexer] = value instead\n",
      "\n",
      "See the caveats in the documentation: https://pandas.pydata.org/pandas-docs/stable/user_guide/indexing.html#returning-a-view-versus-a-copy\n",
      "  export_work['job_role_encode_knn'] = kmeanModel.labels_\n"
     ]
    }
   ],
   "source": [
    "export_work['job_role_encode_knn'] = kmeanModel.labels_"
   ]
  },
  {
   "cell_type": "code",
   "execution_count": 42,
   "metadata": {},
   "outputs": [
    {
     "name": "stdout",
     "output_type": "stream",
     "text": [
      "<class 'pandas.core.frame.DataFrame'>\n",
      "Int64Index: 409842 entries, 0 to 162282\n",
      "Data columns (total 18 columns):\n",
      " #   Column                Non-Null Count   Dtype   \n",
      "---  ------                --------------   -----   \n",
      " 0   id                    409842 non-null  int64   \n",
      " 1   id_bh                 409842 non-null  int64   \n",
      " 2   new_work_province_id  409842 non-null  object  \n",
      " 3   employee_lv           409842 non-null  float64 \n",
      " 4   from_date             409842 non-null  int64   \n",
      " 5   to_date               409842 non-null  int64   \n",
      " 6   year_from_date        409842 non-null  int64   \n",
      " 7   year_to_date          409842 non-null  int64   \n",
      " 8   month_from_date       409842 non-null  int64   \n",
      " 9   month_to_date         409842 non-null  int64   \n",
      " 10  num_year_contract     409842 non-null  int64   \n",
      " 11  num_month_contract    409842 non-null  int64   \n",
      " 12  job/role              354300 non-null  object  \n",
      " 13  company_type          409842 non-null  category\n",
      " 14  id_management         409842 non-null  int64   \n",
      " 15  id_office             389691 non-null  object  \n",
      " 16  job_role_fillNan      409842 non-null  object  \n",
      " 17  job_role_encode_knn   409842 non-null  int32   \n",
      "dtypes: category(1), float64(1), int32(1), int64(11), object(4)\n",
      "memory usage: 55.1+ MB\n"
     ]
    }
   ],
   "source": [
    "export_work.info()"
   ]
  },
  {
   "cell_type": "code",
   "execution_count": 46,
   "metadata": {},
   "outputs": [],
   "source": [
    "train_export_work = export_work[:len(train_work)]\n",
    "test_export_work = export_work[len(train_work):]"
   ]
  },
  {
   "cell_type": "code",
   "execution_count": 48,
   "metadata": {},
   "outputs": [
    {
     "name": "stderr",
     "output_type": "stream",
     "text": [
      "C:\\Users\\Toan\\anaconda3\\envs\\ml_com\\lib\\site-packages\\pandas\\core\\frame.py:3678: SettingWithCopyWarning: \n",
      "A value is trying to be set on a copy of a slice from a DataFrame.\n",
      "Try using .loc[row_indexer,col_indexer] = value instead\n",
      "\n",
      "See the caveats in the documentation: https://pandas.pydata.org/pandas-docs/stable/user_guide/indexing.html#returning-a-view-versus-a-copy\n",
      "  self[col] = igetitem(value, i)\n",
      "C:\\Users\\Toan\\anaconda3\\envs\\ml_com\\lib\\site-packages\\pandas\\core\\frame.py:3678: SettingWithCopyWarning: \n",
      "A value is trying to be set on a copy of a slice from a DataFrame.\n",
      "Try using .loc[row_indexer,col_indexer] = value instead\n",
      "\n",
      "See the caveats in the documentation: https://pandas.pydata.org/pandas-docs/stable/user_guide/indexing.html#returning-a-view-versus-a-copy\n",
      "  self[col] = igetitem(value, i)\n"
     ]
    }
   ],
   "source": [
    "##  encoder cho : id_office , id_management     --> sau do Fill nan -999  \n",
    "from sklearn.preprocessing import  OrdinalEncoder   \n",
    "cols = ['id_office']\n",
    "encoder = OrdinalEncoder(handle_unknown='use_encoded_value', unknown_value=-999)\n",
    "train_export_work[cols] = encoder.fit_transform(train_export_work[cols].to_numpy().reshape(-1, 1))\n",
    "test_export_work[cols] = encoder.transform(test_export_work[cols].to_numpy().reshape(-1, 1))  "
   ]
  },
  {
   "cell_type": "code",
   "execution_count": 49,
   "metadata": {},
   "outputs": [
    {
     "name": "stderr",
     "output_type": "stream",
     "text": [
      "C:\\Users\\Toan\\anaconda3\\envs\\ml_com\\lib\\site-packages\\pandas\\core\\frame.py:3678: SettingWithCopyWarning: \n",
      "A value is trying to be set on a copy of a slice from a DataFrame.\n",
      "Try using .loc[row_indexer,col_indexer] = value instead\n",
      "\n",
      "See the caveats in the documentation: https://pandas.pydata.org/pandas-docs/stable/user_guide/indexing.html#returning-a-view-versus-a-copy\n",
      "  self[col] = igetitem(value, i)\n",
      "C:\\Users\\Toan\\anaconda3\\envs\\ml_com\\lib\\site-packages\\pandas\\core\\frame.py:3678: SettingWithCopyWarning: \n",
      "A value is trying to be set on a copy of a slice from a DataFrame.\n",
      "Try using .loc[row_indexer,col_indexer] = value instead\n",
      "\n",
      "See the caveats in the documentation: https://pandas.pydata.org/pandas-docs/stable/user_guide/indexing.html#returning-a-view-versus-a-copy\n",
      "  self[col] = igetitem(value, i)\n"
     ]
    }
   ],
   "source": [
    "cols = ['id_management']\n",
    "encoder = OrdinalEncoder(handle_unknown='use_encoded_value', unknown_value=-999)\n",
    "train_export_work[cols] = encoder.fit_transform(train_export_work[cols].to_numpy().reshape(-1, 1))\n",
    "test_export_work[cols] = encoder.transform(test_export_work[cols].to_numpy().reshape(-1, 1))  "
   ]
  },
  {
   "cell_type": "code",
   "execution_count": 52,
   "metadata": {},
   "outputs": [
    {
     "name": "stderr",
     "output_type": "stream",
     "text": [
      "C:\\Users\\Toan\\AppData\\Local\\Temp/ipykernel_19764/27997092.py:2: SettingWithCopyWarning: \n",
      "A value is trying to be set on a copy of a slice from a DataFrame.\n",
      "Try using .loc[row_indexer,col_indexer] = value instead\n",
      "\n",
      "See the caveats in the documentation: https://pandas.pydata.org/pandas-docs/stable/user_guide/indexing.html#returning-a-view-versus-a-copy\n",
      "  train_export_work['id_office'] = train_export_work['id_office'].fillna(-999)\n",
      "C:\\Users\\Toan\\AppData\\Local\\Temp/ipykernel_19764/27997092.py:3: SettingWithCopyWarning: \n",
      "A value is trying to be set on a copy of a slice from a DataFrame.\n",
      "Try using .loc[row_indexer,col_indexer] = value instead\n",
      "\n",
      "See the caveats in the documentation: https://pandas.pydata.org/pandas-docs/stable/user_guide/indexing.html#returning-a-view-versus-a-copy\n",
      "  test_export_work['id_office'] = test_export_work['id_office'].fillna(-999)\n"
     ]
    }
   ],
   "source": [
    "## fill nan -999 id_office             \n",
    "train_export_work['id_office'] = train_export_work['id_office'].fillna(-999)\n",
    "test_export_work['id_office'] = test_export_work['id_office'].fillna(-999)"
   ]
  },
  {
   "cell_type": "code",
   "execution_count": 54,
   "metadata": {},
   "outputs": [
    {
     "name": "stdout",
     "output_type": "stream",
     "text": [
      "<class 'pandas.core.frame.DataFrame'>\n",
      "Int64Index: 162283 entries, 0 to 162282\n",
      "Data columns (total 18 columns):\n",
      " #   Column                Non-Null Count   Dtype   \n",
      "---  ------                --------------   -----   \n",
      " 0   id                    162283 non-null  int64   \n",
      " 1   id_bh                 162283 non-null  int64   \n",
      " 2   new_work_province_id  162283 non-null  object  \n",
      " 3   employee_lv           162283 non-null  float64 \n",
      " 4   from_date             162283 non-null  int64   \n",
      " 5   to_date               162283 non-null  int64   \n",
      " 6   year_from_date        162283 non-null  int64   \n",
      " 7   year_to_date          162283 non-null  int64   \n",
      " 8   month_from_date       162283 non-null  int64   \n",
      " 9   month_to_date         162283 non-null  int64   \n",
      " 10  num_year_contract     162283 non-null  int64   \n",
      " 11  num_month_contract    162283 non-null  int64   \n",
      " 12  job/role              140198 non-null  object  \n",
      " 13  company_type          162283 non-null  category\n",
      " 14  id_management         162283 non-null  float64 \n",
      " 15  id_office             162283 non-null  float64 \n",
      " 16  job_role_fillNan      162283 non-null  object  \n",
      " 17  job_role_encode_knn   162283 non-null  int32   \n",
      "dtypes: category(1), float64(3), int32(1), int64(10), object(3)\n",
      "memory usage: 21.8+ MB\n"
     ]
    }
   ],
   "source": [
    "test_export_work.info()"
   ]
  },
  {
   "cell_type": "code",
   "execution_count": 55,
   "metadata": {},
   "outputs": [],
   "source": [
    "train_export_work.to_csv(r\"data/processed_data/train_work.csv\")\n",
    "test_export_work.to_csv(r\"data/processed_data/test_work.csv\")"
   ]
  }
 ],
 "metadata": {
  "interpreter": {
   "hash": "98695b7a08c9cf565d1db0672d8357aa94ece3889704c89d84fdcde5b877d054"
  },
  "kernelspec": {
   "display_name": "Python 3.8.12 ('ml_com')",
   "language": "python",
   "name": "python3"
  },
  "language_info": {
   "codemirror_mode": {
    "name": "ipython",
    "version": 3
   },
   "file_extension": ".py",
   "mimetype": "text/x-python",
   "name": "python",
   "nbconvert_exporter": "python",
   "pygments_lexer": "ipython3",
   "version": "3.8.12"
  },
  "orig_nbformat": 4
 },
 "nbformat": 4,
 "nbformat_minor": 2
}
