{
  "cells": [
    {
      "cell_type": "markdown",
      "metadata": {
        "id": "5U-OT62WBhaQ"
      },
      "source": [
        "## 0. Import lib and param"
      ]
    },
    {
      "cell_type": "code",
      "execution_count": 1,
      "metadata": {
        "id": "vBswd3rmBVVr"
      },
      "outputs": [],
      "source": [
        "import pandas as pd\n",
        "import numpy as np\n",
        "import matplotlib.pyplot as plt\n",
        "import seaborn as sns"
      ]
    },
    {
      "cell_type": "code",
      "execution_count": 2,
      "metadata": {
        "colab": {
          "base_uri": "https://localhost:8080/"
        },
        "id": "HGR_4whuHER2",
        "outputId": "880da98a-7c81-4316-9b90-9ed81e67a293"
      },
      "outputs": [
        {
          "name": "stdout",
          "output_type": "stream",
          "text": [
            "numpy 1.21.4\n",
            "pandas 1.3.4\n",
            "sklearn 1.0.1\n",
            "scipy 1.7.2\n"
          ]
        }
      ],
      "source": [
        "import sklearn\n",
        "import scipy.sparse \n",
        "\n",
        "for p in [np, pd, sklearn, scipy]:\n",
        "    print (p.__name__, p.__version__)"
      ]
    },
    {
      "cell_type": "code",
      "execution_count": 3,
      "metadata": {
        "id": "1OvGOLypBVVu"
      },
      "outputs": [],
      "source": [
        "##load dataset\n",
        "file = \"data/processed_data\"\n",
        "\n",
        "train_info_path = file + \"/train_info.csv\"\n",
        "train_work_path = file + \"/train_work.csv\"\n",
        "train_label_path = \"data/label_train.csv\"\n",
        "\n",
        "test_info_path = file + \"/test_info.csv\"\n",
        "test_work_path = file + \"/test_work.csv\"\n",
        "test_label_path =  \"data/label_test.csv\"\n",
        "\n",
        "\n",
        "## data frame\n",
        "train_info = pd.read_csv(train_info_path)\n",
        "train_work = pd.read_csv(train_work_path)\n",
        "train_label = pd.read_csv(train_label_path)\n",
        "\n",
        "test_info = pd.read_csv(test_info_path)\n",
        "test_work = pd.read_csv(test_work_path)\n",
        "test_label = pd.read_csv(test_label_path)"
      ]
    },
    {
      "cell_type": "code",
      "execution_count": 4,
      "metadata": {
        "colab": {
          "base_uri": "https://localhost:8080/"
        },
        "id": "Rsj8pYRQBVVv",
        "outputId": "f866f48a-280a-4ecd-e7c1-fdae30cf18dd"
      },
      "outputs": [
        {
          "data": {
            "text/plain": [
              "((27502, 5), (247559, 19), (27502, 2))"
            ]
          },
          "execution_count": 4,
          "metadata": {},
          "output_type": "execute_result"
        }
      ],
      "source": [
        "train_info.shape, train_work.shape, train_label.shape"
      ]
    },
    {
      "cell_type": "code",
      "execution_count": 5,
      "metadata": {
        "id": "pE7Wj2TGBVVw"
      },
      "outputs": [],
      "source": [
        "# info: id_bh,\tbithYear,\tgender,\tnew_province_id\n",
        "# label: id_bd, label\n",
        "# work: main:id_bh , new_work_province_id ,  employee_lv , \n",
        "## year_from_date , year_to_date ,  month_from_date, month_to_date \n",
        "## num_year_contract, num_month_contract   \n",
        "## company_type,   id_management ,id_office ,  job_role_encode_knn                                                                                       \n",
        "\n",
        "## cach xu ly:\n",
        "## 1. group by thep id_bh o work \n",
        "## 2. merge voi info va label"
      ]
    },
    {
      "cell_type": "markdown",
      "metadata": {
        "id": "wsNgvM6iDJf2"
      },
      "source": [
        "## 1. Segment text - job/role filled None (in train_work)"
      ]
    },
    {
      "cell_type": "code",
      "execution_count": 6,
      "metadata": {
        "colab": {
          "base_uri": "https://localhost:8080/"
        },
        "id": "u64PBNV8ZyiS",
        "outputId": "074bc2bc-6882-4efa-c4cf-e1951a51eb7e"
      },
      "outputs": [
        {
          "data": {
            "text/plain": [
              "((247559, 19), (162283, 19))"
            ]
          },
          "execution_count": 6,
          "metadata": {},
          "output_type": "execute_result"
        }
      ],
      "source": [
        "train_work.shape, test_work.shape"
      ]
    },
    {
      "cell_type": "code",
      "execution_count": 7,
      "metadata": {
        "colab": {
          "base_uri": "https://localhost:8080/"
        },
        "id": "GOxdHgEUZp33",
        "outputId": "dec9f570-b7a4-4525-f812-cf1f18a43466"
      },
      "outputs": [
        {
          "data": {
            "text/plain": [
              "((247559, 19), (162283, 19))"
            ]
          },
          "execution_count": 7,
          "metadata": {},
          "output_type": "execute_result"
        }
      ],
      "source": [
        "train_work = pd.read_csv(\"data/processed_data/segment_train_work.csv\")\n",
        "test_work = pd.read_csv(\"data/processed_data/segment_test_work.csv\")\n",
        "train_work.shape, test_work.shape"
      ]
    },
    {
      "cell_type": "markdown",
      "metadata": {
        "id": "ly5VQtx6Endu"
      },
      "source": [
        "## 2. Extract text features (phoBERT)"
      ]
    },
    {
      "cell_type": "markdown",
      "metadata": {
        "id": "Xk8sI7SCEyXO"
      },
      "source": [
        "## 3. Extract text features (TFIDF)"
      ]
    },
    {
      "cell_type": "code",
      "execution_count": 8,
      "metadata": {
        "id": "gfBDONJCEwjj"
      },
      "outputs": [],
      "source": [
        "from sklearn.feature_extraction.text import TfidfVectorizer\n",
        "from sklearn.pipeline import Pipeline\n",
        "from sklearn.decomposition import TruncatedSVD\n",
        "\n",
        "vectorizer = TfidfVectorizer(\n",
        "    ngram_range = (1,2),\n",
        "        min_df=5, \n",
        "    max_df= 0.8, \n",
        "    max_features=1000,\n",
        "    sublinear_tf=True\n",
        ")\n",
        "## TF-IDF + SVD\n",
        "clf = Pipeline([\n",
        "                ('tfidf', vectorizer ),\n",
        "                ('svd', TruncatedSVD(n_components = 128, random_state=42)),\n",
        "                ])\n",
        "job_role_train = train_work['job_role_fillNan'].values\n",
        "job_role_test = test_work['job_role_fillNan'].values\n",
        "# clf.fit_transform(job_role_train)"
      ]
    },
    {
      "cell_type": "code",
      "execution_count": 9,
      "metadata": {
        "id": "j91vL51gVGGh"
      },
      "outputs": [],
      "source": [
        "# train_job_role_tfidf = clf.transform(job_role_train)\n",
        "# test_job_role_tfidf = clf.transform(job_role_test)"
      ]
    },
    {
      "cell_type": "markdown",
      "metadata": {
        "id": "5Chh2TNKdOdh"
      },
      "source": [
        "- Group by thanh list => chuyen thanh text khong => tf-idf"
      ]
    },
    {
      "cell_type": "markdown",
      "metadata": {
        "id": "Mq09A5hxBVVx"
      },
      "source": [
        "## 4. Tao DF de co the train, test"
      ]
    },
    {
      "cell_type": "code",
      "execution_count": 10,
      "metadata": {
        "id": "li4GNxanBVVz"
      },
      "outputs": [],
      "source": [
        "def concat_data(df, df_add, col='id_bh', how='left'):\n",
        "    df = pd.merge(df, df_add, on=col, how=how)\n",
        "    return df"
      ]
    },
    {
      "cell_type": "code",
      "execution_count": 11,
      "metadata": {
        "id": "VVbQy12gBVVz"
      },
      "outputs": [],
      "source": [
        "use_cosl_train  = [\"id_bh\" , \"new_work_province_id\" ,  \"employee_lv\" , \n",
        "\"year_from_date\" , \"year_to_date\" ,  \"month_from_date\", \"month_to_date\" ,\n",
        "\"num_year_contract\", \"num_month_contract\"   , \n",
        "# \"job_n_word\",\n",
        "\"company_type\",   \"id_management\" ,\"id_office\" ,  \"job_role_encode_knn\", 'job_role_fillNan',\n",
        "\"bithYear\", \"gender\", \"new_province_id\", \"label\"  ] \n",
        "# train\n",
        "group_train_work = train_work.groupby('id_bh').agg(lambda x: x.tolist())\n",
        "train = concat_data(group_train_work, train_info, col='id_bh', how='left')\n",
        "train = concat_data(train, train_label, col='id_bh', how='left')\n",
        "train = train[use_cosl_train]\n",
        "# test\n",
        "group_test_work = test_work.groupby('id_bh').agg(lambda x: x.tolist())\n",
        "test = concat_data(group_test_work, test_info, col='id_bh', how='left')\n",
        "test = test[use_cosl_train[:-1]]"
      ]
    },
    {
      "cell_type": "code",
      "execution_count": 12,
      "metadata": {
        "id": "HvLYR9mfdAjs"
      },
      "outputs": [],
      "source": [
        "def  list2str(list):\n",
        "  str =\"\"\n",
        "  for i in list:\n",
        "    str += (i +\" \")\n",
        "  return str\n",
        "train['job_role_fillNan_sentence'] = train.apply(lambda row: list2str(row.job_role_fillNan), axis = 1 )\n",
        "test['job_role_fillNan_sentence'] = test.apply(lambda row: list2str(row.job_role_fillNan), axis = 1 )\n",
        "\n"
      ]
    },
    {
      "cell_type": "code",
      "execution_count": 13,
      "metadata": {
        "id": "36NJTns5efhZ"
      },
      "outputs": [],
      "source": [
        "clf.fit(train['job_role_fillNan_sentence'].values)\n",
        "train['job_role_TFIDF'] = list(clf.transform(train['job_role_fillNan_sentence'].values))\n",
        "test['job_role_TFIDF'] = list(clf.transform(test['job_role_fillNan_sentence'].values))\n"
      ]
    },
    {
      "cell_type": "code",
      "execution_count": 14,
      "metadata": {
        "colab": {
          "base_uri": "https://localhost:8080/"
        },
        "id": "4soPo4i8iORN",
        "outputId": "4ddb4014-a52b-4204-a740-cb29542362fb"
      },
      "outputs": [
        {
          "name": "stderr",
          "output_type": "stream",
          "text": [
            "C:\\Users\\Toan\\AppData\\Local\\Temp/ipykernel_1020/1102472247.py:3: PerformanceWarning: DataFrame is highly fragmented.  This is usually the result of calling `frame.insert` many times, which has poor performance.  Consider joining all columns at once using pd.concat(axis=1) instead.  To get a de-fragmented frame, use `newframe = frame.copy()`\n",
            "  train['job_role_TFIDF_' + str(i)] = train['job_role_TFIDF'].apply(lambda x: float(x[i]))\n",
            "C:\\Users\\Toan\\AppData\\Local\\Temp/ipykernel_1020/1102472247.py:4: PerformanceWarning: DataFrame is highly fragmented.  This is usually the result of calling `frame.insert` many times, which has poor performance.  Consider joining all columns at once using pd.concat(axis=1) instead.  To get a de-fragmented frame, use `newframe = frame.copy()`\n",
            "  test['job_role_TFIDF_' + str(i)] = test['job_role_TFIDF'].apply(lambda x: float(x[i]))\n"
          ]
        }
      ],
      "source": [
        "## create col form numpy arr in jobrole tfidf\n",
        "for i in range(128):\n",
        "  train['job_role_TFIDF_' + str(i)] = train['job_role_TFIDF'].apply(lambda x: float(x[i]))\n",
        "  test['job_role_TFIDF_' + str(i)] = test['job_role_TFIDF'].apply(lambda x: float(x[i]))"
      ]
    },
    {
      "cell_type": "code",
      "execution_count": 15,
      "metadata": {
        "id": "yRSpvP7sBVV0"
      },
      "outputs": [],
      "source": [
        "## export \n",
        "# train.to_csv(r\"data/processed_data/train_df_addTFIDFjob.csv\")\n",
        "# test.to_csv(r\"data/processed_data/test_df_addTFIDFjob.csv\")"
      ]
    },
    {
      "cell_type": "markdown",
      "metadata": {
        "id": "qviO_Na9S_VF"
      },
      "source": [
        "## load lai train, test"
      ]
    },
    {
      "cell_type": "code",
      "execution_count": 16,
      "metadata": {
        "id": "n0atTiaES92j"
      },
      "outputs": [],
      "source": [
        "# ## reload train, test\n",
        "# train = pd.read_csv('data/processed_data/train_df_addTFIDFjob.csv')\n",
        "# test = pd.read_csv('data/processed_data/test_df_addTFIDFjob.csv')"
      ]
    },
    {
      "cell_type": "code",
      "execution_count": 17,
      "metadata": {
        "colab": {
          "base_uri": "https://localhost:8080/"
        },
        "id": "hE4tUTblBVV1",
        "outputId": "9bd87bb1-950e-468e-8488-320e9ae046a7"
      },
      "outputs": [
        {
          "data": {
            "text/plain": [
              "((27502, 148), (18134, 147))"
            ]
          },
          "execution_count": 17,
          "metadata": {},
          "output_type": "execute_result"
        }
      ],
      "source": [
        "train.shape, test.shape"
      ]
    },
    {
      "cell_type": "code",
      "execution_count": 18,
      "metadata": {
        "colab": {
          "base_uri": "https://localhost:8080/"
        },
        "id": "hcyb7s9FdadN",
        "outputId": "85e541a9-9941-446e-c855-267143bb76bc"
      },
      "outputs": [
        {
          "data": {
            "text/plain": [
              "Index(['new_work_province_id', 'employee_lv', 'year_from_date', 'year_to_date',\n",
              "       'month_from_date', 'month_to_date', 'num_year_contract',\n",
              "       'num_month_contract', 'company_type', 'id_management', 'id_office',\n",
              "       'job_role_encode_knn', 'job_role_fillNan', 'job_role_fillNan_sentence',\n",
              "       'job_role_TFIDF'],\n",
              "      dtype='object')"
            ]
          },
          "execution_count": 18,
          "metadata": {},
          "output_type": "execute_result"
        }
      ],
      "source": [
        "train.select_dtypes(exclude=[np.number]).columns"
      ]
    },
    {
      "cell_type": "markdown",
      "metadata": {
        "id": "CFpCr9EQjjMt"
      },
      "source": [
        "- **NOTE: con feature job_role_TFIDF: khi group by co the dung lay mean**"
      ]
    },
    {
      "cell_type": "markdown",
      "metadata": {
        "id": "BoSFLu2gBVV2"
      },
      "source": [
        "## 5. Feature engineering"
      ]
    },
    {
      "cell_type": "code",
      "execution_count": 19,
      "metadata": {
        "id": "q0jHBbqzBVV2"
      },
      "outputs": [],
      "source": [
        "# 2. Feature engineering\n",
        "## category list: company_type,\tid_management,\tid_office,\tjob_role_encode_knn ==> max frequent, last, count unique\n",
        "### new_work_province_id: max frequnt, last , count unique\n",
        "\n",
        "### new_work_province_id, id_office, company_type, id_management\n",
        "\n",
        "\n",
        "## number:\n",
        "### employee_lv bo gia tri -1: max, min (bo -1), mode(bo -1), std, mean, gia tri (max-min), count unique\n",
        "### year_from_date: max, min, std, mode, mean, count unique\n",
        "### year_to_date: max, min, std, mode, mean, count unique\n",
        "### month_from_date, month_to_date:  max, min, std, mode, mean\n",
        "### num_year_contract: max, min, mode, mean, std, q(75), q(25), count unique\n",
        "### num_month_contract: max, min, mode, mean, std, q(75), q(25), count unique\n",
        "## create new fea:\n",
        "\n"
      ]
    },
    {
      "cell_type": "code",
      "execution_count": 20,
      "metadata": {
        "colab": {
          "base_uri": "https://localhost:8080/"
        },
        "id": "KAA32gkAWxTd",
        "outputId": "15d19e46-1b37-4953-c6d6-b6358a09ce69"
      },
      "outputs": [
        {
          "name": "stdout",
          "output_type": "stream",
          "text": [
            "mean :  0.10379776654016885\n",
            "var  :  1.160246445012187\n",
            "skew :  -0.15389336944287954\n",
            "kurt :  0.0769915069507845\n"
          ]
        }
      ],
      "source": [
        "from scipy.stats import skew, kurtosis\n",
        "data = np.random.normal(0, 1, 100)\n",
        "\n",
        "print(\"mean : \", np.mean(data))\n",
        "print(\"var  : \", np.var(data))\n",
        "print(\"skew : \",skew(data))\n",
        "print(\"kurt : \",kurtosis(data))"
      ]
    },
    {
      "cell_type": "code",
      "execution_count": 21,
      "metadata": {
        "id": "kaHzCF46lL5k"
      },
      "outputs": [],
      "source": [
        "from scipy.stats import skew, kurtosis\n",
        "def most_frequent(List):\n",
        "    return max(set(List), key = List.count)\n",
        "def mean_out_nan(list):\n",
        "    if (-1 in list):\n",
        "        list.remove(-1)\n",
        "        return sum(list) / float(len(list))\n",
        "    return sum(list) / float(len(list))\n",
        "def bining_olds(x):\n",
        "    if (x < 0):\n",
        "        return -999\n",
        "    elif(0< x < 20 ):\n",
        "        return 0\n",
        "    elif( 20<= x < 30 ):\n",
        "        return 1\n",
        "    elif (30<= x < 40):\n",
        "        return 2\n",
        "    elif (40<= x < 50):\n",
        "        return 3\n",
        "    elif (50<= x < 60):\n",
        "        return 4\n",
        "    return 5\n",
        "\n",
        "List = [2, 1, 2, 1, 3, - 1]\n",
        "# print(count_num_jobs_outNan( List))"
      ]
    },
    {
      "cell_type": "code",
      "execution_count": 133,
      "metadata": {
        "id": "pgZyZzzEBVV3"
      },
      "outputs": [],
      "source": [
        "import statistics\n",
        "from statistics import mode\n",
        "category_cols = [\n",
        "    \"company_type\",\t\"id_management\",\t\"id_office\",\t\"job_role_encode_knn\" ,\"new_work_province_id\"\n",
        "]\n",
        "numeric_cols = [\n",
        "        \"employee_lv\" , \n",
        "        \"year_from_date\",\n",
        "        \"year_to_date\",\n",
        "        \"month_from_date\",\n",
        "         \"month_to_date\",\n",
        "        \"num_year_contract\",\n",
        "        \"num_month_contract\",\n",
        "        # \"job_n_word\"\n",
        "]\n",
        "## utils func for category var\n",
        "def max_frequent(list):\n",
        "    if (len(list) == 0):\n",
        "        return -999\n",
        "    return(most_frequent(list))\n",
        "def max_frequent_without_filled_var(list):\n",
        "    if( -999 in list):\n",
        "        list.remove(-999)\n",
        "    if(-1 in list):\n",
        "        list.remove(-1)\n",
        "    if(-1.0 in list):\n",
        "        list.remove(-1.0)\n",
        "    a_set = set(list)\n",
        "    if ((len(list) == 0) or (len(a_set) == len(list)) ):\n",
        "        return -999\n",
        "    return(most_frequent(list))\n",
        "def last_value(list):\n",
        "    if (len(list) == 0):\n",
        "        return -999\n",
        "    return list[-1]\n",
        "def count_unique(list):\n",
        "    return len(set(list))\n",
        "def count_unique_without_filled_var(list):\n",
        "    if( -999 in list):\n",
        "        list.remove(-999)\n",
        "    if(-1 in list):\n",
        "        list.remove(-1)\n",
        "    return len(set(list))\n",
        "\n",
        "## utils fun for numeric features: max, min, mode, mean, std, q(75), q(25), count unique\n",
        "def percentile_25(x):\n",
        "    return x.quantile(.25)\n",
        "def percentile_75(x):\n",
        "    return x.quantile(.75)  \n",
        "def min_without_filled_var(list):\n",
        "    if(-1 in list):\n",
        "        list.remove(-1)\n",
        "        if (len(list) == 0):\n",
        "            return -1\n",
        "        else: \n",
        "            return min(list)\n",
        "    return min(list)\n",
        "def std(list):\n",
        "    if (len(list) < 2):\n",
        "            return -999\n",
        "    if(-1 in list):\n",
        "        list.remove(-1)\n",
        "        if (len(list) < 2):\n",
        "            return -999\n",
        "        else: \n",
        "            return statistics.stdev(list)\n",
        "    return statistics.stdev(list)\n",
        "def mean_out_nan(list):\n",
        "    if (-1 in list):\n",
        "        list.remove(-1)\n",
        "        return sum(list) / float(len(list))\n",
        "\n",
        "    return (sum(list) / float(len(list)))\n",
        "def count_num_jobs_outNan(list):\n",
        "    if (-1 in list):\n",
        "        list.remove(-1)\n",
        "        return len(list)\n",
        "    return len(list)\n",
        "######################\n",
        "def features_engineering(df):\n",
        "    ## categorical cols\n",
        "    for col in category_cols:\n",
        "        df['category_max_fre_' + col] = df[col].apply(lambda x: max_frequent(x) ) ## category\n",
        "        df['category_max_fre_out_filled_var_' + col] = df[col].apply(lambda x: max_frequent_without_filled_var(x) ) ## category\n",
        "        df['category_last_value_' + col] = df[col].apply(lambda x: last_value(x) ) ## category\n",
        "        df['numeric_count_unique_' + col] = df[col].apply(lambda x: count_unique(x) ) ## numeric\n",
        "        df['numeric_count_unique_without_filled_var' + col] = df[col].apply(lambda x: count_unique_without_filled_var(x) ) ## numeric\n",
        "    ## count features support cate cols:\n",
        "\n",
        "\n",
        "    ## numeric cols:\n",
        "    for col in numeric_cols:\n",
        "        ## chi co employee_lv la co fill nan\n",
        "        if (col == 'employee_lv'):\n",
        "            df['numeric_max_lv_' + 'of_'+ col] = df[col].apply(lambda x: max(x) )\n",
        "            df['numeric_min_lv_' + 'of_'+ col] = df[col].apply(lambda x: min_without_filled_var(x) )\n",
        "            df['numeric_mode_' + 'of_'+ col] = df[col].apply(lambda x: max_frequent(x) ) \n",
        "            df['numeric_mode_out_filled_var_' + 'of_'+ col] = df[col].apply(lambda x: max_frequent_without_filled_var(x) ) \n",
        "            df['numeric_mean_' + 'of_'+ col] = df[col].apply(lambda x: sum(x) / float(len(x)) ) \n",
        "            df['numeric_mean_out_nan_' + 'of_'+ col] = df[col].apply(lambda x:  mean_out_nan(x))\n",
        "            df['numeric_std_' + 'of_'+ col] = df[col].apply(lambda x: std(x) )\n",
        "            df['numeric_count_unique_' + 'of_'+ col]  = df[col].apply(lambda x: count_unique(x) ) ## numeric\n",
        "            df['numeric_count_unique_out_fillNan_' + 'of_'+ col]  = df[col].apply(lambda x: count_unique_without_filled_var(x) ) ## numeric\n",
        "            df['numeric_Q25_' + 'of_'+ col ] = df[col].apply(lambda x: np.quantile(x, .25) )\n",
        "            df['numeric_Q75_' + 'of_'+ col ] = df[col].apply(lambda x: np.quantile(x, .75) )\n",
        "\n",
        "            df['numeric_skew_' + 'of_'+ col ] = df[col].apply(lambda x: skew(x) )\n",
        "            df['numeric_kurtosis_' + 'of_'+ col ] = df[col].apply(lambda x: kurtosis(x) )\n",
        "        else:\n",
        "            df['numeric_max_' + 'of_'+ col] = df[col].apply(lambda x: max(x) )\n",
        "            df['numeric_min_' + 'of_'+ col] = df[col].apply(lambda x: min_without_filled_var(x) )\n",
        "            df['numeric_mode_' + 'of_'+ col] = df[col].apply(lambda x: max_frequent(x) )  \n",
        "            df['numeric_mean_' + 'of_'+ col] = df[col].apply(lambda x: sum(x) / float(len(x)) ) \n",
        "            df['numeric_std_' + 'of_'+ col] = df[col].apply(lambda x: std(x) )\n",
        "            df['numeric_count_unique_' + 'of_'+ col]  = df[col].apply(lambda x: count_unique(x) ) ## numeric\n",
        "            df['numeric_Q25_' + 'of_'+ col ] = df[col].apply(lambda x: np.quantile(x, .25) )\n",
        "            df['numeric_Q75_' + 'of_'+ col ] = df[col].apply(lambda x: np.quantile(x, .75) )\n",
        "            df['numeric_skew_' + 'of_'+ col ] = df[col].apply(lambda x: skew(x) )\n",
        "            df['numeric_kurtosis_' + 'of_'+ col ] = df[col].apply(lambda x: kurtosis(x) )\n",
        "            \n",
        "    ## create_new_fea between 2 features:(year_from_date, year_to_date) with bithYear\n",
        "    df['numeric_year_diff_max_year_from_vs_bithYear'] = df['numeric_max_of_year_from_date'] - df['bithYear']\n",
        "    df['numeric_year_diff_min_year_from_vs_bithYear'] = df['numeric_min_of_year_from_date'] - df['bithYear']\n",
        "    df['numeric_year_diff_max_year_to_vs_bithYear'] = df['numeric_max_of_year_to_date'] - df['bithYear']\n",
        "    df['numeric_year_diff_min_year_to_vs_bithYear'] = df['numeric_min_of_year_to_date'] - df['bithYear']\n",
        "\n",
        "    ## old:\n",
        "    df['numeric_olds'] = 2022 - df['bithYear']\n",
        "    ## ratio: num_old vs diff_min_year_from_vs_bithYear\n",
        "    df['numeric_ratio_olds_vs_(diff_min_year_from_vs_bithYear)'] = df['numeric_olds'] / df['numeric_year_diff_min_year_from_vs_bithYear']\n",
        "    df['numeric_ratio_olds_vs_(diff_min_year_from_vs_bithYear)'] = df['numeric_ratio_olds_vs_(diff_min_year_from_vs_bithYear)'].apply(lambda x: x if(x> 0) else -999)\n",
        "\n",
        "    ## dem so lan xuat hien trong bang: \n",
        "    df['numeric_count_job'] = df['employee_lv'].apply(lambda x: len(x))\n",
        "    df['numeric_count_job_withoutNan'] = df['employee_lv'].apply(lambda x: count_num_jobs_outNan(x))\n",
        "\n",
        "    ## fix value in create_new_fea cols\n",
        "    new_cols = [col for col in df.columns if 'numeric_year_diff_' in col]\n",
        "    for col in new_cols:\n",
        "        df[col] = df[col].apply(lambda x: x if(x> 0) else -999)\n",
        "\n",
        "\n",
        "    # new_category_cols.append('new_province_id')\n",
        "      #### phase 2:\n",
        "      #### category_last_value_ se lay lam dai hien cho category list: =>>  \"category_last_value_company_type\",\t\n",
        "      ####  \"category_last_value_id_management\",\t\"category_last_value_id_office\",\t\"category_last_value_job_role_encode_knn\" ,\"category_last_value_new_work_province_id\"\n",
        "  \n",
        "    for col in [\n",
        "                'numeric_mean_of_num_month_contract' ,\n",
        "                'numeric_count_job',\n",
        "                'numeric_count_job_withoutNan',\n",
        "                'numeric_mean_out_nan_of_employee_lv', \n",
        "                 'numeric_mean_of_employee_lv', \n",
        "                'numeric_olds'\n",
        "    ]:  \n",
        "      ### wordAdd - companyType\n",
        "      temp =  df.groupby(['category_last_value_new_work_province_id', \n",
        "                          'category_last_value_company_type'])[col].agg(['min', 'max', 'mean', 'median','var', percentile_25, percentile_75 ]).rename(\n",
        "                          {\n",
        "                              'min': 'agg_'+ col +'_'+ 'workAddress_companyTye' +'_min',\n",
        "                              'max': 'agg_'+ col + '_'+ 'workAddress_companyTye' +'_max',\n",
        "                              'mean': 'agg_'+ col + '_'+ 'workAddress_companyTye' +'_mean',\n",
        "                              'median': 'agg_'+ col + '_'+ 'workAddress_companyTye' +'_median',\n",
        "                              'var': 'agg_'+ col + '_'+ 'workAddress_companyTye' + '_var',\n",
        "                              'percentile_25': 'agg_'+ col + '_'+ 'workAddress_companyTye' + '_P25',\n",
        "                              'percentile_75' : 'agg_'+ col + '_'+ 'workAddress_companyTye' + '_P75',\n",
        "                          }, axis = 1\n",
        "                      )\n",
        "      df = pd.merge(df,temp,on= ['category_last_value_new_work_province_id',\n",
        "                          'category_last_value_company_type'] ,how='left')\n",
        "      del temp\n",
        "      ## companyType - id_management\n",
        "      temp =  df.groupby(['category_last_value_company_type',\n",
        "                          'category_last_value_id_management'])[col].agg(['min', 'max', 'mean', 'median','var', percentile_25, percentile_75 ]).rename(\n",
        "                          {\n",
        "                              'min': 'agg_'+ col +'_'+ 'companyTye_idManagement' +'_min',\n",
        "                              'max': 'agg_'+ col + '_'+ 'companyTye_idManagement' +'_max',\n",
        "                              'mean': 'agg_'+ col + '_'+ 'companyTye_idManagement' +'_mean',\n",
        "                              'median': 'agg_'+ col + '_'+ 'companyTye_idManagement' +'_median',\n",
        "                              'var': 'agg_'+ col + '_'+ 'companyTye_idManagement' + '_var',\n",
        "                              'percentile_25': 'agg_'+ col + '_'+ 'companyTye_idManagement' + '_P25',\n",
        "                              'percentile_75' : 'agg_'+ col + '_'+ 'companyTye_idManagement' + '_P75',\n",
        "                          }, axis = 1\n",
        "                      )\n",
        "      df = pd.merge(df,temp,on= ['category_last_value_company_type',\n",
        "                          'category_last_value_id_management'] ,how='left')\n",
        "      del temp\n",
        "      ## companyType - job_role\n",
        "      temp =  df.groupby(['category_last_value_company_type',\n",
        "                          'category_last_value_job_role_encode_knn'])[col].agg(['min', 'max', 'mean', 'median','var', percentile_25, percentile_75 ]).rename(\n",
        "                          {\n",
        "                              'min': 'agg_'+ col +'_'+ 'companyTye_jobRole' +'_min',\n",
        "                              'max': 'agg_'+ col + '_'+ 'companyTye_jobRole' +'_max',\n",
        "                              'mean': 'agg_'+ col + '_'+ 'companyTye_jobRole' +'_mean',\n",
        "                              'median': 'agg_'+ col + '_'+ 'companyTye_jobRole' +'_median',\n",
        "                              'var': 'agg_'+ col + '_'+ 'companyTye_jobRole' + '_var',\n",
        "                              'percentile_25': 'agg_'+ col + '_'+ 'companyTye_jobRole' + '_P25',\n",
        "                              'percentile_75' : 'agg_'+ col + '_'+ 'companyTye_jobRole' + '_P75',\n",
        "                          }, axis = 1\n",
        "                      )\n",
        "      df = pd.merge(df,temp,on= ['category_last_value_company_type',\n",
        "                          'category_last_value_job_role_encode_knn'] ,how='left')\n",
        "      del temp\n",
        "      ## companyType - job_role - id_management\n",
        "      temp =  df.groupby(['category_last_value_company_type',\n",
        "                          'category_last_value_job_role_encode_knn',\n",
        "                          'category_last_value_id_management'])[col].agg(['min', 'max', 'mean', 'median','var', percentile_25, percentile_75 ]).rename(\n",
        "                          {\n",
        "                              'min': 'agg_'+ col +'_'+ 'companyTye_jobRole_idManagement' +'_min',\n",
        "                              'max': 'agg_'+ col + '_'+ 'companyTye_jobRole_idManagement' +'_max',\n",
        "                              'mean': 'agg_'+ col + '_'+ 'companyTye_jobRole_idManagement' +'_mean',\n",
        "                              'median': 'agg_'+ col + '_'+ 'companyTye_jobRole_idManagement' +'_median',\n",
        "                              'var': 'agg_'+ col + '_'+ 'companyTye_jobRole_idManagement' + '_var',\n",
        "                              'percentile_25': 'agg_'+ col + '_'+ 'companyTye_jobRole_idManagement' + '_P25',\n",
        "                              'percentile_75' : 'agg_'+ col + '_'+ 'companyTye_jobRole_idManagement' + '_P75',\n",
        "                          }, axis = 1\n",
        "                      )\n",
        "      df = pd.merge(df,temp,on= ['category_last_value_company_type',\n",
        "                          'category_last_value_job_role_encode_knn',\n",
        "                          'category_last_value_id_management'] ,how='left')       \n",
        "\n",
        "      del temp\n",
        "    ## create bining features: olds: numeric_olds\n",
        "    df['category_bining_olds'] = df['numeric_olds'].apply(lambda row: bining_olds(row))\n",
        "    ## check HN - 24, TPHCM - 58, Da Nang - 15, HAI PHONG - 27, CAN THO - 13\n",
        "    df['numeric_is_in_bigCity'] = df['category_max_fre_new_work_province_id'].apply(lambda x: 1 if (x in [24, 58, 15, 13, 27]) else 0)\n",
        "    df['numeric_is_in_bigCity_upToDate'] = df['category_last_value_new_work_province_id'].apply(lambda x: 1 if (x in [24, 58, 15, 13, 27]) else 0)\n",
        "    \n",
        "\n",
        "    ## count features\n",
        "    ## count encoding\n",
        "    for col in [\n",
        "        \"category_last_value_new_work_province_id\",\n",
        "        \"category_last_value_company_type\",\n",
        "        \"category_last_value_id_management\",\n",
        "        \"category_last_value_job_role_encode_knn\",\n",
        " \n",
        "\n",
        "        \"category_max_fre_new_work_province_id\",\n",
        "        \"category_max_fre_company_type\",\n",
        "        \"category_max_fre_id_management\",\n",
        "        \"category_max_fre_job_role_encode_knn\"]:\n",
        "        temp = df[col].value_counts().to_dict()\n",
        "        df['numeric_ce_'+col ] = df[col].map(temp)\n",
        "        del temp\n",
        "    df.fillna(-999, inplace=True)\n",
        "    return df\n",
        "  "
      ]
    },
    {
      "cell_type": "code",
      "execution_count": 131,
      "metadata": {
        "colab": {
          "base_uri": "https://localhost:8080/"
        },
        "id": "fDJBDba9lvrs",
        "outputId": "08ed355d-586c-40e9-d67a-dd0d89e6f94f"
      },
      "outputs": [
        {
          "data": {
            "text/plain": [
              "(128, 16, 148)"
            ]
          },
          "execution_count": 131,
          "metadata": {},
          "output_type": "execute_result"
        }
      ],
      "source": [
        "tf_idf_cols = [col for col in train.columns if 'job_role_TFIDF_' in col]\n",
        "col_with_out_tf_idf_cols = [col for col in train.columns if col not in tf_idf_cols]\n",
        "## remove cols won't be used\n",
        "col_with_out_tf_idf_cols.remove('job_role_fillNan')\n",
        "col_with_out_tf_idf_cols.remove('job_role_fillNan_sentence')\n",
        "col_with_out_tf_idf_cols.remove('job_role_TFIDF')\n",
        "col_with_out_tf_idf_cols.remove('label')\n",
        "\n",
        "label_train = train['label'].values\n",
        "len(tf_idf_cols), len(col_with_out_tf_idf_cols), len(train.columns)"
      ]
    },
    {
      "cell_type": "code",
      "execution_count": 134,
      "metadata": {
        "colab": {
          "base_uri": "https://localhost:8080/"
        },
        "id": "B-ZXP_gWBVV6",
        "outputId": "0c6049c3-724e-4779-fa33-eefad9e276ad"
      },
      "outputs": [
        {
          "name": "stderr",
          "output_type": "stream",
          "text": [
            "C:\\Users\\Toan\\AppData\\Local\\Temp/ipykernel_1020/20443307.py:83: SettingWithCopyWarning: \n",
            "A value is trying to be set on a copy of a slice from a DataFrame.\n",
            "Try using .loc[row_indexer,col_indexer] = value instead\n",
            "\n",
            "See the caveats in the documentation: https://pandas.pydata.org/pandas-docs/stable/user_guide/indexing.html#returning-a-view-versus-a-copy\n",
            "  df['category_max_fre_' + col] = df[col].apply(lambda x: max_frequent(x) ) ## category\n",
            "C:\\Users\\Toan\\AppData\\Local\\Temp/ipykernel_1020/20443307.py:84: SettingWithCopyWarning: \n",
            "A value is trying to be set on a copy of a slice from a DataFrame.\n",
            "Try using .loc[row_indexer,col_indexer] = value instead\n",
            "\n",
            "See the caveats in the documentation: https://pandas.pydata.org/pandas-docs/stable/user_guide/indexing.html#returning-a-view-versus-a-copy\n",
            "  df['category_max_fre_out_filled_var_' + col] = df[col].apply(lambda x: max_frequent_without_filled_var(x) ) ## category\n",
            "C:\\Users\\Toan\\AppData\\Local\\Temp/ipykernel_1020/20443307.py:85: SettingWithCopyWarning: \n",
            "A value is trying to be set on a copy of a slice from a DataFrame.\n",
            "Try using .loc[row_indexer,col_indexer] = value instead\n",
            "\n",
            "See the caveats in the documentation: https://pandas.pydata.org/pandas-docs/stable/user_guide/indexing.html#returning-a-view-versus-a-copy\n",
            "  df['category_last_value_' + col] = df[col].apply(lambda x: last_value(x) ) ## category\n",
            "C:\\Users\\Toan\\AppData\\Local\\Temp/ipykernel_1020/20443307.py:86: SettingWithCopyWarning: \n",
            "A value is trying to be set on a copy of a slice from a DataFrame.\n",
            "Try using .loc[row_indexer,col_indexer] = value instead\n",
            "\n",
            "See the caveats in the documentation: https://pandas.pydata.org/pandas-docs/stable/user_guide/indexing.html#returning-a-view-versus-a-copy\n",
            "  df['numeric_count_unique_' + col] = df[col].apply(lambda x: count_unique(x) ) ## numeric\n",
            "C:\\Users\\Toan\\AppData\\Local\\Temp/ipykernel_1020/20443307.py:87: SettingWithCopyWarning: \n",
            "A value is trying to be set on a copy of a slice from a DataFrame.\n",
            "Try using .loc[row_indexer,col_indexer] = value instead\n",
            "\n",
            "See the caveats in the documentation: https://pandas.pydata.org/pandas-docs/stable/user_guide/indexing.html#returning-a-view-versus-a-copy\n",
            "  df['numeric_count_unique_without_filled_var' + col] = df[col].apply(lambda x: count_unique_without_filled_var(x) ) ## numeric\n",
            "C:\\Users\\Toan\\AppData\\Local\\Temp/ipykernel_1020/20443307.py:95: SettingWithCopyWarning: \n",
            "A value is trying to be set on a copy of a slice from a DataFrame.\n",
            "Try using .loc[row_indexer,col_indexer] = value instead\n",
            "\n",
            "See the caveats in the documentation: https://pandas.pydata.org/pandas-docs/stable/user_guide/indexing.html#returning-a-view-versus-a-copy\n",
            "  df['numeric_max_lv_' + 'of_'+ col] = df[col].apply(lambda x: max(x) )\n",
            "C:\\Users\\Toan\\AppData\\Local\\Temp/ipykernel_1020/20443307.py:96: SettingWithCopyWarning: \n",
            "A value is trying to be set on a copy of a slice from a DataFrame.\n",
            "Try using .loc[row_indexer,col_indexer] = value instead\n",
            "\n",
            "See the caveats in the documentation: https://pandas.pydata.org/pandas-docs/stable/user_guide/indexing.html#returning-a-view-versus-a-copy\n",
            "  df['numeric_min_lv_' + 'of_'+ col] = df[col].apply(lambda x: min_without_filled_var(x) )\n",
            "C:\\Users\\Toan\\AppData\\Local\\Temp/ipykernel_1020/20443307.py:97: SettingWithCopyWarning: \n",
            "A value is trying to be set on a copy of a slice from a DataFrame.\n",
            "Try using .loc[row_indexer,col_indexer] = value instead\n",
            "\n",
            "See the caveats in the documentation: https://pandas.pydata.org/pandas-docs/stable/user_guide/indexing.html#returning-a-view-versus-a-copy\n",
            "  df['numeric_mode_' + 'of_'+ col] = df[col].apply(lambda x: max_frequent(x) )\n",
            "C:\\Users\\Toan\\AppData\\Local\\Temp/ipykernel_1020/20443307.py:98: SettingWithCopyWarning: \n",
            "A value is trying to be set on a copy of a slice from a DataFrame.\n",
            "Try using .loc[row_indexer,col_indexer] = value instead\n",
            "\n",
            "See the caveats in the documentation: https://pandas.pydata.org/pandas-docs/stable/user_guide/indexing.html#returning-a-view-versus-a-copy\n",
            "  df['numeric_mode_out_filled_var_' + 'of_'+ col] = df[col].apply(lambda x: max_frequent_without_filled_var(x) )\n",
            "C:\\Users\\Toan\\AppData\\Local\\Temp/ipykernel_1020/20443307.py:99: SettingWithCopyWarning: \n",
            "A value is trying to be set on a copy of a slice from a DataFrame.\n",
            "Try using .loc[row_indexer,col_indexer] = value instead\n",
            "\n",
            "See the caveats in the documentation: https://pandas.pydata.org/pandas-docs/stable/user_guide/indexing.html#returning-a-view-versus-a-copy\n",
            "  df['numeric_mean_' + 'of_'+ col] = df[col].apply(lambda x: sum(x) / float(len(x)) )\n",
            "C:\\Users\\Toan\\AppData\\Local\\Temp/ipykernel_1020/20443307.py:100: SettingWithCopyWarning: \n",
            "A value is trying to be set on a copy of a slice from a DataFrame.\n",
            "Try using .loc[row_indexer,col_indexer] = value instead\n",
            "\n",
            "See the caveats in the documentation: https://pandas.pydata.org/pandas-docs/stable/user_guide/indexing.html#returning-a-view-versus-a-copy\n",
            "  df['numeric_mean_out_nan_' + 'of_'+ col] = df[col].apply(lambda x:  mean_out_nan(x))\n",
            "C:\\Users\\Toan\\AppData\\Local\\Temp/ipykernel_1020/20443307.py:101: SettingWithCopyWarning: \n",
            "A value is trying to be set on a copy of a slice from a DataFrame.\n",
            "Try using .loc[row_indexer,col_indexer] = value instead\n",
            "\n",
            "See the caveats in the documentation: https://pandas.pydata.org/pandas-docs/stable/user_guide/indexing.html#returning-a-view-versus-a-copy\n",
            "  df['numeric_std_' + 'of_'+ col] = df[col].apply(lambda x: std(x) )\n",
            "C:\\Users\\Toan\\AppData\\Local\\Temp/ipykernel_1020/20443307.py:102: SettingWithCopyWarning: \n",
            "A value is trying to be set on a copy of a slice from a DataFrame.\n",
            "Try using .loc[row_indexer,col_indexer] = value instead\n",
            "\n",
            "See the caveats in the documentation: https://pandas.pydata.org/pandas-docs/stable/user_guide/indexing.html#returning-a-view-versus-a-copy\n",
            "  df['numeric_count_unique_' + 'of_'+ col]  = df[col].apply(lambda x: count_unique(x) ) ## numeric\n",
            "C:\\Users\\Toan\\AppData\\Local\\Temp/ipykernel_1020/20443307.py:103: SettingWithCopyWarning: \n",
            "A value is trying to be set on a copy of a slice from a DataFrame.\n",
            "Try using .loc[row_indexer,col_indexer] = value instead\n",
            "\n",
            "See the caveats in the documentation: https://pandas.pydata.org/pandas-docs/stable/user_guide/indexing.html#returning-a-view-versus-a-copy\n",
            "  df['numeric_count_unique_out_fillNan_' + 'of_'+ col]  = df[col].apply(lambda x: count_unique_without_filled_var(x) ) ## numeric\n",
            "C:\\Users\\Toan\\AppData\\Local\\Temp/ipykernel_1020/20443307.py:104: SettingWithCopyWarning: \n",
            "A value is trying to be set on a copy of a slice from a DataFrame.\n",
            "Try using .loc[row_indexer,col_indexer] = value instead\n",
            "\n",
            "See the caveats in the documentation: https://pandas.pydata.org/pandas-docs/stable/user_guide/indexing.html#returning-a-view-versus-a-copy\n",
            "  df['numeric_Q25_' + 'of_'+ col ] = df[col].apply(lambda x: np.quantile(x, .25) )\n",
            "C:\\Users\\Toan\\AppData\\Local\\Temp/ipykernel_1020/20443307.py:105: SettingWithCopyWarning: \n",
            "A value is trying to be set on a copy of a slice from a DataFrame.\n",
            "Try using .loc[row_indexer,col_indexer] = value instead\n",
            "\n",
            "See the caveats in the documentation: https://pandas.pydata.org/pandas-docs/stable/user_guide/indexing.html#returning-a-view-versus-a-copy\n",
            "  df['numeric_Q75_' + 'of_'+ col ] = df[col].apply(lambda x: np.quantile(x, .75) )\n",
            "C:\\Users\\Toan\\AppData\\Local\\Temp/ipykernel_1020/20443307.py:107: SettingWithCopyWarning: \n",
            "A value is trying to be set on a copy of a slice from a DataFrame.\n",
            "Try using .loc[row_indexer,col_indexer] = value instead\n",
            "\n",
            "See the caveats in the documentation: https://pandas.pydata.org/pandas-docs/stable/user_guide/indexing.html#returning-a-view-versus-a-copy\n",
            "  df['numeric_skew_' + 'of_'+ col ] = df[col].apply(lambda x: skew(x) )\n",
            "C:\\Users\\Toan\\AppData\\Local\\Temp/ipykernel_1020/20443307.py:108: SettingWithCopyWarning: \n",
            "A value is trying to be set on a copy of a slice from a DataFrame.\n",
            "Try using .loc[row_indexer,col_indexer] = value instead\n",
            "\n",
            "See the caveats in the documentation: https://pandas.pydata.org/pandas-docs/stable/user_guide/indexing.html#returning-a-view-versus-a-copy\n",
            "  df['numeric_kurtosis_' + 'of_'+ col ] = df[col].apply(lambda x: kurtosis(x) )\n",
            "C:\\Users\\Toan\\AppData\\Local\\Temp/ipykernel_1020/20443307.py:110: SettingWithCopyWarning: \n",
            "A value is trying to be set on a copy of a slice from a DataFrame.\n",
            "Try using .loc[row_indexer,col_indexer] = value instead\n",
            "\n",
            "See the caveats in the documentation: https://pandas.pydata.org/pandas-docs/stable/user_guide/indexing.html#returning-a-view-versus-a-copy\n",
            "  df['numeric_max_' + 'of_'+ col] = df[col].apply(lambda x: max(x) )\n",
            "C:\\Users\\Toan\\AppData\\Local\\Temp/ipykernel_1020/20443307.py:111: SettingWithCopyWarning: \n",
            "A value is trying to be set on a copy of a slice from a DataFrame.\n",
            "Try using .loc[row_indexer,col_indexer] = value instead\n",
            "\n",
            "See the caveats in the documentation: https://pandas.pydata.org/pandas-docs/stable/user_guide/indexing.html#returning-a-view-versus-a-copy\n",
            "  df['numeric_min_' + 'of_'+ col] = df[col].apply(lambda x: min_without_filled_var(x) )\n",
            "C:\\Users\\Toan\\AppData\\Local\\Temp/ipykernel_1020/20443307.py:112: SettingWithCopyWarning: \n",
            "A value is trying to be set on a copy of a slice from a DataFrame.\n",
            "Try using .loc[row_indexer,col_indexer] = value instead\n",
            "\n",
            "See the caveats in the documentation: https://pandas.pydata.org/pandas-docs/stable/user_guide/indexing.html#returning-a-view-versus-a-copy\n",
            "  df['numeric_mode_' + 'of_'+ col] = df[col].apply(lambda x: max_frequent(x) )\n",
            "C:\\Users\\Toan\\AppData\\Local\\Temp/ipykernel_1020/20443307.py:113: SettingWithCopyWarning: \n",
            "A value is trying to be set on a copy of a slice from a DataFrame.\n",
            "Try using .loc[row_indexer,col_indexer] = value instead\n",
            "\n",
            "See the caveats in the documentation: https://pandas.pydata.org/pandas-docs/stable/user_guide/indexing.html#returning-a-view-versus-a-copy\n",
            "  df['numeric_mean_' + 'of_'+ col] = df[col].apply(lambda x: sum(x) / float(len(x)) )\n",
            "C:\\Users\\Toan\\AppData\\Local\\Temp/ipykernel_1020/20443307.py:114: SettingWithCopyWarning: \n",
            "A value is trying to be set on a copy of a slice from a DataFrame.\n",
            "Try using .loc[row_indexer,col_indexer] = value instead\n",
            "\n",
            "See the caveats in the documentation: https://pandas.pydata.org/pandas-docs/stable/user_guide/indexing.html#returning-a-view-versus-a-copy\n",
            "  df['numeric_std_' + 'of_'+ col] = df[col].apply(lambda x: std(x) )\n",
            "C:\\Users\\Toan\\AppData\\Local\\Temp/ipykernel_1020/20443307.py:115: SettingWithCopyWarning: \n",
            "A value is trying to be set on a copy of a slice from a DataFrame.\n",
            "Try using .loc[row_indexer,col_indexer] = value instead\n",
            "\n",
            "See the caveats in the documentation: https://pandas.pydata.org/pandas-docs/stable/user_guide/indexing.html#returning-a-view-versus-a-copy\n",
            "  df['numeric_count_unique_' + 'of_'+ col]  = df[col].apply(lambda x: count_unique(x) ) ## numeric\n",
            "C:\\Users\\Toan\\AppData\\Local\\Temp/ipykernel_1020/20443307.py:116: SettingWithCopyWarning: \n",
            "A value is trying to be set on a copy of a slice from a DataFrame.\n",
            "Try using .loc[row_indexer,col_indexer] = value instead\n",
            "\n",
            "See the caveats in the documentation: https://pandas.pydata.org/pandas-docs/stable/user_guide/indexing.html#returning-a-view-versus-a-copy\n",
            "  df['numeric_Q25_' + 'of_'+ col ] = df[col].apply(lambda x: np.quantile(x, .25) )\n",
            "C:\\Users\\Toan\\AppData\\Local\\Temp/ipykernel_1020/20443307.py:117: SettingWithCopyWarning: \n",
            "A value is trying to be set on a copy of a slice from a DataFrame.\n",
            "Try using .loc[row_indexer,col_indexer] = value instead\n",
            "\n",
            "See the caveats in the documentation: https://pandas.pydata.org/pandas-docs/stable/user_guide/indexing.html#returning-a-view-versus-a-copy\n",
            "  df['numeric_Q75_' + 'of_'+ col ] = df[col].apply(lambda x: np.quantile(x, .75) )\n",
            "C:\\Users\\Toan\\AppData\\Local\\Temp/ipykernel_1020/20443307.py:118: SettingWithCopyWarning: \n",
            "A value is trying to be set on a copy of a slice from a DataFrame.\n",
            "Try using .loc[row_indexer,col_indexer] = value instead\n",
            "\n",
            "See the caveats in the documentation: https://pandas.pydata.org/pandas-docs/stable/user_guide/indexing.html#returning-a-view-versus-a-copy\n",
            "  df['numeric_skew_' + 'of_'+ col ] = df[col].apply(lambda x: skew(x) )\n",
            "C:\\Users\\Toan\\AppData\\Local\\Temp/ipykernel_1020/20443307.py:119: SettingWithCopyWarning: \n",
            "A value is trying to be set on a copy of a slice from a DataFrame.\n",
            "Try using .loc[row_indexer,col_indexer] = value instead\n",
            "\n",
            "See the caveats in the documentation: https://pandas.pydata.org/pandas-docs/stable/user_guide/indexing.html#returning-a-view-versus-a-copy\n",
            "  df['numeric_kurtosis_' + 'of_'+ col ] = df[col].apply(lambda x: kurtosis(x) )\n",
            "C:\\Users\\Toan\\AppData\\Local\\Temp/ipykernel_1020/20443307.py:122: PerformanceWarning: DataFrame is highly fragmented.  This is usually the result of calling `frame.insert` many times, which has poor performance.  Consider joining all columns at once using pd.concat(axis=1) instead.  To get a de-fragmented frame, use `newframe = frame.copy()`\n",
            "  df['numeric_year_diff_max_year_from_vs_bithYear'] = df['numeric_max_of_year_from_date'] - df['bithYear']\n",
            "C:\\Users\\Toan\\AppData\\Local\\Temp/ipykernel_1020/20443307.py:122: SettingWithCopyWarning: \n",
            "A value is trying to be set on a copy of a slice from a DataFrame.\n",
            "Try using .loc[row_indexer,col_indexer] = value instead\n",
            "\n",
            "See the caveats in the documentation: https://pandas.pydata.org/pandas-docs/stable/user_guide/indexing.html#returning-a-view-versus-a-copy\n",
            "  df['numeric_year_diff_max_year_from_vs_bithYear'] = df['numeric_max_of_year_from_date'] - df['bithYear']\n",
            "C:\\Users\\Toan\\AppData\\Local\\Temp/ipykernel_1020/20443307.py:123: PerformanceWarning: DataFrame is highly fragmented.  This is usually the result of calling `frame.insert` many times, which has poor performance.  Consider joining all columns at once using pd.concat(axis=1) instead.  To get a de-fragmented frame, use `newframe = frame.copy()`\n",
            "  df['numeric_year_diff_min_year_from_vs_bithYear'] = df['numeric_min_of_year_from_date'] - df['bithYear']\n",
            "C:\\Users\\Toan\\AppData\\Local\\Temp/ipykernel_1020/20443307.py:123: SettingWithCopyWarning: \n",
            "A value is trying to be set on a copy of a slice from a DataFrame.\n",
            "Try using .loc[row_indexer,col_indexer] = value instead\n",
            "\n",
            "See the caveats in the documentation: https://pandas.pydata.org/pandas-docs/stable/user_guide/indexing.html#returning-a-view-versus-a-copy\n",
            "  df['numeric_year_diff_min_year_from_vs_bithYear'] = df['numeric_min_of_year_from_date'] - df['bithYear']\n",
            "C:\\Users\\Toan\\AppData\\Local\\Temp/ipykernel_1020/20443307.py:124: PerformanceWarning: DataFrame is highly fragmented.  This is usually the result of calling `frame.insert` many times, which has poor performance.  Consider joining all columns at once using pd.concat(axis=1) instead.  To get a de-fragmented frame, use `newframe = frame.copy()`\n",
            "  df['numeric_year_diff_max_year_to_vs_bithYear'] = df['numeric_max_of_year_to_date'] - df['bithYear']\n",
            "C:\\Users\\Toan\\AppData\\Local\\Temp/ipykernel_1020/20443307.py:124: SettingWithCopyWarning: \n",
            "A value is trying to be set on a copy of a slice from a DataFrame.\n",
            "Try using .loc[row_indexer,col_indexer] = value instead\n",
            "\n",
            "See the caveats in the documentation: https://pandas.pydata.org/pandas-docs/stable/user_guide/indexing.html#returning-a-view-versus-a-copy\n",
            "  df['numeric_year_diff_max_year_to_vs_bithYear'] = df['numeric_max_of_year_to_date'] - df['bithYear']\n",
            "C:\\Users\\Toan\\AppData\\Local\\Temp/ipykernel_1020/20443307.py:125: PerformanceWarning: DataFrame is highly fragmented.  This is usually the result of calling `frame.insert` many times, which has poor performance.  Consider joining all columns at once using pd.concat(axis=1) instead.  To get a de-fragmented frame, use `newframe = frame.copy()`\n",
            "  df['numeric_year_diff_min_year_to_vs_bithYear'] = df['numeric_min_of_year_to_date'] - df['bithYear']\n",
            "C:\\Users\\Toan\\AppData\\Local\\Temp/ipykernel_1020/20443307.py:125: SettingWithCopyWarning: \n",
            "A value is trying to be set on a copy of a slice from a DataFrame.\n",
            "Try using .loc[row_indexer,col_indexer] = value instead\n",
            "\n",
            "See the caveats in the documentation: https://pandas.pydata.org/pandas-docs/stable/user_guide/indexing.html#returning-a-view-versus-a-copy\n",
            "  df['numeric_year_diff_min_year_to_vs_bithYear'] = df['numeric_min_of_year_to_date'] - df['bithYear']\n",
            "C:\\Users\\Toan\\AppData\\Local\\Temp/ipykernel_1020/20443307.py:128: PerformanceWarning: DataFrame is highly fragmented.  This is usually the result of calling `frame.insert` many times, which has poor performance.  Consider joining all columns at once using pd.concat(axis=1) instead.  To get a de-fragmented frame, use `newframe = frame.copy()`\n",
            "  df['numeric_olds'] = 2022 - df['bithYear']\n",
            "C:\\Users\\Toan\\AppData\\Local\\Temp/ipykernel_1020/20443307.py:128: SettingWithCopyWarning: \n",
            "A value is trying to be set on a copy of a slice from a DataFrame.\n",
            "Try using .loc[row_indexer,col_indexer] = value instead\n",
            "\n",
            "See the caveats in the documentation: https://pandas.pydata.org/pandas-docs/stable/user_guide/indexing.html#returning-a-view-versus-a-copy\n",
            "  df['numeric_olds'] = 2022 - df['bithYear']\n",
            "C:\\Users\\Toan\\AppData\\Local\\Temp/ipykernel_1020/20443307.py:130: PerformanceWarning: DataFrame is highly fragmented.  This is usually the result of calling `frame.insert` many times, which has poor performance.  Consider joining all columns at once using pd.concat(axis=1) instead.  To get a de-fragmented frame, use `newframe = frame.copy()`\n",
            "  df['numeric_ratio_olds_vs_(diff_min_year_from_vs_bithYear)'] = df['numeric_olds'] / df['numeric_year_diff_min_year_from_vs_bithYear']\n",
            "C:\\Users\\Toan\\AppData\\Local\\Temp/ipykernel_1020/20443307.py:130: SettingWithCopyWarning: \n",
            "A value is trying to be set on a copy of a slice from a DataFrame.\n",
            "Try using .loc[row_indexer,col_indexer] = value instead\n",
            "\n",
            "See the caveats in the documentation: https://pandas.pydata.org/pandas-docs/stable/user_guide/indexing.html#returning-a-view-versus-a-copy\n",
            "  df['numeric_ratio_olds_vs_(diff_min_year_from_vs_bithYear)'] = df['numeric_olds'] / df['numeric_year_diff_min_year_from_vs_bithYear']\n",
            "C:\\Users\\Toan\\AppData\\Local\\Temp/ipykernel_1020/20443307.py:131: SettingWithCopyWarning: \n",
            "A value is trying to be set on a copy of a slice from a DataFrame.\n",
            "Try using .loc[row_indexer,col_indexer] = value instead\n",
            "\n",
            "See the caveats in the documentation: https://pandas.pydata.org/pandas-docs/stable/user_guide/indexing.html#returning-a-view-versus-a-copy\n",
            "  df['numeric_ratio_olds_vs_(diff_min_year_from_vs_bithYear)'] = df['numeric_ratio_olds_vs_(diff_min_year_from_vs_bithYear)'].apply(lambda x: x if(x> 0) else -999)\n",
            "C:\\Users\\Toan\\AppData\\Local\\Temp/ipykernel_1020/20443307.py:134: PerformanceWarning: DataFrame is highly fragmented.  This is usually the result of calling `frame.insert` many times, which has poor performance.  Consider joining all columns at once using pd.concat(axis=1) instead.  To get a de-fragmented frame, use `newframe = frame.copy()`\n",
            "  df['numeric_count_job'] = df['employee_lv'].apply(lambda x: len(x))\n",
            "C:\\Users\\Toan\\AppData\\Local\\Temp/ipykernel_1020/20443307.py:134: SettingWithCopyWarning: \n",
            "A value is trying to be set on a copy of a slice from a DataFrame.\n",
            "Try using .loc[row_indexer,col_indexer] = value instead\n",
            "\n",
            "See the caveats in the documentation: https://pandas.pydata.org/pandas-docs/stable/user_guide/indexing.html#returning-a-view-versus-a-copy\n",
            "  df['numeric_count_job'] = df['employee_lv'].apply(lambda x: len(x))\n",
            "C:\\Users\\Toan\\AppData\\Local\\Temp/ipykernel_1020/20443307.py:135: PerformanceWarning: DataFrame is highly fragmented.  This is usually the result of calling `frame.insert` many times, which has poor performance.  Consider joining all columns at once using pd.concat(axis=1) instead.  To get a de-fragmented frame, use `newframe = frame.copy()`\n",
            "  df['numeric_count_job_withoutNan'] = df['employee_lv'].apply(lambda x: count_num_jobs_outNan(x))\n",
            "C:\\Users\\Toan\\AppData\\Local\\Temp/ipykernel_1020/20443307.py:135: SettingWithCopyWarning: \n",
            "A value is trying to be set on a copy of a slice from a DataFrame.\n",
            "Try using .loc[row_indexer,col_indexer] = value instead\n",
            "\n",
            "See the caveats in the documentation: https://pandas.pydata.org/pandas-docs/stable/user_guide/indexing.html#returning-a-view-versus-a-copy\n",
            "  df['numeric_count_job_withoutNan'] = df['employee_lv'].apply(lambda x: count_num_jobs_outNan(x))\n",
            "C:\\Users\\Toan\\AppData\\Local\\Temp/ipykernel_1020/20443307.py:140: SettingWithCopyWarning: \n",
            "A value is trying to be set on a copy of a slice from a DataFrame.\n",
            "Try using .loc[row_indexer,col_indexer] = value instead\n",
            "\n",
            "See the caveats in the documentation: https://pandas.pydata.org/pandas-docs/stable/user_guide/indexing.html#returning-a-view-versus-a-copy\n",
            "  df[col] = df[col].apply(lambda x: x if(x> 0) else -999)\n",
            "C:\\Users\\Toan\\AppData\\Local\\Temp/ipykernel_1020/20443307.py:224: PerformanceWarning: DataFrame is highly fragmented.  This is usually the result of calling `frame.insert` many times, which has poor performance.  Consider joining all columns at once using pd.concat(axis=1) instead.  To get a de-fragmented frame, use `newframe = frame.copy()`\n",
            "  df['category_bining_olds'] = df['numeric_olds'].apply(lambda row: bining_olds(row))\n",
            "C:\\Users\\Toan\\AppData\\Local\\Temp/ipykernel_1020/20443307.py:226: PerformanceWarning: DataFrame is highly fragmented.  This is usually the result of calling `frame.insert` many times, which has poor performance.  Consider joining all columns at once using pd.concat(axis=1) instead.  To get a de-fragmented frame, use `newframe = frame.copy()`\n",
            "  df['numeric_is_in_bigCity'] = df['category_max_fre_new_work_province_id'].apply(lambda x: 1 if (x in [24, 58, 15, 13, 27]) else 0)\n",
            "C:\\Users\\Toan\\AppData\\Local\\Temp/ipykernel_1020/20443307.py:227: PerformanceWarning: DataFrame is highly fragmented.  This is usually the result of calling `frame.insert` many times, which has poor performance.  Consider joining all columns at once using pd.concat(axis=1) instead.  To get a de-fragmented frame, use `newframe = frame.copy()`\n",
            "  df['numeric_is_in_bigCity_upToDate'] = df['category_last_value_new_work_province_id'].apply(lambda x: 1 if (x in [24, 58, 15, 13, 27]) else 0)\n",
            "C:\\Users\\Toan\\AppData\\Local\\Temp/ipykernel_1020/20443307.py:244: PerformanceWarning: DataFrame is highly fragmented.  This is usually the result of calling `frame.insert` many times, which has poor performance.  Consider joining all columns at once using pd.concat(axis=1) instead.  To get a de-fragmented frame, use `newframe = frame.copy()`\n",
            "  df['numeric_ce_'+col ] = df[col].map(temp)\n"
          ]
        },
        {
          "name": "stdout",
          "output_type": "stream",
          "text": [
            "Wall time: 4min 41s\n"
          ]
        }
      ],
      "source": [
        "%%time\n",
        "fe_train_with_out_tfidf = features_engineering(train[col_with_out_tf_idf_cols])\n",
        "fe_test_with_out_tfidf = features_engineering(test[col_with_out_tf_idf_cols])"
      ]
    },
    {
      "cell_type": "code",
      "execution_count": 135,
      "metadata": {
        "id": "rAS2dXRlnZkc"
      },
      "outputs": [],
      "source": [
        "fe_train = pd.concat([fe_train_with_out_tfidf, train[tf_idf_cols], train['label'] ], axis = 1)\n",
        "fe_test = pd.concat([fe_test_with_out_tfidf, test[tf_idf_cols] ], axis = 1)\n"
      ]
    },
    {
      "cell_type": "code",
      "execution_count": 136,
      "metadata": {
        "id": "981xmXSJBVV6"
      },
      "outputs": [
        {
          "data": {
            "text/plain": [
              "(418, 417)"
            ]
          },
          "execution_count": 136,
          "metadata": {},
          "output_type": "execute_result"
        }
      ],
      "source": [
        "numeric_ml_useful_cols = [col for col in fe_train.columns if 'numeric_' in col] + tf_idf_cols\n",
        "category_ml_useful_cols = [col for col in fe_train.columns if (('category_' in col) and ('numeric_ce_' not in col) )]\n",
        "old_cols = [\"bithYear\",\t\"gender\",\"new_province_id\", \"id_bh\", \"label\"]\n",
        "# agg_cols = \n",
        "ml_useful_cols_train = numeric_ml_useful_cols + category_ml_useful_cols + old_cols\n",
        "ml_useful_cols_test = numeric_ml_useful_cols + category_ml_useful_cols + old_cols[:-1]\n",
        "len(ml_useful_cols_train), len(ml_useful_cols_test)"
      ]
    },
    {
      "cell_type": "code",
      "execution_count": 137,
      "metadata": {
        "id": "znJKrgohqYhq"
      },
      "outputs": [
        {
          "data": {
            "text/plain": [
              "418"
            ]
          },
          "execution_count": 137,
          "metadata": {},
          "output_type": "execute_result"
        }
      ],
      "source": [
        "len(set(ml_useful_cols_train))"
      ]
    },
    {
      "cell_type": "markdown",
      "metadata": {
        "id": "rN5X_TgFBVV7"
      },
      "source": [
        "## 6. Test baseline"
      ]
    },
    {
      "cell_type": "code",
      "execution_count": 138,
      "metadata": {
        "id": "tsi2tW9kBVV7"
      },
      "outputs": [],
      "source": [
        "category_cols = category_ml_useful_cols + [ \"new_province_id\"]"
      ]
    },
    {
      "cell_type": "code",
      "execution_count": 139,
      "metadata": {
        "id": "0PoXH8tQkGSu"
      },
      "outputs": [
        {
          "data": {
            "text/plain": [
              "['category_max_fre_company_type',\n",
              " 'category_max_fre_out_filled_var_company_type',\n",
              " 'category_last_value_company_type',\n",
              " 'category_max_fre_id_management',\n",
              " 'category_max_fre_out_filled_var_id_management',\n",
              " 'category_last_value_id_management',\n",
              " 'category_max_fre_id_office',\n",
              " 'category_max_fre_out_filled_var_id_office',\n",
              " 'category_last_value_id_office',\n",
              " 'category_max_fre_job_role_encode_knn',\n",
              " 'category_max_fre_out_filled_var_job_role_encode_knn',\n",
              " 'category_last_value_job_role_encode_knn',\n",
              " 'category_max_fre_new_work_province_id',\n",
              " 'category_max_fre_out_filled_var_new_work_province_id',\n",
              " 'category_last_value_new_work_province_id',\n",
              " 'category_bining_olds',\n",
              " 'new_province_id']"
            ]
          },
          "execution_count": 139,
          "metadata": {},
          "output_type": "execute_result"
        }
      ],
      "source": [
        "category_cols "
      ]
    },
    {
      "cell_type": "code",
      "execution_count": 140,
      "metadata": {
        "id": "_Ci3NbjLBVV8"
      },
      "outputs": [],
      "source": [
        "df_train = fe_train[ml_useful_cols_train]\n",
        "df_test = fe_test[ml_useful_cols_test]"
      ]
    },
    {
      "cell_type": "code",
      "execution_count": 141,
      "metadata": {
        "id": "i-dLOMTeBVV8"
      },
      "outputs": [
        {
          "data": {
            "text/plain": [
              "((27502, 418), (18134, 417))"
            ]
          },
          "execution_count": 141,
          "metadata": {},
          "output_type": "execute_result"
        }
      ],
      "source": [
        "df_train.shape, df_test.shape"
      ]
    },
    {
      "cell_type": "code",
      "execution_count": 105,
      "metadata": {
        "id": "yGANR0lCBVV8"
      },
      "outputs": [],
      "source": [
        "from lightgbm import LGBMClassifier as lgb\n",
        "from sklearn.model_selection import StratifiedKFold\n",
        "from sklearn.metrics import f1_score"
      ]
    },
    {
      "cell_type": "code",
      "execution_count": 154,
      "metadata": {
        "id": "PoX6jRVGBVV9"
      },
      "outputs": [],
      "source": [
        "skf = StratifiedKFold(n_splits= 5, random_state= 42, shuffle= True)\n",
        "X_train = df_train.drop(columns = ['label', 'id_bh']) \n",
        "X_train[category_cols] = X_train[category_cols].astype('category')\n",
        "y_train = df_train['label']\n",
        "params_k = {\n",
        "            'boosting_type': 'gbdt',\n",
        "            'objective': 'multiclass',\n",
        "            'num_class':7,\n",
        "            'categorical_feature': category_cols,\n",
        "            'verbose' : -1,\n",
        "            \"random_seed\": 42,\n",
        "            # \"bagging_fraction\": 0.7\n",
        "}\n"
      ]
    },
    {
      "cell_type": "code",
      "execution_count": 155,
      "metadata": {},
      "outputs": [
        {
          "data": {
            "text/plain": [
              "(27502, 416)"
            ]
          },
          "execution_count": 155,
          "metadata": {},
          "output_type": "execute_result"
        }
      ],
      "source": [
        "X_train.shape"
      ]
    },
    {
      "cell_type": "markdown",
      "metadata": {
        "id": "-ExMQNUzb6mA"
      },
      "source": [
        "## Features selection"
      ]
    },
    {
      "cell_type": "code",
      "execution_count": 88,
      "metadata": {
        "id": "gj_lMg0yb16a"
      },
      "outputs": [],
      "source": [
        "from sklearn.model_selection import GroupKFold, cross_val_score\n",
        "from sklearn.ensemble import HistGradientBoostingRegressor, HistGradientBoostingClassifier\n",
        "from sklearn.feature_selection import SequentialFeatureSelector\n",
        "from matplotlib.ticker import MaxNLocator"
      ]
    },
    {
      "cell_type": "markdown",
      "metadata": {
        "id": "y-berj6pc1vV"
      },
      "source": [
        "## CROSS VALIDATE"
      ]
    },
    {
      "cell_type": "code",
      "execution_count": 157,
      "metadata": {},
      "outputs": [
        {
          "name": "stdout",
          "output_type": "stream",
          "text": [
            "Fold 0\n"
          ]
        },
        {
          "name": "stderr",
          "output_type": "stream",
          "text": [
            "C:\\Users\\Toan\\anaconda3\\envs\\ml_com\\lib\\site-packages\\lightgbm\\sklearn.py:736: UserWarning: 'verbose' argument is deprecated and will be removed in a future release of LightGBM. Pass 'log_evaluation()' callback via 'callbacks' argument instead.\n",
            "  _log_warning(\"'verbose' argument is deprecated and will be removed in a future release of LightGBM. \"\n",
            "C:\\Users\\Toan\\anaconda3\\envs\\ml_com\\lib\\site-packages\\lightgbm\\basic.py:1487: UserWarning: categorical_feature keyword has been found in `params` and will be ignored.\n",
            "Please use categorical_feature argument of the Dataset constructor to pass this parameter.\n",
            "  _log_warning(f'{key} keyword has been found in `params` and will be ignored.\\n'\n",
            "C:\\Users\\Toan\\anaconda3\\envs\\ml_com\\lib\\site-packages\\lightgbm\\basic.py:1513: UserWarning: categorical_feature in param dict is overridden.\n",
            "  _log_warning(f'{cat_alias} in param dict is overridden.')\n"
          ]
        },
        {
          "name": "stdout",
          "output_type": "stream",
          "text": [
            "F1_SCORE_CV:  0.7872 \n",
            "\n",
            "F1_SCORE_TRAINING:  1.0 \n",
            "\n",
            "Fold 1\n"
          ]
        },
        {
          "name": "stderr",
          "output_type": "stream",
          "text": [
            "C:\\Users\\Toan\\anaconda3\\envs\\ml_com\\lib\\site-packages\\lightgbm\\sklearn.py:736: UserWarning: 'verbose' argument is deprecated and will be removed in a future release of LightGBM. Pass 'log_evaluation()' callback via 'callbacks' argument instead.\n",
            "  _log_warning(\"'verbose' argument is deprecated and will be removed in a future release of LightGBM. \"\n",
            "C:\\Users\\Toan\\anaconda3\\envs\\ml_com\\lib\\site-packages\\lightgbm\\basic.py:1487: UserWarning: categorical_feature keyword has been found in `params` and will be ignored.\n",
            "Please use categorical_feature argument of the Dataset constructor to pass this parameter.\n",
            "  _log_warning(f'{key} keyword has been found in `params` and will be ignored.\\n'\n",
            "C:\\Users\\Toan\\anaconda3\\envs\\ml_com\\lib\\site-packages\\lightgbm\\basic.py:1513: UserWarning: categorical_feature in param dict is overridden.\n",
            "  _log_warning(f'{cat_alias} in param dict is overridden.')\n"
          ]
        },
        {
          "name": "stdout",
          "output_type": "stream",
          "text": [
            "F1_SCORE_CV:  0.7471 \n",
            "\n",
            "F1_SCORE_TRAINING:  1.0 \n",
            "\n",
            "Fold 2\n"
          ]
        },
        {
          "name": "stderr",
          "output_type": "stream",
          "text": [
            "C:\\Users\\Toan\\anaconda3\\envs\\ml_com\\lib\\site-packages\\lightgbm\\sklearn.py:736: UserWarning: 'verbose' argument is deprecated and will be removed in a future release of LightGBM. Pass 'log_evaluation()' callback via 'callbacks' argument instead.\n",
            "  _log_warning(\"'verbose' argument is deprecated and will be removed in a future release of LightGBM. \"\n",
            "C:\\Users\\Toan\\anaconda3\\envs\\ml_com\\lib\\site-packages\\lightgbm\\basic.py:1487: UserWarning: categorical_feature keyword has been found in `params` and will be ignored.\n",
            "Please use categorical_feature argument of the Dataset constructor to pass this parameter.\n",
            "  _log_warning(f'{key} keyword has been found in `params` and will be ignored.\\n'\n",
            "C:\\Users\\Toan\\anaconda3\\envs\\ml_com\\lib\\site-packages\\lightgbm\\basic.py:1513: UserWarning: categorical_feature in param dict is overridden.\n",
            "  _log_warning(f'{cat_alias} in param dict is overridden.')\n"
          ]
        },
        {
          "name": "stdout",
          "output_type": "stream",
          "text": [
            "F1_SCORE_CV:  0.8122 \n",
            "\n",
            "F1_SCORE_TRAINING:  1.0 \n",
            "\n",
            "Fold 3\n"
          ]
        },
        {
          "name": "stderr",
          "output_type": "stream",
          "text": [
            "C:\\Users\\Toan\\anaconda3\\envs\\ml_com\\lib\\site-packages\\lightgbm\\sklearn.py:736: UserWarning: 'verbose' argument is deprecated and will be removed in a future release of LightGBM. Pass 'log_evaluation()' callback via 'callbacks' argument instead.\n",
            "  _log_warning(\"'verbose' argument is deprecated and will be removed in a future release of LightGBM. \"\n",
            "C:\\Users\\Toan\\anaconda3\\envs\\ml_com\\lib\\site-packages\\lightgbm\\basic.py:1487: UserWarning: categorical_feature keyword has been found in `params` and will be ignored.\n",
            "Please use categorical_feature argument of the Dataset constructor to pass this parameter.\n",
            "  _log_warning(f'{key} keyword has been found in `params` and will be ignored.\\n'\n",
            "C:\\Users\\Toan\\anaconda3\\envs\\ml_com\\lib\\site-packages\\lightgbm\\basic.py:1513: UserWarning: categorical_feature in param dict is overridden.\n",
            "  _log_warning(f'{cat_alias} in param dict is overridden.')\n"
          ]
        },
        {
          "name": "stdout",
          "output_type": "stream",
          "text": [
            "F1_SCORE_CV:  0.8012 \n",
            "\n",
            "F1_SCORE_TRAINING:  1.0 \n",
            "\n",
            "Fold 4\n"
          ]
        },
        {
          "name": "stderr",
          "output_type": "stream",
          "text": [
            "C:\\Users\\Toan\\anaconda3\\envs\\ml_com\\lib\\site-packages\\lightgbm\\sklearn.py:736: UserWarning: 'verbose' argument is deprecated and will be removed in a future release of LightGBM. Pass 'log_evaluation()' callback via 'callbacks' argument instead.\n",
            "  _log_warning(\"'verbose' argument is deprecated and will be removed in a future release of LightGBM. \"\n",
            "C:\\Users\\Toan\\anaconda3\\envs\\ml_com\\lib\\site-packages\\lightgbm\\basic.py:1487: UserWarning: categorical_feature keyword has been found in `params` and will be ignored.\n",
            "Please use categorical_feature argument of the Dataset constructor to pass this parameter.\n",
            "  _log_warning(f'{key} keyword has been found in `params` and will be ignored.\\n'\n",
            "C:\\Users\\Toan\\anaconda3\\envs\\ml_com\\lib\\site-packages\\lightgbm\\basic.py:1513: UserWarning: categorical_feature in param dict is overridden.\n",
            "  _log_warning(f'{cat_alias} in param dict is overridden.')\n"
          ]
        },
        {
          "name": "stdout",
          "output_type": "stream",
          "text": [
            "F1_SCORE_CV:  0.7898 \n",
            "\n",
            "F1_SCORE_TRAINING:  1.0 \n",
            "\n"
          ]
        }
      ],
      "source": [
        "## Kfold\n",
        "cv_score = []\n",
        "training_score = []\n",
        "feature_importance_df =  pd.DataFrame()\n",
        "for n_fold, (train_idx, valid_idx) in enumerate(skf.split(X_train, y_train)):\n",
        "    print(\"Fold %s\" % (n_fold))\n",
        "    train_x, train_y = X_train.iloc[train_idx], y_train.iloc[train_idx]\n",
        "    valid_x, valid_y = X_train.iloc[valid_idx], y_train.iloc[valid_idx]\n",
        "\n",
        "    clf = lgb(\n",
        "        **params_k\n",
        "    )\n",
        "    clf.fit(train_x, train_y, verbose= False)\n",
        "    score_cv = f1_score(valid_y, clf.predict(valid_x),  average='macro')\n",
        "    score_training = f1_score(train_y, clf.predict(train_x),  average='macro')\n",
        "\n",
        "    # For create feature importances\n",
        "    fold_importance_df = pd.DataFrame()\n",
        "    fold_importance_df[\"feature\"] = X_train.columns\n",
        "    fold_importance_df[\"importance\"] = clf.feature_importances_\n",
        "    fold_importance_df[\"fold\"] = i + 1\n",
        "    feature_importance_df = pd.concat([feature_importance_df, fold_importance_df], axis=0)\n",
        "\n",
        "    print('F1_SCORE_CV: ', round(score_cv, 4), '\\n')\n",
        "    print('F1_SCORE_TRAINING: ', round(score_training, 4), '\\n')\n",
        "\n",
        "    cv_score.append(score_cv)\n",
        "    training_score.append(score_training)"
      ]
    },
    {
      "cell_type": "code",
      "execution_count": 158,
      "metadata": {
        "colab": {
          "base_uri": "https://localhost:8080/"
        },
        "id": "y7KiXouYBVV9",
        "outputId": "57fdcd6a-8f90-4d19-9acb-f7b31bf0bb57"
      },
      "outputs": [
        {
          "name": "stdout",
          "output_type": "stream",
          "text": [
            "CV SCORE: 0.7875084698209586 - std: 0.024681535781621092\n",
            "TRAINING SCORE: 0.9999959189404791 - std: 9.125526508854801e-06\n"
          ]
        }
      ],
      "source": [
        "##  - 0.8049874090219371 \n",
        "print(\"CV SCORE: {} - std: {}\".format(sum(cv_score)/ 5,std(cv_score) ))\n",
        "print(\"TRAINING SCORE: {} - std: {}\".format(sum(training_score)/ 5,std(training_score) ))"
      ]
    },
    {
      "cell_type": "code",
      "execution_count": 159,
      "metadata": {},
      "outputs": [],
      "source": [
        "def display_importances(feature_importance_df_, top_k):\n",
        "\n",
        "    cols = feature_importance_df_[[\"feature\", \"importance\"]].groupby(\"feature\").mean().sort_values(\n",
        "        by=\"importance\", ascending=False)[:top_k].index\n",
        "    \n",
        "    # best_features = feature_importance_df_.loc[feature_importance_df_.feature.isin(cols)]\n",
        "    \n",
        "    # plt.figure(figsize=(12, 8))\n",
        "    # sns.barplot(x=\"importance\", y=\"feature\", \n",
        "    #             data=best_features.sort_values(by=\"importance\", ascending=False))\n",
        "    # plt.title('LightGBM Features (avg over folds)')\n",
        "    # plt.tight_layout()\n",
        "    return cols\n",
        "# top_fea_50 = display_importances(feature_importance_df_=feature_importance_df, top_k = 20)\n",
        "# top_fea_100 = display_importances(feature_importance_df_=feature_importance_df, top_k = 100)\n",
        "# top_fea_150 = display_importances(feature_importance_df_=feature_importance_df, top_k = 150)\n",
        "top_fea_200 = display_importances(feature_importance_df_=feature_importance_df, top_k = 200)\n",
        "top_fea_250 = display_importances(feature_importance_df_=feature_importance_df, top_k = 250)\n",
        "top_fea_300 = display_importances(feature_importance_df_=feature_importance_df, top_k = 300)"
      ]
    },
    {
      "cell_type": "code",
      "execution_count": 161,
      "metadata": {},
      "outputs": [
        {
          "name": "stdout",
          "output_type": "stream",
          "text": [
            "Fold 0\n"
          ]
        },
        {
          "name": "stderr",
          "output_type": "stream",
          "text": [
            "C:\\Users\\Toan\\anaconda3\\envs\\ml_com\\lib\\site-packages\\lightgbm\\sklearn.py:736: UserWarning: 'verbose' argument is deprecated and will be removed in a future release of LightGBM. Pass 'log_evaluation()' callback via 'callbacks' argument instead.\n",
            "  _log_warning(\"'verbose' argument is deprecated and will be removed in a future release of LightGBM. \"\n",
            "C:\\Users\\Toan\\anaconda3\\envs\\ml_com\\lib\\site-packages\\lightgbm\\basic.py:1487: UserWarning: categorical_feature keyword has been found in `params` and will be ignored.\n",
            "Please use categorical_feature argument of the Dataset constructor to pass this parameter.\n",
            "  _log_warning(f'{key} keyword has been found in `params` and will be ignored.\\n'\n",
            "C:\\Users\\Toan\\anaconda3\\envs\\ml_com\\lib\\site-packages\\lightgbm\\basic.py:1513: UserWarning: categorical_feature in param dict is overridden.\n",
            "  _log_warning(f'{cat_alias} in param dict is overridden.')\n"
          ]
        },
        {
          "name": "stdout",
          "output_type": "stream",
          "text": [
            "F1_SCORE_CV:  0.7917 \n",
            "\n",
            "F1_SCORE_TRAINING:  1.0 \n",
            "\n",
            "Fold 1\n"
          ]
        },
        {
          "name": "stderr",
          "output_type": "stream",
          "text": [
            "C:\\Users\\Toan\\anaconda3\\envs\\ml_com\\lib\\site-packages\\lightgbm\\sklearn.py:736: UserWarning: 'verbose' argument is deprecated and will be removed in a future release of LightGBM. Pass 'log_evaluation()' callback via 'callbacks' argument instead.\n",
            "  _log_warning(\"'verbose' argument is deprecated and will be removed in a future release of LightGBM. \"\n",
            "C:\\Users\\Toan\\anaconda3\\envs\\ml_com\\lib\\site-packages\\lightgbm\\basic.py:1487: UserWarning: categorical_feature keyword has been found in `params` and will be ignored.\n",
            "Please use categorical_feature argument of the Dataset constructor to pass this parameter.\n",
            "  _log_warning(f'{key} keyword has been found in `params` and will be ignored.\\n'\n",
            "C:\\Users\\Toan\\anaconda3\\envs\\ml_com\\lib\\site-packages\\lightgbm\\basic.py:1513: UserWarning: categorical_feature in param dict is overridden.\n",
            "  _log_warning(f'{cat_alias} in param dict is overridden.')\n"
          ]
        },
        {
          "name": "stdout",
          "output_type": "stream",
          "text": [
            "F1_SCORE_CV:  0.776 \n",
            "\n",
            "F1_SCORE_TRAINING:  1.0 \n",
            "\n",
            "Fold 2\n"
          ]
        },
        {
          "name": "stderr",
          "output_type": "stream",
          "text": [
            "C:\\Users\\Toan\\anaconda3\\envs\\ml_com\\lib\\site-packages\\lightgbm\\sklearn.py:736: UserWarning: 'verbose' argument is deprecated and will be removed in a future release of LightGBM. Pass 'log_evaluation()' callback via 'callbacks' argument instead.\n",
            "  _log_warning(\"'verbose' argument is deprecated and will be removed in a future release of LightGBM. \"\n",
            "C:\\Users\\Toan\\anaconda3\\envs\\ml_com\\lib\\site-packages\\lightgbm\\basic.py:1487: UserWarning: categorical_feature keyword has been found in `params` and will be ignored.\n",
            "Please use categorical_feature argument of the Dataset constructor to pass this parameter.\n",
            "  _log_warning(f'{key} keyword has been found in `params` and will be ignored.\\n'\n",
            "C:\\Users\\Toan\\anaconda3\\envs\\ml_com\\lib\\site-packages\\lightgbm\\basic.py:1513: UserWarning: categorical_feature in param dict is overridden.\n",
            "  _log_warning(f'{cat_alias} in param dict is overridden.')\n"
          ]
        },
        {
          "name": "stdout",
          "output_type": "stream",
          "text": [
            "F1_SCORE_CV:  0.8233 \n",
            "\n",
            "F1_SCORE_TRAINING:  1.0 \n",
            "\n",
            "Fold 3\n"
          ]
        },
        {
          "name": "stderr",
          "output_type": "stream",
          "text": [
            "C:\\Users\\Toan\\anaconda3\\envs\\ml_com\\lib\\site-packages\\lightgbm\\sklearn.py:736: UserWarning: 'verbose' argument is deprecated and will be removed in a future release of LightGBM. Pass 'log_evaluation()' callback via 'callbacks' argument instead.\n",
            "  _log_warning(\"'verbose' argument is deprecated and will be removed in a future release of LightGBM. \"\n",
            "C:\\Users\\Toan\\anaconda3\\envs\\ml_com\\lib\\site-packages\\lightgbm\\basic.py:1487: UserWarning: categorical_feature keyword has been found in `params` and will be ignored.\n",
            "Please use categorical_feature argument of the Dataset constructor to pass this parameter.\n",
            "  _log_warning(f'{key} keyword has been found in `params` and will be ignored.\\n'\n",
            "C:\\Users\\Toan\\anaconda3\\envs\\ml_com\\lib\\site-packages\\lightgbm\\basic.py:1513: UserWarning: categorical_feature in param dict is overridden.\n",
            "  _log_warning(f'{cat_alias} in param dict is overridden.')\n"
          ]
        },
        {
          "name": "stdout",
          "output_type": "stream",
          "text": [
            "F1_SCORE_CV:  0.8089 \n",
            "\n",
            "F1_SCORE_TRAINING:  1.0 \n",
            "\n",
            "Fold 4\n"
          ]
        },
        {
          "name": "stderr",
          "output_type": "stream",
          "text": [
            "C:\\Users\\Toan\\anaconda3\\envs\\ml_com\\lib\\site-packages\\lightgbm\\sklearn.py:736: UserWarning: 'verbose' argument is deprecated and will be removed in a future release of LightGBM. Pass 'log_evaluation()' callback via 'callbacks' argument instead.\n",
            "  _log_warning(\"'verbose' argument is deprecated and will be removed in a future release of LightGBM. \"\n",
            "C:\\Users\\Toan\\anaconda3\\envs\\ml_com\\lib\\site-packages\\lightgbm\\basic.py:1487: UserWarning: categorical_feature keyword has been found in `params` and will be ignored.\n",
            "Please use categorical_feature argument of the Dataset constructor to pass this parameter.\n",
            "  _log_warning(f'{key} keyword has been found in `params` and will be ignored.\\n'\n",
            "C:\\Users\\Toan\\anaconda3\\envs\\ml_com\\lib\\site-packages\\lightgbm\\basic.py:1513: UserWarning: categorical_feature in param dict is overridden.\n",
            "  _log_warning(f'{cat_alias} in param dict is overridden.')\n"
          ]
        },
        {
          "name": "stdout",
          "output_type": "stream",
          "text": [
            "F1_SCORE_CV:  0.7893 \n",
            "\n",
            "F1_SCORE_TRAINING:  1.0 \n",
            "\n",
            "CV SCORE: 0.7978353846662485 - std: 0.018426308739477273\n",
            "TRAINING SCORE: 0.9999836758985203 - std: 1.7072051926739718e-05\n"
          ]
        }
      ],
      "source": [
        "## top 250 cv - 0.7978353846662485 - std: 0.018426308739477273 1st\n",
        "## top 200 cv - 0.7937366078480538 - std: 0.021380086178773374\n",
        "## top 150 cv - 0.7899814071413578 - std: 0.03008877391310114\n",
        "## top 100 cv - 0.7802258450609931 - std: 0.02259313462464178\n",
        "## top 300 cv - 0.7930353865893962 - std: 0.026677523879470658\n",
        "top_fea_50_cols_list =  list(top_fea_250)\n",
        "cv_score = []\n",
        "training_score = []\n",
        "X_train_useful_cols = X_train[top_fea_50_cols_list]\n",
        "feature_importance_df =  pd.DataFrame()\n",
        "for n_fold, (train_idx, valid_idx) in enumerate(skf.split(X_train_useful_cols, y_train)):\n",
        "    print(\"Fold %s\" % (n_fold))\n",
        "    train_x, train_y = X_train_useful_cols.iloc[train_idx], y_train.iloc[train_idx]\n",
        "    valid_x, valid_y = X_train_useful_cols.iloc[valid_idx], y_train.iloc[valid_idx]\n",
        "\n",
        "    clf = lgb(\n",
        "        **params_k\n",
        "    )\n",
        "    clf.fit(train_x, train_y, verbose= False)\n",
        "    score_cv = f1_score(valid_y, clf.predict(valid_x),  average='macro')\n",
        "    score_training = f1_score(train_y, clf.predict(train_x),  average='macro')\n",
        "    print('F1_SCORE_CV: ', round(score_cv, 4), '\\n')\n",
        "    print('F1_SCORE_TRAINING: ', round(score_training, 4), '\\n')\n",
        "\n",
        "    cv_score.append(score_cv)\n",
        "    training_score.append(score_training)\n",
        "print(\"CV SCORE: {} - std: {}\".format(sum(cv_score)/ 5,std(cv_score) ))\n",
        "print(\"TRAINING SCORE: {} - std: {}\".format(sum(training_score)/ 5,std(training_score) ))"
      ]
    },
    {
      "cell_type": "code",
      "execution_count": 162,
      "metadata": {},
      "outputs": [],
      "source": [
        "## select top 250 features important"
      ]
    },
    {
      "cell_type": "markdown",
      "metadata": {
        "id": "t8OrrR29BVV-"
      },
      "source": [
        "## 7. Predict"
      ]
    },
    {
      "cell_type": "markdown",
      "metadata": {
        "id": "tUUZqYcfW5h_"
      },
      "source": [
        "### predict for SMOTE data"
      ]
    },
    {
      "cell_type": "code",
      "execution_count": null,
      "metadata": {
        "id": "6mPs4QjjBVV-"
      },
      "outputs": [],
      "source": [
        "# submit_file.head()\n",
        "# # test_label.head()"
      ]
    },
    {
      "cell_type": "code",
      "execution_count": null,
      "metadata": {
        "id": "aaPuYwLeBVV-"
      },
      "outputs": [],
      "source": [
        "# submit_file.to_csv(\"data/submmit/baseline_lgb_addAggFeaPhase2.csv\", index=False)"
      ]
    },
    {
      "cell_type": "code",
      "execution_count": null,
      "metadata": {
        "id": "eGKNzQ0CBVV_"
      },
      "outputs": [],
      "source": [
        "# submit_file['label'].value_counts()"
      ]
    },
    {
      "cell_type": "markdown",
      "metadata": {
        "id": "xR6JGR46BVV_"
      },
      "source": [
        "## 8. OPTUNA TUNE"
      ]
    },
    {
      "cell_type": "code",
      "execution_count": 163,
      "metadata": {},
      "outputs": [],
      "source": [
        "selected_features = list(top_fea_250)\n",
        "X_train = df_train.drop(columns = ['label', 'id_bh']) \n",
        "X_train[category_cols] = X_train[category_cols].astype('category')\n",
        "X_train = X_train[selected_features]"
      ]
    },
    {
      "cell_type": "code",
      "execution_count": 164,
      "metadata": {
        "colab": {
          "base_uri": "https://localhost:8080/"
        },
        "id": "SpIcmG-UBVV_",
        "outputId": "422e3296-2f98-4c50-c0eb-b2a7236cbe64"
      },
      "outputs": [
        {
          "name": "stderr",
          "output_type": "stream",
          "text": [
            "\u001b[32m[I 2022-04-18 22:06:30,172]\u001b[0m A new study created in memory with name: no-name-fa7446fa-507c-44a1-98af-6489a65a4f5c\u001b[0m\n",
            "C:\\Users\\Toan\\anaconda3\\envs\\ml_com\\lib\\site-packages\\lightgbm\\sklearn.py:736: UserWarning: 'verbose' argument is deprecated and will be removed in a future release of LightGBM. Pass 'log_evaluation()' callback via 'callbacks' argument instead.\n",
            "  _log_warning(\"'verbose' argument is deprecated and will be removed in a future release of LightGBM. \"\n",
            "C:\\Users\\Toan\\anaconda3\\envs\\ml_com\\lib\\site-packages\\lightgbm\\basic.py:1487: UserWarning: categorical_feature keyword has been found in `params` and will be ignored.\n",
            "Please use categorical_feature argument of the Dataset constructor to pass this parameter.\n",
            "  _log_warning(f'{key} keyword has been found in `params` and will be ignored.\\n'\n",
            "C:\\Users\\Toan\\anaconda3\\envs\\ml_com\\lib\\site-packages\\lightgbm\\basic.py:1513: UserWarning: categorical_feature in param dict is overridden.\n",
            "  _log_warning(f'{cat_alias} in param dict is overridden.')\n"
          ]
        },
        {
          "name": "stdout",
          "output_type": "stream",
          "text": [
            "[LightGBM] [Warning] feature_fraction is set=0.9727895077873797, colsample_bytree=1.0 will be ignored. Current value: feature_fraction=0.9727895077873797\n",
            "[LightGBM] [Warning] bagging_fraction is set=0.5920311821910044, subsample=1.0 will be ignored. Current value: bagging_fraction=0.5920311821910044\n",
            "F1_SCORE:  0.4047 \n",
            "\n",
            "[LightGBM] [Warning] feature_fraction is set=0.9727895077873797, colsample_bytree=1.0 will be ignored. Current value: feature_fraction=0.9727895077873797\n",
            "[LightGBM] [Warning] bagging_fraction is set=0.5920311821910044, subsample=1.0 will be ignored. Current value: bagging_fraction=0.5920311821910044\n"
          ]
        },
        {
          "name": "stderr",
          "output_type": "stream",
          "text": [
            "C:\\Users\\Toan\\anaconda3\\envs\\ml_com\\lib\\site-packages\\lightgbm\\sklearn.py:736: UserWarning: 'verbose' argument is deprecated and will be removed in a future release of LightGBM. Pass 'log_evaluation()' callback via 'callbacks' argument instead.\n",
            "  _log_warning(\"'verbose' argument is deprecated and will be removed in a future release of LightGBM. \"\n",
            "C:\\Users\\Toan\\anaconda3\\envs\\ml_com\\lib\\site-packages\\lightgbm\\basic.py:1487: UserWarning: categorical_feature keyword has been found in `params` and will be ignored.\n",
            "Please use categorical_feature argument of the Dataset constructor to pass this parameter.\n",
            "  _log_warning(f'{key} keyword has been found in `params` and will be ignored.\\n'\n",
            "C:\\Users\\Toan\\anaconda3\\envs\\ml_com\\lib\\site-packages\\lightgbm\\basic.py:1513: UserWarning: categorical_feature in param dict is overridden.\n",
            "  _log_warning(f'{cat_alias} in param dict is overridden.')\n"
          ]
        },
        {
          "name": "stdout",
          "output_type": "stream",
          "text": [
            "F1_SCORE:  0.3313 \n",
            "\n",
            "[LightGBM] [Warning] feature_fraction is set=0.9727895077873797, colsample_bytree=1.0 will be ignored. Current value: feature_fraction=0.9727895077873797\n",
            "[LightGBM] [Warning] bagging_fraction is set=0.5920311821910044, subsample=1.0 will be ignored. Current value: bagging_fraction=0.5920311821910044\n"
          ]
        },
        {
          "name": "stderr",
          "output_type": "stream",
          "text": [
            "C:\\Users\\Toan\\anaconda3\\envs\\ml_com\\lib\\site-packages\\lightgbm\\sklearn.py:736: UserWarning: 'verbose' argument is deprecated and will be removed in a future release of LightGBM. Pass 'log_evaluation()' callback via 'callbacks' argument instead.\n",
            "  _log_warning(\"'verbose' argument is deprecated and will be removed in a future release of LightGBM. \"\n",
            "C:\\Users\\Toan\\anaconda3\\envs\\ml_com\\lib\\site-packages\\lightgbm\\basic.py:1487: UserWarning: categorical_feature keyword has been found in `params` and will be ignored.\n",
            "Please use categorical_feature argument of the Dataset constructor to pass this parameter.\n",
            "  _log_warning(f'{key} keyword has been found in `params` and will be ignored.\\n'\n",
            "C:\\Users\\Toan\\anaconda3\\envs\\ml_com\\lib\\site-packages\\lightgbm\\basic.py:1513: UserWarning: categorical_feature in param dict is overridden.\n",
            "  _log_warning(f'{cat_alias} in param dict is overridden.')\n"
          ]
        },
        {
          "name": "stdout",
          "output_type": "stream",
          "text": [
            "F1_SCORE:  0.3658 \n",
            "\n",
            "[LightGBM] [Warning] feature_fraction is set=0.9727895077873797, colsample_bytree=1.0 will be ignored. Current value: feature_fraction=0.9727895077873797\n",
            "[LightGBM] [Warning] bagging_fraction is set=0.5920311821910044, subsample=1.0 will be ignored. Current value: bagging_fraction=0.5920311821910044\n"
          ]
        },
        {
          "name": "stderr",
          "output_type": "stream",
          "text": [
            "C:\\Users\\Toan\\anaconda3\\envs\\ml_com\\lib\\site-packages\\lightgbm\\sklearn.py:736: UserWarning: 'verbose' argument is deprecated and will be removed in a future release of LightGBM. Pass 'log_evaluation()' callback via 'callbacks' argument instead.\n",
            "  _log_warning(\"'verbose' argument is deprecated and will be removed in a future release of LightGBM. \"\n",
            "C:\\Users\\Toan\\anaconda3\\envs\\ml_com\\lib\\site-packages\\lightgbm\\basic.py:1487: UserWarning: categorical_feature keyword has been found in `params` and will be ignored.\n",
            "Please use categorical_feature argument of the Dataset constructor to pass this parameter.\n",
            "  _log_warning(f'{key} keyword has been found in `params` and will be ignored.\\n'\n",
            "C:\\Users\\Toan\\anaconda3\\envs\\ml_com\\lib\\site-packages\\lightgbm\\basic.py:1513: UserWarning: categorical_feature in param dict is overridden.\n",
            "  _log_warning(f'{cat_alias} in param dict is overridden.')\n"
          ]
        },
        {
          "name": "stdout",
          "output_type": "stream",
          "text": [
            "F1_SCORE:  0.3592 \n",
            "\n",
            "[LightGBM] [Warning] feature_fraction is set=0.9727895077873797, colsample_bytree=1.0 will be ignored. Current value: feature_fraction=0.9727895077873797\n",
            "[LightGBM] [Warning] bagging_fraction is set=0.5920311821910044, subsample=1.0 will be ignored. Current value: bagging_fraction=0.5920311821910044\n"
          ]
        },
        {
          "name": "stderr",
          "output_type": "stream",
          "text": [
            "C:\\Users\\Toan\\anaconda3\\envs\\ml_com\\lib\\site-packages\\lightgbm\\sklearn.py:736: UserWarning: 'verbose' argument is deprecated and will be removed in a future release of LightGBM. Pass 'log_evaluation()' callback via 'callbacks' argument instead.\n",
            "  _log_warning(\"'verbose' argument is deprecated and will be removed in a future release of LightGBM. \"\n",
            "C:\\Users\\Toan\\anaconda3\\envs\\ml_com\\lib\\site-packages\\lightgbm\\basic.py:1487: UserWarning: categorical_feature keyword has been found in `params` and will be ignored.\n",
            "Please use categorical_feature argument of the Dataset constructor to pass this parameter.\n",
            "  _log_warning(f'{key} keyword has been found in `params` and will be ignored.\\n'\n",
            "C:\\Users\\Toan\\anaconda3\\envs\\ml_com\\lib\\site-packages\\lightgbm\\basic.py:1513: UserWarning: categorical_feature in param dict is overridden.\n",
            "  _log_warning(f'{cat_alias} in param dict is overridden.')\n",
            "\u001b[32m[I 2022-04-18 22:08:55,113]\u001b[0m Trial 0 finished with value: 0.33262117543310177 and parameters: {'num_leaves': 10, 'n_estimators': 1046, 'learning_rate': 0.7353735947192181, 'feature_fraction': 0.9727895077873797, 'bagging_fraction': 0.5920311821910044}. Best is trial 0 with value: 0.33262117543310177.\u001b[0m\n"
          ]
        },
        {
          "name": "stdout",
          "output_type": "stream",
          "text": [
            "F1_SCORE:  0.2021 \n",
            "\n",
            "[LightGBM] [Warning] feature_fraction is set=0.5582995687477756, colsample_bytree=1.0 will be ignored. Current value: feature_fraction=0.5582995687477756\n",
            "[LightGBM] [Warning] bagging_fraction is set=0.6046236603596633, subsample=1.0 will be ignored. Current value: bagging_fraction=0.6046236603596633\n"
          ]
        },
        {
          "name": "stderr",
          "output_type": "stream",
          "text": [
            "C:\\Users\\Toan\\anaconda3\\envs\\ml_com\\lib\\site-packages\\lightgbm\\sklearn.py:736: UserWarning: 'verbose' argument is deprecated and will be removed in a future release of LightGBM. Pass 'log_evaluation()' callback via 'callbacks' argument instead.\n",
            "  _log_warning(\"'verbose' argument is deprecated and will be removed in a future release of LightGBM. \"\n",
            "C:\\Users\\Toan\\anaconda3\\envs\\ml_com\\lib\\site-packages\\lightgbm\\basic.py:1487: UserWarning: categorical_feature keyword has been found in `params` and will be ignored.\n",
            "Please use categorical_feature argument of the Dataset constructor to pass this parameter.\n",
            "  _log_warning(f'{key} keyword has been found in `params` and will be ignored.\\n'\n",
            "C:\\Users\\Toan\\anaconda3\\envs\\ml_com\\lib\\site-packages\\lightgbm\\basic.py:1513: UserWarning: categorical_feature in param dict is overridden.\n",
            "  _log_warning(f'{cat_alias} in param dict is overridden.')\n"
          ]
        },
        {
          "name": "stdout",
          "output_type": "stream",
          "text": [
            "F1_SCORE:  0.157 \n",
            "\n",
            "[LightGBM] [Warning] feature_fraction is set=0.5582995687477756, colsample_bytree=1.0 will be ignored. Current value: feature_fraction=0.5582995687477756\n",
            "[LightGBM] [Warning] bagging_fraction is set=0.6046236603596633, subsample=1.0 will be ignored. Current value: bagging_fraction=0.6046236603596633\n"
          ]
        },
        {
          "name": "stderr",
          "output_type": "stream",
          "text": [
            "C:\\Users\\Toan\\anaconda3\\envs\\ml_com\\lib\\site-packages\\lightgbm\\sklearn.py:736: UserWarning: 'verbose' argument is deprecated and will be removed in a future release of LightGBM. Pass 'log_evaluation()' callback via 'callbacks' argument instead.\n",
            "  _log_warning(\"'verbose' argument is deprecated and will be removed in a future release of LightGBM. \"\n",
            "C:\\Users\\Toan\\anaconda3\\envs\\ml_com\\lib\\site-packages\\lightgbm\\basic.py:1487: UserWarning: categorical_feature keyword has been found in `params` and will be ignored.\n",
            "Please use categorical_feature argument of the Dataset constructor to pass this parameter.\n",
            "  _log_warning(f'{key} keyword has been found in `params` and will be ignored.\\n'\n",
            "C:\\Users\\Toan\\anaconda3\\envs\\ml_com\\lib\\site-packages\\lightgbm\\basic.py:1513: UserWarning: categorical_feature in param dict is overridden.\n",
            "  _log_warning(f'{cat_alias} in param dict is overridden.')\n"
          ]
        },
        {
          "name": "stdout",
          "output_type": "stream",
          "text": [
            "F1_SCORE:  0.1475 \n",
            "\n",
            "[LightGBM] [Warning] feature_fraction is set=0.5582995687477756, colsample_bytree=1.0 will be ignored. Current value: feature_fraction=0.5582995687477756\n",
            "[LightGBM] [Warning] bagging_fraction is set=0.6046236603596633, subsample=1.0 will be ignored. Current value: bagging_fraction=0.6046236603596633\n"
          ]
        },
        {
          "name": "stderr",
          "output_type": "stream",
          "text": [
            "C:\\Users\\Toan\\anaconda3\\envs\\ml_com\\lib\\site-packages\\lightgbm\\sklearn.py:736: UserWarning: 'verbose' argument is deprecated and will be removed in a future release of LightGBM. Pass 'log_evaluation()' callback via 'callbacks' argument instead.\n",
            "  _log_warning(\"'verbose' argument is deprecated and will be removed in a future release of LightGBM. \"\n",
            "C:\\Users\\Toan\\anaconda3\\envs\\ml_com\\lib\\site-packages\\lightgbm\\basic.py:1487: UserWarning: categorical_feature keyword has been found in `params` and will be ignored.\n",
            "Please use categorical_feature argument of the Dataset constructor to pass this parameter.\n",
            "  _log_warning(f'{key} keyword has been found in `params` and will be ignored.\\n'\n",
            "C:\\Users\\Toan\\anaconda3\\envs\\ml_com\\lib\\site-packages\\lightgbm\\basic.py:1513: UserWarning: categorical_feature in param dict is overridden.\n",
            "  _log_warning(f'{cat_alias} in param dict is overridden.')\n"
          ]
        },
        {
          "name": "stdout",
          "output_type": "stream",
          "text": [
            "F1_SCORE:  0.0706 \n",
            "\n",
            "[LightGBM] [Warning] feature_fraction is set=0.5582995687477756, colsample_bytree=1.0 will be ignored. Current value: feature_fraction=0.5582995687477756\n",
            "[LightGBM] [Warning] bagging_fraction is set=0.6046236603596633, subsample=1.0 will be ignored. Current value: bagging_fraction=0.6046236603596633\n"
          ]
        },
        {
          "name": "stderr",
          "output_type": "stream",
          "text": [
            "C:\\Users\\Toan\\anaconda3\\envs\\ml_com\\lib\\site-packages\\lightgbm\\sklearn.py:736: UserWarning: 'verbose' argument is deprecated and will be removed in a future release of LightGBM. Pass 'log_evaluation()' callback via 'callbacks' argument instead.\n",
            "  _log_warning(\"'verbose' argument is deprecated and will be removed in a future release of LightGBM. \"\n",
            "C:\\Users\\Toan\\anaconda3\\envs\\ml_com\\lib\\site-packages\\lightgbm\\basic.py:1487: UserWarning: categorical_feature keyword has been found in `params` and will be ignored.\n",
            "Please use categorical_feature argument of the Dataset constructor to pass this parameter.\n",
            "  _log_warning(f'{key} keyword has been found in `params` and will be ignored.\\n'\n",
            "C:\\Users\\Toan\\anaconda3\\envs\\ml_com\\lib\\site-packages\\lightgbm\\basic.py:1513: UserWarning: categorical_feature in param dict is overridden.\n",
            "  _log_warning(f'{cat_alias} in param dict is overridden.')\n"
          ]
        },
        {
          "name": "stdout",
          "output_type": "stream",
          "text": [
            "F1_SCORE:  0.103 \n",
            "\n",
            "[LightGBM] [Warning] feature_fraction is set=0.5582995687477756, colsample_bytree=1.0 will be ignored. Current value: feature_fraction=0.5582995687477756\n",
            "[LightGBM] [Warning] bagging_fraction is set=0.6046236603596633, subsample=1.0 will be ignored. Current value: bagging_fraction=0.6046236603596633\n"
          ]
        },
        {
          "name": "stderr",
          "output_type": "stream",
          "text": [
            "C:\\Users\\Toan\\anaconda3\\envs\\ml_com\\lib\\site-packages\\lightgbm\\sklearn.py:736: UserWarning: 'verbose' argument is deprecated and will be removed in a future release of LightGBM. Pass 'log_evaluation()' callback via 'callbacks' argument instead.\n",
            "  _log_warning(\"'verbose' argument is deprecated and will be removed in a future release of LightGBM. \"\n",
            "C:\\Users\\Toan\\anaconda3\\envs\\ml_com\\lib\\site-packages\\lightgbm\\basic.py:1487: UserWarning: categorical_feature keyword has been found in `params` and will be ignored.\n",
            "Please use categorical_feature argument of the Dataset constructor to pass this parameter.\n",
            "  _log_warning(f'{key} keyword has been found in `params` and will be ignored.\\n'\n",
            "C:\\Users\\Toan\\anaconda3\\envs\\ml_com\\lib\\site-packages\\lightgbm\\basic.py:1513: UserWarning: categorical_feature in param dict is overridden.\n",
            "  _log_warning(f'{cat_alias} in param dict is overridden.')\n",
            "\u001b[32m[I 2022-04-18 22:10:39,760]\u001b[0m Trial 1 finished with value: 0.12004875000289832 and parameters: {'num_leaves': 2, 'n_estimators': 1155, 'learning_rate': 0.9073965196712113, 'feature_fraction': 0.5582995687477756, 'bagging_fraction': 0.6046236603596633}. Best is trial 0 with value: 0.33262117543310177.\u001b[0m\n"
          ]
        },
        {
          "name": "stdout",
          "output_type": "stream",
          "text": [
            "F1_SCORE:  0.1221 \n",
            "\n",
            "[LightGBM] [Warning] feature_fraction is set=0.9787114047811016, colsample_bytree=1.0 will be ignored. Current value: feature_fraction=0.9787114047811016\n",
            "[LightGBM] [Warning] bagging_fraction is set=0.9983118436765506, subsample=1.0 will be ignored. Current value: bagging_fraction=0.9983118436765506\n"
          ]
        },
        {
          "name": "stderr",
          "output_type": "stream",
          "text": [
            "C:\\Users\\Toan\\anaconda3\\envs\\ml_com\\lib\\site-packages\\lightgbm\\sklearn.py:736: UserWarning: 'verbose' argument is deprecated and will be removed in a future release of LightGBM. Pass 'log_evaluation()' callback via 'callbacks' argument instead.\n",
            "  _log_warning(\"'verbose' argument is deprecated and will be removed in a future release of LightGBM. \"\n",
            "C:\\Users\\Toan\\anaconda3\\envs\\ml_com\\lib\\site-packages\\lightgbm\\basic.py:1487: UserWarning: categorical_feature keyword has been found in `params` and will be ignored.\n",
            "Please use categorical_feature argument of the Dataset constructor to pass this parameter.\n",
            "  _log_warning(f'{key} keyword has been found in `params` and will be ignored.\\n'\n",
            "C:\\Users\\Toan\\anaconda3\\envs\\ml_com\\lib\\site-packages\\lightgbm\\basic.py:1513: UserWarning: categorical_feature in param dict is overridden.\n",
            "  _log_warning(f'{cat_alias} in param dict is overridden.')\n"
          ]
        },
        {
          "name": "stdout",
          "output_type": "stream",
          "text": [
            "F1_SCORE:  0.3906 \n",
            "\n",
            "[LightGBM] [Warning] feature_fraction is set=0.9787114047811016, colsample_bytree=1.0 will be ignored. Current value: feature_fraction=0.9787114047811016\n",
            "[LightGBM] [Warning] bagging_fraction is set=0.9983118436765506, subsample=1.0 will be ignored. Current value: bagging_fraction=0.9983118436765506\n"
          ]
        },
        {
          "name": "stderr",
          "output_type": "stream",
          "text": [
            "C:\\Users\\Toan\\anaconda3\\envs\\ml_com\\lib\\site-packages\\lightgbm\\sklearn.py:736: UserWarning: 'verbose' argument is deprecated and will be removed in a future release of LightGBM. Pass 'log_evaluation()' callback via 'callbacks' argument instead.\n",
            "  _log_warning(\"'verbose' argument is deprecated and will be removed in a future release of LightGBM. \"\n",
            "C:\\Users\\Toan\\anaconda3\\envs\\ml_com\\lib\\site-packages\\lightgbm\\basic.py:1487: UserWarning: categorical_feature keyword has been found in `params` and will be ignored.\n",
            "Please use categorical_feature argument of the Dataset constructor to pass this parameter.\n",
            "  _log_warning(f'{key} keyword has been found in `params` and will be ignored.\\n'\n",
            "C:\\Users\\Toan\\anaconda3\\envs\\ml_com\\lib\\site-packages\\lightgbm\\basic.py:1513: UserWarning: categorical_feature in param dict is overridden.\n",
            "  _log_warning(f'{cat_alias} in param dict is overridden.')\n"
          ]
        },
        {
          "name": "stdout",
          "output_type": "stream",
          "text": [
            "F1_SCORE:  0.4321 \n",
            "\n",
            "[LightGBM] [Warning] feature_fraction is set=0.9787114047811016, colsample_bytree=1.0 will be ignored. Current value: feature_fraction=0.9787114047811016\n",
            "[LightGBM] [Warning] bagging_fraction is set=0.9983118436765506, subsample=1.0 will be ignored. Current value: bagging_fraction=0.9983118436765506\n"
          ]
        },
        {
          "name": "stderr",
          "output_type": "stream",
          "text": [
            "C:\\Users\\Toan\\anaconda3\\envs\\ml_com\\lib\\site-packages\\lightgbm\\sklearn.py:736: UserWarning: 'verbose' argument is deprecated and will be removed in a future release of LightGBM. Pass 'log_evaluation()' callback via 'callbacks' argument instead.\n",
            "  _log_warning(\"'verbose' argument is deprecated and will be removed in a future release of LightGBM. \"\n",
            "C:\\Users\\Toan\\anaconda3\\envs\\ml_com\\lib\\site-packages\\lightgbm\\basic.py:1487: UserWarning: categorical_feature keyword has been found in `params` and will be ignored.\n",
            "Please use categorical_feature argument of the Dataset constructor to pass this parameter.\n",
            "  _log_warning(f'{key} keyword has been found in `params` and will be ignored.\\n'\n",
            "C:\\Users\\Toan\\anaconda3\\envs\\ml_com\\lib\\site-packages\\lightgbm\\basic.py:1513: UserWarning: categorical_feature in param dict is overridden.\n",
            "  _log_warning(f'{cat_alias} in param dict is overridden.')\n"
          ]
        },
        {
          "name": "stdout",
          "output_type": "stream",
          "text": [
            "F1_SCORE:  0.1777 \n",
            "\n",
            "[LightGBM] [Warning] feature_fraction is set=0.9787114047811016, colsample_bytree=1.0 will be ignored. Current value: feature_fraction=0.9787114047811016\n",
            "[LightGBM] [Warning] bagging_fraction is set=0.9983118436765506, subsample=1.0 will be ignored. Current value: bagging_fraction=0.9983118436765506\n"
          ]
        },
        {
          "name": "stderr",
          "output_type": "stream",
          "text": [
            "C:\\Users\\Toan\\anaconda3\\envs\\ml_com\\lib\\site-packages\\lightgbm\\sklearn.py:736: UserWarning: 'verbose' argument is deprecated and will be removed in a future release of LightGBM. Pass 'log_evaluation()' callback via 'callbacks' argument instead.\n",
            "  _log_warning(\"'verbose' argument is deprecated and will be removed in a future release of LightGBM. \"\n",
            "C:\\Users\\Toan\\anaconda3\\envs\\ml_com\\lib\\site-packages\\lightgbm\\basic.py:1487: UserWarning: categorical_feature keyword has been found in `params` and will be ignored.\n",
            "Please use categorical_feature argument of the Dataset constructor to pass this parameter.\n",
            "  _log_warning(f'{key} keyword has been found in `params` and will be ignored.\\n'\n",
            "C:\\Users\\Toan\\anaconda3\\envs\\ml_com\\lib\\site-packages\\lightgbm\\basic.py:1513: UserWarning: categorical_feature in param dict is overridden.\n",
            "  _log_warning(f'{cat_alias} in param dict is overridden.')\n"
          ]
        },
        {
          "name": "stdout",
          "output_type": "stream",
          "text": [
            "F1_SCORE:  0.1828 \n",
            "\n",
            "[LightGBM] [Warning] feature_fraction is set=0.9787114047811016, colsample_bytree=1.0 will be ignored. Current value: feature_fraction=0.9787114047811016\n",
            "[LightGBM] [Warning] bagging_fraction is set=0.9983118436765506, subsample=1.0 will be ignored. Current value: bagging_fraction=0.9983118436765506\n"
          ]
        },
        {
          "name": "stderr",
          "output_type": "stream",
          "text": [
            "C:\\Users\\Toan\\anaconda3\\envs\\ml_com\\lib\\site-packages\\lightgbm\\sklearn.py:736: UserWarning: 'verbose' argument is deprecated and will be removed in a future release of LightGBM. Pass 'log_evaluation()' callback via 'callbacks' argument instead.\n",
            "  _log_warning(\"'verbose' argument is deprecated and will be removed in a future release of LightGBM. \"\n",
            "C:\\Users\\Toan\\anaconda3\\envs\\ml_com\\lib\\site-packages\\lightgbm\\basic.py:1487: UserWarning: categorical_feature keyword has been found in `params` and will be ignored.\n",
            "Please use categorical_feature argument of the Dataset constructor to pass this parameter.\n",
            "  _log_warning(f'{key} keyword has been found in `params` and will be ignored.\\n'\n",
            "C:\\Users\\Toan\\anaconda3\\envs\\ml_com\\lib\\site-packages\\lightgbm\\basic.py:1513: UserWarning: categorical_feature in param dict is overridden.\n",
            "  _log_warning(f'{cat_alias} in param dict is overridden.')\n",
            "\u001b[32m[I 2022-04-18 22:12:38,717]\u001b[0m Trial 2 finished with value: 0.3185454186962356 and parameters: {'num_leaves': 12, 'n_estimators': 653, 'learning_rate': 0.46521297746389184, 'feature_fraction': 0.9787114047811016, 'bagging_fraction': 0.9983118436765506}. Best is trial 0 with value: 0.33262117543310177.\u001b[0m\n"
          ]
        },
        {
          "name": "stdout",
          "output_type": "stream",
          "text": [
            "F1_SCORE:  0.4095 \n",
            "\n",
            "[LightGBM] [Warning] feature_fraction is set=0.8628857854819365, colsample_bytree=1.0 will be ignored. Current value: feature_fraction=0.8628857854819365\n",
            "[LightGBM] [Warning] bagging_fraction is set=0.9190980235403359, subsample=1.0 will be ignored. Current value: bagging_fraction=0.9190980235403359\n"
          ]
        },
        {
          "name": "stderr",
          "output_type": "stream",
          "text": [
            "C:\\Users\\Toan\\anaconda3\\envs\\ml_com\\lib\\site-packages\\lightgbm\\sklearn.py:736: UserWarning: 'verbose' argument is deprecated and will be removed in a future release of LightGBM. Pass 'log_evaluation()' callback via 'callbacks' argument instead.\n",
            "  _log_warning(\"'verbose' argument is deprecated and will be removed in a future release of LightGBM. \"\n",
            "C:\\Users\\Toan\\anaconda3\\envs\\ml_com\\lib\\site-packages\\lightgbm\\basic.py:1487: UserWarning: categorical_feature keyword has been found in `params` and will be ignored.\n",
            "Please use categorical_feature argument of the Dataset constructor to pass this parameter.\n",
            "  _log_warning(f'{key} keyword has been found in `params` and will be ignored.\\n'\n",
            "C:\\Users\\Toan\\anaconda3\\envs\\ml_com\\lib\\site-packages\\lightgbm\\basic.py:1513: UserWarning: categorical_feature in param dict is overridden.\n",
            "  _log_warning(f'{cat_alias} in param dict is overridden.')\n"
          ]
        },
        {
          "name": "stdout",
          "output_type": "stream",
          "text": [
            "F1_SCORE:  0.3662 \n",
            "\n",
            "[LightGBM] [Warning] feature_fraction is set=0.8628857854819365, colsample_bytree=1.0 will be ignored. Current value: feature_fraction=0.8628857854819365\n",
            "[LightGBM] [Warning] bagging_fraction is set=0.9190980235403359, subsample=1.0 will be ignored. Current value: bagging_fraction=0.9190980235403359\n"
          ]
        },
        {
          "name": "stderr",
          "output_type": "stream",
          "text": [
            "C:\\Users\\Toan\\anaconda3\\envs\\ml_com\\lib\\site-packages\\lightgbm\\sklearn.py:736: UserWarning: 'verbose' argument is deprecated and will be removed in a future release of LightGBM. Pass 'log_evaluation()' callback via 'callbacks' argument instead.\n",
            "  _log_warning(\"'verbose' argument is deprecated and will be removed in a future release of LightGBM. \"\n",
            "C:\\Users\\Toan\\anaconda3\\envs\\ml_com\\lib\\site-packages\\lightgbm\\basic.py:1487: UserWarning: categorical_feature keyword has been found in `params` and will be ignored.\n",
            "Please use categorical_feature argument of the Dataset constructor to pass this parameter.\n",
            "  _log_warning(f'{key} keyword has been found in `params` and will be ignored.\\n'\n",
            "C:\\Users\\Toan\\anaconda3\\envs\\ml_com\\lib\\site-packages\\lightgbm\\basic.py:1513: UserWarning: categorical_feature in param dict is overridden.\n",
            "  _log_warning(f'{cat_alias} in param dict is overridden.')\n"
          ]
        },
        {
          "name": "stdout",
          "output_type": "stream",
          "text": [
            "F1_SCORE:  0.2728 \n",
            "\n",
            "[LightGBM] [Warning] feature_fraction is set=0.8628857854819365, colsample_bytree=1.0 will be ignored. Current value: feature_fraction=0.8628857854819365\n",
            "[LightGBM] [Warning] bagging_fraction is set=0.9190980235403359, subsample=1.0 will be ignored. Current value: bagging_fraction=0.9190980235403359\n"
          ]
        },
        {
          "name": "stderr",
          "output_type": "stream",
          "text": [
            "C:\\Users\\Toan\\anaconda3\\envs\\ml_com\\lib\\site-packages\\lightgbm\\sklearn.py:736: UserWarning: 'verbose' argument is deprecated and will be removed in a future release of LightGBM. Pass 'log_evaluation()' callback via 'callbacks' argument instead.\n",
            "  _log_warning(\"'verbose' argument is deprecated and will be removed in a future release of LightGBM. \"\n",
            "C:\\Users\\Toan\\anaconda3\\envs\\ml_com\\lib\\site-packages\\lightgbm\\basic.py:1487: UserWarning: categorical_feature keyword has been found in `params` and will be ignored.\n",
            "Please use categorical_feature argument of the Dataset constructor to pass this parameter.\n",
            "  _log_warning(f'{key} keyword has been found in `params` and will be ignored.\\n'\n",
            "C:\\Users\\Toan\\anaconda3\\envs\\ml_com\\lib\\site-packages\\lightgbm\\basic.py:1513: UserWarning: categorical_feature in param dict is overridden.\n",
            "  _log_warning(f'{cat_alias} in param dict is overridden.')\n"
          ]
        },
        {
          "name": "stdout",
          "output_type": "stream",
          "text": [
            "F1_SCORE:  0.1666 \n",
            "\n",
            "[LightGBM] [Warning] feature_fraction is set=0.8628857854819365, colsample_bytree=1.0 will be ignored. Current value: feature_fraction=0.8628857854819365\n",
            "[LightGBM] [Warning] bagging_fraction is set=0.9190980235403359, subsample=1.0 will be ignored. Current value: bagging_fraction=0.9190980235403359\n"
          ]
        },
        {
          "name": "stderr",
          "output_type": "stream",
          "text": [
            "C:\\Users\\Toan\\anaconda3\\envs\\ml_com\\lib\\site-packages\\lightgbm\\sklearn.py:736: UserWarning: 'verbose' argument is deprecated and will be removed in a future release of LightGBM. Pass 'log_evaluation()' callback via 'callbacks' argument instead.\n",
            "  _log_warning(\"'verbose' argument is deprecated and will be removed in a future release of LightGBM. \"\n",
            "C:\\Users\\Toan\\anaconda3\\envs\\ml_com\\lib\\site-packages\\lightgbm\\basic.py:1487: UserWarning: categorical_feature keyword has been found in `params` and will be ignored.\n",
            "Please use categorical_feature argument of the Dataset constructor to pass this parameter.\n",
            "  _log_warning(f'{key} keyword has been found in `params` and will be ignored.\\n'\n",
            "C:\\Users\\Toan\\anaconda3\\envs\\ml_com\\lib\\site-packages\\lightgbm\\basic.py:1513: UserWarning: categorical_feature in param dict is overridden.\n",
            "  _log_warning(f'{cat_alias} in param dict is overridden.')\n"
          ]
        },
        {
          "name": "stdout",
          "output_type": "stream",
          "text": [
            "F1_SCORE:  0.289 \n",
            "\n",
            "[LightGBM] [Warning] feature_fraction is set=0.8628857854819365, colsample_bytree=1.0 will be ignored. Current value: feature_fraction=0.8628857854819365\n",
            "[LightGBM] [Warning] bagging_fraction is set=0.9190980235403359, subsample=1.0 will be ignored. Current value: bagging_fraction=0.9190980235403359\n"
          ]
        },
        {
          "name": "stderr",
          "output_type": "stream",
          "text": [
            "C:\\Users\\Toan\\anaconda3\\envs\\ml_com\\lib\\site-packages\\lightgbm\\sklearn.py:736: UserWarning: 'verbose' argument is deprecated and will be removed in a future release of LightGBM. Pass 'log_evaluation()' callback via 'callbacks' argument instead.\n",
            "  _log_warning(\"'verbose' argument is deprecated and will be removed in a future release of LightGBM. \"\n",
            "C:\\Users\\Toan\\anaconda3\\envs\\ml_com\\lib\\site-packages\\lightgbm\\basic.py:1487: UserWarning: categorical_feature keyword has been found in `params` and will be ignored.\n",
            "Please use categorical_feature argument of the Dataset constructor to pass this parameter.\n",
            "  _log_warning(f'{key} keyword has been found in `params` and will be ignored.\\n'\n",
            "C:\\Users\\Toan\\anaconda3\\envs\\ml_com\\lib\\site-packages\\lightgbm\\basic.py:1513: UserWarning: categorical_feature in param dict is overridden.\n",
            "  _log_warning(f'{cat_alias} in param dict is overridden.')\n",
            "\u001b[32m[I 2022-04-18 22:15:11,171]\u001b[0m Trial 3 finished with value: 0.26913777576365594 and parameters: {'num_leaves': 7, 'n_estimators': 1189, 'learning_rate': 0.9071834265198645, 'feature_fraction': 0.8628857854819365, 'bagging_fraction': 0.9190980235403359}. Best is trial 0 with value: 0.33262117543310177.\u001b[0m\n"
          ]
        },
        {
          "name": "stdout",
          "output_type": "stream",
          "text": [
            "F1_SCORE:  0.2512 \n",
            "\n",
            "[LightGBM] [Warning] feature_fraction is set=0.844477638025565, colsample_bytree=1.0 will be ignored. Current value: feature_fraction=0.844477638025565\n"
          ]
        },
        {
          "name": "stderr",
          "output_type": "stream",
          "text": [
            "C:\\Users\\Toan\\anaconda3\\envs\\ml_com\\lib\\site-packages\\lightgbm\\sklearn.py:736: UserWarning: 'verbose' argument is deprecated and will be removed in a future release of LightGBM. Pass 'log_evaluation()' callback via 'callbacks' argument instead.\n",
            "  _log_warning(\"'verbose' argument is deprecated and will be removed in a future release of LightGBM. \"\n",
            "C:\\Users\\Toan\\anaconda3\\envs\\ml_com\\lib\\site-packages\\lightgbm\\basic.py:1487: UserWarning: categorical_feature keyword has been found in `params` and will be ignored.\n",
            "Please use categorical_feature argument of the Dataset constructor to pass this parameter.\n",
            "  _log_warning(f'{key} keyword has been found in `params` and will be ignored.\\n'\n",
            "C:\\Users\\Toan\\anaconda3\\envs\\ml_com\\lib\\site-packages\\lightgbm\\basic.py:1513: UserWarning: categorical_feature in param dict is overridden.\n",
            "  _log_warning(f'{cat_alias} in param dict is overridden.')\n"
          ]
        },
        {
          "name": "stdout",
          "output_type": "stream",
          "text": [
            "[LightGBM] [Warning] bagging_fraction is set=0.588475626412928, subsample=1.0 will be ignored. Current value: bagging_fraction=0.588475626412928\n",
            "F1_SCORE:  0.5645 \n",
            "\n",
            "[LightGBM] [Warning] feature_fraction is set=0.844477638025565, colsample_bytree=1.0 will be ignored. Current value: feature_fraction=0.844477638025565\n",
            "[LightGBM] [Warning] bagging_fraction is set=0.588475626412928, subsample=1.0 will be ignored. Current value: bagging_fraction=0.588475626412928\n"
          ]
        },
        {
          "name": "stderr",
          "output_type": "stream",
          "text": [
            "C:\\Users\\Toan\\anaconda3\\envs\\ml_com\\lib\\site-packages\\lightgbm\\sklearn.py:736: UserWarning: 'verbose' argument is deprecated and will be removed in a future release of LightGBM. Pass 'log_evaluation()' callback via 'callbacks' argument instead.\n",
            "  _log_warning(\"'verbose' argument is deprecated and will be removed in a future release of LightGBM. \"\n",
            "C:\\Users\\Toan\\anaconda3\\envs\\ml_com\\lib\\site-packages\\lightgbm\\basic.py:1487: UserWarning: categorical_feature keyword has been found in `params` and will be ignored.\n",
            "Please use categorical_feature argument of the Dataset constructor to pass this parameter.\n",
            "  _log_warning(f'{key} keyword has been found in `params` and will be ignored.\\n'\n",
            "C:\\Users\\Toan\\anaconda3\\envs\\ml_com\\lib\\site-packages\\lightgbm\\basic.py:1513: UserWarning: categorical_feature in param dict is overridden.\n",
            "  _log_warning(f'{cat_alias} in param dict is overridden.')\n"
          ]
        },
        {
          "name": "stdout",
          "output_type": "stream",
          "text": [
            "F1_SCORE:  0.5415 \n",
            "\n",
            "[LightGBM] [Warning] feature_fraction is set=0.844477638025565, colsample_bytree=1.0 will be ignored. Current value: feature_fraction=0.844477638025565\n",
            "[LightGBM] [Warning] bagging_fraction is set=0.588475626412928, subsample=1.0 will be ignored. Current value: bagging_fraction=0.588475626412928\n"
          ]
        },
        {
          "name": "stderr",
          "output_type": "stream",
          "text": [
            "C:\\Users\\Toan\\anaconda3\\envs\\ml_com\\lib\\site-packages\\lightgbm\\sklearn.py:736: UserWarning: 'verbose' argument is deprecated and will be removed in a future release of LightGBM. Pass 'log_evaluation()' callback via 'callbacks' argument instead.\n",
            "  _log_warning(\"'verbose' argument is deprecated and will be removed in a future release of LightGBM. \"\n",
            "C:\\Users\\Toan\\anaconda3\\envs\\ml_com\\lib\\site-packages\\lightgbm\\basic.py:1487: UserWarning: categorical_feature keyword has been found in `params` and will be ignored.\n",
            "Please use categorical_feature argument of the Dataset constructor to pass this parameter.\n",
            "  _log_warning(f'{key} keyword has been found in `params` and will be ignored.\\n'\n",
            "C:\\Users\\Toan\\anaconda3\\envs\\ml_com\\lib\\site-packages\\lightgbm\\basic.py:1513: UserWarning: categorical_feature in param dict is overridden.\n",
            "  _log_warning(f'{cat_alias} in param dict is overridden.')\n"
          ]
        },
        {
          "name": "stdout",
          "output_type": "stream",
          "text": [
            "F1_SCORE:  0.4008 \n",
            "\n",
            "[LightGBM] [Warning] feature_fraction is set=0.844477638025565, colsample_bytree=1.0 will be ignored. Current value: feature_fraction=0.844477638025565\n",
            "[LightGBM] [Warning] bagging_fraction is set=0.588475626412928, subsample=1.0 will be ignored. Current value: bagging_fraction=0.588475626412928\n"
          ]
        },
        {
          "name": "stderr",
          "output_type": "stream",
          "text": [
            "C:\\Users\\Toan\\anaconda3\\envs\\ml_com\\lib\\site-packages\\lightgbm\\sklearn.py:736: UserWarning: 'verbose' argument is deprecated and will be removed in a future release of LightGBM. Pass 'log_evaluation()' callback via 'callbacks' argument instead.\n",
            "  _log_warning(\"'verbose' argument is deprecated and will be removed in a future release of LightGBM. \"\n",
            "C:\\Users\\Toan\\anaconda3\\envs\\ml_com\\lib\\site-packages\\lightgbm\\basic.py:1487: UserWarning: categorical_feature keyword has been found in `params` and will be ignored.\n",
            "Please use categorical_feature argument of the Dataset constructor to pass this parameter.\n",
            "  _log_warning(f'{key} keyword has been found in `params` and will be ignored.\\n'\n",
            "C:\\Users\\Toan\\anaconda3\\envs\\ml_com\\lib\\site-packages\\lightgbm\\basic.py:1513: UserWarning: categorical_feature in param dict is overridden.\n",
            "  _log_warning(f'{cat_alias} in param dict is overridden.')\n"
          ]
        },
        {
          "name": "stdout",
          "output_type": "stream",
          "text": [
            "F1_SCORE:  0.4468 \n",
            "\n",
            "[LightGBM] [Warning] feature_fraction is set=0.844477638025565, colsample_bytree=1.0 will be ignored. Current value: feature_fraction=0.844477638025565\n",
            "[LightGBM] [Warning] bagging_fraction is set=0.588475626412928, subsample=1.0 will be ignored. Current value: bagging_fraction=0.588475626412928\n"
          ]
        },
        {
          "name": "stderr",
          "output_type": "stream",
          "text": [
            "C:\\Users\\Toan\\anaconda3\\envs\\ml_com\\lib\\site-packages\\lightgbm\\sklearn.py:736: UserWarning: 'verbose' argument is deprecated and will be removed in a future release of LightGBM. Pass 'log_evaluation()' callback via 'callbacks' argument instead.\n",
            "  _log_warning(\"'verbose' argument is deprecated and will be removed in a future release of LightGBM. \"\n",
            "C:\\Users\\Toan\\anaconda3\\envs\\ml_com\\lib\\site-packages\\lightgbm\\basic.py:1487: UserWarning: categorical_feature keyword has been found in `params` and will be ignored.\n",
            "Please use categorical_feature argument of the Dataset constructor to pass this parameter.\n",
            "  _log_warning(f'{key} keyword has been found in `params` and will be ignored.\\n'\n",
            "C:\\Users\\Toan\\anaconda3\\envs\\ml_com\\lib\\site-packages\\lightgbm\\basic.py:1513: UserWarning: categorical_feature in param dict is overridden.\n",
            "  _log_warning(f'{cat_alias} in param dict is overridden.')\n",
            "\u001b[32m[I 2022-04-18 22:15:55,070]\u001b[0m Trial 4 finished with value: 0.47037929142793544 and parameters: {'num_leaves': 7, 'n_estimators': 211, 'learning_rate': 0.45094121006277416, 'feature_fraction': 0.844477638025565, 'bagging_fraction': 0.588475626412928}. Best is trial 4 with value: 0.47037929142793544.\u001b[0m\n"
          ]
        },
        {
          "name": "stdout",
          "output_type": "stream",
          "text": [
            "F1_SCORE:  0.3983 \n",
            "\n",
            "[LightGBM] [Warning] feature_fraction is set=0.5490638193721177, colsample_bytree=1.0 will be ignored. Current value: feature_fraction=0.5490638193721177\n",
            "[LightGBM] [Warning] bagging_fraction is set=0.9255868731888846, subsample=1.0 will be ignored. Current value: bagging_fraction=0.9255868731888846\n"
          ]
        },
        {
          "name": "stderr",
          "output_type": "stream",
          "text": [
            "C:\\Users\\Toan\\anaconda3\\envs\\ml_com\\lib\\site-packages\\lightgbm\\sklearn.py:736: UserWarning: 'verbose' argument is deprecated and will be removed in a future release of LightGBM. Pass 'log_evaluation()' callback via 'callbacks' argument instead.\n",
            "  _log_warning(\"'verbose' argument is deprecated and will be removed in a future release of LightGBM. \"\n",
            "C:\\Users\\Toan\\anaconda3\\envs\\ml_com\\lib\\site-packages\\lightgbm\\basic.py:1487: UserWarning: categorical_feature keyword has been found in `params` and will be ignored.\n",
            "Please use categorical_feature argument of the Dataset constructor to pass this parameter.\n",
            "  _log_warning(f'{key} keyword has been found in `params` and will be ignored.\\n'\n",
            "C:\\Users\\Toan\\anaconda3\\envs\\ml_com\\lib\\site-packages\\lightgbm\\basic.py:1513: UserWarning: categorical_feature in param dict is overridden.\n",
            "  _log_warning(f'{cat_alias} in param dict is overridden.')\n"
          ]
        },
        {
          "name": "stdout",
          "output_type": "stream",
          "text": [
            "F1_SCORE:  0.8033 \n",
            "\n",
            "[LightGBM] [Warning] feature_fraction is set=0.5490638193721177, colsample_bytree=1.0 will be ignored. Current value: feature_fraction=0.5490638193721177\n",
            "[LightGBM] [Warning] bagging_fraction is set=0.9255868731888846, subsample=1.0 will be ignored. Current value: bagging_fraction=0.9255868731888846\n"
          ]
        },
        {
          "name": "stderr",
          "output_type": "stream",
          "text": [
            "C:\\Users\\Toan\\anaconda3\\envs\\ml_com\\lib\\site-packages\\lightgbm\\sklearn.py:736: UserWarning: 'verbose' argument is deprecated and will be removed in a future release of LightGBM. Pass 'log_evaluation()' callback via 'callbacks' argument instead.\n",
            "  _log_warning(\"'verbose' argument is deprecated and will be removed in a future release of LightGBM. \"\n",
            "C:\\Users\\Toan\\anaconda3\\envs\\ml_com\\lib\\site-packages\\lightgbm\\basic.py:1487: UserWarning: categorical_feature keyword has been found in `params` and will be ignored.\n",
            "Please use categorical_feature argument of the Dataset constructor to pass this parameter.\n",
            "  _log_warning(f'{key} keyword has been found in `params` and will be ignored.\\n'\n",
            "C:\\Users\\Toan\\anaconda3\\envs\\ml_com\\lib\\site-packages\\lightgbm\\basic.py:1513: UserWarning: categorical_feature in param dict is overridden.\n",
            "  _log_warning(f'{cat_alias} in param dict is overridden.')\n"
          ]
        },
        {
          "name": "stdout",
          "output_type": "stream",
          "text": [
            "F1_SCORE:  0.7802 \n",
            "\n",
            "[LightGBM] [Warning] feature_fraction is set=0.5490638193721177, colsample_bytree=1.0 will be ignored. Current value: feature_fraction=0.5490638193721177\n",
            "[LightGBM] [Warning] bagging_fraction is set=0.9255868731888846, subsample=1.0 will be ignored. Current value: bagging_fraction=0.9255868731888846\n"
          ]
        },
        {
          "name": "stderr",
          "output_type": "stream",
          "text": [
            "C:\\Users\\Toan\\anaconda3\\envs\\ml_com\\lib\\site-packages\\lightgbm\\sklearn.py:736: UserWarning: 'verbose' argument is deprecated and will be removed in a future release of LightGBM. Pass 'log_evaluation()' callback via 'callbacks' argument instead.\n",
            "  _log_warning(\"'verbose' argument is deprecated and will be removed in a future release of LightGBM. \"\n",
            "C:\\Users\\Toan\\anaconda3\\envs\\ml_com\\lib\\site-packages\\lightgbm\\basic.py:1487: UserWarning: categorical_feature keyword has been found in `params` and will be ignored.\n",
            "Please use categorical_feature argument of the Dataset constructor to pass this parameter.\n",
            "  _log_warning(f'{key} keyword has been found in `params` and will be ignored.\\n'\n",
            "C:\\Users\\Toan\\anaconda3\\envs\\ml_com\\lib\\site-packages\\lightgbm\\basic.py:1513: UserWarning: categorical_feature in param dict is overridden.\n",
            "  _log_warning(f'{cat_alias} in param dict is overridden.')\n"
          ]
        },
        {
          "name": "stdout",
          "output_type": "stream",
          "text": [
            "F1_SCORE:  0.838 \n",
            "\n",
            "[LightGBM] [Warning] feature_fraction is set=0.5490638193721177, colsample_bytree=1.0 will be ignored. Current value: feature_fraction=0.5490638193721177\n",
            "[LightGBM] [Warning] bagging_fraction is set=0.9255868731888846, subsample=1.0 will be ignored. Current value: bagging_fraction=0.9255868731888846\n"
          ]
        },
        {
          "name": "stderr",
          "output_type": "stream",
          "text": [
            "C:\\Users\\Toan\\anaconda3\\envs\\ml_com\\lib\\site-packages\\lightgbm\\sklearn.py:736: UserWarning: 'verbose' argument is deprecated and will be removed in a future release of LightGBM. Pass 'log_evaluation()' callback via 'callbacks' argument instead.\n",
            "  _log_warning(\"'verbose' argument is deprecated and will be removed in a future release of LightGBM. \"\n",
            "C:\\Users\\Toan\\anaconda3\\envs\\ml_com\\lib\\site-packages\\lightgbm\\basic.py:1487: UserWarning: categorical_feature keyword has been found in `params` and will be ignored.\n",
            "Please use categorical_feature argument of the Dataset constructor to pass this parameter.\n",
            "  _log_warning(f'{key} keyword has been found in `params` and will be ignored.\\n'\n",
            "C:\\Users\\Toan\\anaconda3\\envs\\ml_com\\lib\\site-packages\\lightgbm\\basic.py:1513: UserWarning: categorical_feature in param dict is overridden.\n",
            "  _log_warning(f'{cat_alias} in param dict is overridden.')\n"
          ]
        },
        {
          "name": "stdout",
          "output_type": "stream",
          "text": [
            "F1_SCORE:  0.8055 \n",
            "\n",
            "[LightGBM] [Warning] feature_fraction is set=0.5490638193721177, colsample_bytree=1.0 will be ignored. Current value: feature_fraction=0.5490638193721177\n",
            "[LightGBM] [Warning] bagging_fraction is set=0.9255868731888846, subsample=1.0 will be ignored. Current value: bagging_fraction=0.9255868731888846\n"
          ]
        },
        {
          "name": "stderr",
          "output_type": "stream",
          "text": [
            "C:\\Users\\Toan\\anaconda3\\envs\\ml_com\\lib\\site-packages\\lightgbm\\sklearn.py:736: UserWarning: 'verbose' argument is deprecated and will be removed in a future release of LightGBM. Pass 'log_evaluation()' callback via 'callbacks' argument instead.\n",
            "  _log_warning(\"'verbose' argument is deprecated and will be removed in a future release of LightGBM. \"\n",
            "C:\\Users\\Toan\\anaconda3\\envs\\ml_com\\lib\\site-packages\\lightgbm\\basic.py:1487: UserWarning: categorical_feature keyword has been found in `params` and will be ignored.\n",
            "Please use categorical_feature argument of the Dataset constructor to pass this parameter.\n",
            "  _log_warning(f'{key} keyword has been found in `params` and will be ignored.\\n'\n",
            "C:\\Users\\Toan\\anaconda3\\envs\\ml_com\\lib\\site-packages\\lightgbm\\basic.py:1513: UserWarning: categorical_feature in param dict is overridden.\n",
            "  _log_warning(f'{cat_alias} in param dict is overridden.')\n",
            "\u001b[32m[I 2022-04-18 22:18:09,296]\u001b[0m Trial 5 finished with value: 0.8040849795380097 and parameters: {'num_leaves': 10, 'n_estimators': 621, 'learning_rate': 0.055094909017779053, 'feature_fraction': 0.5490638193721177, 'bagging_fraction': 0.9255868731888846}. Best is trial 5 with value: 0.8040849795380097.\u001b[0m\n"
          ]
        },
        {
          "name": "stdout",
          "output_type": "stream",
          "text": [
            "F1_SCORE:  0.7934 \n",
            "\n"
          ]
        },
        {
          "name": "stderr",
          "output_type": "stream",
          "text": [
            "C:\\Users\\Toan\\anaconda3\\envs\\ml_com\\lib\\site-packages\\lightgbm\\sklearn.py:736: UserWarning: 'verbose' argument is deprecated and will be removed in a future release of LightGBM. Pass 'log_evaluation()' callback via 'callbacks' argument instead.\n",
            "  _log_warning(\"'verbose' argument is deprecated and will be removed in a future release of LightGBM. \"\n",
            "C:\\Users\\Toan\\anaconda3\\envs\\ml_com\\lib\\site-packages\\lightgbm\\basic.py:1487: UserWarning: categorical_feature keyword has been found in `params` and will be ignored.\n",
            "Please use categorical_feature argument of the Dataset constructor to pass this parameter.\n",
            "  _log_warning(f'{key} keyword has been found in `params` and will be ignored.\\n'\n",
            "C:\\Users\\Toan\\anaconda3\\envs\\ml_com\\lib\\site-packages\\lightgbm\\basic.py:1513: UserWarning: categorical_feature in param dict is overridden.\n",
            "  _log_warning(f'{cat_alias} in param dict is overridden.')\n"
          ]
        },
        {
          "name": "stdout",
          "output_type": "stream",
          "text": [
            "[LightGBM] [Warning] feature_fraction is set=0.7044685335822753, colsample_bytree=1.0 will be ignored. Current value: feature_fraction=0.7044685335822753\n",
            "[LightGBM] [Warning] bagging_fraction is set=0.5392404885139344, subsample=1.0 will be ignored. Current value: bagging_fraction=0.5392404885139344\n",
            "F1_SCORE:  0.3913 \n",
            "\n",
            "[LightGBM] [Warning] feature_fraction is set=0.7044685335822753, colsample_bytree=1.0 will be ignored. Current value: feature_fraction=0.7044685335822753\n",
            "[LightGBM] [Warning] bagging_fraction is set=0.5392404885139344, subsample=1.0 will be ignored. Current value: bagging_fraction=0.5392404885139344\n"
          ]
        },
        {
          "name": "stderr",
          "output_type": "stream",
          "text": [
            "C:\\Users\\Toan\\anaconda3\\envs\\ml_com\\lib\\site-packages\\lightgbm\\sklearn.py:736: UserWarning: 'verbose' argument is deprecated and will be removed in a future release of LightGBM. Pass 'log_evaluation()' callback via 'callbacks' argument instead.\n",
            "  _log_warning(\"'verbose' argument is deprecated and will be removed in a future release of LightGBM. \"\n",
            "C:\\Users\\Toan\\anaconda3\\envs\\ml_com\\lib\\site-packages\\lightgbm\\basic.py:1487: UserWarning: categorical_feature keyword has been found in `params` and will be ignored.\n",
            "Please use categorical_feature argument of the Dataset constructor to pass this parameter.\n",
            "  _log_warning(f'{key} keyword has been found in `params` and will be ignored.\\n'\n",
            "C:\\Users\\Toan\\anaconda3\\envs\\ml_com\\lib\\site-packages\\lightgbm\\basic.py:1513: UserWarning: categorical_feature in param dict is overridden.\n",
            "  _log_warning(f'{cat_alias} in param dict is overridden.')\n"
          ]
        },
        {
          "name": "stdout",
          "output_type": "stream",
          "text": [
            "F1_SCORE:  0.2998 \n",
            "\n",
            "[LightGBM] [Warning] feature_fraction is set=0.7044685335822753, colsample_bytree=1.0 will be ignored. Current value: feature_fraction=0.7044685335822753\n",
            "[LightGBM] [Warning] bagging_fraction is set=0.5392404885139344, subsample=1.0 will be ignored. Current value: bagging_fraction=0.5392404885139344\n"
          ]
        },
        {
          "name": "stderr",
          "output_type": "stream",
          "text": [
            "C:\\Users\\Toan\\anaconda3\\envs\\ml_com\\lib\\site-packages\\lightgbm\\sklearn.py:736: UserWarning: 'verbose' argument is deprecated and will be removed in a future release of LightGBM. Pass 'log_evaluation()' callback via 'callbacks' argument instead.\n",
            "  _log_warning(\"'verbose' argument is deprecated and will be removed in a future release of LightGBM. \"\n",
            "C:\\Users\\Toan\\anaconda3\\envs\\ml_com\\lib\\site-packages\\lightgbm\\basic.py:1487: UserWarning: categorical_feature keyword has been found in `params` and will be ignored.\n",
            "Please use categorical_feature argument of the Dataset constructor to pass this parameter.\n",
            "  _log_warning(f'{key} keyword has been found in `params` and will be ignored.\\n'\n",
            "C:\\Users\\Toan\\anaconda3\\envs\\ml_com\\lib\\site-packages\\lightgbm\\basic.py:1513: UserWarning: categorical_feature in param dict is overridden.\n",
            "  _log_warning(f'{cat_alias} in param dict is overridden.')\n"
          ]
        },
        {
          "name": "stdout",
          "output_type": "stream",
          "text": [
            "F1_SCORE:  0.3285 \n",
            "\n",
            "[LightGBM] [Warning] feature_fraction is set=0.7044685335822753, colsample_bytree=1.0 will be ignored. Current value: feature_fraction=0.7044685335822753\n",
            "[LightGBM] [Warning] bagging_fraction is set=0.5392404885139344, subsample=1.0 will be ignored. Current value: bagging_fraction=0.5392404885139344\n"
          ]
        },
        {
          "name": "stderr",
          "output_type": "stream",
          "text": [
            "C:\\Users\\Toan\\anaconda3\\envs\\ml_com\\lib\\site-packages\\lightgbm\\sklearn.py:736: UserWarning: 'verbose' argument is deprecated and will be removed in a future release of LightGBM. Pass 'log_evaluation()' callback via 'callbacks' argument instead.\n",
            "  _log_warning(\"'verbose' argument is deprecated and will be removed in a future release of LightGBM. \"\n",
            "C:\\Users\\Toan\\anaconda3\\envs\\ml_com\\lib\\site-packages\\lightgbm\\basic.py:1487: UserWarning: categorical_feature keyword has been found in `params` and will be ignored.\n",
            "Please use categorical_feature argument of the Dataset constructor to pass this parameter.\n",
            "  _log_warning(f'{key} keyword has been found in `params` and will be ignored.\\n'\n",
            "C:\\Users\\Toan\\anaconda3\\envs\\ml_com\\lib\\site-packages\\lightgbm\\basic.py:1513: UserWarning: categorical_feature in param dict is overridden.\n",
            "  _log_warning(f'{cat_alias} in param dict is overridden.')\n"
          ]
        },
        {
          "name": "stdout",
          "output_type": "stream",
          "text": [
            "F1_SCORE:  0.3222 \n",
            "\n",
            "[LightGBM] [Warning] feature_fraction is set=0.7044685335822753, colsample_bytree=1.0 will be ignored. Current value: feature_fraction=0.7044685335822753\n",
            "[LightGBM] [Warning] bagging_fraction is set=0.5392404885139344, subsample=1.0 will be ignored. Current value: bagging_fraction=0.5392404885139344\n"
          ]
        },
        {
          "name": "stderr",
          "output_type": "stream",
          "text": [
            "C:\\Users\\Toan\\anaconda3\\envs\\ml_com\\lib\\site-packages\\lightgbm\\sklearn.py:736: UserWarning: 'verbose' argument is deprecated and will be removed in a future release of LightGBM. Pass 'log_evaluation()' callback via 'callbacks' argument instead.\n",
            "  _log_warning(\"'verbose' argument is deprecated and will be removed in a future release of LightGBM. \"\n",
            "C:\\Users\\Toan\\anaconda3\\envs\\ml_com\\lib\\site-packages\\lightgbm\\basic.py:1487: UserWarning: categorical_feature keyword has been found in `params` and will be ignored.\n",
            "Please use categorical_feature argument of the Dataset constructor to pass this parameter.\n",
            "  _log_warning(f'{key} keyword has been found in `params` and will be ignored.\\n'\n",
            "C:\\Users\\Toan\\anaconda3\\envs\\ml_com\\lib\\site-packages\\lightgbm\\basic.py:1513: UserWarning: categorical_feature in param dict is overridden.\n",
            "  _log_warning(f'{cat_alias} in param dict is overridden.')\n",
            "\u001b[32m[I 2022-04-18 22:20:31,326]\u001b[0m Trial 6 finished with value: 0.3284742198118729 and parameters: {'num_leaves': 8, 'n_estimators': 1118, 'learning_rate': 0.331436764167221, 'feature_fraction': 0.7044685335822753, 'bagging_fraction': 0.5392404885139344}. Best is trial 5 with value: 0.8040849795380097.\u001b[0m\n"
          ]
        },
        {
          "name": "stdout",
          "output_type": "stream",
          "text": [
            "F1_SCORE:  0.3005 \n",
            "\n"
          ]
        },
        {
          "name": "stderr",
          "output_type": "stream",
          "text": [
            "C:\\Users\\Toan\\anaconda3\\envs\\ml_com\\lib\\site-packages\\lightgbm\\sklearn.py:736: UserWarning: 'verbose' argument is deprecated and will be removed in a future release of LightGBM. Pass 'log_evaluation()' callback via 'callbacks' argument instead.\n",
            "  _log_warning(\"'verbose' argument is deprecated and will be removed in a future release of LightGBM. \"\n",
            "C:\\Users\\Toan\\anaconda3\\envs\\ml_com\\lib\\site-packages\\lightgbm\\basic.py:1487: UserWarning: categorical_feature keyword has been found in `params` and will be ignored.\n",
            "Please use categorical_feature argument of the Dataset constructor to pass this parameter.\n",
            "  _log_warning(f'{key} keyword has been found in `params` and will be ignored.\\n'\n",
            "C:\\Users\\Toan\\anaconda3\\envs\\ml_com\\lib\\site-packages\\lightgbm\\basic.py:1513: UserWarning: categorical_feature in param dict is overridden.\n",
            "  _log_warning(f'{cat_alias} in param dict is overridden.')\n"
          ]
        },
        {
          "name": "stdout",
          "output_type": "stream",
          "text": [
            "[LightGBM] [Warning] feature_fraction is set=0.6352150561720549, colsample_bytree=1.0 will be ignored. Current value: feature_fraction=0.6352150561720549\n",
            "[LightGBM] [Warning] bagging_fraction is set=0.802251757729795, subsample=1.0 will be ignored. Current value: bagging_fraction=0.802251757729795\n",
            "F1_SCORE:  0.2152 \n",
            "\n",
            "[LightGBM] [Warning] feature_fraction is set=0.6352150561720549, colsample_bytree=1.0 will be ignored. Current value: feature_fraction=0.6352150561720549"
          ]
        },
        {
          "name": "stderr",
          "output_type": "stream",
          "text": [
            "C:\\Users\\Toan\\anaconda3\\envs\\ml_com\\lib\\site-packages\\lightgbm\\sklearn.py:736: UserWarning: 'verbose' argument is deprecated and will be removed in a future release of LightGBM. Pass 'log_evaluation()' callback via 'callbacks' argument instead.\n",
            "  _log_warning(\"'verbose' argument is deprecated and will be removed in a future release of LightGBM. \"\n",
            "C:\\Users\\Toan\\anaconda3\\envs\\ml_com\\lib\\site-packages\\lightgbm\\basic.py:1487: UserWarning: categorical_feature keyword has been found in `params` and will be ignored.\n",
            "Please use categorical_feature argument of the Dataset constructor to pass this parameter.\n",
            "  _log_warning(f'{key} keyword has been found in `params` and will be ignored.\\n'\n",
            "C:\\Users\\Toan\\anaconda3\\envs\\ml_com\\lib\\site-packages\\lightgbm\\basic.py:1513: UserWarning: categorical_feature in param dict is overridden.\n",
            "  _log_warning(f'{cat_alias} in param dict is overridden.')\n"
          ]
        },
        {
          "name": "stdout",
          "output_type": "stream",
          "text": [
            "\n",
            "[LightGBM] [Warning] bagging_fraction is set=0.802251757729795, subsample=1.0 will be ignored. Current value: bagging_fraction=0.802251757729795\n",
            "F1_SCORE:  0.2923 \n",
            "\n",
            "[LightGBM] [Warning] feature_fraction is set=0.6352150561720549, colsample_bytree=1.0 will be ignored. Current value: feature_fraction=0.6352150561720549\n",
            "[LightGBM] [Warning] bagging_fraction is set=0.802251757729795, subsample=1.0 will be ignored. Current value: bagging_fraction=0.802251757729795\n"
          ]
        },
        {
          "name": "stderr",
          "output_type": "stream",
          "text": [
            "C:\\Users\\Toan\\anaconda3\\envs\\ml_com\\lib\\site-packages\\lightgbm\\sklearn.py:736: UserWarning: 'verbose' argument is deprecated and will be removed in a future release of LightGBM. Pass 'log_evaluation()' callback via 'callbacks' argument instead.\n",
            "  _log_warning(\"'verbose' argument is deprecated and will be removed in a future release of LightGBM. \"\n",
            "C:\\Users\\Toan\\anaconda3\\envs\\ml_com\\lib\\site-packages\\lightgbm\\basic.py:1487: UserWarning: categorical_feature keyword has been found in `params` and will be ignored.\n",
            "Please use categorical_feature argument of the Dataset constructor to pass this parameter.\n",
            "  _log_warning(f'{key} keyword has been found in `params` and will be ignored.\\n'\n",
            "C:\\Users\\Toan\\anaconda3\\envs\\ml_com\\lib\\site-packages\\lightgbm\\basic.py:1513: UserWarning: categorical_feature in param dict is overridden.\n",
            "  _log_warning(f'{cat_alias} in param dict is overridden.')\n"
          ]
        },
        {
          "name": "stdout",
          "output_type": "stream",
          "text": [
            "F1_SCORE:  0.1407 \n",
            "\n",
            "[LightGBM] [Warning] feature_fraction is set=0.6352150561720549, colsample_bytree=1.0 will be ignored. Current value: feature_fraction=0.6352150561720549\n",
            "[LightGBM] [Warning] bagging_fraction is set=0.802251757729795, subsample=1.0 will be ignored. Current value: bagging_fraction=0.802251757729795\n"
          ]
        },
        {
          "name": "stderr",
          "output_type": "stream",
          "text": [
            "C:\\Users\\Toan\\anaconda3\\envs\\ml_com\\lib\\site-packages\\lightgbm\\sklearn.py:736: UserWarning: 'verbose' argument is deprecated and will be removed in a future release of LightGBM. Pass 'log_evaluation()' callback via 'callbacks' argument instead.\n",
            "  _log_warning(\"'verbose' argument is deprecated and will be removed in a future release of LightGBM. \"\n",
            "C:\\Users\\Toan\\anaconda3\\envs\\ml_com\\lib\\site-packages\\lightgbm\\basic.py:1487: UserWarning: categorical_feature keyword has been found in `params` and will be ignored.\n",
            "Please use categorical_feature argument of the Dataset constructor to pass this parameter.\n",
            "  _log_warning(f'{key} keyword has been found in `params` and will be ignored.\\n'\n",
            "C:\\Users\\Toan\\anaconda3\\envs\\ml_com\\lib\\site-packages\\lightgbm\\basic.py:1513: UserWarning: categorical_feature in param dict is overridden.\n",
            "  _log_warning(f'{cat_alias} in param dict is overridden.')\n"
          ]
        },
        {
          "name": "stdout",
          "output_type": "stream",
          "text": [
            "F1_SCORE:  0.4499 \n",
            "\n",
            "[LightGBM] [Warning] feature_fraction is set=0.6352150561720549, colsample_bytree=1.0 will be ignored. Current value: feature_fraction=0.6352150561720549\n",
            "[LightGBM] [Warning] bagging_fraction is set=0.802251757729795, subsample=1.0 will be ignored. Current value: bagging_fraction=0.802251757729795\n"
          ]
        },
        {
          "name": "stderr",
          "output_type": "stream",
          "text": [
            "C:\\Users\\Toan\\anaconda3\\envs\\ml_com\\lib\\site-packages\\lightgbm\\sklearn.py:736: UserWarning: 'verbose' argument is deprecated and will be removed in a future release of LightGBM. Pass 'log_evaluation()' callback via 'callbacks' argument instead.\n",
            "  _log_warning(\"'verbose' argument is deprecated and will be removed in a future release of LightGBM. \"\n",
            "C:\\Users\\Toan\\anaconda3\\envs\\ml_com\\lib\\site-packages\\lightgbm\\basic.py:1487: UserWarning: categorical_feature keyword has been found in `params` and will be ignored.\n",
            "Please use categorical_feature argument of the Dataset constructor to pass this parameter.\n",
            "  _log_warning(f'{key} keyword has been found in `params` and will be ignored.\\n'\n",
            "C:\\Users\\Toan\\anaconda3\\envs\\ml_com\\lib\\site-packages\\lightgbm\\basic.py:1513: UserWarning: categorical_feature in param dict is overridden.\n",
            "  _log_warning(f'{cat_alias} in param dict is overridden.')\n",
            "\u001b[32m[I 2022-04-18 22:22:22,942]\u001b[0m Trial 7 finished with value: 0.3116839959150476 and parameters: {'num_leaves': 6, 'n_estimators': 897, 'learning_rate': 0.368634106120184, 'feature_fraction': 0.6352150561720549, 'bagging_fraction': 0.802251757729795}. Best is trial 5 with value: 0.8040849795380097.\u001b[0m\n"
          ]
        },
        {
          "name": "stdout",
          "output_type": "stream",
          "text": [
            "F1_SCORE:  0.4603 \n",
            "\n",
            "[LightGBM] [Warning] feature_fraction is set=0.8612585350183969, colsample_bytree=1.0 will be ignored. Current value: feature_fraction=0.8612585350183969\n",
            "[LightGBM] [Warning] bagging_fraction is set=0.5300221485988336, subsample=1.0 will be ignored. Current value: bagging_fraction=0.5300221485988336\n"
          ]
        },
        {
          "name": "stderr",
          "output_type": "stream",
          "text": [
            "C:\\Users\\Toan\\anaconda3\\envs\\ml_com\\lib\\site-packages\\lightgbm\\sklearn.py:736: UserWarning: 'verbose' argument is deprecated and will be removed in a future release of LightGBM. Pass 'log_evaluation()' callback via 'callbacks' argument instead.\n",
            "  _log_warning(\"'verbose' argument is deprecated and will be removed in a future release of LightGBM. \"\n",
            "C:\\Users\\Toan\\anaconda3\\envs\\ml_com\\lib\\site-packages\\lightgbm\\basic.py:1487: UserWarning: categorical_feature keyword has been found in `params` and will be ignored.\n",
            "Please use categorical_feature argument of the Dataset constructor to pass this parameter.\n",
            "  _log_warning(f'{key} keyword has been found in `params` and will be ignored.\\n'\n",
            "C:\\Users\\Toan\\anaconda3\\envs\\ml_com\\lib\\site-packages\\lightgbm\\basic.py:1513: UserWarning: categorical_feature in param dict is overridden.\n",
            "  _log_warning(f'{cat_alias} in param dict is overridden.')\n"
          ]
        },
        {
          "name": "stdout",
          "output_type": "stream",
          "text": [
            "F1_SCORE:  0.4298 \n",
            "\n",
            "[LightGBM] [Warning] feature_fraction is set=0.8612585350183969, colsample_bytree=1.0 will be ignored. Current value: feature_fraction=0.8612585350183969\n",
            "[LightGBM] [Warning] bagging_fraction is set=0.5300221485988336, subsample=1.0 will be ignored. Current value: bagging_fraction=0.5300221485988336\n"
          ]
        },
        {
          "name": "stderr",
          "output_type": "stream",
          "text": [
            "C:\\Users\\Toan\\anaconda3\\envs\\ml_com\\lib\\site-packages\\lightgbm\\sklearn.py:736: UserWarning: 'verbose' argument is deprecated and will be removed in a future release of LightGBM. Pass 'log_evaluation()' callback via 'callbacks' argument instead.\n",
            "  _log_warning(\"'verbose' argument is deprecated and will be removed in a future release of LightGBM. \"\n",
            "C:\\Users\\Toan\\anaconda3\\envs\\ml_com\\lib\\site-packages\\lightgbm\\basic.py:1487: UserWarning: categorical_feature keyword has been found in `params` and will be ignored.\n",
            "Please use categorical_feature argument of the Dataset constructor to pass this parameter.\n",
            "  _log_warning(f'{key} keyword has been found in `params` and will be ignored.\\n'\n",
            "C:\\Users\\Toan\\anaconda3\\envs\\ml_com\\lib\\site-packages\\lightgbm\\basic.py:1513: UserWarning: categorical_feature in param dict is overridden.\n",
            "  _log_warning(f'{cat_alias} in param dict is overridden.')\n"
          ]
        },
        {
          "name": "stdout",
          "output_type": "stream",
          "text": [
            "F1_SCORE:  0.2591 \n",
            "\n",
            "[LightGBM] [Warning] feature_fraction is set=0.8612585350183969, colsample_bytree=1.0 will be ignored. Current value: feature_fraction=0.8612585350183969\n",
            "[LightGBM] [Warning] bagging_fraction is set=0.5300221485988336, subsample=1.0 will be ignored. Current value: bagging_fraction=0.5300221485988336\n"
          ]
        },
        {
          "name": "stderr",
          "output_type": "stream",
          "text": [
            "C:\\Users\\Toan\\anaconda3\\envs\\ml_com\\lib\\site-packages\\lightgbm\\sklearn.py:736: UserWarning: 'verbose' argument is deprecated and will be removed in a future release of LightGBM. Pass 'log_evaluation()' callback via 'callbacks' argument instead.\n",
            "  _log_warning(\"'verbose' argument is deprecated and will be removed in a future release of LightGBM. \"\n",
            "C:\\Users\\Toan\\anaconda3\\envs\\ml_com\\lib\\site-packages\\lightgbm\\basic.py:1487: UserWarning: categorical_feature keyword has been found in `params` and will be ignored.\n",
            "Please use categorical_feature argument of the Dataset constructor to pass this parameter.\n",
            "  _log_warning(f'{key} keyword has been found in `params` and will be ignored.\\n'\n",
            "C:\\Users\\Toan\\anaconda3\\envs\\ml_com\\lib\\site-packages\\lightgbm\\basic.py:1513: UserWarning: categorical_feature in param dict is overridden.\n",
            "  _log_warning(f'{cat_alias} in param dict is overridden.')\n"
          ]
        },
        {
          "name": "stdout",
          "output_type": "stream",
          "text": [
            "F1_SCORE:  0.3824 \n",
            "\n",
            "[LightGBM] [Warning] feature_fraction is set=0.8612585350183969, colsample_bytree=1.0 will be ignored. Current value: feature_fraction=0.8612585350183969\n",
            "[LightGBM] [Warning] bagging_fraction is set=0.5300221485988336, subsample=1.0 will be ignored. Current value: bagging_fraction=0.5300221485988336\n"
          ]
        },
        {
          "name": "stderr",
          "output_type": "stream",
          "text": [
            "C:\\Users\\Toan\\anaconda3\\envs\\ml_com\\lib\\site-packages\\lightgbm\\sklearn.py:736: UserWarning: 'verbose' argument is deprecated and will be removed in a future release of LightGBM. Pass 'log_evaluation()' callback via 'callbacks' argument instead.\n",
            "  _log_warning(\"'verbose' argument is deprecated and will be removed in a future release of LightGBM. \"\n",
            "C:\\Users\\Toan\\anaconda3\\envs\\ml_com\\lib\\site-packages\\lightgbm\\basic.py:1487: UserWarning: categorical_feature keyword has been found in `params` and will be ignored.\n",
            "Please use categorical_feature argument of the Dataset constructor to pass this parameter.\n",
            "  _log_warning(f'{key} keyword has been found in `params` and will be ignored.\\n'\n",
            "C:\\Users\\Toan\\anaconda3\\envs\\ml_com\\lib\\site-packages\\lightgbm\\basic.py:1513: UserWarning: categorical_feature in param dict is overridden.\n",
            "  _log_warning(f'{cat_alias} in param dict is overridden.')\n"
          ]
        },
        {
          "name": "stdout",
          "output_type": "stream",
          "text": [
            "F1_SCORE:  0.2022 \n",
            "\n",
            "[LightGBM] [Warning] feature_fraction is set=0.8612585350183969, colsample_bytree=1.0 will be ignored. Current value: feature_fraction=0.8612585350183969\n",
            "[LightGBM] [Warning] bagging_fraction is set=0.5300221485988336, subsample=1.0 will be ignored. Current value: bagging_fraction=0.5300221485988336\n"
          ]
        },
        {
          "name": "stderr",
          "output_type": "stream",
          "text": [
            "C:\\Users\\Toan\\anaconda3\\envs\\ml_com\\lib\\site-packages\\lightgbm\\sklearn.py:736: UserWarning: 'verbose' argument is deprecated and will be removed in a future release of LightGBM. Pass 'log_evaluation()' callback via 'callbacks' argument instead.\n",
            "  _log_warning(\"'verbose' argument is deprecated and will be removed in a future release of LightGBM. \"\n",
            "C:\\Users\\Toan\\anaconda3\\envs\\ml_com\\lib\\site-packages\\lightgbm\\basic.py:1487: UserWarning: categorical_feature keyword has been found in `params` and will be ignored.\n",
            "Please use categorical_feature argument of the Dataset constructor to pass this parameter.\n",
            "  _log_warning(f'{key} keyword has been found in `params` and will be ignored.\\n'\n",
            "C:\\Users\\Toan\\anaconda3\\envs\\ml_com\\lib\\site-packages\\lightgbm\\basic.py:1513: UserWarning: categorical_feature in param dict is overridden.\n",
            "  _log_warning(f'{cat_alias} in param dict is overridden.')\n",
            "\u001b[32m[I 2022-04-18 22:23:59,949]\u001b[0m Trial 8 finished with value: 0.31190596328949516 and parameters: {'num_leaves': 12, 'n_estimators': 645, 'learning_rate': 0.7698340495925156, 'feature_fraction': 0.8612585350183969, 'bagging_fraction': 0.5300221485988336}. Best is trial 5 with value: 0.8040849795380097.\u001b[0m\n"
          ]
        },
        {
          "name": "stdout",
          "output_type": "stream",
          "text": [
            "F1_SCORE:  0.286 \n",
            "\n",
            "[LightGBM] [Warning] feature_fraction is set=0.9350641868920488, colsample_bytree=1.0 will be ignored. Current value: feature_fraction=0.9350641868920488\n",
            "[LightGBM] [Warning] bagging_fraction is set=0.734198997280791, subsample=1.0 will be ignored. Current value: bagging_fraction=0.734198997280791\n"
          ]
        },
        {
          "name": "stderr",
          "output_type": "stream",
          "text": [
            "C:\\Users\\Toan\\anaconda3\\envs\\ml_com\\lib\\site-packages\\lightgbm\\sklearn.py:736: UserWarning: 'verbose' argument is deprecated and will be removed in a future release of LightGBM. Pass 'log_evaluation()' callback via 'callbacks' argument instead.\n",
            "  _log_warning(\"'verbose' argument is deprecated and will be removed in a future release of LightGBM. \"\n",
            "C:\\Users\\Toan\\anaconda3\\envs\\ml_com\\lib\\site-packages\\lightgbm\\basic.py:1487: UserWarning: categorical_feature keyword has been found in `params` and will be ignored.\n",
            "Please use categorical_feature argument of the Dataset constructor to pass this parameter.\n",
            "  _log_warning(f'{key} keyword has been found in `params` and will be ignored.\\n'\n",
            "C:\\Users\\Toan\\anaconda3\\envs\\ml_com\\lib\\site-packages\\lightgbm\\basic.py:1513: UserWarning: categorical_feature in param dict is overridden.\n",
            "  _log_warning(f'{cat_alias} in param dict is overridden.')\n"
          ]
        },
        {
          "name": "stdout",
          "output_type": "stream",
          "text": [
            "F1_SCORE:  0.1234 \n",
            "\n",
            "[LightGBM] [Warning] feature_fraction is set=0.9350641868920488, colsample_bytree=1.0 will be ignored. Current value: feature_fraction=0.9350641868920488\n",
            "[LightGBM] [Warning] bagging_fraction is set=0.734198997280791, subsample=1.0 will be ignored. Current value: bagging_fraction=0.734198997280791\n"
          ]
        },
        {
          "name": "stderr",
          "output_type": "stream",
          "text": [
            "C:\\Users\\Toan\\anaconda3\\envs\\ml_com\\lib\\site-packages\\lightgbm\\sklearn.py:736: UserWarning: 'verbose' argument is deprecated and will be removed in a future release of LightGBM. Pass 'log_evaluation()' callback via 'callbacks' argument instead.\n",
            "  _log_warning(\"'verbose' argument is deprecated and will be removed in a future release of LightGBM. \"\n",
            "C:\\Users\\Toan\\anaconda3\\envs\\ml_com\\lib\\site-packages\\lightgbm\\basic.py:1487: UserWarning: categorical_feature keyword has been found in `params` and will be ignored.\n",
            "Please use categorical_feature argument of the Dataset constructor to pass this parameter.\n",
            "  _log_warning(f'{key} keyword has been found in `params` and will be ignored.\\n'\n",
            "C:\\Users\\Toan\\anaconda3\\envs\\ml_com\\lib\\site-packages\\lightgbm\\basic.py:1513: UserWarning: categorical_feature in param dict is overridden.\n",
            "  _log_warning(f'{cat_alias} in param dict is overridden.')\n"
          ]
        },
        {
          "name": "stdout",
          "output_type": "stream",
          "text": [
            "F1_SCORE:  0.1843 \n",
            "\n",
            "[LightGBM] [Warning] feature_fraction is set=0.9350641868920488, colsample_bytree=1.0 will be ignored. Current value: feature_fraction=0.9350641868920488\n",
            "[LightGBM] [Warning] bagging_fraction is set=0.734198997280791, subsample=1.0 will be ignored. Current value: bagging_fraction=0.734198997280791\n"
          ]
        },
        {
          "name": "stderr",
          "output_type": "stream",
          "text": [
            "C:\\Users\\Toan\\anaconda3\\envs\\ml_com\\lib\\site-packages\\lightgbm\\sklearn.py:736: UserWarning: 'verbose' argument is deprecated and will be removed in a future release of LightGBM. Pass 'log_evaluation()' callback via 'callbacks' argument instead.\n",
            "  _log_warning(\"'verbose' argument is deprecated and will be removed in a future release of LightGBM. \"\n",
            "C:\\Users\\Toan\\anaconda3\\envs\\ml_com\\lib\\site-packages\\lightgbm\\basic.py:1487: UserWarning: categorical_feature keyword has been found in `params` and will be ignored.\n",
            "Please use categorical_feature argument of the Dataset constructor to pass this parameter.\n",
            "  _log_warning(f'{key} keyword has been found in `params` and will be ignored.\\n'\n",
            "C:\\Users\\Toan\\anaconda3\\envs\\ml_com\\lib\\site-packages\\lightgbm\\basic.py:1513: UserWarning: categorical_feature in param dict is overridden.\n",
            "  _log_warning(f'{cat_alias} in param dict is overridden.')\n"
          ]
        },
        {
          "name": "stdout",
          "output_type": "stream",
          "text": [
            "F1_SCORE:  0.4419 \n",
            "\n",
            "[LightGBM] [Warning] feature_fraction is set=0.9350641868920488, colsample_bytree=1.0 will be ignored. Current value: feature_fraction=0.9350641868920488\n",
            "[LightGBM] [Warning] bagging_fraction is set=0.734198997280791, subsample=1.0 will be ignored. Current value: bagging_fraction=0.734198997280791\n"
          ]
        },
        {
          "name": "stderr",
          "output_type": "stream",
          "text": [
            "C:\\Users\\Toan\\anaconda3\\envs\\ml_com\\lib\\site-packages\\lightgbm\\sklearn.py:736: UserWarning: 'verbose' argument is deprecated and will be removed in a future release of LightGBM. Pass 'log_evaluation()' callback via 'callbacks' argument instead.\n",
            "  _log_warning(\"'verbose' argument is deprecated and will be removed in a future release of LightGBM. \"\n",
            "C:\\Users\\Toan\\anaconda3\\envs\\ml_com\\lib\\site-packages\\lightgbm\\basic.py:1487: UserWarning: categorical_feature keyword has been found in `params` and will be ignored.\n",
            "Please use categorical_feature argument of the Dataset constructor to pass this parameter.\n",
            "  _log_warning(f'{key} keyword has been found in `params` and will be ignored.\\n'\n",
            "C:\\Users\\Toan\\anaconda3\\envs\\ml_com\\lib\\site-packages\\lightgbm\\basic.py:1513: UserWarning: categorical_feature in param dict is overridden.\n",
            "  _log_warning(f'{cat_alias} in param dict is overridden.')\n"
          ]
        },
        {
          "name": "stdout",
          "output_type": "stream",
          "text": [
            "F1_SCORE:  0.2998 \n",
            "\n",
            "[LightGBM] [Warning] feature_fraction is set=0.9350641868920488, colsample_bytree=1.0 will be ignored. Current value: feature_fraction=0.9350641868920488\n",
            "[LightGBM] [Warning] bagging_fraction is set=0.734198997280791, subsample=1.0 will be ignored. Current value: bagging_fraction=0.734198997280791\n"
          ]
        },
        {
          "name": "stderr",
          "output_type": "stream",
          "text": [
            "C:\\Users\\Toan\\anaconda3\\envs\\ml_com\\lib\\site-packages\\lightgbm\\sklearn.py:736: UserWarning: 'verbose' argument is deprecated and will be removed in a future release of LightGBM. Pass 'log_evaluation()' callback via 'callbacks' argument instead.\n",
            "  _log_warning(\"'verbose' argument is deprecated and will be removed in a future release of LightGBM. \"\n",
            "C:\\Users\\Toan\\anaconda3\\envs\\ml_com\\lib\\site-packages\\lightgbm\\basic.py:1487: UserWarning: categorical_feature keyword has been found in `params` and will be ignored.\n",
            "Please use categorical_feature argument of the Dataset constructor to pass this parameter.\n",
            "  _log_warning(f'{key} keyword has been found in `params` and will be ignored.\\n'\n",
            "C:\\Users\\Toan\\anaconda3\\envs\\ml_com\\lib\\site-packages\\lightgbm\\basic.py:1513: UserWarning: categorical_feature in param dict is overridden.\n",
            "  _log_warning(f'{cat_alias} in param dict is overridden.')\n",
            "\u001b[32m[I 2022-04-18 22:26:47,773]\u001b[0m Trial 9 finished with value: 0.2592794718638352 and parameters: {'num_leaves': 3, 'n_estimators': 1060, 'learning_rate': 0.536231563809302, 'feature_fraction': 0.9350641868920488, 'bagging_fraction': 0.734198997280791}. Best is trial 5 with value: 0.8040849795380097.\u001b[0m\n"
          ]
        },
        {
          "name": "stdout",
          "output_type": "stream",
          "text": [
            "F1_SCORE:  0.2469 \n",
            "\n",
            "[LightGBM] [Warning] feature_fraction is set=0.41283369645198736, colsample_bytree=1.0 will be ignored. Current value: feature_fraction=0.41283369645198736\n",
            "[LightGBM] [Warning] bagging_fraction is set=0.8503853043060997, subsample=1.0 will be ignored. Current value: bagging_fraction=0.8503853043060997\n"
          ]
        },
        {
          "name": "stderr",
          "output_type": "stream",
          "text": [
            "C:\\Users\\Toan\\anaconda3\\envs\\ml_com\\lib\\site-packages\\lightgbm\\sklearn.py:736: UserWarning: 'verbose' argument is deprecated and will be removed in a future release of LightGBM. Pass 'log_evaluation()' callback via 'callbacks' argument instead.\n",
            "  _log_warning(\"'verbose' argument is deprecated and will be removed in a future release of LightGBM. \"\n",
            "C:\\Users\\Toan\\anaconda3\\envs\\ml_com\\lib\\site-packages\\lightgbm\\basic.py:1487: UserWarning: categorical_feature keyword has been found in `params` and will be ignored.\n",
            "Please use categorical_feature argument of the Dataset constructor to pass this parameter.\n",
            "  _log_warning(f'{key} keyword has been found in `params` and will be ignored.\\n'\n",
            "C:\\Users\\Toan\\anaconda3\\envs\\ml_com\\lib\\site-packages\\lightgbm\\basic.py:1513: UserWarning: categorical_feature in param dict is overridden.\n",
            "  _log_warning(f'{cat_alias} in param dict is overridden.')\n"
          ]
        },
        {
          "name": "stdout",
          "output_type": "stream",
          "text": [
            "F1_SCORE:  0.7493 \n",
            "\n",
            "[LightGBM] [Warning] feature_fraction is set=0.41283369645198736, colsample_bytree=1.0 will be ignored. Current value: feature_fraction=0.41283369645198736\n",
            "[LightGBM] [Warning] bagging_fraction is set=0.8503853043060997, subsample=1.0 will be ignored. Current value: bagging_fraction=0.8503853043060997\n"
          ]
        },
        {
          "name": "stderr",
          "output_type": "stream",
          "text": [
            "C:\\Users\\Toan\\anaconda3\\envs\\ml_com\\lib\\site-packages\\lightgbm\\sklearn.py:736: UserWarning: 'verbose' argument is deprecated and will be removed in a future release of LightGBM. Pass 'log_evaluation()' callback via 'callbacks' argument instead.\n",
            "  _log_warning(\"'verbose' argument is deprecated and will be removed in a future release of LightGBM. \"\n",
            "C:\\Users\\Toan\\anaconda3\\envs\\ml_com\\lib\\site-packages\\lightgbm\\basic.py:1487: UserWarning: categorical_feature keyword has been found in `params` and will be ignored.\n",
            "Please use categorical_feature argument of the Dataset constructor to pass this parameter.\n",
            "  _log_warning(f'{key} keyword has been found in `params` and will be ignored.\\n'\n",
            "C:\\Users\\Toan\\anaconda3\\envs\\ml_com\\lib\\site-packages\\lightgbm\\basic.py:1513: UserWarning: categorical_feature in param dict is overridden.\n",
            "  _log_warning(f'{cat_alias} in param dict is overridden.')\n"
          ]
        },
        {
          "name": "stdout",
          "output_type": "stream",
          "text": [
            "F1_SCORE:  0.7148 \n",
            "\n",
            "[LightGBM] [Warning] feature_fraction is set=0.41283369645198736, colsample_bytree=1.0 will be ignored. Current value: feature_fraction=0.41283369645198736\n",
            "[LightGBM] [Warning] bagging_fraction is set=0.8503853043060997, subsample=1.0 will be ignored. Current value: bagging_fraction=0.8503853043060997\n"
          ]
        },
        {
          "name": "stderr",
          "output_type": "stream",
          "text": [
            "C:\\Users\\Toan\\anaconda3\\envs\\ml_com\\lib\\site-packages\\lightgbm\\sklearn.py:736: UserWarning: 'verbose' argument is deprecated and will be removed in a future release of LightGBM. Pass 'log_evaluation()' callback via 'callbacks' argument instead.\n",
            "  _log_warning(\"'verbose' argument is deprecated and will be removed in a future release of LightGBM. \"\n",
            "C:\\Users\\Toan\\anaconda3\\envs\\ml_com\\lib\\site-packages\\lightgbm\\basic.py:1487: UserWarning: categorical_feature keyword has been found in `params` and will be ignored.\n",
            "Please use categorical_feature argument of the Dataset constructor to pass this parameter.\n",
            "  _log_warning(f'{key} keyword has been found in `params` and will be ignored.\\n'\n",
            "C:\\Users\\Toan\\anaconda3\\envs\\ml_com\\lib\\site-packages\\lightgbm\\basic.py:1513: UserWarning: categorical_feature in param dict is overridden.\n",
            "  _log_warning(f'{cat_alias} in param dict is overridden.')\n"
          ]
        },
        {
          "name": "stdout",
          "output_type": "stream",
          "text": [
            "F1_SCORE:  0.7956 \n",
            "\n",
            "[LightGBM] [Warning] feature_fraction is set=0.41283369645198736, colsample_bytree=1.0 will be ignored. Current value: feature_fraction=0.41283369645198736\n",
            "[LightGBM] [Warning] bagging_fraction is set=0.8503853043060997, subsample=1.0 will be ignored. Current value: bagging_fraction=0.8503853043060997\n"
          ]
        },
        {
          "name": "stderr",
          "output_type": "stream",
          "text": [
            "C:\\Users\\Toan\\anaconda3\\envs\\ml_com\\lib\\site-packages\\lightgbm\\sklearn.py:736: UserWarning: 'verbose' argument is deprecated and will be removed in a future release of LightGBM. Pass 'log_evaluation()' callback via 'callbacks' argument instead.\n",
            "  _log_warning(\"'verbose' argument is deprecated and will be removed in a future release of LightGBM. \"\n",
            "C:\\Users\\Toan\\anaconda3\\envs\\ml_com\\lib\\site-packages\\lightgbm\\basic.py:1487: UserWarning: categorical_feature keyword has been found in `params` and will be ignored.\n",
            "Please use categorical_feature argument of the Dataset constructor to pass this parameter.\n",
            "  _log_warning(f'{key} keyword has been found in `params` and will be ignored.\\n'\n",
            "C:\\Users\\Toan\\anaconda3\\envs\\ml_com\\lib\\site-packages\\lightgbm\\basic.py:1513: UserWarning: categorical_feature in param dict is overridden.\n",
            "  _log_warning(f'{cat_alias} in param dict is overridden.')\n"
          ]
        },
        {
          "name": "stdout",
          "output_type": "stream",
          "text": [
            "F1_SCORE:  0.7621 \n",
            "\n",
            "[LightGBM] [Warning] feature_fraction is set=0.41283369645198736, colsample_bytree=1.0 will be ignored. Current value: feature_fraction=0.41283369645198736\n",
            "[LightGBM] [Warning] bagging_fraction is set=0.8503853043060997, subsample=1.0 will be ignored. Current value: bagging_fraction=0.8503853043060997\n"
          ]
        },
        {
          "name": "stderr",
          "output_type": "stream",
          "text": [
            "C:\\Users\\Toan\\anaconda3\\envs\\ml_com\\lib\\site-packages\\lightgbm\\sklearn.py:736: UserWarning: 'verbose' argument is deprecated and will be removed in a future release of LightGBM. Pass 'log_evaluation()' callback via 'callbacks' argument instead.\n",
            "  _log_warning(\"'verbose' argument is deprecated and will be removed in a future release of LightGBM. \"\n",
            "C:\\Users\\Toan\\anaconda3\\envs\\ml_com\\lib\\site-packages\\lightgbm\\basic.py:1487: UserWarning: categorical_feature keyword has been found in `params` and will be ignored.\n",
            "Please use categorical_feature argument of the Dataset constructor to pass this parameter.\n",
            "  _log_warning(f'{key} keyword has been found in `params` and will be ignored.\\n'\n",
            "C:\\Users\\Toan\\anaconda3\\envs\\ml_com\\lib\\site-packages\\lightgbm\\basic.py:1513: UserWarning: categorical_feature in param dict is overridden.\n",
            "  _log_warning(f'{cat_alias} in param dict is overridden.')\n",
            "\u001b[32m[I 2022-04-18 22:27:43,364]\u001b[0m Trial 10 finished with value: 0.7568227463099036 and parameters: {'num_leaves': 10, 'n_estimators': 275, 'learning_rate': 0.011624348885723002, 'feature_fraction': 0.41283369645198736, 'bagging_fraction': 0.8503853043060997}. Best is trial 5 with value: 0.8040849795380097.\u001b[0m\n"
          ]
        },
        {
          "name": "stdout",
          "output_type": "stream",
          "text": [
            "F1_SCORE:  0.7622 \n",
            "\n"
          ]
        },
        {
          "name": "stderr",
          "output_type": "stream",
          "text": [
            "C:\\Users\\Toan\\anaconda3\\envs\\ml_com\\lib\\site-packages\\lightgbm\\sklearn.py:736: UserWarning: 'verbose' argument is deprecated and will be removed in a future release of LightGBM. Pass 'log_evaluation()' callback via 'callbacks' argument instead.\n",
            "  _log_warning(\"'verbose' argument is deprecated and will be removed in a future release of LightGBM. \"\n",
            "C:\\Users\\Toan\\anaconda3\\envs\\ml_com\\lib\\site-packages\\lightgbm\\basic.py:1487: UserWarning: categorical_feature keyword has been found in `params` and will be ignored.\n",
            "Please use categorical_feature argument of the Dataset constructor to pass this parameter.\n",
            "  _log_warning(f'{key} keyword has been found in `params` and will be ignored.\\n'\n",
            "C:\\Users\\Toan\\anaconda3\\envs\\ml_com\\lib\\site-packages\\lightgbm\\basic.py:1513: UserWarning: categorical_feature in param dict is overridden.\n",
            "  _log_warning(f'{cat_alias} in param dict is overridden.')\n"
          ]
        },
        {
          "name": "stdout",
          "output_type": "stream",
          "text": [
            "[LightGBM] [Warning] feature_fraction is set=0.42253170498181075, colsample_bytree=1.0 will be ignored. Current value: feature_fraction=0.42253170498181075\n",
            "[LightGBM] [Warning] bagging_fraction is set=0.8534093875412327, subsample=1.0 will be ignored. Current value: bagging_fraction=0.8534093875412327\n",
            "F1_SCORE:  0.7722 \n",
            "\n",
            "[LightGBM] [Warning] feature_fraction is set=0.42253170498181075, colsample_bytree=1.0 will be ignored. Current value: feature_fraction=0.42253170498181075\n",
            "[LightGBM] [Warning] bagging_fraction is set=0.8534093875412327, subsample=1.0 will be ignored. Current value: bagging_fraction=0.8534093875412327\n"
          ]
        },
        {
          "name": "stderr",
          "output_type": "stream",
          "text": [
            "C:\\Users\\Toan\\anaconda3\\envs\\ml_com\\lib\\site-packages\\lightgbm\\sklearn.py:736: UserWarning: 'verbose' argument is deprecated and will be removed in a future release of LightGBM. Pass 'log_evaluation()' callback via 'callbacks' argument instead.\n",
            "  _log_warning(\"'verbose' argument is deprecated and will be removed in a future release of LightGBM. \"\n",
            "C:\\Users\\Toan\\anaconda3\\envs\\ml_com\\lib\\site-packages\\lightgbm\\basic.py:1487: UserWarning: categorical_feature keyword has been found in `params` and will be ignored.\n",
            "Please use categorical_feature argument of the Dataset constructor to pass this parameter.\n",
            "  _log_warning(f'{key} keyword has been found in `params` and will be ignored.\\n'\n",
            "C:\\Users\\Toan\\anaconda3\\envs\\ml_com\\lib\\site-packages\\lightgbm\\basic.py:1513: UserWarning: categorical_feature in param dict is overridden.\n",
            "  _log_warning(f'{cat_alias} in param dict is overridden.')\n"
          ]
        },
        {
          "name": "stdout",
          "output_type": "stream",
          "text": [
            "F1_SCORE:  0.7457 \n",
            "\n",
            "[LightGBM] [Warning] feature_fraction is set=0.42253170498181075, colsample_bytree=1.0 will be ignored. Current value: feature_fraction=0.42253170498181075\n",
            "[LightGBM] [Warning] bagging_fraction is set=0.8534093875412327, subsample=1.0 will be ignored. Current value: bagging_fraction=0.8534093875412327\n"
          ]
        },
        {
          "name": "stderr",
          "output_type": "stream",
          "text": [
            "C:\\Users\\Toan\\anaconda3\\envs\\ml_com\\lib\\site-packages\\lightgbm\\sklearn.py:736: UserWarning: 'verbose' argument is deprecated and will be removed in a future release of LightGBM. Pass 'log_evaluation()' callback via 'callbacks' argument instead.\n",
            "  _log_warning(\"'verbose' argument is deprecated and will be removed in a future release of LightGBM. \"\n",
            "C:\\Users\\Toan\\anaconda3\\envs\\ml_com\\lib\\site-packages\\lightgbm\\basic.py:1487: UserWarning: categorical_feature keyword has been found in `params` and will be ignored.\n",
            "Please use categorical_feature argument of the Dataset constructor to pass this parameter.\n",
            "  _log_warning(f'{key} keyword has been found in `params` and will be ignored.\\n'\n",
            "C:\\Users\\Toan\\anaconda3\\envs\\ml_com\\lib\\site-packages\\lightgbm\\basic.py:1513: UserWarning: categorical_feature in param dict is overridden.\n",
            "  _log_warning(f'{cat_alias} in param dict is overridden.')\n"
          ]
        },
        {
          "name": "stdout",
          "output_type": "stream",
          "text": [
            "F1_SCORE:  0.7973 \n",
            "\n",
            "[LightGBM] [Warning] feature_fraction is set=0.42253170498181075, colsample_bytree=1.0 will be ignored. Current value: feature_fraction=0.42253170498181075\n",
            "[LightGBM] [Warning] bagging_fraction is set=0.8534093875412327, subsample=1.0 will be ignored. Current value: bagging_fraction=0.8534093875412327\n"
          ]
        },
        {
          "name": "stderr",
          "output_type": "stream",
          "text": [
            "C:\\Users\\Toan\\anaconda3\\envs\\ml_com\\lib\\site-packages\\lightgbm\\sklearn.py:736: UserWarning: 'verbose' argument is deprecated and will be removed in a future release of LightGBM. Pass 'log_evaluation()' callback via 'callbacks' argument instead.\n",
            "  _log_warning(\"'verbose' argument is deprecated and will be removed in a future release of LightGBM. \"\n",
            "C:\\Users\\Toan\\anaconda3\\envs\\ml_com\\lib\\site-packages\\lightgbm\\basic.py:1487: UserWarning: categorical_feature keyword has been found in `params` and will be ignored.\n",
            "Please use categorical_feature argument of the Dataset constructor to pass this parameter.\n",
            "  _log_warning(f'{key} keyword has been found in `params` and will be ignored.\\n'\n",
            "C:\\Users\\Toan\\anaconda3\\envs\\ml_com\\lib\\site-packages\\lightgbm\\basic.py:1513: UserWarning: categorical_feature in param dict is overridden.\n",
            "  _log_warning(f'{cat_alias} in param dict is overridden.')\n"
          ]
        },
        {
          "name": "stdout",
          "output_type": "stream",
          "text": [
            "F1_SCORE:  0.7855 \n",
            "\n",
            "[LightGBM] [Warning] feature_fraction is set=0.42253170498181075, colsample_bytree=1.0 will be ignored. Current value: feature_fraction=0.42253170498181075\n",
            "[LightGBM] [Warning] bagging_fraction is set=0.8534093875412327, subsample=1.0 will be ignored. Current value: bagging_fraction=0.8534093875412327\n"
          ]
        },
        {
          "name": "stderr",
          "output_type": "stream",
          "text": [
            "C:\\Users\\Toan\\anaconda3\\envs\\ml_com\\lib\\site-packages\\lightgbm\\sklearn.py:736: UserWarning: 'verbose' argument is deprecated and will be removed in a future release of LightGBM. Pass 'log_evaluation()' callback via 'callbacks' argument instead.\n",
            "  _log_warning(\"'verbose' argument is deprecated and will be removed in a future release of LightGBM. \"\n",
            "C:\\Users\\Toan\\anaconda3\\envs\\ml_com\\lib\\site-packages\\lightgbm\\basic.py:1487: UserWarning: categorical_feature keyword has been found in `params` and will be ignored.\n",
            "Please use categorical_feature argument of the Dataset constructor to pass this parameter.\n",
            "  _log_warning(f'{key} keyword has been found in `params` and will be ignored.\\n'\n",
            "C:\\Users\\Toan\\anaconda3\\envs\\ml_com\\lib\\site-packages\\lightgbm\\basic.py:1513: UserWarning: categorical_feature in param dict is overridden.\n",
            "  _log_warning(f'{cat_alias} in param dict is overridden.')\n",
            "\u001b[32m[I 2022-04-18 22:28:14,935]\u001b[0m Trial 11 finished with value: 0.7779433233702003 and parameters: {'num_leaves': 10, 'n_estimators': 162, 'learning_rate': 0.0316159594449965, 'feature_fraction': 0.42253170498181075, 'bagging_fraction': 0.8534093875412327}. Best is trial 5 with value: 0.8040849795380097.\u001b[0m\n"
          ]
        },
        {
          "name": "stdout",
          "output_type": "stream",
          "text": [
            "F1_SCORE:  0.789 \n",
            "\n",
            "[LightGBM] [Warning] feature_fraction is set=0.4395585973522201, colsample_bytree=1.0 will be ignored. Current value: feature_fraction=0.4395585973522201\n",
            "[LightGBM] [Warning] bagging_fraction is set=0.9179845292701804, subsample=1.0 will be ignored. Current value: bagging_fraction=0.9179845292701804\n"
          ]
        },
        {
          "name": "stderr",
          "output_type": "stream",
          "text": [
            "C:\\Users\\Toan\\anaconda3\\envs\\ml_com\\lib\\site-packages\\lightgbm\\sklearn.py:736: UserWarning: 'verbose' argument is deprecated and will be removed in a future release of LightGBM. Pass 'log_evaluation()' callback via 'callbacks' argument instead.\n",
            "  _log_warning(\"'verbose' argument is deprecated and will be removed in a future release of LightGBM. \"\n",
            "C:\\Users\\Toan\\anaconda3\\envs\\ml_com\\lib\\site-packages\\lightgbm\\basic.py:1487: UserWarning: categorical_feature keyword has been found in `params` and will be ignored.\n",
            "Please use categorical_feature argument of the Dataset constructor to pass this parameter.\n",
            "  _log_warning(f'{key} keyword has been found in `params` and will be ignored.\\n'\n",
            "C:\\Users\\Toan\\anaconda3\\envs\\ml_com\\lib\\site-packages\\lightgbm\\basic.py:1513: UserWarning: categorical_feature in param dict is overridden.\n",
            "  _log_warning(f'{cat_alias} in param dict is overridden.')\n"
          ]
        },
        {
          "name": "stdout",
          "output_type": "stream",
          "text": [
            "F1_SCORE:  0.7958 \n",
            "\n",
            "[LightGBM] [Warning] feature_fraction is set=0.4395585973522201, colsample_bytree=1.0 will be ignored. Current value: feature_fraction=0.4395585973522201\n",
            "[LightGBM] [Warning] bagging_fraction is set=0.9179845292701804, subsample=1.0 will be ignored. Current value: bagging_fraction=0.9179845292701804\n"
          ]
        },
        {
          "name": "stderr",
          "output_type": "stream",
          "text": [
            "C:\\Users\\Toan\\anaconda3\\envs\\ml_com\\lib\\site-packages\\lightgbm\\sklearn.py:736: UserWarning: 'verbose' argument is deprecated and will be removed in a future release of LightGBM. Pass 'log_evaluation()' callback via 'callbacks' argument instead.\n",
            "  _log_warning(\"'verbose' argument is deprecated and will be removed in a future release of LightGBM. \"\n",
            "C:\\Users\\Toan\\anaconda3\\envs\\ml_com\\lib\\site-packages\\lightgbm\\basic.py:1487: UserWarning: categorical_feature keyword has been found in `params` and will be ignored.\n",
            "Please use categorical_feature argument of the Dataset constructor to pass this parameter.\n",
            "  _log_warning(f'{key} keyword has been found in `params` and will be ignored.\\n'\n",
            "C:\\Users\\Toan\\anaconda3\\envs\\ml_com\\lib\\site-packages\\lightgbm\\basic.py:1513: UserWarning: categorical_feature in param dict is overridden.\n",
            "  _log_warning(f'{cat_alias} in param dict is overridden.')\n"
          ]
        },
        {
          "name": "stdout",
          "output_type": "stream",
          "text": [
            "F1_SCORE:  0.7472 \n",
            "\n",
            "[LightGBM] [Warning] feature_fraction is set=0.4395585973522201, colsample_bytree=1.0 will be ignored. Current value: feature_fraction=0.4395585973522201\n",
            "[LightGBM] [Warning] bagging_fraction is set=0.9179845292701804, subsample=1.0 will be ignored. Current value: bagging_fraction=0.9179845292701804\n"
          ]
        },
        {
          "name": "stderr",
          "output_type": "stream",
          "text": [
            "C:\\Users\\Toan\\anaconda3\\envs\\ml_com\\lib\\site-packages\\lightgbm\\sklearn.py:736: UserWarning: 'verbose' argument is deprecated and will be removed in a future release of LightGBM. Pass 'log_evaluation()' callback via 'callbacks' argument instead.\n",
            "  _log_warning(\"'verbose' argument is deprecated and will be removed in a future release of LightGBM. \"\n",
            "C:\\Users\\Toan\\anaconda3\\envs\\ml_com\\lib\\site-packages\\lightgbm\\basic.py:1487: UserWarning: categorical_feature keyword has been found in `params` and will be ignored.\n",
            "Please use categorical_feature argument of the Dataset constructor to pass this parameter.\n",
            "  _log_warning(f'{key} keyword has been found in `params` and will be ignored.\\n'\n",
            "C:\\Users\\Toan\\anaconda3\\envs\\ml_com\\lib\\site-packages\\lightgbm\\basic.py:1513: UserWarning: categorical_feature in param dict is overridden.\n",
            "  _log_warning(f'{cat_alias} in param dict is overridden.')\n"
          ]
        },
        {
          "name": "stdout",
          "output_type": "stream",
          "text": [
            "F1_SCORE:  0.8312 \n",
            "\n",
            "[LightGBM] [Warning] feature_fraction is set=0.4395585973522201, colsample_bytree=1.0 will be ignored. Current value: feature_fraction=0.4395585973522201\n",
            "[LightGBM] [Warning] bagging_fraction is set=0.9179845292701804, subsample=1.0 will be ignored. Current value: bagging_fraction=0.9179845292701804\n"
          ]
        },
        {
          "name": "stderr",
          "output_type": "stream",
          "text": [
            "C:\\Users\\Toan\\anaconda3\\envs\\ml_com\\lib\\site-packages\\lightgbm\\sklearn.py:736: UserWarning: 'verbose' argument is deprecated and will be removed in a future release of LightGBM. Pass 'log_evaluation()' callback via 'callbacks' argument instead.\n",
            "  _log_warning(\"'verbose' argument is deprecated and will be removed in a future release of LightGBM. \"\n",
            "C:\\Users\\Toan\\anaconda3\\envs\\ml_com\\lib\\site-packages\\lightgbm\\basic.py:1487: UserWarning: categorical_feature keyword has been found in `params` and will be ignored.\n",
            "Please use categorical_feature argument of the Dataset constructor to pass this parameter.\n",
            "  _log_warning(f'{key} keyword has been found in `params` and will be ignored.\\n'\n",
            "C:\\Users\\Toan\\anaconda3\\envs\\ml_com\\lib\\site-packages\\lightgbm\\basic.py:1513: UserWarning: categorical_feature in param dict is overridden.\n",
            "  _log_warning(f'{cat_alias} in param dict is overridden.')\n"
          ]
        },
        {
          "name": "stdout",
          "output_type": "stream",
          "text": [
            "F1_SCORE:  0.7628 \n",
            "\n",
            "[LightGBM] [Warning] feature_fraction is set=0.4395585973522201, colsample_bytree=1.0 will be ignored. Current value: feature_fraction=0.4395585973522201\n",
            "[LightGBM] [Warning] bagging_fraction is set=0.9179845292701804, subsample=1.0 will be ignored. Current value: bagging_fraction=0.9179845292701804\n"
          ]
        },
        {
          "name": "stderr",
          "output_type": "stream",
          "text": [
            "C:\\Users\\Toan\\anaconda3\\envs\\ml_com\\lib\\site-packages\\lightgbm\\sklearn.py:736: UserWarning: 'verbose' argument is deprecated and will be removed in a future release of LightGBM. Pass 'log_evaluation()' callback via 'callbacks' argument instead.\n",
            "  _log_warning(\"'verbose' argument is deprecated and will be removed in a future release of LightGBM. \"\n",
            "C:\\Users\\Toan\\anaconda3\\envs\\ml_com\\lib\\site-packages\\lightgbm\\basic.py:1487: UserWarning: categorical_feature keyword has been found in `params` and will be ignored.\n",
            "Please use categorical_feature argument of the Dataset constructor to pass this parameter.\n",
            "  _log_warning(f'{key} keyword has been found in `params` and will be ignored.\\n'\n",
            "C:\\Users\\Toan\\anaconda3\\envs\\ml_com\\lib\\site-packages\\lightgbm\\basic.py:1513: UserWarning: categorical_feature in param dict is overridden.\n",
            "  _log_warning(f'{cat_alias} in param dict is overridden.')\n",
            "\u001b[32m[I 2022-04-18 22:29:24,270]\u001b[0m Trial 12 finished with value: 0.7810893746521329 and parameters: {'num_leaves': 10, 'n_estimators': 433, 'learning_rate': 0.092598047270813, 'feature_fraction': 0.4395585973522201, 'bagging_fraction': 0.9179845292701804}. Best is trial 5 with value: 0.8040849795380097.\u001b[0m\n"
          ]
        },
        {
          "name": "stdout",
          "output_type": "stream",
          "text": [
            "F1_SCORE:  0.7684 \n",
            "\n",
            "[LightGBM] [Warning] feature_fraction is set=0.5248635257434766, colsample_bytree=1.0 will be ignored. Current value: feature_fraction=0.5248635257434766\n",
            "[LightGBM] [Warning] bagging_fraction is set=0.983038746867819, subsample=1.0 will be ignored. Current value: bagging_fraction=0.983038746867819\n"
          ]
        },
        {
          "name": "stderr",
          "output_type": "stream",
          "text": [
            "C:\\Users\\Toan\\anaconda3\\envs\\ml_com\\lib\\site-packages\\lightgbm\\sklearn.py:736: UserWarning: 'verbose' argument is deprecated and will be removed in a future release of LightGBM. Pass 'log_evaluation()' callback via 'callbacks' argument instead.\n",
            "  _log_warning(\"'verbose' argument is deprecated and will be removed in a future release of LightGBM. \"\n",
            "C:\\Users\\Toan\\anaconda3\\envs\\ml_com\\lib\\site-packages\\lightgbm\\basic.py:1487: UserWarning: categorical_feature keyword has been found in `params` and will be ignored.\n",
            "Please use categorical_feature argument of the Dataset constructor to pass this parameter.\n",
            "  _log_warning(f'{key} keyword has been found in `params` and will be ignored.\\n'\n",
            "C:\\Users\\Toan\\anaconda3\\envs\\ml_com\\lib\\site-packages\\lightgbm\\basic.py:1513: UserWarning: categorical_feature in param dict is overridden.\n",
            "  _log_warning(f'{cat_alias} in param dict is overridden.')\n"
          ]
        },
        {
          "name": "stdout",
          "output_type": "stream",
          "text": [
            "F1_SCORE:  0.7618 \n",
            "\n",
            "[LightGBM] [Warning] feature_fraction is set=0.5248635257434766, colsample_bytree=1.0 will be ignored. Current value: feature_fraction=0.5248635257434766\n",
            "[LightGBM] [Warning] bagging_fraction is set=0.983038746867819, subsample=1.0 will be ignored. Current value: bagging_fraction=0.983038746867819\n"
          ]
        },
        {
          "name": "stderr",
          "output_type": "stream",
          "text": [
            "C:\\Users\\Toan\\anaconda3\\envs\\ml_com\\lib\\site-packages\\lightgbm\\sklearn.py:736: UserWarning: 'verbose' argument is deprecated and will be removed in a future release of LightGBM. Pass 'log_evaluation()' callback via 'callbacks' argument instead.\n",
            "  _log_warning(\"'verbose' argument is deprecated and will be removed in a future release of LightGBM. \"\n",
            "C:\\Users\\Toan\\anaconda3\\envs\\ml_com\\lib\\site-packages\\lightgbm\\basic.py:1487: UserWarning: categorical_feature keyword has been found in `params` and will be ignored.\n",
            "Please use categorical_feature argument of the Dataset constructor to pass this parameter.\n",
            "  _log_warning(f'{key} keyword has been found in `params` and will be ignored.\\n'\n",
            "C:\\Users\\Toan\\anaconda3\\envs\\ml_com\\lib\\site-packages\\lightgbm\\basic.py:1513: UserWarning: categorical_feature in param dict is overridden.\n",
            "  _log_warning(f'{cat_alias} in param dict is overridden.')\n"
          ]
        },
        {
          "name": "stdout",
          "output_type": "stream",
          "text": [
            "F1_SCORE:  0.5908 \n",
            "\n",
            "[LightGBM] [Warning] feature_fraction is set=0.5248635257434766, colsample_bytree=1.0 will be ignored. Current value: feature_fraction=0.5248635257434766\n",
            "[LightGBM] [Warning] bagging_fraction is set=0.983038746867819, subsample=1.0 will be ignored. Current value: bagging_fraction=0.983038746867819\n"
          ]
        },
        {
          "name": "stderr",
          "output_type": "stream",
          "text": [
            "C:\\Users\\Toan\\anaconda3\\envs\\ml_com\\lib\\site-packages\\lightgbm\\sklearn.py:736: UserWarning: 'verbose' argument is deprecated and will be removed in a future release of LightGBM. Pass 'log_evaluation()' callback via 'callbacks' argument instead.\n",
            "  _log_warning(\"'verbose' argument is deprecated and will be removed in a future release of LightGBM. \"\n",
            "C:\\Users\\Toan\\anaconda3\\envs\\ml_com\\lib\\site-packages\\lightgbm\\basic.py:1487: UserWarning: categorical_feature keyword has been found in `params` and will be ignored.\n",
            "Please use categorical_feature argument of the Dataset constructor to pass this parameter.\n",
            "  _log_warning(f'{key} keyword has been found in `params` and will be ignored.\\n'\n",
            "C:\\Users\\Toan\\anaconda3\\envs\\ml_com\\lib\\site-packages\\lightgbm\\basic.py:1513: UserWarning: categorical_feature in param dict is overridden.\n",
            "  _log_warning(f'{cat_alias} in param dict is overridden.')\n"
          ]
        },
        {
          "name": "stdout",
          "output_type": "stream",
          "text": [
            "F1_SCORE:  0.6126 \n",
            "\n",
            "[LightGBM] [Warning] feature_fraction is set=0.5248635257434766, colsample_bytree=1.0 will be ignored. Current value: feature_fraction=0.5248635257434766\n",
            "[LightGBM] [Warning] bagging_fraction is set=0.983038746867819, subsample=1.0 will be ignored. Current value: bagging_fraction=0.983038746867819\n"
          ]
        },
        {
          "name": "stderr",
          "output_type": "stream",
          "text": [
            "C:\\Users\\Toan\\anaconda3\\envs\\ml_com\\lib\\site-packages\\lightgbm\\sklearn.py:736: UserWarning: 'verbose' argument is deprecated and will be removed in a future release of LightGBM. Pass 'log_evaluation()' callback via 'callbacks' argument instead.\n",
            "  _log_warning(\"'verbose' argument is deprecated and will be removed in a future release of LightGBM. \"\n",
            "C:\\Users\\Toan\\anaconda3\\envs\\ml_com\\lib\\site-packages\\lightgbm\\basic.py:1487: UserWarning: categorical_feature keyword has been found in `params` and will be ignored.\n",
            "Please use categorical_feature argument of the Dataset constructor to pass this parameter.\n",
            "  _log_warning(f'{key} keyword has been found in `params` and will be ignored.\\n'\n",
            "C:\\Users\\Toan\\anaconda3\\envs\\ml_com\\lib\\site-packages\\lightgbm\\basic.py:1513: UserWarning: categorical_feature in param dict is overridden.\n",
            "  _log_warning(f'{cat_alias} in param dict is overridden.')\n"
          ]
        },
        {
          "name": "stdout",
          "output_type": "stream",
          "text": [
            "F1_SCORE:  0.5562 \n",
            "\n",
            "[LightGBM] [Warning] feature_fraction is set=0.5248635257434766, colsample_bytree=1.0 will be ignored. Current value: feature_fraction=0.5248635257434766\n",
            "[LightGBM] [Warning] bagging_fraction is set=0.983038746867819, subsample=1.0 will be ignored. Current value: bagging_fraction=0.983038746867819\n"
          ]
        },
        {
          "name": "stderr",
          "output_type": "stream",
          "text": [
            "C:\\Users\\Toan\\anaconda3\\envs\\ml_com\\lib\\site-packages\\lightgbm\\sklearn.py:736: UserWarning: 'verbose' argument is deprecated and will be removed in a future release of LightGBM. Pass 'log_evaluation()' callback via 'callbacks' argument instead.\n",
            "  _log_warning(\"'verbose' argument is deprecated and will be removed in a future release of LightGBM. \"\n",
            "C:\\Users\\Toan\\anaconda3\\envs\\ml_com\\lib\\site-packages\\lightgbm\\basic.py:1487: UserWarning: categorical_feature keyword has been found in `params` and will be ignored.\n",
            "Please use categorical_feature argument of the Dataset constructor to pass this parameter.\n",
            "  _log_warning(f'{key} keyword has been found in `params` and will be ignored.\\n'\n",
            "C:\\Users\\Toan\\anaconda3\\envs\\ml_com\\lib\\site-packages\\lightgbm\\basic.py:1513: UserWarning: categorical_feature in param dict is overridden.\n",
            "  _log_warning(f'{cat_alias} in param dict is overridden.')\n",
            "\u001b[32m[I 2022-04-18 22:30:33,715]\u001b[0m Trial 13 finished with value: 0.6136076125781801 and parameters: {'num_leaves': 9, 'n_estimators': 415, 'learning_rate': 0.18169063102646357, 'feature_fraction': 0.5248635257434766, 'bagging_fraction': 0.983038746867819}. Best is trial 5 with value: 0.8040849795380097.\u001b[0m\n"
          ]
        },
        {
          "name": "stdout",
          "output_type": "stream",
          "text": [
            "F1_SCORE:  0.5465 \n",
            "\n"
          ]
        },
        {
          "name": "stderr",
          "output_type": "stream",
          "text": [
            "C:\\Users\\Toan\\anaconda3\\envs\\ml_com\\lib\\site-packages\\lightgbm\\sklearn.py:736: UserWarning: 'verbose' argument is deprecated and will be removed in a future release of LightGBM. Pass 'log_evaluation()' callback via 'callbacks' argument instead.\n",
            "  _log_warning(\"'verbose' argument is deprecated and will be removed in a future release of LightGBM. \"\n",
            "C:\\Users\\Toan\\anaconda3\\envs\\ml_com\\lib\\site-packages\\lightgbm\\basic.py:1487: UserWarning: categorical_feature keyword has been found in `params` and will be ignored.\n",
            "Please use categorical_feature argument of the Dataset constructor to pass this parameter.\n",
            "  _log_warning(f'{key} keyword has been found in `params` and will be ignored.\\n'\n",
            "C:\\Users\\Toan\\anaconda3\\envs\\ml_com\\lib\\site-packages\\lightgbm\\basic.py:1513: UserWarning: categorical_feature in param dict is overridden.\n",
            "  _log_warning(f'{cat_alias} in param dict is overridden.')\n"
          ]
        },
        {
          "name": "stdout",
          "output_type": "stream",
          "text": [
            "[LightGBM] [Warning] feature_fraction is set=0.5328955783106626, colsample_bytree=1.0 will be ignored. Current value: feature_fraction=0.5328955783106626\n",
            "[LightGBM] [Warning] bagging_fraction is set=0.4404361315090438, subsample=1.0 will be ignored. Current value: bagging_fraction=0.4404361315090438\n",
            "F1_SCORE:  0.6638 \n",
            "\n",
            "[LightGBM] [Warning] feature_fraction is set=0.5328955783106626, colsample_bytree=1.0 will be ignored. Current value: feature_fraction=0.5328955783106626\n",
            "[LightGBM] [Warning] bagging_fraction is set=0.4404361315090438, subsample=1.0 will be ignored. Current value: bagging_fraction=0.4404361315090438\n"
          ]
        },
        {
          "name": "stderr",
          "output_type": "stream",
          "text": [
            "C:\\Users\\Toan\\anaconda3\\envs\\ml_com\\lib\\site-packages\\lightgbm\\sklearn.py:736: UserWarning: 'verbose' argument is deprecated and will be removed in a future release of LightGBM. Pass 'log_evaluation()' callback via 'callbacks' argument instead.\n",
            "  _log_warning(\"'verbose' argument is deprecated and will be removed in a future release of LightGBM. \"\n",
            "C:\\Users\\Toan\\anaconda3\\envs\\ml_com\\lib\\site-packages\\lightgbm\\basic.py:1487: UserWarning: categorical_feature keyword has been found in `params` and will be ignored.\n",
            "Please use categorical_feature argument of the Dataset constructor to pass this parameter.\n",
            "  _log_warning(f'{key} keyword has been found in `params` and will be ignored.\\n'\n",
            "C:\\Users\\Toan\\anaconda3\\envs\\ml_com\\lib\\site-packages\\lightgbm\\basic.py:1513: UserWarning: categorical_feature in param dict is overridden.\n",
            "  _log_warning(f'{cat_alias} in param dict is overridden.')\n"
          ]
        },
        {
          "name": "stdout",
          "output_type": "stream",
          "text": [
            "F1_SCORE:  0.6077 \n",
            "\n",
            "[LightGBM] [Warning] feature_fraction is set=0.5328955783106626, colsample_bytree=1.0 will be ignored. Current value: feature_fraction=0.5328955783106626\n",
            "[LightGBM] [Warning] bagging_fraction is set=0.4404361315090438, subsample=1.0 will be ignored. Current value: bagging_fraction=0.4404361315090438\n"
          ]
        },
        {
          "name": "stderr",
          "output_type": "stream",
          "text": [
            "C:\\Users\\Toan\\anaconda3\\envs\\ml_com\\lib\\site-packages\\lightgbm\\sklearn.py:736: UserWarning: 'verbose' argument is deprecated and will be removed in a future release of LightGBM. Pass 'log_evaluation()' callback via 'callbacks' argument instead.\n",
            "  _log_warning(\"'verbose' argument is deprecated and will be removed in a future release of LightGBM. \"\n",
            "C:\\Users\\Toan\\anaconda3\\envs\\ml_com\\lib\\site-packages\\lightgbm\\basic.py:1487: UserWarning: categorical_feature keyword has been found in `params` and will be ignored.\n",
            "Please use categorical_feature argument of the Dataset constructor to pass this parameter.\n",
            "  _log_warning(f'{key} keyword has been found in `params` and will be ignored.\\n'\n",
            "C:\\Users\\Toan\\anaconda3\\envs\\ml_com\\lib\\site-packages\\lightgbm\\basic.py:1513: UserWarning: categorical_feature in param dict is overridden.\n",
            "  _log_warning(f'{cat_alias} in param dict is overridden.')\n"
          ]
        },
        {
          "name": "stdout",
          "output_type": "stream",
          "text": [
            "F1_SCORE:  0.6015 \n",
            "\n",
            "[LightGBM] [Warning] feature_fraction is set=0.5328955783106626, colsample_bytree=1.0 will be ignored. Current value: feature_fraction=0.5328955783106626\n",
            "[LightGBM] [Warning] bagging_fraction is set=0.4404361315090438, subsample=1.0 will be ignored. Current value: bagging_fraction=0.4404361315090438\n"
          ]
        },
        {
          "name": "stderr",
          "output_type": "stream",
          "text": [
            "C:\\Users\\Toan\\anaconda3\\envs\\ml_com\\lib\\site-packages\\lightgbm\\sklearn.py:736: UserWarning: 'verbose' argument is deprecated and will be removed in a future release of LightGBM. Pass 'log_evaluation()' callback via 'callbacks' argument instead.\n",
            "  _log_warning(\"'verbose' argument is deprecated and will be removed in a future release of LightGBM. \"\n",
            "C:\\Users\\Toan\\anaconda3\\envs\\ml_com\\lib\\site-packages\\lightgbm\\basic.py:1487: UserWarning: categorical_feature keyword has been found in `params` and will be ignored.\n",
            "Please use categorical_feature argument of the Dataset constructor to pass this parameter.\n",
            "  _log_warning(f'{key} keyword has been found in `params` and will be ignored.\\n'\n",
            "C:\\Users\\Toan\\anaconda3\\envs\\ml_com\\lib\\site-packages\\lightgbm\\basic.py:1513: UserWarning: categorical_feature in param dict is overridden.\n",
            "  _log_warning(f'{cat_alias} in param dict is overridden.')\n"
          ]
        },
        {
          "name": "stdout",
          "output_type": "stream",
          "text": [
            "F1_SCORE:  0.6352 \n",
            "\n",
            "[LightGBM] [Warning] feature_fraction is set=0.5328955783106626, colsample_bytree=1.0 will be ignored. Current value: feature_fraction=0.5328955783106626\n",
            "[LightGBM] [Warning] bagging_fraction is set=0.4404361315090438, subsample=1.0 will be ignored. Current value: bagging_fraction=0.4404361315090438\n"
          ]
        },
        {
          "name": "stderr",
          "output_type": "stream",
          "text": [
            "C:\\Users\\Toan\\anaconda3\\envs\\ml_com\\lib\\site-packages\\lightgbm\\sklearn.py:736: UserWarning: 'verbose' argument is deprecated and will be removed in a future release of LightGBM. Pass 'log_evaluation()' callback via 'callbacks' argument instead.\n",
            "  _log_warning(\"'verbose' argument is deprecated and will be removed in a future release of LightGBM. \"\n",
            "C:\\Users\\Toan\\anaconda3\\envs\\ml_com\\lib\\site-packages\\lightgbm\\basic.py:1487: UserWarning: categorical_feature keyword has been found in `params` and will be ignored.\n",
            "Please use categorical_feature argument of the Dataset constructor to pass this parameter.\n",
            "  _log_warning(f'{key} keyword has been found in `params` and will be ignored.\\n'\n",
            "C:\\Users\\Toan\\anaconda3\\envs\\ml_com\\lib\\site-packages\\lightgbm\\basic.py:1513: UserWarning: categorical_feature in param dict is overridden.\n",
            "  _log_warning(f'{cat_alias} in param dict is overridden.')\n",
            "\u001b[32m[I 2022-04-18 22:31:47,241]\u001b[0m Trial 14 finished with value: 0.6095909414656264 and parameters: {'num_leaves': 5, 'n_estimators': 548, 'learning_rate': 0.18039164355402001, 'feature_fraction': 0.5328955783106626, 'bagging_fraction': 0.4404361315090438}. Best is trial 5 with value: 0.8040849795380097.\u001b[0m\n"
          ]
        },
        {
          "name": "stdout",
          "output_type": "stream",
          "text": [
            "F1_SCORE:  0.5397 \n",
            "\n",
            "[LightGBM] [Warning] feature_fraction is set=0.6702496464002498, colsample_bytree=1.0 will be ignored. Current value: feature_fraction=0.6702496464002498\n"
          ]
        },
        {
          "name": "stderr",
          "output_type": "stream",
          "text": [
            "C:\\Users\\Toan\\anaconda3\\envs\\ml_com\\lib\\site-packages\\lightgbm\\sklearn.py:736: UserWarning: 'verbose' argument is deprecated and will be removed in a future release of LightGBM. Pass 'log_evaluation()' callback via 'callbacks' argument instead.\n",
            "  _log_warning(\"'verbose' argument is deprecated and will be removed in a future release of LightGBM. \"\n",
            "C:\\Users\\Toan\\anaconda3\\envs\\ml_com\\lib\\site-packages\\lightgbm\\basic.py:1487: UserWarning: categorical_feature keyword has been found in `params` and will be ignored.\n",
            "Please use categorical_feature argument of the Dataset constructor to pass this parameter.\n",
            "  _log_warning(f'{key} keyword has been found in `params` and will be ignored.\\n'\n",
            "C:\\Users\\Toan\\anaconda3\\envs\\ml_com\\lib\\site-packages\\lightgbm\\basic.py:1513: UserWarning: categorical_feature in param dict is overridden.\n",
            "  _log_warning(f'{cat_alias} in param dict is overridden.')\n"
          ]
        },
        {
          "name": "stdout",
          "output_type": "stream",
          "text": [
            "[LightGBM] [Warning] bagging_fraction is set=0.7524903270836536, subsample=1.0 will be ignored. Current value: bagging_fraction=0.7524903270836536\n",
            "F1_SCORE:  0.7916 \n",
            "\n",
            "[LightGBM] [Warning] feature_fraction is set=0.6702496464002498, colsample_bytree=1.0 will be ignored. Current value: feature_fraction=0.6702496464002498\n",
            "[LightGBM] [Warning] bagging_fraction is set=0.7524903270836536, subsample=1.0 will be ignored. Current value: bagging_fraction=0.7524903270836536\n"
          ]
        },
        {
          "name": "stderr",
          "output_type": "stream",
          "text": [
            "C:\\Users\\Toan\\anaconda3\\envs\\ml_com\\lib\\site-packages\\lightgbm\\sklearn.py:736: UserWarning: 'verbose' argument is deprecated and will be removed in a future release of LightGBM. Pass 'log_evaluation()' callback via 'callbacks' argument instead.\n",
            "  _log_warning(\"'verbose' argument is deprecated and will be removed in a future release of LightGBM. \"\n",
            "C:\\Users\\Toan\\anaconda3\\envs\\ml_com\\lib\\site-packages\\lightgbm\\basic.py:1487: UserWarning: categorical_feature keyword has been found in `params` and will be ignored.\n",
            "Please use categorical_feature argument of the Dataset constructor to pass this parameter.\n",
            "  _log_warning(f'{key} keyword has been found in `params` and will be ignored.\\n'\n",
            "C:\\Users\\Toan\\anaconda3\\envs\\ml_com\\lib\\site-packages\\lightgbm\\basic.py:1513: UserWarning: categorical_feature in param dict is overridden.\n",
            "  _log_warning(f'{cat_alias} in param dict is overridden.')\n"
          ]
        },
        {
          "name": "stdout",
          "output_type": "stream",
          "text": [
            "F1_SCORE:  0.2311 \n",
            "\n",
            "[LightGBM] [Warning] feature_fraction is set=0.6702496464002498, colsample_bytree=1.0 will be ignored. Current value: feature_fraction=0.6702496464002498\n",
            "[LightGBM] [Warning] bagging_fraction is set=0.7524903270836536, subsample=1.0 will be ignored. Current value: bagging_fraction=0.7524903270836536\n"
          ]
        },
        {
          "name": "stderr",
          "output_type": "stream",
          "text": [
            "C:\\Users\\Toan\\anaconda3\\envs\\ml_com\\lib\\site-packages\\lightgbm\\sklearn.py:736: UserWarning: 'verbose' argument is deprecated and will be removed in a future release of LightGBM. Pass 'log_evaluation()' callback via 'callbacks' argument instead.\n",
            "  _log_warning(\"'verbose' argument is deprecated and will be removed in a future release of LightGBM. \"\n",
            "C:\\Users\\Toan\\anaconda3\\envs\\ml_com\\lib\\site-packages\\lightgbm\\basic.py:1487: UserWarning: categorical_feature keyword has been found in `params` and will be ignored.\n",
            "Please use categorical_feature argument of the Dataset constructor to pass this parameter.\n",
            "  _log_warning(f'{key} keyword has been found in `params` and will be ignored.\\n'\n",
            "C:\\Users\\Toan\\anaconda3\\envs\\ml_com\\lib\\site-packages\\lightgbm\\basic.py:1513: UserWarning: categorical_feature in param dict is overridden.\n",
            "  _log_warning(f'{cat_alias} in param dict is overridden.')\n"
          ]
        },
        {
          "name": "stdout",
          "output_type": "stream",
          "text": [
            "F1_SCORE:  0.2185 \n",
            "\n",
            "[LightGBM] [Warning] feature_fraction is set=0.6702496464002498, colsample_bytree=1.0 will be ignored. Current value: feature_fraction=0.6702496464002498\n",
            "[LightGBM] [Warning] bagging_fraction is set=0.7524903270836536, subsample=1.0 will be ignored. Current value: bagging_fraction=0.7524903270836536\n"
          ]
        },
        {
          "name": "stderr",
          "output_type": "stream",
          "text": [
            "C:\\Users\\Toan\\anaconda3\\envs\\ml_com\\lib\\site-packages\\lightgbm\\sklearn.py:736: UserWarning: 'verbose' argument is deprecated and will be removed in a future release of LightGBM. Pass 'log_evaluation()' callback via 'callbacks' argument instead.\n",
            "  _log_warning(\"'verbose' argument is deprecated and will be removed in a future release of LightGBM. \"\n",
            "C:\\Users\\Toan\\anaconda3\\envs\\ml_com\\lib\\site-packages\\lightgbm\\basic.py:1487: UserWarning: categorical_feature keyword has been found in `params` and will be ignored.\n",
            "Please use categorical_feature argument of the Dataset constructor to pass this parameter.\n",
            "  _log_warning(f'{key} keyword has been found in `params` and will be ignored.\\n'\n",
            "C:\\Users\\Toan\\anaconda3\\envs\\ml_com\\lib\\site-packages\\lightgbm\\basic.py:1513: UserWarning: categorical_feature in param dict is overridden.\n",
            "  _log_warning(f'{cat_alias} in param dict is overridden.')\n"
          ]
        },
        {
          "name": "stdout",
          "output_type": "stream",
          "text": [
            "F1_SCORE:  0.4061 \n",
            "\n",
            "[LightGBM] [Warning] feature_fraction is set=0.6702496464002498, colsample_bytree=1.0 will be ignored. Current value: feature_fraction=0.6702496464002498\n",
            "[LightGBM] [Warning] bagging_fraction is set=0.7524903270836536, subsample=1.0 will be ignored. Current value: bagging_fraction=0.7524903270836536\n"
          ]
        },
        {
          "name": "stderr",
          "output_type": "stream",
          "text": [
            "C:\\Users\\Toan\\anaconda3\\envs\\ml_com\\lib\\site-packages\\lightgbm\\sklearn.py:736: UserWarning: 'verbose' argument is deprecated and will be removed in a future release of LightGBM. Pass 'log_evaluation()' callback via 'callbacks' argument instead.\n",
            "  _log_warning(\"'verbose' argument is deprecated and will be removed in a future release of LightGBM. \"\n",
            "C:\\Users\\Toan\\anaconda3\\envs\\ml_com\\lib\\site-packages\\lightgbm\\basic.py:1487: UserWarning: categorical_feature keyword has been found in `params` and will be ignored.\n",
            "Please use categorical_feature argument of the Dataset constructor to pass this parameter.\n",
            "  _log_warning(f'{key} keyword has been found in `params` and will be ignored.\\n'\n",
            "C:\\Users\\Toan\\anaconda3\\envs\\ml_com\\lib\\site-packages\\lightgbm\\basic.py:1513: UserWarning: categorical_feature in param dict is overridden.\n",
            "  _log_warning(f'{cat_alias} in param dict is overridden.')\n",
            "\u001b[32m[I 2022-04-18 22:34:39,364]\u001b[0m Trial 15 finished with value: 0.4207873359688552 and parameters: {'num_leaves': 11, 'n_estimators': 832, 'learning_rate': 0.1461878877008136, 'feature_fraction': 0.6702496464002498, 'bagging_fraction': 0.7524903270836536}. Best is trial 5 with value: 0.8040849795380097.\u001b[0m\n"
          ]
        },
        {
          "name": "stdout",
          "output_type": "stream",
          "text": [
            "F1_SCORE:  0.4566 \n",
            "\n",
            "[LightGBM] [Warning] feature_fraction is set=0.47799351551288427, colsample_bytree=1.0 will be ignored. Current value: feature_fraction=0.47799351551288427\n",
            "[LightGBM] [Warning] bagging_fraction is set=0.9125656456347726, subsample=1.0 will be ignored. Current value: bagging_fraction=0.9125656456347726\n"
          ]
        },
        {
          "name": "stderr",
          "output_type": "stream",
          "text": [
            "C:\\Users\\Toan\\anaconda3\\envs\\ml_com\\lib\\site-packages\\lightgbm\\sklearn.py:736: UserWarning: 'verbose' argument is deprecated and will be removed in a future release of LightGBM. Pass 'log_evaluation()' callback via 'callbacks' argument instead.\n",
            "  _log_warning(\"'verbose' argument is deprecated and will be removed in a future release of LightGBM. \"\n",
            "C:\\Users\\Toan\\anaconda3\\envs\\ml_com\\lib\\site-packages\\lightgbm\\basic.py:1487: UserWarning: categorical_feature keyword has been found in `params` and will be ignored.\n",
            "Please use categorical_feature argument of the Dataset constructor to pass this parameter.\n",
            "  _log_warning(f'{key} keyword has been found in `params` and will be ignored.\\n'\n",
            "C:\\Users\\Toan\\anaconda3\\envs\\ml_com\\lib\\site-packages\\lightgbm\\basic.py:1513: UserWarning: categorical_feature in param dict is overridden.\n",
            "  _log_warning(f'{cat_alias} in param dict is overridden.')\n"
          ]
        },
        {
          "name": "stdout",
          "output_type": "stream",
          "text": [
            "F1_SCORE:  0.2968 \n",
            "\n",
            "[LightGBM] [Warning] feature_fraction is set=0.47799351551288427, colsample_bytree=1.0 will be ignored. Current value: feature_fraction=0.47799351551288427\n",
            "[LightGBM] [Warning] bagging_fraction is set=0.9125656456347726, subsample=1.0 will be ignored. Current value: bagging_fraction=0.9125656456347726\n"
          ]
        },
        {
          "name": "stderr",
          "output_type": "stream",
          "text": [
            "C:\\Users\\Toan\\anaconda3\\envs\\ml_com\\lib\\site-packages\\lightgbm\\sklearn.py:736: UserWarning: 'verbose' argument is deprecated and will be removed in a future release of LightGBM. Pass 'log_evaluation()' callback via 'callbacks' argument instead.\n",
            "  _log_warning(\"'verbose' argument is deprecated and will be removed in a future release of LightGBM. \"\n",
            "C:\\Users\\Toan\\anaconda3\\envs\\ml_com\\lib\\site-packages\\lightgbm\\basic.py:1487: UserWarning: categorical_feature keyword has been found in `params` and will be ignored.\n",
            "Please use categorical_feature argument of the Dataset constructor to pass this parameter.\n",
            "  _log_warning(f'{key} keyword has been found in `params` and will be ignored.\\n'\n",
            "C:\\Users\\Toan\\anaconda3\\envs\\ml_com\\lib\\site-packages\\lightgbm\\basic.py:1513: UserWarning: categorical_feature in param dict is overridden.\n",
            "  _log_warning(f'{cat_alias} in param dict is overridden.')\n"
          ]
        },
        {
          "name": "stdout",
          "output_type": "stream",
          "text": [
            "F1_SCORE:  0.1447 \n",
            "\n",
            "[LightGBM] [Warning] feature_fraction is set=0.47799351551288427, colsample_bytree=1.0 will be ignored. Current value: feature_fraction=0.47799351551288427\n",
            "[LightGBM] [Warning] bagging_fraction is set=0.9125656456347726, subsample=1.0 will be ignored. Current value: bagging_fraction=0.9125656456347726\n"
          ]
        },
        {
          "name": "stderr",
          "output_type": "stream",
          "text": [
            "C:\\Users\\Toan\\anaconda3\\envs\\ml_com\\lib\\site-packages\\lightgbm\\sklearn.py:736: UserWarning: 'verbose' argument is deprecated and will be removed in a future release of LightGBM. Pass 'log_evaluation()' callback via 'callbacks' argument instead.\n",
            "  _log_warning(\"'verbose' argument is deprecated and will be removed in a future release of LightGBM. \"\n",
            "C:\\Users\\Toan\\anaconda3\\envs\\ml_com\\lib\\site-packages\\lightgbm\\basic.py:1487: UserWarning: categorical_feature keyword has been found in `params` and will be ignored.\n",
            "Please use categorical_feature argument of the Dataset constructor to pass this parameter.\n",
            "  _log_warning(f'{key} keyword has been found in `params` and will be ignored.\\n'\n",
            "C:\\Users\\Toan\\anaconda3\\envs\\ml_com\\lib\\site-packages\\lightgbm\\basic.py:1513: UserWarning: categorical_feature in param dict is overridden.\n",
            "  _log_warning(f'{cat_alias} in param dict is overridden.')\n"
          ]
        },
        {
          "name": "stdout",
          "output_type": "stream",
          "text": [
            "F1_SCORE:  0.4188 \n",
            "\n",
            "[LightGBM] [Warning] feature_fraction is set=0.47799351551288427, colsample_bytree=1.0 will be ignored. Current value: feature_fraction=0.47799351551288427\n",
            "[LightGBM] [Warning] bagging_fraction is set=0.9125656456347726, subsample=1.0 will be ignored. Current value: bagging_fraction=0.9125656456347726\n"
          ]
        },
        {
          "name": "stderr",
          "output_type": "stream",
          "text": [
            "C:\\Users\\Toan\\anaconda3\\envs\\ml_com\\lib\\site-packages\\lightgbm\\sklearn.py:736: UserWarning: 'verbose' argument is deprecated and will be removed in a future release of LightGBM. Pass 'log_evaluation()' callback via 'callbacks' argument instead.\n",
            "  _log_warning(\"'verbose' argument is deprecated and will be removed in a future release of LightGBM. \"\n",
            "C:\\Users\\Toan\\anaconda3\\envs\\ml_com\\lib\\site-packages\\lightgbm\\basic.py:1487: UserWarning: categorical_feature keyword has been found in `params` and will be ignored.\n",
            "Please use categorical_feature argument of the Dataset constructor to pass this parameter.\n",
            "  _log_warning(f'{key} keyword has been found in `params` and will be ignored.\\n'\n",
            "C:\\Users\\Toan\\anaconda3\\envs\\ml_com\\lib\\site-packages\\lightgbm\\basic.py:1513: UserWarning: categorical_feature in param dict is overridden.\n",
            "  _log_warning(f'{cat_alias} in param dict is overridden.')\n"
          ]
        },
        {
          "name": "stdout",
          "output_type": "stream",
          "text": [
            "F1_SCORE:  0.3204 \n",
            "\n",
            "[LightGBM] [Warning] feature_fraction is set=0.47799351551288427, colsample_bytree=1.0 will be ignored. Current value: feature_fraction=0.47799351551288427\n",
            "[LightGBM] [Warning] bagging_fraction is set=0.9125656456347726, subsample=1.0 will be ignored. Current value: bagging_fraction=0.9125656456347726\n"
          ]
        },
        {
          "name": "stderr",
          "output_type": "stream",
          "text": [
            "C:\\Users\\Toan\\anaconda3\\envs\\ml_com\\lib\\site-packages\\lightgbm\\sklearn.py:736: UserWarning: 'verbose' argument is deprecated and will be removed in a future release of LightGBM. Pass 'log_evaluation()' callback via 'callbacks' argument instead.\n",
            "  _log_warning(\"'verbose' argument is deprecated and will be removed in a future release of LightGBM. \"\n",
            "C:\\Users\\Toan\\anaconda3\\envs\\ml_com\\lib\\site-packages\\lightgbm\\basic.py:1487: UserWarning: categorical_feature keyword has been found in `params` and will be ignored.\n",
            "Please use categorical_feature argument of the Dataset constructor to pass this parameter.\n",
            "  _log_warning(f'{key} keyword has been found in `params` and will be ignored.\\n'\n",
            "C:\\Users\\Toan\\anaconda3\\envs\\ml_com\\lib\\site-packages\\lightgbm\\basic.py:1513: UserWarning: categorical_feature in param dict is overridden.\n",
            "  _log_warning(f'{cat_alias} in param dict is overridden.')\n",
            "\u001b[32m[I 2022-04-18 22:35:27,059]\u001b[0m Trial 16 finished with value: 0.3167269799242038 and parameters: {'num_leaves': 9, 'n_estimators': 419, 'learning_rate': 0.3024409345479492, 'feature_fraction': 0.47799351551288427, 'bagging_fraction': 0.9125656456347726}. Best is trial 5 with value: 0.8040849795380097.\u001b[0m\n"
          ]
        },
        {
          "name": "stdout",
          "output_type": "stream",
          "text": [
            "F1_SCORE:  0.4029 \n",
            "\n",
            "[LightGBM] [Warning] feature_fraction is set=0.6035329984447824, colsample_bytree=1.0 will be ignored. Current value: feature_fraction=0.6035329984447824\n",
            "[LightGBM] [Warning] bagging_fraction is set=0.9031124629375582, subsample=1.0 will be ignored. Current value: bagging_fraction=0.9031124629375582\n"
          ]
        },
        {
          "name": "stderr",
          "output_type": "stream",
          "text": [
            "C:\\Users\\Toan\\anaconda3\\envs\\ml_com\\lib\\site-packages\\lightgbm\\sklearn.py:736: UserWarning: 'verbose' argument is deprecated and will be removed in a future release of LightGBM. Pass 'log_evaluation()' callback via 'callbacks' argument instead.\n",
            "  _log_warning(\"'verbose' argument is deprecated and will be removed in a future release of LightGBM. \"\n",
            "C:\\Users\\Toan\\anaconda3\\envs\\ml_com\\lib\\site-packages\\lightgbm\\basic.py:1487: UserWarning: categorical_feature keyword has been found in `params` and will be ignored.\n",
            "Please use categorical_feature argument of the Dataset constructor to pass this parameter.\n",
            "  _log_warning(f'{key} keyword has been found in `params` and will be ignored.\\n'\n",
            "C:\\Users\\Toan\\anaconda3\\envs\\ml_com\\lib\\site-packages\\lightgbm\\basic.py:1513: UserWarning: categorical_feature in param dict is overridden.\n",
            "  _log_warning(f'{cat_alias} in param dict is overridden.')\n"
          ]
        },
        {
          "name": "stdout",
          "output_type": "stream",
          "text": [
            "F1_SCORE:  0.7832 \n",
            "\n",
            "[LightGBM] [Warning] feature_fraction is set=0.6035329984447824, colsample_bytree=1.0 will be ignored. Current value: feature_fraction=0.6035329984447824\n",
            "[LightGBM] [Warning] bagging_fraction is set=0.9031124629375582, subsample=1.0 will be ignored. Current value: bagging_fraction=0.9031124629375582\n"
          ]
        },
        {
          "name": "stderr",
          "output_type": "stream",
          "text": [
            "C:\\Users\\Toan\\anaconda3\\envs\\ml_com\\lib\\site-packages\\lightgbm\\sklearn.py:736: UserWarning: 'verbose' argument is deprecated and will be removed in a future release of LightGBM. Pass 'log_evaluation()' callback via 'callbacks' argument instead.\n",
            "  _log_warning(\"'verbose' argument is deprecated and will be removed in a future release of LightGBM. \"\n",
            "C:\\Users\\Toan\\anaconda3\\envs\\ml_com\\lib\\site-packages\\lightgbm\\basic.py:1487: UserWarning: categorical_feature keyword has been found in `params` and will be ignored.\n",
            "Please use categorical_feature argument of the Dataset constructor to pass this parameter.\n",
            "  _log_warning(f'{key} keyword has been found in `params` and will be ignored.\\n'\n",
            "C:\\Users\\Toan\\anaconda3\\envs\\ml_com\\lib\\site-packages\\lightgbm\\basic.py:1513: UserWarning: categorical_feature in param dict is overridden.\n",
            "  _log_warning(f'{cat_alias} in param dict is overridden.')\n"
          ]
        },
        {
          "name": "stdout",
          "output_type": "stream",
          "text": [
            "F1_SCORE:  0.7459 \n",
            "\n",
            "[LightGBM] [Warning] feature_fraction is set=0.6035329984447824, colsample_bytree=1.0 will be ignored. Current value: feature_fraction=0.6035329984447824\n",
            "[LightGBM] [Warning] bagging_fraction is set=0.9031124629375582, subsample=1.0 will be ignored. Current value: bagging_fraction=0.9031124629375582\n"
          ]
        },
        {
          "name": "stderr",
          "output_type": "stream",
          "text": [
            "C:\\Users\\Toan\\anaconda3\\envs\\ml_com\\lib\\site-packages\\lightgbm\\sklearn.py:736: UserWarning: 'verbose' argument is deprecated and will be removed in a future release of LightGBM. Pass 'log_evaluation()' callback via 'callbacks' argument instead.\n",
            "  _log_warning(\"'verbose' argument is deprecated and will be removed in a future release of LightGBM. \"\n",
            "C:\\Users\\Toan\\anaconda3\\envs\\ml_com\\lib\\site-packages\\lightgbm\\basic.py:1487: UserWarning: categorical_feature keyword has been found in `params` and will be ignored.\n",
            "Please use categorical_feature argument of the Dataset constructor to pass this parameter.\n",
            "  _log_warning(f'{key} keyword has been found in `params` and will be ignored.\\n'\n",
            "C:\\Users\\Toan\\anaconda3\\envs\\ml_com\\lib\\site-packages\\lightgbm\\basic.py:1513: UserWarning: categorical_feature in param dict is overridden.\n",
            "  _log_warning(f'{cat_alias} in param dict is overridden.')\n"
          ]
        },
        {
          "name": "stdout",
          "output_type": "stream",
          "text": [
            "F1_SCORE:  0.6872 \n",
            "\n",
            "[LightGBM] [Warning] feature_fraction is set=0.6035329984447824, colsample_bytree=1.0 will be ignored. Current value: feature_fraction=0.6035329984447824\n",
            "[LightGBM] [Warning] bagging_fraction is set=0.9031124629375582, subsample=1.0 will be ignored. Current value: bagging_fraction=0.9031124629375582\n"
          ]
        },
        {
          "name": "stderr",
          "output_type": "stream",
          "text": [
            "C:\\Users\\Toan\\anaconda3\\envs\\ml_com\\lib\\site-packages\\lightgbm\\sklearn.py:736: UserWarning: 'verbose' argument is deprecated and will be removed in a future release of LightGBM. Pass 'log_evaluation()' callback via 'callbacks' argument instead.\n",
            "  _log_warning(\"'verbose' argument is deprecated and will be removed in a future release of LightGBM. \"\n",
            "C:\\Users\\Toan\\anaconda3\\envs\\ml_com\\lib\\site-packages\\lightgbm\\basic.py:1487: UserWarning: categorical_feature keyword has been found in `params` and will be ignored.\n",
            "Please use categorical_feature argument of the Dataset constructor to pass this parameter.\n",
            "  _log_warning(f'{key} keyword has been found in `params` and will be ignored.\\n'\n",
            "C:\\Users\\Toan\\anaconda3\\envs\\ml_com\\lib\\site-packages\\lightgbm\\basic.py:1513: UserWarning: categorical_feature in param dict is overridden.\n",
            "  _log_warning(f'{cat_alias} in param dict is overridden.')\n"
          ]
        },
        {
          "name": "stdout",
          "output_type": "stream",
          "text": [
            "F1_SCORE:  0.6354 \n",
            "\n",
            "[LightGBM] [Warning] feature_fraction is set=0.6035329984447824, colsample_bytree=1.0 will be ignored. Current value: feature_fraction=0.6035329984447824\n",
            "[LightGBM] [Warning] bagging_fraction is set=0.9031124629375582, subsample=1.0 will be ignored. Current value: bagging_fraction=0.9031124629375582\n"
          ]
        },
        {
          "name": "stderr",
          "output_type": "stream",
          "text": [
            "C:\\Users\\Toan\\anaconda3\\envs\\ml_com\\lib\\site-packages\\lightgbm\\sklearn.py:736: UserWarning: 'verbose' argument is deprecated and will be removed in a future release of LightGBM. Pass 'log_evaluation()' callback via 'callbacks' argument instead.\n",
            "  _log_warning(\"'verbose' argument is deprecated and will be removed in a future release of LightGBM. \"\n",
            "C:\\Users\\Toan\\anaconda3\\envs\\ml_com\\lib\\site-packages\\lightgbm\\basic.py:1487: UserWarning: categorical_feature keyword has been found in `params` and will be ignored.\n",
            "Please use categorical_feature argument of the Dataset constructor to pass this parameter.\n",
            "  _log_warning(f'{key} keyword has been found in `params` and will be ignored.\\n'\n",
            "C:\\Users\\Toan\\anaconda3\\envs\\ml_com\\lib\\site-packages\\lightgbm\\basic.py:1513: UserWarning: categorical_feature in param dict is overridden.\n",
            "  _log_warning(f'{cat_alias} in param dict is overridden.')\n",
            "\u001b[32m[I 2022-04-18 22:36:19,369]\u001b[0m Trial 17 finished with value: 0.7034903553163385 and parameters: {'num_leaves': 5, 'n_estimators': 380, 'learning_rate': 0.12868437967781265, 'feature_fraction': 0.6035329984447824, 'bagging_fraction': 0.9031124629375582}. Best is trial 5 with value: 0.8040849795380097.\u001b[0m\n"
          ]
        },
        {
          "name": "stdout",
          "output_type": "stream",
          "text": [
            "F1_SCORE:  0.6658 \n",
            "\n",
            "[LightGBM] [Warning] feature_fraction is set=0.7415535412378645, colsample_bytree=1.0 will be ignored. Current value: feature_fraction=0.7415535412378645\n",
            "[LightGBM] [Warning] bagging_fraction is set=0.666797120763853, subsample=1.0 will be ignored. Current value: bagging_fraction=0.666797120763853\n"
          ]
        },
        {
          "name": "stderr",
          "output_type": "stream",
          "text": [
            "C:\\Users\\Toan\\anaconda3\\envs\\ml_com\\lib\\site-packages\\lightgbm\\sklearn.py:736: UserWarning: 'verbose' argument is deprecated and will be removed in a future release of LightGBM. Pass 'log_evaluation()' callback via 'callbacks' argument instead.\n",
            "  _log_warning(\"'verbose' argument is deprecated and will be removed in a future release of LightGBM. \"\n",
            "C:\\Users\\Toan\\anaconda3\\envs\\ml_com\\lib\\site-packages\\lightgbm\\basic.py:1487: UserWarning: categorical_feature keyword has been found in `params` and will be ignored.\n",
            "Please use categorical_feature argument of the Dataset constructor to pass this parameter.\n",
            "  _log_warning(f'{key} keyword has been found in `params` and will be ignored.\\n'\n",
            "C:\\Users\\Toan\\anaconda3\\envs\\ml_com\\lib\\site-packages\\lightgbm\\basic.py:1513: UserWarning: categorical_feature in param dict is overridden.\n",
            "  _log_warning(f'{cat_alias} in param dict is overridden.')\n"
          ]
        },
        {
          "name": "stdout",
          "output_type": "stream",
          "text": [
            "F1_SCORE:  0.289 \n",
            "\n",
            "[LightGBM] [Warning] feature_fraction is set=0.7415535412378645, colsample_bytree=1.0 will be ignored. Current value: feature_fraction=0.7415535412378645\n",
            "[LightGBM] [Warning] bagging_fraction is set=0.666797120763853, subsample=1.0 will be ignored. Current value: bagging_fraction=0.666797120763853\n"
          ]
        },
        {
          "name": "stderr",
          "output_type": "stream",
          "text": [
            "C:\\Users\\Toan\\anaconda3\\envs\\ml_com\\lib\\site-packages\\lightgbm\\sklearn.py:736: UserWarning: 'verbose' argument is deprecated and will be removed in a future release of LightGBM. Pass 'log_evaluation()' callback via 'callbacks' argument instead.\n",
            "  _log_warning(\"'verbose' argument is deprecated and will be removed in a future release of LightGBM. \"\n",
            "C:\\Users\\Toan\\anaconda3\\envs\\ml_com\\lib\\site-packages\\lightgbm\\basic.py:1487: UserWarning: categorical_feature keyword has been found in `params` and will be ignored.\n",
            "Please use categorical_feature argument of the Dataset constructor to pass this parameter.\n",
            "  _log_warning(f'{key} keyword has been found in `params` and will be ignored.\\n'\n",
            "C:\\Users\\Toan\\anaconda3\\envs\\ml_com\\lib\\site-packages\\lightgbm\\basic.py:1513: UserWarning: categorical_feature in param dict is overridden.\n",
            "  _log_warning(f'{cat_alias} in param dict is overridden.')\n"
          ]
        },
        {
          "name": "stdout",
          "output_type": "stream",
          "text": [
            "F1_SCORE:  0.2089 \n",
            "\n",
            "[LightGBM] [Warning] feature_fraction is set=0.7415535412378645, colsample_bytree=1.0 will be ignored. Current value: feature_fraction=0.7415535412378645\n",
            "[LightGBM] [Warning] bagging_fraction is set=0.666797120763853, subsample=1.0 will be ignored. Current value: bagging_fraction=0.666797120763853\n"
          ]
        },
        {
          "name": "stderr",
          "output_type": "stream",
          "text": [
            "C:\\Users\\Toan\\anaconda3\\envs\\ml_com\\lib\\site-packages\\lightgbm\\sklearn.py:736: UserWarning: 'verbose' argument is deprecated and will be removed in a future release of LightGBM. Pass 'log_evaluation()' callback via 'callbacks' argument instead.\n",
            "  _log_warning(\"'verbose' argument is deprecated and will be removed in a future release of LightGBM. \"\n",
            "C:\\Users\\Toan\\anaconda3\\envs\\ml_com\\lib\\site-packages\\lightgbm\\basic.py:1487: UserWarning: categorical_feature keyword has been found in `params` and will be ignored.\n",
            "Please use categorical_feature argument of the Dataset constructor to pass this parameter.\n",
            "  _log_warning(f'{key} keyword has been found in `params` and will be ignored.\\n'\n",
            "C:\\Users\\Toan\\anaconda3\\envs\\ml_com\\lib\\site-packages\\lightgbm\\basic.py:1513: UserWarning: categorical_feature in param dict is overridden.\n",
            "  _log_warning(f'{cat_alias} in param dict is overridden.')\n"
          ]
        },
        {
          "name": "stdout",
          "output_type": "stream",
          "text": [
            "F1_SCORE:  0.3543 \n",
            "\n",
            "[LightGBM] [Warning] feature_fraction is set=0.7415535412378645, colsample_bytree=1.0 will be ignored. Current value: feature_fraction=0.7415535412378645\n",
            "[LightGBM] [Warning] bagging_fraction is set=0.666797120763853, subsample=1.0 will be ignored. Current value: bagging_fraction=0.666797120763853\n"
          ]
        },
        {
          "name": "stderr",
          "output_type": "stream",
          "text": [
            "C:\\Users\\Toan\\anaconda3\\envs\\ml_com\\lib\\site-packages\\lightgbm\\sklearn.py:736: UserWarning: 'verbose' argument is deprecated and will be removed in a future release of LightGBM. Pass 'log_evaluation()' callback via 'callbacks' argument instead.\n",
            "  _log_warning(\"'verbose' argument is deprecated and will be removed in a future release of LightGBM. \"\n",
            "C:\\Users\\Toan\\anaconda3\\envs\\ml_com\\lib\\site-packages\\lightgbm\\basic.py:1487: UserWarning: categorical_feature keyword has been found in `params` and will be ignored.\n",
            "Please use categorical_feature argument of the Dataset constructor to pass this parameter.\n",
            "  _log_warning(f'{key} keyword has been found in `params` and will be ignored.\\n'\n",
            "C:\\Users\\Toan\\anaconda3\\envs\\ml_com\\lib\\site-packages\\lightgbm\\basic.py:1513: UserWarning: categorical_feature in param dict is overridden.\n",
            "  _log_warning(f'{cat_alias} in param dict is overridden.')\n"
          ]
        },
        {
          "name": "stdout",
          "output_type": "stream",
          "text": [
            "F1_SCORE:  0.4218 \n",
            "\n",
            "[LightGBM] [Warning] feature_fraction is set=0.7415535412378645, colsample_bytree=1.0 will be ignored. Current value: feature_fraction=0.7415535412378645\n",
            "[LightGBM] [Warning] bagging_fraction is set=0.666797120763853, subsample=1.0 will be ignored. Current value: bagging_fraction=0.666797120763853\n"
          ]
        },
        {
          "name": "stderr",
          "output_type": "stream",
          "text": [
            "C:\\Users\\Toan\\anaconda3\\envs\\ml_com\\lib\\site-packages\\lightgbm\\sklearn.py:736: UserWarning: 'verbose' argument is deprecated and will be removed in a future release of LightGBM. Pass 'log_evaluation()' callback via 'callbacks' argument instead.\n",
            "  _log_warning(\"'verbose' argument is deprecated and will be removed in a future release of LightGBM. \"\n",
            "C:\\Users\\Toan\\anaconda3\\envs\\ml_com\\lib\\site-packages\\lightgbm\\basic.py:1487: UserWarning: categorical_feature keyword has been found in `params` and will be ignored.\n",
            "Please use categorical_feature argument of the Dataset constructor to pass this parameter.\n",
            "  _log_warning(f'{key} keyword has been found in `params` and will be ignored.\\n'\n",
            "C:\\Users\\Toan\\anaconda3\\envs\\ml_com\\lib\\site-packages\\lightgbm\\basic.py:1513: UserWarning: categorical_feature in param dict is overridden.\n",
            "  _log_warning(f'{cat_alias} in param dict is overridden.')\n",
            "\u001b[32m[I 2022-04-18 22:37:24,992]\u001b[0m Trial 18 finished with value: 0.3275945738055702 and parameters: {'num_leaves': 8, 'n_estimators': 589, 'learning_rate': 0.5745851824065222, 'feature_fraction': 0.7415535412378645, 'bagging_fraction': 0.666797120763853}. Best is trial 5 with value: 0.8040849795380097.\u001b[0m\n"
          ]
        },
        {
          "name": "stdout",
          "output_type": "stream",
          "text": [
            "F1_SCORE:  0.3639 \n",
            "\n",
            "[LightGBM] [Warning] feature_fraction is set=0.4760262294297126, colsample_bytree=1.0 will be ignored. Current value: feature_fraction=0.4760262294297126\n",
            "[LightGBM] [Warning] bagging_fraction is set=0.8111913551210587, subsample=1.0 will be ignored. Current value: bagging_fraction=0.8111913551210587\n"
          ]
        },
        {
          "name": "stderr",
          "output_type": "stream",
          "text": [
            "C:\\Users\\Toan\\anaconda3\\envs\\ml_com\\lib\\site-packages\\lightgbm\\sklearn.py:736: UserWarning: 'verbose' argument is deprecated and will be removed in a future release of LightGBM. Pass 'log_evaluation()' callback via 'callbacks' argument instead.\n",
            "  _log_warning(\"'verbose' argument is deprecated and will be removed in a future release of LightGBM. \"\n",
            "C:\\Users\\Toan\\anaconda3\\envs\\ml_com\\lib\\site-packages\\lightgbm\\basic.py:1487: UserWarning: categorical_feature keyword has been found in `params` and will be ignored.\n",
            "Please use categorical_feature argument of the Dataset constructor to pass this parameter.\n",
            "  _log_warning(f'{key} keyword has been found in `params` and will be ignored.\\n'\n",
            "C:\\Users\\Toan\\anaconda3\\envs\\ml_com\\lib\\site-packages\\lightgbm\\basic.py:1513: UserWarning: categorical_feature in param dict is overridden.\n",
            "  _log_warning(f'{cat_alias} in param dict is overridden.')\n"
          ]
        },
        {
          "name": "stdout",
          "output_type": "stream",
          "text": [
            "F1_SCORE:  0.2437 \n",
            "\n",
            "[LightGBM] [Warning] feature_fraction is set=0.4760262294297126, colsample_bytree=1.0 will be ignored. Current value: feature_fraction=0.4760262294297126\n",
            "[LightGBM] [Warning] bagging_fraction is set=0.8111913551210587, subsample=1.0 will be ignored. Current value: bagging_fraction=0.8111913551210587\n"
          ]
        },
        {
          "name": "stderr",
          "output_type": "stream",
          "text": [
            "C:\\Users\\Toan\\anaconda3\\envs\\ml_com\\lib\\site-packages\\lightgbm\\sklearn.py:736: UserWarning: 'verbose' argument is deprecated and will be removed in a future release of LightGBM. Pass 'log_evaluation()' callback via 'callbacks' argument instead.\n",
            "  _log_warning(\"'verbose' argument is deprecated and will be removed in a future release of LightGBM. \"\n",
            "C:\\Users\\Toan\\anaconda3\\envs\\ml_com\\lib\\site-packages\\lightgbm\\basic.py:1487: UserWarning: categorical_feature keyword has been found in `params` and will be ignored.\n",
            "Please use categorical_feature argument of the Dataset constructor to pass this parameter.\n",
            "  _log_warning(f'{key} keyword has been found in `params` and will be ignored.\\n'\n",
            "C:\\Users\\Toan\\anaconda3\\envs\\ml_com\\lib\\site-packages\\lightgbm\\basic.py:1513: UserWarning: categorical_feature in param dict is overridden.\n",
            "  _log_warning(f'{cat_alias} in param dict is overridden.')\n"
          ]
        },
        {
          "name": "stdout",
          "output_type": "stream",
          "text": [
            "F1_SCORE:  0.1802 \n",
            "\n",
            "[LightGBM] [Warning] feature_fraction is set=0.4760262294297126, colsample_bytree=1.0 will be ignored. Current value: feature_fraction=0.4760262294297126\n",
            "[LightGBM] [Warning] bagging_fraction is set=0.8111913551210587, subsample=1.0 will be ignored. Current value: bagging_fraction=0.8111913551210587\n"
          ]
        },
        {
          "name": "stderr",
          "output_type": "stream",
          "text": [
            "C:\\Users\\Toan\\anaconda3\\envs\\ml_com\\lib\\site-packages\\lightgbm\\sklearn.py:736: UserWarning: 'verbose' argument is deprecated and will be removed in a future release of LightGBM. Pass 'log_evaluation()' callback via 'callbacks' argument instead.\n",
            "  _log_warning(\"'verbose' argument is deprecated and will be removed in a future release of LightGBM. \"\n",
            "C:\\Users\\Toan\\anaconda3\\envs\\ml_com\\lib\\site-packages\\lightgbm\\basic.py:1487: UserWarning: categorical_feature keyword has been found in `params` and will be ignored.\n",
            "Please use categorical_feature argument of the Dataset constructor to pass this parameter.\n",
            "  _log_warning(f'{key} keyword has been found in `params` and will be ignored.\\n'\n",
            "C:\\Users\\Toan\\anaconda3\\envs\\ml_com\\lib\\site-packages\\lightgbm\\basic.py:1513: UserWarning: categorical_feature in param dict is overridden.\n",
            "  _log_warning(f'{cat_alias} in param dict is overridden.')\n"
          ]
        },
        {
          "name": "stdout",
          "output_type": "stream",
          "text": [
            "F1_SCORE:  0.2181 \n",
            "\n",
            "[LightGBM] [Warning] feature_fraction is set=0.4760262294297126, colsample_bytree=1.0 will be ignored. Current value: feature_fraction=0.4760262294297126\n",
            "[LightGBM] [Warning] bagging_fraction is set=0.8111913551210587, subsample=1.0 will be ignored. Current value: bagging_fraction=0.8111913551210587\n"
          ]
        },
        {
          "name": "stderr",
          "output_type": "stream",
          "text": [
            "C:\\Users\\Toan\\anaconda3\\envs\\ml_com\\lib\\site-packages\\lightgbm\\sklearn.py:736: UserWarning: 'verbose' argument is deprecated and will be removed in a future release of LightGBM. Pass 'log_evaluation()' callback via 'callbacks' argument instead.\n",
            "  _log_warning(\"'verbose' argument is deprecated and will be removed in a future release of LightGBM. \"\n",
            "C:\\Users\\Toan\\anaconda3\\envs\\ml_com\\lib\\site-packages\\lightgbm\\basic.py:1487: UserWarning: categorical_feature keyword has been found in `params` and will be ignored.\n",
            "Please use categorical_feature argument of the Dataset constructor to pass this parameter.\n",
            "  _log_warning(f'{key} keyword has been found in `params` and will be ignored.\\n'\n",
            "C:\\Users\\Toan\\anaconda3\\envs\\ml_com\\lib\\site-packages\\lightgbm\\basic.py:1513: UserWarning: categorical_feature in param dict is overridden.\n",
            "  _log_warning(f'{cat_alias} in param dict is overridden.')\n"
          ]
        },
        {
          "name": "stdout",
          "output_type": "stream",
          "text": [
            "F1_SCORE:  0.1614 \n",
            "\n",
            "[LightGBM] [Warning] feature_fraction is set=0.4760262294297126, colsample_bytree=1.0 will be ignored. Current value: feature_fraction=0.4760262294297126\n",
            "[LightGBM] [Warning] bagging_fraction is set=0.8111913551210587, subsample=1.0 will be ignored. Current value: bagging_fraction=0.8111913551210587\n"
          ]
        },
        {
          "name": "stderr",
          "output_type": "stream",
          "text": [
            "C:\\Users\\Toan\\anaconda3\\envs\\ml_com\\lib\\site-packages\\lightgbm\\sklearn.py:736: UserWarning: 'verbose' argument is deprecated and will be removed in a future release of LightGBM. Pass 'log_evaluation()' callback via 'callbacks' argument instead.\n",
            "  _log_warning(\"'verbose' argument is deprecated and will be removed in a future release of LightGBM. \"\n",
            "C:\\Users\\Toan\\anaconda3\\envs\\ml_com\\lib\\site-packages\\lightgbm\\basic.py:1487: UserWarning: categorical_feature keyword has been found in `params` and will be ignored.\n",
            "Please use categorical_feature argument of the Dataset constructor to pass this parameter.\n",
            "  _log_warning(f'{key} keyword has been found in `params` and will be ignored.\\n'\n",
            "C:\\Users\\Toan\\anaconda3\\envs\\ml_com\\lib\\site-packages\\lightgbm\\basic.py:1513: UserWarning: categorical_feature in param dict is overridden.\n",
            "  _log_warning(f'{cat_alias} in param dict is overridden.')\n",
            "\u001b[32m[I 2022-04-18 22:38:51,893]\u001b[0m Trial 19 finished with value: 0.25214430606962607 and parameters: {'num_leaves': 11, 'n_estimators': 787, 'learning_rate': 0.26417823998774986, 'feature_fraction': 0.4760262294297126, 'bagging_fraction': 0.8111913551210587}. Best is trial 5 with value: 0.8040849795380097.\u001b[0m\n"
          ]
        },
        {
          "name": "stdout",
          "output_type": "stream",
          "text": [
            "F1_SCORE:  0.4573 \n",
            "\n"
          ]
        },
        {
          "name": "stderr",
          "output_type": "stream",
          "text": [
            "C:\\Users\\Toan\\anaconda3\\envs\\ml_com\\lib\\site-packages\\lightgbm\\sklearn.py:736: UserWarning: 'verbose' argument is deprecated and will be removed in a future release of LightGBM. Pass 'log_evaluation()' callback via 'callbacks' argument instead.\n",
            "  _log_warning(\"'verbose' argument is deprecated and will be removed in a future release of LightGBM. \"\n",
            "C:\\Users\\Toan\\anaconda3\\envs\\ml_com\\lib\\site-packages\\lightgbm\\basic.py:1487: UserWarning: categorical_feature keyword has been found in `params` and will be ignored.\n",
            "Please use categorical_feature argument of the Dataset constructor to pass this parameter.\n",
            "  _log_warning(f'{key} keyword has been found in `params` and will be ignored.\\n'\n",
            "C:\\Users\\Toan\\anaconda3\\envs\\ml_com\\lib\\site-packages\\lightgbm\\basic.py:1513: UserWarning: categorical_feature in param dict is overridden.\n",
            "  _log_warning(f'{cat_alias} in param dict is overridden.')\n"
          ]
        },
        {
          "name": "stdout",
          "output_type": "stream",
          "text": [
            "[LightGBM] [Warning] feature_fraction is set=0.5897317786356696, colsample_bytree=1.0 will be ignored. Current value: feature_fraction=0.5897317786356696\n",
            "[LightGBM] [Warning] bagging_fraction is set=0.9521718944737911, subsample=1.0 will be ignored. Current value: bagging_fraction=0.9521718944737911\n",
            "F1_SCORE:  0.803 \n",
            "\n",
            "[LightGBM] [Warning] feature_fraction is set=0.5897317786356696, colsample_bytree=1.0 will be ignored. Current value: feature_fraction=0.5897317786356696\n",
            "[LightGBM] [Warning] bagging_fraction is set=0.9521718944737911, subsample=1.0 will be ignored. Current value: bagging_fraction=0.9521718944737911\n"
          ]
        },
        {
          "name": "stderr",
          "output_type": "stream",
          "text": [
            "C:\\Users\\Toan\\anaconda3\\envs\\ml_com\\lib\\site-packages\\lightgbm\\sklearn.py:736: UserWarning: 'verbose' argument is deprecated and will be removed in a future release of LightGBM. Pass 'log_evaluation()' callback via 'callbacks' argument instead.\n",
            "  _log_warning(\"'verbose' argument is deprecated and will be removed in a future release of LightGBM. \"\n",
            "C:\\Users\\Toan\\anaconda3\\envs\\ml_com\\lib\\site-packages\\lightgbm\\basic.py:1487: UserWarning: categorical_feature keyword has been found in `params` and will be ignored.\n",
            "Please use categorical_feature argument of the Dataset constructor to pass this parameter.\n",
            "  _log_warning(f'{key} keyword has been found in `params` and will be ignored.\\n'\n",
            "C:\\Users\\Toan\\anaconda3\\envs\\ml_com\\lib\\site-packages\\lightgbm\\basic.py:1513: UserWarning: categorical_feature in param dict is overridden.\n",
            "  _log_warning(f'{cat_alias} in param dict is overridden.')\n"
          ]
        },
        {
          "name": "stdout",
          "output_type": "stream",
          "text": [
            "F1_SCORE:  0.7972 \n",
            "\n",
            "[LightGBM] [Warning] feature_fraction is set=0.5897317786356696, colsample_bytree=1.0 will be ignored. Current value: feature_fraction=0.5897317786356696\n",
            "[LightGBM] [Warning] bagging_fraction is set=0.9521718944737911, subsample=1.0 will be ignored. Current value: bagging_fraction=0.9521718944737911\n"
          ]
        },
        {
          "name": "stderr",
          "output_type": "stream",
          "text": [
            "C:\\Users\\Toan\\anaconda3\\envs\\ml_com\\lib\\site-packages\\lightgbm\\sklearn.py:736: UserWarning: 'verbose' argument is deprecated and will be removed in a future release of LightGBM. Pass 'log_evaluation()' callback via 'callbacks' argument instead.\n",
            "  _log_warning(\"'verbose' argument is deprecated and will be removed in a future release of LightGBM. \"\n",
            "C:\\Users\\Toan\\anaconda3\\envs\\ml_com\\lib\\site-packages\\lightgbm\\basic.py:1487: UserWarning: categorical_feature keyword has been found in `params` and will be ignored.\n",
            "Please use categorical_feature argument of the Dataset constructor to pass this parameter.\n",
            "  _log_warning(f'{key} keyword has been found in `params` and will be ignored.\\n'\n",
            "C:\\Users\\Toan\\anaconda3\\envs\\ml_com\\lib\\site-packages\\lightgbm\\basic.py:1513: UserWarning: categorical_feature in param dict is overridden.\n",
            "  _log_warning(f'{cat_alias} in param dict is overridden.')\n"
          ]
        },
        {
          "name": "stdout",
          "output_type": "stream",
          "text": [
            "F1_SCORE:  0.8255 \n",
            "\n",
            "[LightGBM] [Warning] feature_fraction is set=0.5897317786356696, colsample_bytree=1.0 will be ignored. Current value: feature_fraction=0.5897317786356696\n",
            "[LightGBM] [Warning] bagging_fraction is set=0.9521718944737911, subsample=1.0 will be ignored. Current value: bagging_fraction=0.9521718944737911\n"
          ]
        },
        {
          "name": "stderr",
          "output_type": "stream",
          "text": [
            "C:\\Users\\Toan\\anaconda3\\envs\\ml_com\\lib\\site-packages\\lightgbm\\sklearn.py:736: UserWarning: 'verbose' argument is deprecated and will be removed in a future release of LightGBM. Pass 'log_evaluation()' callback via 'callbacks' argument instead.\n",
            "  _log_warning(\"'verbose' argument is deprecated and will be removed in a future release of LightGBM. \"\n",
            "C:\\Users\\Toan\\anaconda3\\envs\\ml_com\\lib\\site-packages\\lightgbm\\basic.py:1487: UserWarning: categorical_feature keyword has been found in `params` and will be ignored.\n",
            "Please use categorical_feature argument of the Dataset constructor to pass this parameter.\n",
            "  _log_warning(f'{key} keyword has been found in `params` and will be ignored.\\n'\n",
            "C:\\Users\\Toan\\anaconda3\\envs\\ml_com\\lib\\site-packages\\lightgbm\\basic.py:1513: UserWarning: categorical_feature in param dict is overridden.\n",
            "  _log_warning(f'{cat_alias} in param dict is overridden.')\n"
          ]
        },
        {
          "name": "stdout",
          "output_type": "stream",
          "text": [
            "F1_SCORE:  0.7958 \n",
            "\n",
            "[LightGBM] [Warning] feature_fraction is set=0.5897317786356696, colsample_bytree=1.0 will be ignored. Current value: feature_fraction=0.5897317786356696\n",
            "[LightGBM] [Warning] bagging_fraction is set=0.9521718944737911, subsample=1.0 will be ignored. Current value: bagging_fraction=0.9521718944737911\n"
          ]
        },
        {
          "name": "stderr",
          "output_type": "stream",
          "text": [
            "C:\\Users\\Toan\\anaconda3\\envs\\ml_com\\lib\\site-packages\\lightgbm\\sklearn.py:736: UserWarning: 'verbose' argument is deprecated and will be removed in a future release of LightGBM. Pass 'log_evaluation()' callback via 'callbacks' argument instead.\n",
            "  _log_warning(\"'verbose' argument is deprecated and will be removed in a future release of LightGBM. \"\n",
            "C:\\Users\\Toan\\anaconda3\\envs\\ml_com\\lib\\site-packages\\lightgbm\\basic.py:1487: UserWarning: categorical_feature keyword has been found in `params` and will be ignored.\n",
            "Please use categorical_feature argument of the Dataset constructor to pass this parameter.\n",
            "  _log_warning(f'{key} keyword has been found in `params` and will be ignored.\\n'\n",
            "C:\\Users\\Toan\\anaconda3\\envs\\ml_com\\lib\\site-packages\\lightgbm\\basic.py:1513: UserWarning: categorical_feature in param dict is overridden.\n",
            "  _log_warning(f'{cat_alias} in param dict is overridden.')\n",
            "\u001b[32m[I 2022-04-18 22:40:08,435]\u001b[0m Trial 20 finished with value: 0.8032616680040343 and parameters: {'num_leaves': 9, 'n_estimators': 487, 'learning_rate': 0.07468835446475243, 'feature_fraction': 0.5897317786356696, 'bagging_fraction': 0.9521718944737911}. Best is trial 5 with value: 0.8040849795380097.\u001b[0m\n"
          ]
        },
        {
          "name": "stdout",
          "output_type": "stream",
          "text": [
            "F1_SCORE:  0.7948 \n",
            "\n",
            "[LightGBM] [Warning] feature_fraction is set=0.5839565751409596, colsample_bytree=1.0 will be ignored. Current value: feature_fraction=0.5839565751409596\n",
            "[LightGBM] [Warning] bagging_fraction is set=0.939306743963646, subsample=1.0 will be ignored. Current value: bagging_fraction=0.939306743963646\n"
          ]
        },
        {
          "name": "stderr",
          "output_type": "stream",
          "text": [
            "C:\\Users\\Toan\\anaconda3\\envs\\ml_com\\lib\\site-packages\\lightgbm\\sklearn.py:736: UserWarning: 'verbose' argument is deprecated and will be removed in a future release of LightGBM. Pass 'log_evaluation()' callback via 'callbacks' argument instead.\n",
            "  _log_warning(\"'verbose' argument is deprecated and will be removed in a future release of LightGBM. \"\n",
            "C:\\Users\\Toan\\anaconda3\\envs\\ml_com\\lib\\site-packages\\lightgbm\\basic.py:1487: UserWarning: categorical_feature keyword has been found in `params` and will be ignored.\n",
            "Please use categorical_feature argument of the Dataset constructor to pass this parameter.\n",
            "  _log_warning(f'{key} keyword has been found in `params` and will be ignored.\\n'\n",
            "C:\\Users\\Toan\\anaconda3\\envs\\ml_com\\lib\\site-packages\\lightgbm\\basic.py:1513: UserWarning: categorical_feature in param dict is overridden.\n",
            "  _log_warning(f'{cat_alias} in param dict is overridden.')\n"
          ]
        },
        {
          "name": "stdout",
          "output_type": "stream",
          "text": [
            "F1_SCORE:  0.8083 \n",
            "\n",
            "[LightGBM] [Warning] feature_fraction is set=0.5839565751409596, colsample_bytree=1.0 will be ignored. Current value: feature_fraction=0.5839565751409596\n",
            "[LightGBM] [Warning] bagging_fraction is set=0.939306743963646, subsample=1.0 will be ignored. Current value: bagging_fraction=0.939306743963646\n"
          ]
        },
        {
          "name": "stderr",
          "output_type": "stream",
          "text": [
            "C:\\Users\\Toan\\anaconda3\\envs\\ml_com\\lib\\site-packages\\lightgbm\\sklearn.py:736: UserWarning: 'verbose' argument is deprecated and will be removed in a future release of LightGBM. Pass 'log_evaluation()' callback via 'callbacks' argument instead.\n",
            "  _log_warning(\"'verbose' argument is deprecated and will be removed in a future release of LightGBM. \"\n",
            "C:\\Users\\Toan\\anaconda3\\envs\\ml_com\\lib\\site-packages\\lightgbm\\basic.py:1487: UserWarning: categorical_feature keyword has been found in `params` and will be ignored.\n",
            "Please use categorical_feature argument of the Dataset constructor to pass this parameter.\n",
            "  _log_warning(f'{key} keyword has been found in `params` and will be ignored.\\n'\n",
            "C:\\Users\\Toan\\anaconda3\\envs\\ml_com\\lib\\site-packages\\lightgbm\\basic.py:1513: UserWarning: categorical_feature in param dict is overridden.\n",
            "  _log_warning(f'{cat_alias} in param dict is overridden.')\n"
          ]
        },
        {
          "name": "stdout",
          "output_type": "stream",
          "text": [
            "F1_SCORE:  0.7937 \n",
            "\n",
            "[LightGBM] [Warning] feature_fraction is set=0.5839565751409596, colsample_bytree=1.0 will be ignored. Current value: feature_fraction=0.5839565751409596\n",
            "[LightGBM] [Warning] bagging_fraction is set=0.939306743963646, subsample=1.0 will be ignored. Current value: bagging_fraction=0.939306743963646\n"
          ]
        },
        {
          "name": "stderr",
          "output_type": "stream",
          "text": [
            "C:\\Users\\Toan\\anaconda3\\envs\\ml_com\\lib\\site-packages\\lightgbm\\sklearn.py:736: UserWarning: 'verbose' argument is deprecated and will be removed in a future release of LightGBM. Pass 'log_evaluation()' callback via 'callbacks' argument instead.\n",
            "  _log_warning(\"'verbose' argument is deprecated and will be removed in a future release of LightGBM. \"\n",
            "C:\\Users\\Toan\\anaconda3\\envs\\ml_com\\lib\\site-packages\\lightgbm\\basic.py:1487: UserWarning: categorical_feature keyword has been found in `params` and will be ignored.\n",
            "Please use categorical_feature argument of the Dataset constructor to pass this parameter.\n",
            "  _log_warning(f'{key} keyword has been found in `params` and will be ignored.\\n'\n",
            "C:\\Users\\Toan\\anaconda3\\envs\\ml_com\\lib\\site-packages\\lightgbm\\basic.py:1513: UserWarning: categorical_feature in param dict is overridden.\n",
            "  _log_warning(f'{cat_alias} in param dict is overridden.')\n"
          ]
        },
        {
          "name": "stdout",
          "output_type": "stream",
          "text": [
            "F1_SCORE:  0.8285 \n",
            "\n",
            "[LightGBM] [Warning] feature_fraction is set=0.5839565751409596, colsample_bytree=1.0 will be ignored. Current value: feature_fraction=0.5839565751409596\n",
            "[LightGBM] [Warning] bagging_fraction is set=0.939306743963646, subsample=1.0 will be ignored. Current value: bagging_fraction=0.939306743963646\n"
          ]
        },
        {
          "name": "stderr",
          "output_type": "stream",
          "text": [
            "C:\\Users\\Toan\\anaconda3\\envs\\ml_com\\lib\\site-packages\\lightgbm\\sklearn.py:736: UserWarning: 'verbose' argument is deprecated and will be removed in a future release of LightGBM. Pass 'log_evaluation()' callback via 'callbacks' argument instead.\n",
            "  _log_warning(\"'verbose' argument is deprecated and will be removed in a future release of LightGBM. \"\n",
            "C:\\Users\\Toan\\anaconda3\\envs\\ml_com\\lib\\site-packages\\lightgbm\\basic.py:1487: UserWarning: categorical_feature keyword has been found in `params` and will be ignored.\n",
            "Please use categorical_feature argument of the Dataset constructor to pass this parameter.\n",
            "  _log_warning(f'{key} keyword has been found in `params` and will be ignored.\\n'\n",
            "C:\\Users\\Toan\\anaconda3\\envs\\ml_com\\lib\\site-packages\\lightgbm\\basic.py:1513: UserWarning: categorical_feature in param dict is overridden.\n",
            "  _log_warning(f'{cat_alias} in param dict is overridden.')\n"
          ]
        },
        {
          "name": "stdout",
          "output_type": "stream",
          "text": [
            "F1_SCORE:  0.7924 \n",
            "\n",
            "[LightGBM] [Warning] feature_fraction is set=0.5839565751409596, colsample_bytree=1.0 will be ignored. Current value: feature_fraction=0.5839565751409596\n",
            "[LightGBM] [Warning] bagging_fraction is set=0.939306743963646, subsample=1.0 will be ignored. Current value: bagging_fraction=0.939306743963646\n"
          ]
        },
        {
          "name": "stderr",
          "output_type": "stream",
          "text": [
            "C:\\Users\\Toan\\anaconda3\\envs\\ml_com\\lib\\site-packages\\lightgbm\\sklearn.py:736: UserWarning: 'verbose' argument is deprecated and will be removed in a future release of LightGBM. Pass 'log_evaluation()' callback via 'callbacks' argument instead.\n",
            "  _log_warning(\"'verbose' argument is deprecated and will be removed in a future release of LightGBM. \"\n",
            "C:\\Users\\Toan\\anaconda3\\envs\\ml_com\\lib\\site-packages\\lightgbm\\basic.py:1487: UserWarning: categorical_feature keyword has been found in `params` and will be ignored.\n",
            "Please use categorical_feature argument of the Dataset constructor to pass this parameter.\n",
            "  _log_warning(f'{key} keyword has been found in `params` and will be ignored.\\n'\n",
            "C:\\Users\\Toan\\anaconda3\\envs\\ml_com\\lib\\site-packages\\lightgbm\\basic.py:1513: UserWarning: categorical_feature in param dict is overridden.\n",
            "  _log_warning(f'{cat_alias} in param dict is overridden.')\n",
            "\u001b[32m[I 2022-04-18 22:41:27,096]\u001b[0m Trial 21 finished with value: 0.8038617317226876 and parameters: {'num_leaves': 9, 'n_estimators': 510, 'learning_rate': 0.0724125450162992, 'feature_fraction': 0.5839565751409596, 'bagging_fraction': 0.939306743963646}. Best is trial 5 with value: 0.8040849795380097.\u001b[0m\n"
          ]
        },
        {
          "name": "stdout",
          "output_type": "stream",
          "text": [
            "F1_SCORE:  0.7963 \n",
            "\n"
          ]
        },
        {
          "name": "stderr",
          "output_type": "stream",
          "text": [
            "C:\\Users\\Toan\\anaconda3\\envs\\ml_com\\lib\\site-packages\\lightgbm\\sklearn.py:736: UserWarning: 'verbose' argument is deprecated and will be removed in a future release of LightGBM. Pass 'log_evaluation()' callback via 'callbacks' argument instead.\n",
            "  _log_warning(\"'verbose' argument is deprecated and will be removed in a future release of LightGBM. \"\n",
            "C:\\Users\\Toan\\anaconda3\\envs\\ml_com\\lib\\site-packages\\lightgbm\\basic.py:1487: UserWarning: categorical_feature keyword has been found in `params` and will be ignored.\n",
            "Please use categorical_feature argument of the Dataset constructor to pass this parameter.\n",
            "  _log_warning(f'{key} keyword has been found in `params` and will be ignored.\\n'\n",
            "C:\\Users\\Toan\\anaconda3\\envs\\ml_com\\lib\\site-packages\\lightgbm\\basic.py:1513: UserWarning: categorical_feature in param dict is overridden.\n",
            "  _log_warning(f'{cat_alias} in param dict is overridden.')\n"
          ]
        },
        {
          "name": "stdout",
          "output_type": "stream",
          "text": [
            "[LightGBM] [Warning] feature_fraction is set=0.5970326359689252, colsample_bytree=1.0 will be ignored. Current value: feature_fraction=0.5970326359689252\n",
            "[LightGBM] [Warning] bagging_fraction is set=0.9803829294384141, subsample=1.0 will be ignored. Current value: bagging_fraction=0.9803829294384141\n",
            "F1_SCORE:  0.762 \n",
            "\n",
            "[LightGBM] [Warning] feature_fraction is set=0.5970326359689252, colsample_bytree=1.0 will be ignored. Current value: feature_fraction=0.5970326359689252\n",
            "[LightGBM] [Warning] bagging_fraction is set=0.9803829294384141, subsample=1.0 will be ignored. Current value: bagging_fraction=0.9803829294384141\n"
          ]
        },
        {
          "name": "stderr",
          "output_type": "stream",
          "text": [
            "C:\\Users\\Toan\\anaconda3\\envs\\ml_com\\lib\\site-packages\\lightgbm\\sklearn.py:736: UserWarning: 'verbose' argument is deprecated and will be removed in a future release of LightGBM. Pass 'log_evaluation()' callback via 'callbacks' argument instead.\n",
            "  _log_warning(\"'verbose' argument is deprecated and will be removed in a future release of LightGBM. \"\n",
            "C:\\Users\\Toan\\anaconda3\\envs\\ml_com\\lib\\site-packages\\lightgbm\\basic.py:1487: UserWarning: categorical_feature keyword has been found in `params` and will be ignored.\n",
            "Please use categorical_feature argument of the Dataset constructor to pass this parameter.\n",
            "  _log_warning(f'{key} keyword has been found in `params` and will be ignored.\\n'\n",
            "C:\\Users\\Toan\\anaconda3\\envs\\ml_com\\lib\\site-packages\\lightgbm\\basic.py:1513: UserWarning: categorical_feature in param dict is overridden.\n",
            "  _log_warning(f'{cat_alias} in param dict is overridden.')\n"
          ]
        },
        {
          "name": "stdout",
          "output_type": "stream",
          "text": [
            "F1_SCORE:  0.7341 \n",
            "\n",
            "[LightGBM] [Warning] feature_fraction is set=0.5970326359689252, colsample_bytree=1.0 will be ignored. Current value: feature_fraction=0.5970326359689252\n",
            "[LightGBM] [Warning] bagging_fraction is set=0.9803829294384141, subsample=1.0 will be ignored. Current value: bagging_fraction=0.9803829294384141\n"
          ]
        },
        {
          "name": "stderr",
          "output_type": "stream",
          "text": [
            "C:\\Users\\Toan\\anaconda3\\envs\\ml_com\\lib\\site-packages\\lightgbm\\sklearn.py:736: UserWarning: 'verbose' argument is deprecated and will be removed in a future release of LightGBM. Pass 'log_evaluation()' callback via 'callbacks' argument instead.\n",
            "  _log_warning(\"'verbose' argument is deprecated and will be removed in a future release of LightGBM. \"\n",
            "C:\\Users\\Toan\\anaconda3\\envs\\ml_com\\lib\\site-packages\\lightgbm\\basic.py:1487: UserWarning: categorical_feature keyword has been found in `params` and will be ignored.\n",
            "Please use categorical_feature argument of the Dataset constructor to pass this parameter.\n",
            "  _log_warning(f'{key} keyword has been found in `params` and will be ignored.\\n'\n",
            "C:\\Users\\Toan\\anaconda3\\envs\\ml_com\\lib\\site-packages\\lightgbm\\basic.py:1513: UserWarning: categorical_feature in param dict is overridden.\n",
            "  _log_warning(f'{cat_alias} in param dict is overridden.')\n"
          ]
        },
        {
          "name": "stdout",
          "output_type": "stream",
          "text": [
            "F1_SCORE:  0.8093 \n",
            "\n",
            "[LightGBM] [Warning] feature_fraction is set=0.5970326359689252, colsample_bytree=1.0 will be ignored. Current value: feature_fraction=0.5970326359689252\n",
            "[LightGBM] [Warning] bagging_fraction is set=0.9803829294384141, subsample=1.0 will be ignored. Current value: bagging_fraction=0.9803829294384141\n"
          ]
        },
        {
          "name": "stderr",
          "output_type": "stream",
          "text": [
            "C:\\Users\\Toan\\anaconda3\\envs\\ml_com\\lib\\site-packages\\lightgbm\\sklearn.py:736: UserWarning: 'verbose' argument is deprecated and will be removed in a future release of LightGBM. Pass 'log_evaluation()' callback via 'callbacks' argument instead.\n",
            "  _log_warning(\"'verbose' argument is deprecated and will be removed in a future release of LightGBM. \"\n",
            "C:\\Users\\Toan\\anaconda3\\envs\\ml_com\\lib\\site-packages\\lightgbm\\basic.py:1487: UserWarning: categorical_feature keyword has been found in `params` and will be ignored.\n",
            "Please use categorical_feature argument of the Dataset constructor to pass this parameter.\n",
            "  _log_warning(f'{key} keyword has been found in `params` and will be ignored.\\n'\n",
            "C:\\Users\\Toan\\anaconda3\\envs\\ml_com\\lib\\site-packages\\lightgbm\\basic.py:1513: UserWarning: categorical_feature in param dict is overridden.\n",
            "  _log_warning(f'{cat_alias} in param dict is overridden.')\n"
          ]
        },
        {
          "name": "stdout",
          "output_type": "stream",
          "text": [
            "F1_SCORE:  0.7773 \n",
            "\n",
            "[LightGBM] [Warning] feature_fraction is set=0.5970326359689252, colsample_bytree=1.0 will be ignored. Current value: feature_fraction=0.5970326359689252\n",
            "[LightGBM] [Warning] bagging_fraction is set=0.9803829294384141, subsample=1.0 will be ignored. Current value: bagging_fraction=0.9803829294384141\n"
          ]
        },
        {
          "name": "stderr",
          "output_type": "stream",
          "text": [
            "C:\\Users\\Toan\\anaconda3\\envs\\ml_com\\lib\\site-packages\\lightgbm\\sklearn.py:736: UserWarning: 'verbose' argument is deprecated and will be removed in a future release of LightGBM. Pass 'log_evaluation()' callback via 'callbacks' argument instead.\n",
            "  _log_warning(\"'verbose' argument is deprecated and will be removed in a future release of LightGBM. \"\n",
            "C:\\Users\\Toan\\anaconda3\\envs\\ml_com\\lib\\site-packages\\lightgbm\\basic.py:1487: UserWarning: categorical_feature keyword has been found in `params` and will be ignored.\n",
            "Please use categorical_feature argument of the Dataset constructor to pass this parameter.\n",
            "  _log_warning(f'{key} keyword has been found in `params` and will be ignored.\\n'\n",
            "C:\\Users\\Toan\\anaconda3\\envs\\ml_com\\lib\\site-packages\\lightgbm\\basic.py:1513: UserWarning: categorical_feature in param dict is overridden.\n",
            "  _log_warning(f'{cat_alias} in param dict is overridden.')\n",
            "\u001b[32m[I 2022-04-18 22:43:17,005]\u001b[0m Trial 22 finished with value: 0.771759625320752 and parameters: {'num_leaves': 8, 'n_estimators': 721, 'learning_rate': 0.0036329747089792336, 'feature_fraction': 0.5970326359689252, 'bagging_fraction': 0.9803829294384141}. Best is trial 5 with value: 0.8040849795380097.\u001b[0m\n"
          ]
        },
        {
          "name": "stdout",
          "output_type": "stream",
          "text": [
            "F1_SCORE:  0.7761 \n",
            "\n",
            "[LightGBM] [Warning] feature_fraction is set=0.7502794725183589, colsample_bytree=1.0 will be ignored. Current value: feature_fraction=0.7502794725183589\n",
            "[LightGBM] [Warning] bagging_fraction is set=0.9481688597338999, subsample=1.0 will be ignored. Current value: bagging_fraction=0.9481688597338999\n"
          ]
        },
        {
          "name": "stderr",
          "output_type": "stream",
          "text": [
            "C:\\Users\\Toan\\anaconda3\\envs\\ml_com\\lib\\site-packages\\lightgbm\\sklearn.py:736: UserWarning: 'verbose' argument is deprecated and will be removed in a future release of LightGBM. Pass 'log_evaluation()' callback via 'callbacks' argument instead.\n",
            "  _log_warning(\"'verbose' argument is deprecated and will be removed in a future release of LightGBM. \"\n",
            "C:\\Users\\Toan\\anaconda3\\envs\\ml_com\\lib\\site-packages\\lightgbm\\basic.py:1487: UserWarning: categorical_feature keyword has been found in `params` and will be ignored.\n",
            "Please use categorical_feature argument of the Dataset constructor to pass this parameter.\n",
            "  _log_warning(f'{key} keyword has been found in `params` and will be ignored.\\n'\n",
            "C:\\Users\\Toan\\anaconda3\\envs\\ml_com\\lib\\site-packages\\lightgbm\\basic.py:1513: UserWarning: categorical_feature in param dict is overridden.\n",
            "  _log_warning(f'{cat_alias} in param dict is overridden.')\n"
          ]
        },
        {
          "name": "stdout",
          "output_type": "stream",
          "text": [
            "F1_SCORE:  0.3637 \n",
            "\n",
            "[LightGBM] [Warning] feature_fraction is set=0.7502794725183589, colsample_bytree=1.0 will be ignored. Current value: feature_fraction=0.7502794725183589\n",
            "[LightGBM] [Warning] bagging_fraction is set=0.9481688597338999, subsample=1.0 will be ignored. Current value: bagging_fraction=0.9481688597338999\n"
          ]
        },
        {
          "name": "stderr",
          "output_type": "stream",
          "text": [
            "C:\\Users\\Toan\\anaconda3\\envs\\ml_com\\lib\\site-packages\\lightgbm\\sklearn.py:736: UserWarning: 'verbose' argument is deprecated and will be removed in a future release of LightGBM. Pass 'log_evaluation()' callback via 'callbacks' argument instead.\n",
            "  _log_warning(\"'verbose' argument is deprecated and will be removed in a future release of LightGBM. \"\n",
            "C:\\Users\\Toan\\anaconda3\\envs\\ml_com\\lib\\site-packages\\lightgbm\\basic.py:1487: UserWarning: categorical_feature keyword has been found in `params` and will be ignored.\n",
            "Please use categorical_feature argument of the Dataset constructor to pass this parameter.\n",
            "  _log_warning(f'{key} keyword has been found in `params` and will be ignored.\\n'\n",
            "C:\\Users\\Toan\\anaconda3\\envs\\ml_com\\lib\\site-packages\\lightgbm\\basic.py:1513: UserWarning: categorical_feature in param dict is overridden.\n",
            "  _log_warning(f'{cat_alias} in param dict is overridden.')\n"
          ]
        },
        {
          "name": "stdout",
          "output_type": "stream",
          "text": [
            "F1_SCORE:  0.4354 \n",
            "\n",
            "[LightGBM] [Warning] feature_fraction is set=0.7502794725183589, colsample_bytree=1.0 will be ignored. Current value: feature_fraction=0.7502794725183589\n",
            "[LightGBM] [Warning] bagging_fraction is set=0.9481688597338999, subsample=1.0 will be ignored. Current value: bagging_fraction=0.9481688597338999\n"
          ]
        },
        {
          "name": "stderr",
          "output_type": "stream",
          "text": [
            "C:\\Users\\Toan\\anaconda3\\envs\\ml_com\\lib\\site-packages\\lightgbm\\sklearn.py:736: UserWarning: 'verbose' argument is deprecated and will be removed in a future release of LightGBM. Pass 'log_evaluation()' callback via 'callbacks' argument instead.\n",
            "  _log_warning(\"'verbose' argument is deprecated and will be removed in a future release of LightGBM. \"\n",
            "C:\\Users\\Toan\\anaconda3\\envs\\ml_com\\lib\\site-packages\\lightgbm\\basic.py:1487: UserWarning: categorical_feature keyword has been found in `params` and will be ignored.\n",
            "Please use categorical_feature argument of the Dataset constructor to pass this parameter.\n",
            "  _log_warning(f'{key} keyword has been found in `params` and will be ignored.\\n'\n",
            "C:\\Users\\Toan\\anaconda3\\envs\\ml_com\\lib\\site-packages\\lightgbm\\basic.py:1513: UserWarning: categorical_feature in param dict is overridden.\n",
            "  _log_warning(f'{cat_alias} in param dict is overridden.')\n"
          ]
        },
        {
          "name": "stdout",
          "output_type": "stream",
          "text": [
            "F1_SCORE:  0.372 \n",
            "\n",
            "[LightGBM] [Warning] feature_fraction is set=0.7502794725183589, colsample_bytree=1.0 will be ignored. Current value: feature_fraction=0.7502794725183589\n",
            "[LightGBM] [Warning] bagging_fraction is set=0.9481688597338999, subsample=1.0 will be ignored. Current value: bagging_fraction=0.9481688597338999\n"
          ]
        },
        {
          "name": "stderr",
          "output_type": "stream",
          "text": [
            "C:\\Users\\Toan\\anaconda3\\envs\\ml_com\\lib\\site-packages\\lightgbm\\sklearn.py:736: UserWarning: 'verbose' argument is deprecated and will be removed in a future release of LightGBM. Pass 'log_evaluation()' callback via 'callbacks' argument instead.\n",
            "  _log_warning(\"'verbose' argument is deprecated and will be removed in a future release of LightGBM. \"\n",
            "C:\\Users\\Toan\\anaconda3\\envs\\ml_com\\lib\\site-packages\\lightgbm\\basic.py:1487: UserWarning: categorical_feature keyword has been found in `params` and will be ignored.\n",
            "Please use categorical_feature argument of the Dataset constructor to pass this parameter.\n",
            "  _log_warning(f'{key} keyword has been found in `params` and will be ignored.\\n'\n",
            "C:\\Users\\Toan\\anaconda3\\envs\\ml_com\\lib\\site-packages\\lightgbm\\basic.py:1513: UserWarning: categorical_feature in param dict is overridden.\n",
            "  _log_warning(f'{cat_alias} in param dict is overridden.')\n"
          ]
        },
        {
          "name": "stdout",
          "output_type": "stream",
          "text": [
            "F1_SCORE:  0.4754 \n",
            "\n",
            "[LightGBM] [Warning] feature_fraction is set=0.7502794725183589, colsample_bytree=1.0 will be ignored. Current value: feature_fraction=0.7502794725183589\n",
            "[LightGBM] [Warning] bagging_fraction is set=0.9481688597338999, subsample=1.0 will be ignored. Current value: bagging_fraction=0.9481688597338999\n"
          ]
        },
        {
          "name": "stderr",
          "output_type": "stream",
          "text": [
            "C:\\Users\\Toan\\anaconda3\\envs\\ml_com\\lib\\site-packages\\lightgbm\\sklearn.py:736: UserWarning: 'verbose' argument is deprecated and will be removed in a future release of LightGBM. Pass 'log_evaluation()' callback via 'callbacks' argument instead.\n",
            "  _log_warning(\"'verbose' argument is deprecated and will be removed in a future release of LightGBM. \"\n",
            "C:\\Users\\Toan\\anaconda3\\envs\\ml_com\\lib\\site-packages\\lightgbm\\basic.py:1487: UserWarning: categorical_feature keyword has been found in `params` and will be ignored.\n",
            "Please use categorical_feature argument of the Dataset constructor to pass this parameter.\n",
            "  _log_warning(f'{key} keyword has been found in `params` and will be ignored.\\n'\n",
            "C:\\Users\\Toan\\anaconda3\\envs\\ml_com\\lib\\site-packages\\lightgbm\\basic.py:1513: UserWarning: categorical_feature in param dict is overridden.\n",
            "  _log_warning(f'{cat_alias} in param dict is overridden.')\n",
            "\u001b[32m[I 2022-04-18 22:44:32,086]\u001b[0m Trial 23 finished with value: 0.418896367373467 and parameters: {'num_leaves': 9, 'n_estimators': 543, 'learning_rate': 0.24434204810616694, 'feature_fraction': 0.7502794725183589, 'bagging_fraction': 0.9481688597338999}. Best is trial 5 with value: 0.8040849795380097.\u001b[0m\n"
          ]
        },
        {
          "name": "stdout",
          "output_type": "stream",
          "text": [
            "F1_SCORE:  0.448 \n",
            "\n",
            "[LightGBM] [Warning] feature_fraction is set=0.5815521978887462, colsample_bytree=1.0 will be ignored. Current value: feature_fraction=0.5815521978887462\n",
            "[LightGBM] [Warning] bagging_fraction is set=0.8649964067418328, subsample=1.0 will be ignored. Current value: bagging_fraction=0.8649964067418328\n"
          ]
        },
        {
          "name": "stderr",
          "output_type": "stream",
          "text": [
            "C:\\Users\\Toan\\anaconda3\\envs\\ml_com\\lib\\site-packages\\lightgbm\\sklearn.py:736: UserWarning: 'verbose' argument is deprecated and will be removed in a future release of LightGBM. Pass 'log_evaluation()' callback via 'callbacks' argument instead.\n",
            "  _log_warning(\"'verbose' argument is deprecated and will be removed in a future release of LightGBM. \"\n",
            "C:\\Users\\Toan\\anaconda3\\envs\\ml_com\\lib\\site-packages\\lightgbm\\basic.py:1487: UserWarning: categorical_feature keyword has been found in `params` and will be ignored.\n",
            "Please use categorical_feature argument of the Dataset constructor to pass this parameter.\n",
            "  _log_warning(f'{key} keyword has been found in `params` and will be ignored.\\n'\n",
            "C:\\Users\\Toan\\anaconda3\\envs\\ml_com\\lib\\site-packages\\lightgbm\\basic.py:1513: UserWarning: categorical_feature in param dict is overridden.\n",
            "  _log_warning(f'{cat_alias} in param dict is overridden.')\n"
          ]
        },
        {
          "name": "stdout",
          "output_type": "stream",
          "text": [
            "F1_SCORE:  0.8032 \n",
            "\n",
            "[LightGBM] [Warning] feature_fraction is set=0.5815521978887462, colsample_bytree=1.0 will be ignored. Current value: feature_fraction=0.5815521978887462\n",
            "[LightGBM] [Warning] bagging_fraction is set=0.8649964067418328, subsample=1.0 will be ignored. Current value: bagging_fraction=0.8649964067418328\n"
          ]
        },
        {
          "name": "stderr",
          "output_type": "stream",
          "text": [
            "C:\\Users\\Toan\\anaconda3\\envs\\ml_com\\lib\\site-packages\\lightgbm\\sklearn.py:736: UserWarning: 'verbose' argument is deprecated and will be removed in a future release of LightGBM. Pass 'log_evaluation()' callback via 'callbacks' argument instead.\n",
            "  _log_warning(\"'verbose' argument is deprecated and will be removed in a future release of LightGBM. \"\n",
            "C:\\Users\\Toan\\anaconda3\\envs\\ml_com\\lib\\site-packages\\lightgbm\\basic.py:1487: UserWarning: categorical_feature keyword has been found in `params` and will be ignored.\n",
            "Please use categorical_feature argument of the Dataset constructor to pass this parameter.\n",
            "  _log_warning(f'{key} keyword has been found in `params` and will be ignored.\\n'\n",
            "C:\\Users\\Toan\\anaconda3\\envs\\ml_com\\lib\\site-packages\\lightgbm\\basic.py:1513: UserWarning: categorical_feature in param dict is overridden.\n",
            "  _log_warning(f'{cat_alias} in param dict is overridden.')\n"
          ]
        },
        {
          "name": "stdout",
          "output_type": "stream",
          "text": [
            "F1_SCORE:  0.775 \n",
            "\n",
            "[LightGBM] [Warning] feature_fraction is set=0.5815521978887462, colsample_bytree=1.0 will be ignored. Current value: feature_fraction=0.5815521978887462\n",
            "[LightGBM] [Warning] bagging_fraction is set=0.8649964067418328, subsample=1.0 will be ignored. Current value: bagging_fraction=0.8649964067418328\n"
          ]
        },
        {
          "name": "stderr",
          "output_type": "stream",
          "text": [
            "C:\\Users\\Toan\\anaconda3\\envs\\ml_com\\lib\\site-packages\\lightgbm\\sklearn.py:736: UserWarning: 'verbose' argument is deprecated and will be removed in a future release of LightGBM. Pass 'log_evaluation()' callback via 'callbacks' argument instead.\n",
            "  _log_warning(\"'verbose' argument is deprecated and will be removed in a future release of LightGBM. \"\n",
            "C:\\Users\\Toan\\anaconda3\\envs\\ml_com\\lib\\site-packages\\lightgbm\\basic.py:1487: UserWarning: categorical_feature keyword has been found in `params` and will be ignored.\n",
            "Please use categorical_feature argument of the Dataset constructor to pass this parameter.\n",
            "  _log_warning(f'{key} keyword has been found in `params` and will be ignored.\\n'\n",
            "C:\\Users\\Toan\\anaconda3\\envs\\ml_com\\lib\\site-packages\\lightgbm\\basic.py:1513: UserWarning: categorical_feature in param dict is overridden.\n",
            "  _log_warning(f'{cat_alias} in param dict is overridden.')\n"
          ]
        },
        {
          "name": "stdout",
          "output_type": "stream",
          "text": [
            "F1_SCORE:  0.8394 \n",
            "\n",
            "[LightGBM] [Warning] feature_fraction is set=0.5815521978887462, colsample_bytree=1.0 will be ignored. Current value: feature_fraction=0.5815521978887462\n",
            "[LightGBM] [Warning] bagging_fraction is set=0.8649964067418328, subsample=1.0 will be ignored. Current value: bagging_fraction=0.8649964067418328\n"
          ]
        },
        {
          "name": "stderr",
          "output_type": "stream",
          "text": [
            "C:\\Users\\Toan\\anaconda3\\envs\\ml_com\\lib\\site-packages\\lightgbm\\sklearn.py:736: UserWarning: 'verbose' argument is deprecated and will be removed in a future release of LightGBM. Pass 'log_evaluation()' callback via 'callbacks' argument instead.\n",
            "  _log_warning(\"'verbose' argument is deprecated and will be removed in a future release of LightGBM. \"\n",
            "C:\\Users\\Toan\\anaconda3\\envs\\ml_com\\lib\\site-packages\\lightgbm\\basic.py:1487: UserWarning: categorical_feature keyword has been found in `params` and will be ignored.\n",
            "Please use categorical_feature argument of the Dataset constructor to pass this parameter.\n",
            "  _log_warning(f'{key} keyword has been found in `params` and will be ignored.\\n'\n",
            "C:\\Users\\Toan\\anaconda3\\envs\\ml_com\\lib\\site-packages\\lightgbm\\basic.py:1513: UserWarning: categorical_feature in param dict is overridden.\n",
            "  _log_warning(f'{cat_alias} in param dict is overridden.')\n"
          ]
        },
        {
          "name": "stdout",
          "output_type": "stream",
          "text": [
            "F1_SCORE:  0.7991 \n",
            "\n",
            "[LightGBM] [Warning] feature_fraction is set=0.5815521978887462, colsample_bytree=1.0 will be ignored. Current value: feature_fraction=0.5815521978887462\n",
            "[LightGBM] [Warning] bagging_fraction is set=0.8649964067418328, subsample=1.0 will be ignored. Current value: bagging_fraction=0.8649964067418328\n"
          ]
        },
        {
          "name": "stderr",
          "output_type": "stream",
          "text": [
            "C:\\Users\\Toan\\anaconda3\\envs\\ml_com\\lib\\site-packages\\lightgbm\\sklearn.py:736: UserWarning: 'verbose' argument is deprecated and will be removed in a future release of LightGBM. Pass 'log_evaluation()' callback via 'callbacks' argument instead.\n",
            "  _log_warning(\"'verbose' argument is deprecated and will be removed in a future release of LightGBM. \"\n",
            "C:\\Users\\Toan\\anaconda3\\envs\\ml_com\\lib\\site-packages\\lightgbm\\basic.py:1487: UserWarning: categorical_feature keyword has been found in `params` and will be ignored.\n",
            "Please use categorical_feature argument of the Dataset constructor to pass this parameter.\n",
            "  _log_warning(f'{key} keyword has been found in `params` and will be ignored.\\n'\n",
            "C:\\Users\\Toan\\anaconda3\\envs\\ml_com\\lib\\site-packages\\lightgbm\\basic.py:1513: UserWarning: categorical_feature in param dict is overridden.\n",
            "  _log_warning(f'{cat_alias} in param dict is overridden.')\n",
            "\u001b[32m[I 2022-04-18 22:46:05,956]\u001b[0m Trial 24 finished with value: 0.80220349216852 and parameters: {'num_leaves': 11, 'n_estimators': 489, 'learning_rate': 0.0785759144056299, 'feature_fraction': 0.5815521978887462, 'bagging_fraction': 0.8649964067418328}. Best is trial 5 with value: 0.8040849795380097.\u001b[0m\n"
          ]
        },
        {
          "name": "stdout",
          "output_type": "stream",
          "text": [
            "F1_SCORE:  0.7944 \n",
            "\n",
            "[LightGBM] [Warning] feature_fraction is set=0.6584347492981538, colsample_bytree=1.0 will be ignored. Current value: feature_fraction=0.6584347492981538\n",
            "[LightGBM] [Warning] bagging_fraction is set=0.8013571251285241, subsample=1.0 will be ignored. Current value: bagging_fraction=0.8013571251285241\n"
          ]
        },
        {
          "name": "stderr",
          "output_type": "stream",
          "text": [
            "C:\\Users\\Toan\\anaconda3\\envs\\ml_com\\lib\\site-packages\\lightgbm\\sklearn.py:736: UserWarning: 'verbose' argument is deprecated and will be removed in a future release of LightGBM. Pass 'log_evaluation()' callback via 'callbacks' argument instead.\n",
            "  _log_warning(\"'verbose' argument is deprecated and will be removed in a future release of LightGBM. \"\n",
            "C:\\Users\\Toan\\anaconda3\\envs\\ml_com\\lib\\site-packages\\lightgbm\\basic.py:1487: UserWarning: categorical_feature keyword has been found in `params` and will be ignored.\n",
            "Please use categorical_feature argument of the Dataset constructor to pass this parameter.\n",
            "  _log_warning(f'{key} keyword has been found in `params` and will be ignored.\\n'\n",
            "C:\\Users\\Toan\\anaconda3\\envs\\ml_com\\lib\\site-packages\\lightgbm\\basic.py:1513: UserWarning: categorical_feature in param dict is overridden.\n",
            "  _log_warning(f'{cat_alias} in param dict is overridden.')\n"
          ]
        },
        {
          "name": "stdout",
          "output_type": "stream",
          "text": [
            "F1_SCORE:  0.5569 \n",
            "\n",
            "[LightGBM] [Warning] feature_fraction is set=0.6584347492981538, colsample_bytree=1.0 will be ignored. Current value: feature_fraction=0.6584347492981538\n",
            "[LightGBM] [Warning] bagging_fraction is set=0.8013571251285241, subsample=1.0 will be ignored. Current value: bagging_fraction=0.8013571251285241\n"
          ]
        },
        {
          "name": "stderr",
          "output_type": "stream",
          "text": [
            "C:\\Users\\Toan\\anaconda3\\envs\\ml_com\\lib\\site-packages\\lightgbm\\sklearn.py:736: UserWarning: 'verbose' argument is deprecated and will be removed in a future release of LightGBM. Pass 'log_evaluation()' callback via 'callbacks' argument instead.\n",
            "  _log_warning(\"'verbose' argument is deprecated and will be removed in a future release of LightGBM. \"\n",
            "C:\\Users\\Toan\\anaconda3\\envs\\ml_com\\lib\\site-packages\\lightgbm\\basic.py:1487: UserWarning: categorical_feature keyword has been found in `params` and will be ignored.\n",
            "Please use categorical_feature argument of the Dataset constructor to pass this parameter.\n",
            "  _log_warning(f'{key} keyword has been found in `params` and will be ignored.\\n'\n",
            "C:\\Users\\Toan\\anaconda3\\envs\\ml_com\\lib\\site-packages\\lightgbm\\basic.py:1513: UserWarning: categorical_feature in param dict is overridden.\n",
            "  _log_warning(f'{cat_alias} in param dict is overridden.')\n"
          ]
        },
        {
          "name": "stdout",
          "output_type": "stream",
          "text": [
            "F1_SCORE:  0.5783 \n",
            "\n",
            "[LightGBM] [Warning] feature_fraction is set=0.6584347492981538, colsample_bytree=1.0 will be ignored. Current value: feature_fraction=0.6584347492981538\n",
            "[LightGBM] [Warning] bagging_fraction is set=0.8013571251285241, subsample=1.0 will be ignored. Current value: bagging_fraction=0.8013571251285241\n"
          ]
        },
        {
          "name": "stderr",
          "output_type": "stream",
          "text": [
            "C:\\Users\\Toan\\anaconda3\\envs\\ml_com\\lib\\site-packages\\lightgbm\\sklearn.py:736: UserWarning: 'verbose' argument is deprecated and will be removed in a future release of LightGBM. Pass 'log_evaluation()' callback via 'callbacks' argument instead.\n",
            "  _log_warning(\"'verbose' argument is deprecated and will be removed in a future release of LightGBM. \"\n",
            "C:\\Users\\Toan\\anaconda3\\envs\\ml_com\\lib\\site-packages\\lightgbm\\basic.py:1487: UserWarning: categorical_feature keyword has been found in `params` and will be ignored.\n",
            "Please use categorical_feature argument of the Dataset constructor to pass this parameter.\n",
            "  _log_warning(f'{key} keyword has been found in `params` and will be ignored.\\n'\n",
            "C:\\Users\\Toan\\anaconda3\\envs\\ml_com\\lib\\site-packages\\lightgbm\\basic.py:1513: UserWarning: categorical_feature in param dict is overridden.\n",
            "  _log_warning(f'{cat_alias} in param dict is overridden.')\n"
          ]
        },
        {
          "name": "stdout",
          "output_type": "stream",
          "text": [
            "F1_SCORE:  0.5972 \n",
            "\n",
            "[LightGBM] [Warning] feature_fraction is set=0.6584347492981538, colsample_bytree=1.0 will be ignored. Current value: feature_fraction=0.6584347492981538\n",
            "[LightGBM] [Warning] bagging_fraction is set=0.8013571251285241, subsample=1.0 will be ignored. Current value: bagging_fraction=0.8013571251285241\n"
          ]
        },
        {
          "name": "stderr",
          "output_type": "stream",
          "text": [
            "C:\\Users\\Toan\\anaconda3\\envs\\ml_com\\lib\\site-packages\\lightgbm\\sklearn.py:736: UserWarning: 'verbose' argument is deprecated and will be removed in a future release of LightGBM. Pass 'log_evaluation()' callback via 'callbacks' argument instead.\n",
            "  _log_warning(\"'verbose' argument is deprecated and will be removed in a future release of LightGBM. \"\n",
            "C:\\Users\\Toan\\anaconda3\\envs\\ml_com\\lib\\site-packages\\lightgbm\\basic.py:1487: UserWarning: categorical_feature keyword has been found in `params` and will be ignored.\n",
            "Please use categorical_feature argument of the Dataset constructor to pass this parameter.\n",
            "  _log_warning(f'{key} keyword has been found in `params` and will be ignored.\\n'\n",
            "C:\\Users\\Toan\\anaconda3\\envs\\ml_com\\lib\\site-packages\\lightgbm\\basic.py:1513: UserWarning: categorical_feature in param dict is overridden.\n",
            "  _log_warning(f'{cat_alias} in param dict is overridden.')\n"
          ]
        },
        {
          "name": "stdout",
          "output_type": "stream",
          "text": [
            "F1_SCORE:  0.599 \n",
            "\n",
            "[LightGBM] [Warning] feature_fraction is set=0.6584347492981538, colsample_bytree=1.0 will be ignored. Current value: feature_fraction=0.6584347492981538\n",
            "[LightGBM] [Warning] bagging_fraction is set=0.8013571251285241, subsample=1.0 will be ignored. Current value: bagging_fraction=0.8013571251285241\n"
          ]
        },
        {
          "name": "stderr",
          "output_type": "stream",
          "text": [
            "C:\\Users\\Toan\\anaconda3\\envs\\ml_com\\lib\\site-packages\\lightgbm\\sklearn.py:736: UserWarning: 'verbose' argument is deprecated and will be removed in a future release of LightGBM. Pass 'log_evaluation()' callback via 'callbacks' argument instead.\n",
            "  _log_warning(\"'verbose' argument is deprecated and will be removed in a future release of LightGBM. \"\n",
            "C:\\Users\\Toan\\anaconda3\\envs\\ml_com\\lib\\site-packages\\lightgbm\\basic.py:1487: UserWarning: categorical_feature keyword has been found in `params` and will be ignored.\n",
            "Please use categorical_feature argument of the Dataset constructor to pass this parameter.\n",
            "  _log_warning(f'{key} keyword has been found in `params` and will be ignored.\\n'\n",
            "C:\\Users\\Toan\\anaconda3\\envs\\ml_com\\lib\\site-packages\\lightgbm\\basic.py:1513: UserWarning: categorical_feature in param dict is overridden.\n",
            "  _log_warning(f'{cat_alias} in param dict is overridden.')\n",
            "\u001b[32m[I 2022-04-18 22:46:57,610]\u001b[0m Trial 25 finished with value: 0.5745137128452412 and parameters: {'num_leaves': 9, 'n_estimators': 290, 'learning_rate': 0.20967770737692124, 'feature_fraction': 0.6584347492981538, 'bagging_fraction': 0.8013571251285241}. Best is trial 5 with value: 0.8040849795380097.\u001b[0m\n"
          ]
        },
        {
          "name": "stdout",
          "output_type": "stream",
          "text": [
            "F1_SCORE:  0.5412 \n",
            "\n",
            "[LightGBM] [Warning] feature_fraction is set=0.5124329060751593, colsample_bytree=1.0 will be ignored. Current value: feature_fraction=0.5124329060751593\n",
            "[LightGBM] [Warning] bagging_fraction is set=0.9496190586771038, subsample=1.0 will be ignored. Current value: bagging_fraction=0.9496190586771038\n"
          ]
        },
        {
          "name": "stderr",
          "output_type": "stream",
          "text": [
            "C:\\Users\\Toan\\anaconda3\\envs\\ml_com\\lib\\site-packages\\lightgbm\\sklearn.py:736: UserWarning: 'verbose' argument is deprecated and will be removed in a future release of LightGBM. Pass 'log_evaluation()' callback via 'callbacks' argument instead.\n",
            "  _log_warning(\"'verbose' argument is deprecated and will be removed in a future release of LightGBM. \"\n",
            "C:\\Users\\Toan\\anaconda3\\envs\\ml_com\\lib\\site-packages\\lightgbm\\basic.py:1487: UserWarning: categorical_feature keyword has been found in `params` and will be ignored.\n",
            "Please use categorical_feature argument of the Dataset constructor to pass this parameter.\n",
            "  _log_warning(f'{key} keyword has been found in `params` and will be ignored.\\n'\n",
            "C:\\Users\\Toan\\anaconda3\\envs\\ml_com\\lib\\site-packages\\lightgbm\\basic.py:1513: UserWarning: categorical_feature in param dict is overridden.\n",
            "  _log_warning(f'{cat_alias} in param dict is overridden.')\n"
          ]
        },
        {
          "name": "stdout",
          "output_type": "stream",
          "text": [
            "F1_SCORE:  0.3149 \n",
            "\n",
            "[LightGBM] [Warning] feature_fraction is set=0.5124329060751593, colsample_bytree=1.0 will be ignored. Current value: feature_fraction=0.5124329060751593\n",
            "[LightGBM] [Warning] bagging_fraction is set=0.9496190586771038, subsample=1.0 will be ignored. Current value: bagging_fraction=0.9496190586771038\n"
          ]
        },
        {
          "name": "stderr",
          "output_type": "stream",
          "text": [
            "C:\\Users\\Toan\\anaconda3\\envs\\ml_com\\lib\\site-packages\\lightgbm\\sklearn.py:736: UserWarning: 'verbose' argument is deprecated and will be removed in a future release of LightGBM. Pass 'log_evaluation()' callback via 'callbacks' argument instead.\n",
            "  _log_warning(\"'verbose' argument is deprecated and will be removed in a future release of LightGBM. \"\n",
            "C:\\Users\\Toan\\anaconda3\\envs\\ml_com\\lib\\site-packages\\lightgbm\\basic.py:1487: UserWarning: categorical_feature keyword has been found in `params` and will be ignored.\n",
            "Please use categorical_feature argument of the Dataset constructor to pass this parameter.\n",
            "  _log_warning(f'{key} keyword has been found in `params` and will be ignored.\\n'\n",
            "C:\\Users\\Toan\\anaconda3\\envs\\ml_com\\lib\\site-packages\\lightgbm\\basic.py:1513: UserWarning: categorical_feature in param dict is overridden.\n",
            "  _log_warning(f'{cat_alias} in param dict is overridden.')\n"
          ]
        },
        {
          "name": "stdout",
          "output_type": "stream",
          "text": [
            "F1_SCORE:  0.2947 \n",
            "\n",
            "[LightGBM] [Warning] feature_fraction is set=0.5124329060751593, colsample_bytree=1.0 will be ignored. Current value: feature_fraction=0.5124329060751593\n",
            "[LightGBM] [Warning] bagging_fraction is set=0.9496190586771038, subsample=1.0 will be ignored. Current value: bagging_fraction=0.9496190586771038\n"
          ]
        },
        {
          "name": "stderr",
          "output_type": "stream",
          "text": [
            "C:\\Users\\Toan\\anaconda3\\envs\\ml_com\\lib\\site-packages\\lightgbm\\sklearn.py:736: UserWarning: 'verbose' argument is deprecated and will be removed in a future release of LightGBM. Pass 'log_evaluation()' callback via 'callbacks' argument instead.\n",
            "  _log_warning(\"'verbose' argument is deprecated and will be removed in a future release of LightGBM. \"\n",
            "C:\\Users\\Toan\\anaconda3\\envs\\ml_com\\lib\\site-packages\\lightgbm\\basic.py:1487: UserWarning: categorical_feature keyword has been found in `params` and will be ignored.\n",
            "Please use categorical_feature argument of the Dataset constructor to pass this parameter.\n",
            "  _log_warning(f'{key} keyword has been found in `params` and will be ignored.\\n'\n",
            "C:\\Users\\Toan\\anaconda3\\envs\\ml_com\\lib\\site-packages\\lightgbm\\basic.py:1513: UserWarning: categorical_feature in param dict is overridden.\n",
            "  _log_warning(f'{cat_alias} in param dict is overridden.')\n"
          ]
        },
        {
          "name": "stdout",
          "output_type": "stream",
          "text": [
            "F1_SCORE:  0.2927 \n",
            "\n",
            "[LightGBM] [Warning] feature_fraction is set=0.5124329060751593, colsample_bytree=1.0 will be ignored. Current value: feature_fraction=0.5124329060751593\n",
            "[LightGBM] [Warning] bagging_fraction is set=0.9496190586771038, subsample=1.0 will be ignored. Current value: bagging_fraction=0.9496190586771038\n"
          ]
        },
        {
          "name": "stderr",
          "output_type": "stream",
          "text": [
            "C:\\Users\\Toan\\anaconda3\\envs\\ml_com\\lib\\site-packages\\lightgbm\\sklearn.py:736: UserWarning: 'verbose' argument is deprecated and will be removed in a future release of LightGBM. Pass 'log_evaluation()' callback via 'callbacks' argument instead.\n",
            "  _log_warning(\"'verbose' argument is deprecated and will be removed in a future release of LightGBM. \"\n",
            "C:\\Users\\Toan\\anaconda3\\envs\\ml_com\\lib\\site-packages\\lightgbm\\basic.py:1487: UserWarning: categorical_feature keyword has been found in `params` and will be ignored.\n",
            "Please use categorical_feature argument of the Dataset constructor to pass this parameter.\n",
            "  _log_warning(f'{key} keyword has been found in `params` and will be ignored.\\n'\n",
            "C:\\Users\\Toan\\anaconda3\\envs\\ml_com\\lib\\site-packages\\lightgbm\\basic.py:1513: UserWarning: categorical_feature in param dict is overridden.\n",
            "  _log_warning(f'{cat_alias} in param dict is overridden.')\n"
          ]
        },
        {
          "name": "stdout",
          "output_type": "stream",
          "text": [
            "F1_SCORE:  0.3654 \n",
            "\n",
            "[LightGBM] [Warning] feature_fraction is set=0.5124329060751593, colsample_bytree=1.0 will be ignored. Current value: feature_fraction=0.5124329060751593\n",
            "[LightGBM] [Warning] bagging_fraction is set=0.9496190586771038, subsample=1.0 will be ignored. Current value: bagging_fraction=0.9496190586771038\n"
          ]
        },
        {
          "name": "stderr",
          "output_type": "stream",
          "text": [
            "C:\\Users\\Toan\\anaconda3\\envs\\ml_com\\lib\\site-packages\\lightgbm\\sklearn.py:736: UserWarning: 'verbose' argument is deprecated and will be removed in a future release of LightGBM. Pass 'log_evaluation()' callback via 'callbacks' argument instead.\n",
            "  _log_warning(\"'verbose' argument is deprecated and will be removed in a future release of LightGBM. \"\n",
            "C:\\Users\\Toan\\anaconda3\\envs\\ml_com\\lib\\site-packages\\lightgbm\\basic.py:1487: UserWarning: categorical_feature keyword has been found in `params` and will be ignored.\n",
            "Please use categorical_feature argument of the Dataset constructor to pass this parameter.\n",
            "  _log_warning(f'{key} keyword has been found in `params` and will be ignored.\\n'\n",
            "C:\\Users\\Toan\\anaconda3\\envs\\ml_com\\lib\\site-packages\\lightgbm\\basic.py:1513: UserWarning: categorical_feature in param dict is overridden.\n",
            "  _log_warning(f'{cat_alias} in param dict is overridden.')\n",
            "\u001b[32m[I 2022-04-18 22:48:12,407]\u001b[0m Trial 26 finished with value: 0.31470005918388627 and parameters: {'num_leaves': 8, 'n_estimators': 708, 'learning_rate': 0.372409025403322, 'feature_fraction': 0.5124329060751593, 'bagging_fraction': 0.9496190586771038}. Best is trial 5 with value: 0.8040849795380097.\u001b[0m\n"
          ]
        },
        {
          "name": "stdout",
          "output_type": "stream",
          "text": [
            "F1_SCORE:  0.3059 \n",
            "\n",
            "[LightGBM] [Warning] feature_fraction is set=0.6291640046314946, colsample_bytree=1.0 will be ignored. Current value: feature_fraction=0.6291640046314946\n",
            "[LightGBM] [Warning] bagging_fraction is set=0.8640892830430873, subsample=1.0 will be ignored. Current value: bagging_fraction=0.8640892830430873\n"
          ]
        },
        {
          "name": "stderr",
          "output_type": "stream",
          "text": [
            "C:\\Users\\Toan\\anaconda3\\envs\\ml_com\\lib\\site-packages\\lightgbm\\sklearn.py:736: UserWarning: 'verbose' argument is deprecated and will be removed in a future release of LightGBM. Pass 'log_evaluation()' callback via 'callbacks' argument instead.\n",
            "  _log_warning(\"'verbose' argument is deprecated and will be removed in a future release of LightGBM. \"\n",
            "C:\\Users\\Toan\\anaconda3\\envs\\ml_com\\lib\\site-packages\\lightgbm\\basic.py:1487: UserWarning: categorical_feature keyword has been found in `params` and will be ignored.\n",
            "Please use categorical_feature argument of the Dataset constructor to pass this parameter.\n",
            "  _log_warning(f'{key} keyword has been found in `params` and will be ignored.\\n'\n",
            "C:\\Users\\Toan\\anaconda3\\envs\\ml_com\\lib\\site-packages\\lightgbm\\basic.py:1513: UserWarning: categorical_feature in param dict is overridden.\n",
            "  _log_warning(f'{cat_alias} in param dict is overridden.')\n"
          ]
        },
        {
          "name": "stdout",
          "output_type": "stream",
          "text": [
            "F1_SCORE:  0.7913 \n",
            "\n",
            "[LightGBM] [Warning] feature_fraction is set=0.6291640046314946, colsample_bytree=1.0 will be ignored. Current value: feature_fraction=0.6291640046314946\n",
            "[LightGBM] [Warning] bagging_fraction is set=0.8640892830430873, subsample=1.0 will be ignored. Current value: bagging_fraction=0.8640892830430873\n"
          ]
        },
        {
          "name": "stderr",
          "output_type": "stream",
          "text": [
            "C:\\Users\\Toan\\anaconda3\\envs\\ml_com\\lib\\site-packages\\lightgbm\\sklearn.py:736: UserWarning: 'verbose' argument is deprecated and will be removed in a future release of LightGBM. Pass 'log_evaluation()' callback via 'callbacks' argument instead.\n",
            "  _log_warning(\"'verbose' argument is deprecated and will be removed in a future release of LightGBM. \"\n",
            "C:\\Users\\Toan\\anaconda3\\envs\\ml_com\\lib\\site-packages\\lightgbm\\basic.py:1487: UserWarning: categorical_feature keyword has been found in `params` and will be ignored.\n",
            "Please use categorical_feature argument of the Dataset constructor to pass this parameter.\n",
            "  _log_warning(f'{key} keyword has been found in `params` and will be ignored.\\n'\n",
            "C:\\Users\\Toan\\anaconda3\\envs\\ml_com\\lib\\site-packages\\lightgbm\\basic.py:1513: UserWarning: categorical_feature in param dict is overridden.\n",
            "  _log_warning(f'{cat_alias} in param dict is overridden.')\n"
          ]
        },
        {
          "name": "stdout",
          "output_type": "stream",
          "text": [
            "F1_SCORE:  0.7657 \n",
            "\n",
            "[LightGBM] [Warning] feature_fraction is set=0.6291640046314946, colsample_bytree=1.0 will be ignored. Current value: feature_fraction=0.6291640046314946\n",
            "[LightGBM] [Warning] bagging_fraction is set=0.8640892830430873, subsample=1.0 will be ignored. Current value: bagging_fraction=0.8640892830430873\n"
          ]
        },
        {
          "name": "stderr",
          "output_type": "stream",
          "text": [
            "C:\\Users\\Toan\\anaconda3\\envs\\ml_com\\lib\\site-packages\\lightgbm\\sklearn.py:736: UserWarning: 'verbose' argument is deprecated and will be removed in a future release of LightGBM. Pass 'log_evaluation()' callback via 'callbacks' argument instead.\n",
            "  _log_warning(\"'verbose' argument is deprecated and will be removed in a future release of LightGBM. \"\n",
            "C:\\Users\\Toan\\anaconda3\\envs\\ml_com\\lib\\site-packages\\lightgbm\\basic.py:1487: UserWarning: categorical_feature keyword has been found in `params` and will be ignored.\n",
            "Please use categorical_feature argument of the Dataset constructor to pass this parameter.\n",
            "  _log_warning(f'{key} keyword has been found in `params` and will be ignored.\\n'\n",
            "C:\\Users\\Toan\\anaconda3\\envs\\ml_com\\lib\\site-packages\\lightgbm\\basic.py:1513: UserWarning: categorical_feature in param dict is overridden.\n",
            "  _log_warning(f'{cat_alias} in param dict is overridden.')\n"
          ]
        },
        {
          "name": "stdout",
          "output_type": "stream",
          "text": [
            "F1_SCORE:  0.8395 \n",
            "\n",
            "[LightGBM] [Warning] feature_fraction is set=0.6291640046314946, colsample_bytree=1.0 will be ignored. Current value: feature_fraction=0.6291640046314946\n",
            "[LightGBM] [Warning] bagging_fraction is set=0.8640892830430873, subsample=1.0 will be ignored. Current value: bagging_fraction=0.8640892830430873\n"
          ]
        },
        {
          "name": "stderr",
          "output_type": "stream",
          "text": [
            "C:\\Users\\Toan\\anaconda3\\envs\\ml_com\\lib\\site-packages\\lightgbm\\sklearn.py:736: UserWarning: 'verbose' argument is deprecated and will be removed in a future release of LightGBM. Pass 'log_evaluation()' callback via 'callbacks' argument instead.\n",
            "  _log_warning(\"'verbose' argument is deprecated and will be removed in a future release of LightGBM. \"\n",
            "C:\\Users\\Toan\\anaconda3\\envs\\ml_com\\lib\\site-packages\\lightgbm\\basic.py:1487: UserWarning: categorical_feature keyword has been found in `params` and will be ignored.\n",
            "Please use categorical_feature argument of the Dataset constructor to pass this parameter.\n",
            "  _log_warning(f'{key} keyword has been found in `params` and will be ignored.\\n'\n",
            "C:\\Users\\Toan\\anaconda3\\envs\\ml_com\\lib\\site-packages\\lightgbm\\basic.py:1513: UserWarning: categorical_feature in param dict is overridden.\n",
            "  _log_warning(f'{cat_alias} in param dict is overridden.')\n"
          ]
        },
        {
          "name": "stdout",
          "output_type": "stream",
          "text": [
            "F1_SCORE:  0.8038 \n",
            "\n",
            "[LightGBM] [Warning] feature_fraction is set=0.6291640046314946, colsample_bytree=1.0 will be ignored. Current value: feature_fraction=0.6291640046314946\n",
            "[LightGBM] [Warning] bagging_fraction is set=0.8640892830430873, subsample=1.0 will be ignored. Current value: bagging_fraction=0.8640892830430873\n"
          ]
        },
        {
          "name": "stderr",
          "output_type": "stream",
          "text": [
            "C:\\Users\\Toan\\anaconda3\\envs\\ml_com\\lib\\site-packages\\lightgbm\\sklearn.py:736: UserWarning: 'verbose' argument is deprecated and will be removed in a future release of LightGBM. Pass 'log_evaluation()' callback via 'callbacks' argument instead.\n",
            "  _log_warning(\"'verbose' argument is deprecated and will be removed in a future release of LightGBM. \"\n",
            "C:\\Users\\Toan\\anaconda3\\envs\\ml_com\\lib\\site-packages\\lightgbm\\basic.py:1487: UserWarning: categorical_feature keyword has been found in `params` and will be ignored.\n",
            "Please use categorical_feature argument of the Dataset constructor to pass this parameter.\n",
            "  _log_warning(f'{key} keyword has been found in `params` and will be ignored.\\n'\n",
            "C:\\Users\\Toan\\anaconda3\\envs\\ml_com\\lib\\site-packages\\lightgbm\\basic.py:1513: UserWarning: categorical_feature in param dict is overridden.\n",
            "  _log_warning(f'{cat_alias} in param dict is overridden.')\n",
            "\u001b[32m[I 2022-04-18 22:49:07,420]\u001b[0m Trial 27 finished with value: 0.7959171731184218 and parameters: {'num_leaves': 6, 'n_estimators': 314, 'learning_rate': 0.0960699934154885, 'feature_fraction': 0.6291640046314946, 'bagging_fraction': 0.8640892830430873}. Best is trial 5 with value: 0.8040849795380097.\u001b[0m\n"
          ]
        },
        {
          "name": "stdout",
          "output_type": "stream",
          "text": [
            "F1_SCORE:  0.7794 \n",
            "\n",
            "[LightGBM] [Warning] feature_fraction is set=0.7014980332786888, colsample_bytree=1.0 will be ignored. Current value: feature_fraction=0.7014980332786888\n",
            "[LightGBM] [Warning] bagging_fraction is set=0.7417891306939, subsample=1.0 will be ignored. Current value: bagging_fraction=0.7417891306939\n"
          ]
        },
        {
          "name": "stderr",
          "output_type": "stream",
          "text": [
            "C:\\Users\\Toan\\anaconda3\\envs\\ml_com\\lib\\site-packages\\lightgbm\\sklearn.py:736: UserWarning: 'verbose' argument is deprecated and will be removed in a future release of LightGBM. Pass 'log_evaluation()' callback via 'callbacks' argument instead.\n",
            "  _log_warning(\"'verbose' argument is deprecated and will be removed in a future release of LightGBM. \"\n",
            "C:\\Users\\Toan\\anaconda3\\envs\\ml_com\\lib\\site-packages\\lightgbm\\basic.py:1487: UserWarning: categorical_feature keyword has been found in `params` and will be ignored.\n",
            "Please use categorical_feature argument of the Dataset constructor to pass this parameter.\n",
            "  _log_warning(f'{key} keyword has been found in `params` and will be ignored.\\n'\n",
            "C:\\Users\\Toan\\anaconda3\\envs\\ml_com\\lib\\site-packages\\lightgbm\\basic.py:1513: UserWarning: categorical_feature in param dict is overridden.\n",
            "  _log_warning(f'{cat_alias} in param dict is overridden.')\n"
          ]
        },
        {
          "name": "stdout",
          "output_type": "stream",
          "text": [
            "F1_SCORE:  0.2371 \n",
            "\n",
            "[LightGBM] [Warning] feature_fraction is set=0.7014980332786888, colsample_bytree=1.0 will be ignored. Current value: feature_fraction=0.7014980332786888\n",
            "[LightGBM] [Warning] bagging_fraction is set=0.7417891306939, subsample=1.0 will be ignored. Current value: bagging_fraction=0.7417891306939\n"
          ]
        },
        {
          "name": "stderr",
          "output_type": "stream",
          "text": [
            "C:\\Users\\Toan\\anaconda3\\envs\\ml_com\\lib\\site-packages\\lightgbm\\sklearn.py:736: UserWarning: 'verbose' argument is deprecated and will be removed in a future release of LightGBM. Pass 'log_evaluation()' callback via 'callbacks' argument instead.\n",
            "  _log_warning(\"'verbose' argument is deprecated and will be removed in a future release of LightGBM. \"\n",
            "C:\\Users\\Toan\\anaconda3\\envs\\ml_com\\lib\\site-packages\\lightgbm\\basic.py:1487: UserWarning: categorical_feature keyword has been found in `params` and will be ignored.\n",
            "Please use categorical_feature argument of the Dataset constructor to pass this parameter.\n",
            "  _log_warning(f'{key} keyword has been found in `params` and will be ignored.\\n'\n",
            "C:\\Users\\Toan\\anaconda3\\envs\\ml_com\\lib\\site-packages\\lightgbm\\basic.py:1513: UserWarning: categorical_feature in param dict is overridden.\n",
            "  _log_warning(f'{cat_alias} in param dict is overridden.')\n"
          ]
        },
        {
          "name": "stdout",
          "output_type": "stream",
          "text": [
            "F1_SCORE:  0.4139 \n",
            "\n",
            "[LightGBM] [Warning] feature_fraction is set=0.7014980332786888, colsample_bytree=1.0 will be ignored. Current value: feature_fraction=0.7014980332786888\n",
            "[LightGBM] [Warning] bagging_fraction is set=0.7417891306939, subsample=1.0 will be ignored. Current value: bagging_fraction=0.7417891306939\n"
          ]
        },
        {
          "name": "stderr",
          "output_type": "stream",
          "text": [
            "C:\\Users\\Toan\\anaconda3\\envs\\ml_com\\lib\\site-packages\\lightgbm\\sklearn.py:736: UserWarning: 'verbose' argument is deprecated and will be removed in a future release of LightGBM. Pass 'log_evaluation()' callback via 'callbacks' argument instead.\n",
            "  _log_warning(\"'verbose' argument is deprecated and will be removed in a future release of LightGBM. \"\n",
            "C:\\Users\\Toan\\anaconda3\\envs\\ml_com\\lib\\site-packages\\lightgbm\\basic.py:1487: UserWarning: categorical_feature keyword has been found in `params` and will be ignored.\n",
            "Please use categorical_feature argument of the Dataset constructor to pass this parameter.\n",
            "  _log_warning(f'{key} keyword has been found in `params` and will be ignored.\\n'\n",
            "C:\\Users\\Toan\\anaconda3\\envs\\ml_com\\lib\\site-packages\\lightgbm\\basic.py:1513: UserWarning: categorical_feature in param dict is overridden.\n",
            "  _log_warning(f'{cat_alias} in param dict is overridden.')\n"
          ]
        },
        {
          "name": "stdout",
          "output_type": "stream",
          "text": [
            "F1_SCORE:  0.3731 \n",
            "\n",
            "[LightGBM] [Warning] feature_fraction is set=0.7014980332786888, colsample_bytree=1.0 will be ignored. Current value: feature_fraction=0.7014980332786888\n",
            "[LightGBM] [Warning] bagging_fraction is set=0.7417891306939, subsample=1.0 will be ignored. Current value: bagging_fraction=0.7417891306939\n"
          ]
        },
        {
          "name": "stderr",
          "output_type": "stream",
          "text": [
            "C:\\Users\\Toan\\anaconda3\\envs\\ml_com\\lib\\site-packages\\lightgbm\\sklearn.py:736: UserWarning: 'verbose' argument is deprecated and will be removed in a future release of LightGBM. Pass 'log_evaluation()' callback via 'callbacks' argument instead.\n",
            "  _log_warning(\"'verbose' argument is deprecated and will be removed in a future release of LightGBM. \"\n",
            "C:\\Users\\Toan\\anaconda3\\envs\\ml_com\\lib\\site-packages\\lightgbm\\basic.py:1487: UserWarning: categorical_feature keyword has been found in `params` and will be ignored.\n",
            "Please use categorical_feature argument of the Dataset constructor to pass this parameter.\n",
            "  _log_warning(f'{key} keyword has been found in `params` and will be ignored.\\n'\n",
            "C:\\Users\\Toan\\anaconda3\\envs\\ml_com\\lib\\site-packages\\lightgbm\\basic.py:1513: UserWarning: categorical_feature in param dict is overridden.\n",
            "  _log_warning(f'{cat_alias} in param dict is overridden.')\n"
          ]
        },
        {
          "name": "stdout",
          "output_type": "stream",
          "text": [
            "F1_SCORE:  0.2438 \n",
            "\n",
            "[LightGBM] [Warning] feature_fraction is set=0.7014980332786888, colsample_bytree=1.0 will be ignored. Current value: feature_fraction=0.7014980332786888\n",
            "[LightGBM] [Warning] bagging_fraction is set=0.7417891306939, subsample=1.0 will be ignored. Current value: bagging_fraction=0.7417891306939\n"
          ]
        },
        {
          "name": "stderr",
          "output_type": "stream",
          "text": [
            "C:\\Users\\Toan\\anaconda3\\envs\\ml_com\\lib\\site-packages\\lightgbm\\sklearn.py:736: UserWarning: 'verbose' argument is deprecated and will be removed in a future release of LightGBM. Pass 'log_evaluation()' callback via 'callbacks' argument instead.\n",
            "  _log_warning(\"'verbose' argument is deprecated and will be removed in a future release of LightGBM. \"\n",
            "C:\\Users\\Toan\\anaconda3\\envs\\ml_com\\lib\\site-packages\\lightgbm\\basic.py:1487: UserWarning: categorical_feature keyword has been found in `params` and will be ignored.\n",
            "Please use categorical_feature argument of the Dataset constructor to pass this parameter.\n",
            "  _log_warning(f'{key} keyword has been found in `params` and will be ignored.\\n'\n",
            "C:\\Users\\Toan\\anaconda3\\envs\\ml_com\\lib\\site-packages\\lightgbm\\basic.py:1513: UserWarning: categorical_feature in param dict is overridden.\n",
            "  _log_warning(f'{cat_alias} in param dict is overridden.')\n",
            "\u001b[32m[I 2022-04-18 22:50:09,742]\u001b[0m Trial 28 finished with value: 0.30766143524235934 and parameters: {'num_leaves': 11, 'n_estimators': 483, 'learning_rate': 0.632611486821247, 'feature_fraction': 0.7014980332786888, 'bagging_fraction': 0.7417891306939}. Best is trial 5 with value: 0.8040849795380097.\u001b[0m\n"
          ]
        },
        {
          "name": "stdout",
          "output_type": "stream",
          "text": [
            "F1_SCORE:  0.2703 \n",
            "\n",
            "[LightGBM] [Warning] feature_fraction is set=0.4776538885632693, colsample_bytree=1.0 will be ignored. Current value: feature_fraction=0.4776538885632693\n"
          ]
        },
        {
          "name": "stderr",
          "output_type": "stream",
          "text": [
            "C:\\Users\\Toan\\anaconda3\\envs\\ml_com\\lib\\site-packages\\lightgbm\\sklearn.py:736: UserWarning: 'verbose' argument is deprecated and will be removed in a future release of LightGBM. Pass 'log_evaluation()' callback via 'callbacks' argument instead.\n",
            "  _log_warning(\"'verbose' argument is deprecated and will be removed in a future release of LightGBM. \"\n",
            "C:\\Users\\Toan\\anaconda3\\envs\\ml_com\\lib\\site-packages\\lightgbm\\basic.py:1487: UserWarning: categorical_feature keyword has been found in `params` and will be ignored.\n",
            "Please use categorical_feature argument of the Dataset constructor to pass this parameter.\n",
            "  _log_warning(f'{key} keyword has been found in `params` and will be ignored.\\n'\n",
            "C:\\Users\\Toan\\anaconda3\\envs\\ml_com\\lib\\site-packages\\lightgbm\\basic.py:1513: UserWarning: categorical_feature in param dict is overridden.\n",
            "  _log_warning(f'{cat_alias} in param dict is overridden.')\n"
          ]
        },
        {
          "name": "stdout",
          "output_type": "stream",
          "text": [
            "[LightGBM] [Warning] bagging_fraction is set=0.9473386520346981, subsample=1.0 will be ignored. Current value: bagging_fraction=0.9473386520346981\n",
            "F1_SCORE:  0.8029 \n",
            "\n",
            "[LightGBM] [Warning] feature_fraction is set=0.4776538885632693, colsample_bytree=1.0 will be ignored. Current value: feature_fraction=0.4776538885632693\n",
            "[LightGBM] [Warning] bagging_fraction is set=0.9473386520346981, subsample=1.0 will be ignored. Current value: bagging_fraction=0.9473386520346981\n"
          ]
        },
        {
          "name": "stderr",
          "output_type": "stream",
          "text": [
            "C:\\Users\\Toan\\anaconda3\\envs\\ml_com\\lib\\site-packages\\lightgbm\\sklearn.py:736: UserWarning: 'verbose' argument is deprecated and will be removed in a future release of LightGBM. Pass 'log_evaluation()' callback via 'callbacks' argument instead.\n",
            "  _log_warning(\"'verbose' argument is deprecated and will be removed in a future release of LightGBM. \"\n",
            "C:\\Users\\Toan\\anaconda3\\envs\\ml_com\\lib\\site-packages\\lightgbm\\basic.py:1487: UserWarning: categorical_feature keyword has been found in `params` and will be ignored.\n",
            "Please use categorical_feature argument of the Dataset constructor to pass this parameter.\n",
            "  _log_warning(f'{key} keyword has been found in `params` and will be ignored.\\n'\n",
            "C:\\Users\\Toan\\anaconda3\\envs\\ml_com\\lib\\site-packages\\lightgbm\\basic.py:1513: UserWarning: categorical_feature in param dict is overridden.\n",
            "  _log_warning(f'{cat_alias} in param dict is overridden.')\n"
          ]
        },
        {
          "name": "stdout",
          "output_type": "stream",
          "text": [
            "F1_SCORE:  0.7753 \n",
            "\n",
            "[LightGBM] [Warning] feature_fraction is set=0.4776538885632693, colsample_bytree=1.0 will be ignored. Current value: feature_fraction=0.4776538885632693\n",
            "[LightGBM] [Warning] bagging_fraction is set=0.9473386520346981, subsample=1.0 will be ignored. Current value: bagging_fraction=0.9473386520346981\n"
          ]
        },
        {
          "name": "stderr",
          "output_type": "stream",
          "text": [
            "C:\\Users\\Toan\\anaconda3\\envs\\ml_com\\lib\\site-packages\\lightgbm\\sklearn.py:736: UserWarning: 'verbose' argument is deprecated and will be removed in a future release of LightGBM. Pass 'log_evaluation()' callback via 'callbacks' argument instead.\n",
            "  _log_warning(\"'verbose' argument is deprecated and will be removed in a future release of LightGBM. \"\n",
            "C:\\Users\\Toan\\anaconda3\\envs\\ml_com\\lib\\site-packages\\lightgbm\\basic.py:1487: UserWarning: categorical_feature keyword has been found in `params` and will be ignored.\n",
            "Please use categorical_feature argument of the Dataset constructor to pass this parameter.\n",
            "  _log_warning(f'{key} keyword has been found in `params` and will be ignored.\\n'\n",
            "C:\\Users\\Toan\\anaconda3\\envs\\ml_com\\lib\\site-packages\\lightgbm\\basic.py:1513: UserWarning: categorical_feature in param dict is overridden.\n",
            "  _log_warning(f'{cat_alias} in param dict is overridden.')\n"
          ]
        },
        {
          "name": "stdout",
          "output_type": "stream",
          "text": [
            "F1_SCORE:  0.845 \n",
            "\n",
            "[LightGBM] [Warning] feature_fraction is set=0.4776538885632693, colsample_bytree=1.0 will be ignored. Current value: feature_fraction=0.4776538885632693\n",
            "[LightGBM] [Warning] bagging_fraction is set=0.9473386520346981, subsample=1.0 will be ignored. Current value: bagging_fraction=0.9473386520346981\n"
          ]
        },
        {
          "name": "stderr",
          "output_type": "stream",
          "text": [
            "C:\\Users\\Toan\\anaconda3\\envs\\ml_com\\lib\\site-packages\\lightgbm\\sklearn.py:736: UserWarning: 'verbose' argument is deprecated and will be removed in a future release of LightGBM. Pass 'log_evaluation()' callback via 'callbacks' argument instead.\n",
            "  _log_warning(\"'verbose' argument is deprecated and will be removed in a future release of LightGBM. \"\n",
            "C:\\Users\\Toan\\anaconda3\\envs\\ml_com\\lib\\site-packages\\lightgbm\\basic.py:1487: UserWarning: categorical_feature keyword has been found in `params` and will be ignored.\n",
            "Please use categorical_feature argument of the Dataset constructor to pass this parameter.\n",
            "  _log_warning(f'{key} keyword has been found in `params` and will be ignored.\\n'\n",
            "C:\\Users\\Toan\\anaconda3\\envs\\ml_com\\lib\\site-packages\\lightgbm\\basic.py:1513: UserWarning: categorical_feature in param dict is overridden.\n",
            "  _log_warning(f'{cat_alias} in param dict is overridden.')\n"
          ]
        },
        {
          "name": "stdout",
          "output_type": "stream",
          "text": [
            "F1_SCORE:  0.8089 \n",
            "\n",
            "[LightGBM] [Warning] feature_fraction is set=0.4776538885632693, colsample_bytree=1.0 will be ignored. Current value: feature_fraction=0.4776538885632693\n",
            "[LightGBM] [Warning] bagging_fraction is set=0.9473386520346981, subsample=1.0 will be ignored. Current value: bagging_fraction=0.9473386520346981\n"
          ]
        },
        {
          "name": "stderr",
          "output_type": "stream",
          "text": [
            "C:\\Users\\Toan\\anaconda3\\envs\\ml_com\\lib\\site-packages\\lightgbm\\sklearn.py:736: UserWarning: 'verbose' argument is deprecated and will be removed in a future release of LightGBM. Pass 'log_evaluation()' callback via 'callbacks' argument instead.\n",
            "  _log_warning(\"'verbose' argument is deprecated and will be removed in a future release of LightGBM. \"\n",
            "C:\\Users\\Toan\\anaconda3\\envs\\ml_com\\lib\\site-packages\\lightgbm\\basic.py:1487: UserWarning: categorical_feature keyword has been found in `params` and will be ignored.\n",
            "Please use categorical_feature argument of the Dataset constructor to pass this parameter.\n",
            "  _log_warning(f'{key} keyword has been found in `params` and will be ignored.\\n'\n",
            "C:\\Users\\Toan\\anaconda3\\envs\\ml_com\\lib\\site-packages\\lightgbm\\basic.py:1513: UserWarning: categorical_feature in param dict is overridden.\n",
            "  _log_warning(f'{cat_alias} in param dict is overridden.')\n",
            "\u001b[32m[I 2022-04-18 22:52:37,218]\u001b[0m Trial 29 finished with value: 0.8025094329490037 and parameters: {'num_leaves': 10, 'n_estimators': 842, 'learning_rate': 0.06798364930454684, 'feature_fraction': 0.4776538885632693, 'bagging_fraction': 0.9473386520346981}. Best is trial 5 with value: 0.8040849795380097.\u001b[0m\n"
          ]
        },
        {
          "name": "stdout",
          "output_type": "stream",
          "text": [
            "F1_SCORE:  0.7805 \n",
            "\n",
            "[LightGBM] [Warning] feature_fraction is set=0.5592086084201222, colsample_bytree=1.0 will be ignored. Current value: feature_fraction=0.5592086084201222\n",
            "[LightGBM] [Warning] bagging_fraction is set=0.6899893388993091, subsample=1.0 will be ignored. Current value: bagging_fraction=0.6899893388993091\n"
          ]
        },
        {
          "name": "stderr",
          "output_type": "stream",
          "text": [
            "C:\\Users\\Toan\\anaconda3\\envs\\ml_com\\lib\\site-packages\\lightgbm\\sklearn.py:736: UserWarning: 'verbose' argument is deprecated and will be removed in a future release of LightGBM. Pass 'log_evaluation()' callback via 'callbacks' argument instead.\n",
            "  _log_warning(\"'verbose' argument is deprecated and will be removed in a future release of LightGBM. \"\n",
            "C:\\Users\\Toan\\anaconda3\\envs\\ml_com\\lib\\site-packages\\lightgbm\\basic.py:1487: UserWarning: categorical_feature keyword has been found in `params` and will be ignored.\n",
            "Please use categorical_feature argument of the Dataset constructor to pass this parameter.\n",
            "  _log_warning(f'{key} keyword has been found in `params` and will be ignored.\\n'\n",
            "C:\\Users\\Toan\\anaconda3\\envs\\ml_com\\lib\\site-packages\\lightgbm\\basic.py:1513: UserWarning: categorical_feature in param dict is overridden.\n",
            "  _log_warning(f'{cat_alias} in param dict is overridden.')\n"
          ]
        },
        {
          "name": "stdout",
          "output_type": "stream",
          "text": [
            "F1_SCORE:  0.1293 \n",
            "\n",
            "[LightGBM] [Warning] feature_fraction is set=0.5592086084201222, colsample_bytree=1.0 will be ignored. Current value: feature_fraction=0.5592086084201222\n",
            "[LightGBM] [Warning] bagging_fraction is set=0.6899893388993091, subsample=1.0 will be ignored. Current value: bagging_fraction=0.6899893388993091\n"
          ]
        },
        {
          "name": "stderr",
          "output_type": "stream",
          "text": [
            "C:\\Users\\Toan\\anaconda3\\envs\\ml_com\\lib\\site-packages\\lightgbm\\sklearn.py:736: UserWarning: 'verbose' argument is deprecated and will be removed in a future release of LightGBM. Pass 'log_evaluation()' callback via 'callbacks' argument instead.\n",
            "  _log_warning(\"'verbose' argument is deprecated and will be removed in a future release of LightGBM. \"\n",
            "C:\\Users\\Toan\\anaconda3\\envs\\ml_com\\lib\\site-packages\\lightgbm\\basic.py:1487: UserWarning: categorical_feature keyword has been found in `params` and will be ignored.\n",
            "Please use categorical_feature argument of the Dataset constructor to pass this parameter.\n",
            "  _log_warning(f'{key} keyword has been found in `params` and will be ignored.\\n'\n",
            "C:\\Users\\Toan\\anaconda3\\envs\\ml_com\\lib\\site-packages\\lightgbm\\basic.py:1513: UserWarning: categorical_feature in param dict is overridden.\n",
            "  _log_warning(f'{cat_alias} in param dict is overridden.')\n"
          ]
        },
        {
          "name": "stdout",
          "output_type": "stream",
          "text": [
            "F1_SCORE:  0.447 \n",
            "\n",
            "[LightGBM] [Warning] feature_fraction is set=0.5592086084201222, colsample_bytree=1.0 will be ignored. Current value: feature_fraction=0.5592086084201222\n",
            "[LightGBM] [Warning] bagging_fraction is set=0.6899893388993091, subsample=1.0 will be ignored. Current value: bagging_fraction=0.6899893388993091\n"
          ]
        },
        {
          "name": "stderr",
          "output_type": "stream",
          "text": [
            "C:\\Users\\Toan\\anaconda3\\envs\\ml_com\\lib\\site-packages\\lightgbm\\sklearn.py:736: UserWarning: 'verbose' argument is deprecated and will be removed in a future release of LightGBM. Pass 'log_evaluation()' callback via 'callbacks' argument instead.\n",
            "  _log_warning(\"'verbose' argument is deprecated and will be removed in a future release of LightGBM. \"\n",
            "C:\\Users\\Toan\\anaconda3\\envs\\ml_com\\lib\\site-packages\\lightgbm\\basic.py:1487: UserWarning: categorical_feature keyword has been found in `params` and will be ignored.\n",
            "Please use categorical_feature argument of the Dataset constructor to pass this parameter.\n",
            "  _log_warning(f'{key} keyword has been found in `params` and will be ignored.\\n'\n",
            "C:\\Users\\Toan\\anaconda3\\envs\\ml_com\\lib\\site-packages\\lightgbm\\basic.py:1513: UserWarning: categorical_feature in param dict is overridden.\n",
            "  _log_warning(f'{cat_alias} in param dict is overridden.')\n"
          ]
        },
        {
          "name": "stdout",
          "output_type": "stream",
          "text": [
            "F1_SCORE:  0.3481 \n",
            "\n",
            "[LightGBM] [Warning] feature_fraction is set=0.5592086084201222, colsample_bytree=1.0 will be ignored. Current value: feature_fraction=0.5592086084201222\n",
            "[LightGBM] [Warning] bagging_fraction is set=0.6899893388993091, subsample=1.0 will be ignored. Current value: bagging_fraction=0.6899893388993091\n"
          ]
        },
        {
          "name": "stderr",
          "output_type": "stream",
          "text": [
            "C:\\Users\\Toan\\anaconda3\\envs\\ml_com\\lib\\site-packages\\lightgbm\\sklearn.py:736: UserWarning: 'verbose' argument is deprecated and will be removed in a future release of LightGBM. Pass 'log_evaluation()' callback via 'callbacks' argument instead.\n",
            "  _log_warning(\"'verbose' argument is deprecated and will be removed in a future release of LightGBM. \"\n",
            "C:\\Users\\Toan\\anaconda3\\envs\\ml_com\\lib\\site-packages\\lightgbm\\basic.py:1487: UserWarning: categorical_feature keyword has been found in `params` and will be ignored.\n",
            "Please use categorical_feature argument of the Dataset constructor to pass this parameter.\n",
            "  _log_warning(f'{key} keyword has been found in `params` and will be ignored.\\n'\n",
            "C:\\Users\\Toan\\anaconda3\\envs\\ml_com\\lib\\site-packages\\lightgbm\\basic.py:1513: UserWarning: categorical_feature in param dict is overridden.\n",
            "  _log_warning(f'{cat_alias} in param dict is overridden.')\n"
          ]
        },
        {
          "name": "stdout",
          "output_type": "stream",
          "text": [
            "F1_SCORE:  0.2745 \n",
            "\n",
            "[LightGBM] [Warning] feature_fraction is set=0.5592086084201222, colsample_bytree=1.0 will be ignored. Current value: feature_fraction=0.5592086084201222\n",
            "[LightGBM] [Warning] bagging_fraction is set=0.6899893388993091, subsample=1.0 will be ignored. Current value: bagging_fraction=0.6899893388993091\n"
          ]
        },
        {
          "name": "stderr",
          "output_type": "stream",
          "text": [
            "C:\\Users\\Toan\\anaconda3\\envs\\ml_com\\lib\\site-packages\\lightgbm\\sklearn.py:736: UserWarning: 'verbose' argument is deprecated and will be removed in a future release of LightGBM. Pass 'log_evaluation()' callback via 'callbacks' argument instead.\n",
            "  _log_warning(\"'verbose' argument is deprecated and will be removed in a future release of LightGBM. \"\n",
            "C:\\Users\\Toan\\anaconda3\\envs\\ml_com\\lib\\site-packages\\lightgbm\\basic.py:1487: UserWarning: categorical_feature keyword has been found in `params` and will be ignored.\n",
            "Please use categorical_feature argument of the Dataset constructor to pass this parameter.\n",
            "  _log_warning(f'{key} keyword has been found in `params` and will be ignored.\\n'\n",
            "C:\\Users\\Toan\\anaconda3\\envs\\ml_com\\lib\\site-packages\\lightgbm\\basic.py:1513: UserWarning: categorical_feature in param dict is overridden.\n",
            "  _log_warning(f'{cat_alias} in param dict is overridden.')\n",
            "\u001b[32m[I 2022-04-18 22:54:04,256]\u001b[0m Trial 30 finished with value: 0.27332131730929893 and parameters: {'num_leaves': 9, 'n_estimators': 963, 'learning_rate': 0.9922415952175831, 'feature_fraction': 0.5592086084201222, 'bagging_fraction': 0.6899893388993091}. Best is trial 5 with value: 0.8040849795380097.\u001b[0m\n"
          ]
        },
        {
          "name": "stdout",
          "output_type": "stream",
          "text": [
            "F1_SCORE:  0.1678 \n",
            "\n"
          ]
        },
        {
          "name": "stderr",
          "output_type": "stream",
          "text": [
            "C:\\Users\\Toan\\anaconda3\\envs\\ml_com\\lib\\site-packages\\lightgbm\\sklearn.py:736: UserWarning: 'verbose' argument is deprecated and will be removed in a future release of LightGBM. Pass 'log_evaluation()' callback via 'callbacks' argument instead.\n",
            "  _log_warning(\"'verbose' argument is deprecated and will be removed in a future release of LightGBM. \"\n",
            "C:\\Users\\Toan\\anaconda3\\envs\\ml_com\\lib\\site-packages\\lightgbm\\basic.py:1487: UserWarning: categorical_feature keyword has been found in `params` and will be ignored.\n",
            "Please use categorical_feature argument of the Dataset constructor to pass this parameter.\n",
            "  _log_warning(f'{key} keyword has been found in `params` and will be ignored.\\n'\n",
            "C:\\Users\\Toan\\anaconda3\\envs\\ml_com\\lib\\site-packages\\lightgbm\\basic.py:1513: UserWarning: categorical_feature in param dict is overridden.\n",
            "  _log_warning(f'{cat_alias} in param dict is overridden.')\n"
          ]
        },
        {
          "name": "stdout",
          "output_type": "stream",
          "text": [
            "[LightGBM] [Warning] feature_fraction is set=0.46653837083834476, colsample_bytree=1.0 will be ignored. Current value: feature_fraction=0.46653837083834476\n",
            "[LightGBM] [Warning] bagging_fraction is set=0.944351524470554, subsample=1.0 will be ignored. Current value: bagging_fraction=0.944351524470554\n",
            "F1_SCORE:  0.8018 \n",
            "\n",
            "[LightGBM] [Warning] feature_fraction is set=0.46653837083834476, colsample_bytree=1.0 will be ignored. Current value: feature_fraction=0.46653837083834476\n",
            "[LightGBM] [Warning] bagging_fraction is set=0.944351524470554, subsample=1.0 will be ignored. Current value: bagging_fraction=0.944351524470554\n"
          ]
        },
        {
          "name": "stderr",
          "output_type": "stream",
          "text": [
            "C:\\Users\\Toan\\anaconda3\\envs\\ml_com\\lib\\site-packages\\lightgbm\\sklearn.py:736: UserWarning: 'verbose' argument is deprecated and will be removed in a future release of LightGBM. Pass 'log_evaluation()' callback via 'callbacks' argument instead.\n",
            "  _log_warning(\"'verbose' argument is deprecated and will be removed in a future release of LightGBM. \"\n",
            "C:\\Users\\Toan\\anaconda3\\envs\\ml_com\\lib\\site-packages\\lightgbm\\basic.py:1487: UserWarning: categorical_feature keyword has been found in `params` and will be ignored.\n",
            "Please use categorical_feature argument of the Dataset constructor to pass this parameter.\n",
            "  _log_warning(f'{key} keyword has been found in `params` and will be ignored.\\n'\n",
            "C:\\Users\\Toan\\anaconda3\\envs\\ml_com\\lib\\site-packages\\lightgbm\\basic.py:1513: UserWarning: categorical_feature in param dict is overridden.\n",
            "  _log_warning(f'{cat_alias} in param dict is overridden.')\n"
          ]
        },
        {
          "name": "stdout",
          "output_type": "stream",
          "text": [
            "F1_SCORE:  0.7501 \n",
            "\n",
            "[LightGBM] [Warning] feature_fraction is set=0.46653837083834476, colsample_bytree=1.0 will be ignored. Current value: feature_fraction=0.46653837083834476\n",
            "[LightGBM] [Warning] bagging_fraction is set=0.944351524470554, subsample=1.0 will be ignored. Current value: bagging_fraction=0.944351524470554\n"
          ]
        },
        {
          "name": "stderr",
          "output_type": "stream",
          "text": [
            "C:\\Users\\Toan\\anaconda3\\envs\\ml_com\\lib\\site-packages\\lightgbm\\sklearn.py:736: UserWarning: 'verbose' argument is deprecated and will be removed in a future release of LightGBM. Pass 'log_evaluation()' callback via 'callbacks' argument instead.\n",
            "  _log_warning(\"'verbose' argument is deprecated and will be removed in a future release of LightGBM. \"\n",
            "C:\\Users\\Toan\\anaconda3\\envs\\ml_com\\lib\\site-packages\\lightgbm\\basic.py:1487: UserWarning: categorical_feature keyword has been found in `params` and will be ignored.\n",
            "Please use categorical_feature argument of the Dataset constructor to pass this parameter.\n",
            "  _log_warning(f'{key} keyword has been found in `params` and will be ignored.\\n'\n",
            "C:\\Users\\Toan\\anaconda3\\envs\\ml_com\\lib\\site-packages\\lightgbm\\basic.py:1513: UserWarning: categorical_feature in param dict is overridden.\n",
            "  _log_warning(f'{cat_alias} in param dict is overridden.')\n"
          ]
        },
        {
          "name": "stdout",
          "output_type": "stream",
          "text": [
            "F1_SCORE:  0.832 \n",
            "\n",
            "[LightGBM] [Warning] feature_fraction is set=0.46653837083834476, colsample_bytree=1.0 will be ignored. Current value: feature_fraction=0.46653837083834476\n",
            "[LightGBM] [Warning] bagging_fraction is set=0.944351524470554, subsample=1.0 will be ignored. Current value: bagging_fraction=0.944351524470554\n"
          ]
        },
        {
          "name": "stderr",
          "output_type": "stream",
          "text": [
            "C:\\Users\\Toan\\anaconda3\\envs\\ml_com\\lib\\site-packages\\lightgbm\\sklearn.py:736: UserWarning: 'verbose' argument is deprecated and will be removed in a future release of LightGBM. Pass 'log_evaluation()' callback via 'callbacks' argument instead.\n",
            "  _log_warning(\"'verbose' argument is deprecated and will be removed in a future release of LightGBM. \"\n",
            "C:\\Users\\Toan\\anaconda3\\envs\\ml_com\\lib\\site-packages\\lightgbm\\basic.py:1487: UserWarning: categorical_feature keyword has been found in `params` and will be ignored.\n",
            "Please use categorical_feature argument of the Dataset constructor to pass this parameter.\n",
            "  _log_warning(f'{key} keyword has been found in `params` and will be ignored.\\n'\n",
            "C:\\Users\\Toan\\anaconda3\\envs\\ml_com\\lib\\site-packages\\lightgbm\\basic.py:1513: UserWarning: categorical_feature in param dict is overridden.\n",
            "  _log_warning(f'{cat_alias} in param dict is overridden.')\n"
          ]
        },
        {
          "name": "stdout",
          "output_type": "stream",
          "text": [
            "F1_SCORE:  0.8212 \n",
            "\n",
            "[LightGBM] [Warning] feature_fraction is set=0.46653837083834476, colsample_bytree=1.0 will be ignored. Current value: feature_fraction=0.46653837083834476\n",
            "[LightGBM] [Warning] bagging_fraction is set=0.944351524470554, subsample=1.0 will be ignored. Current value: bagging_fraction=0.944351524470554\n"
          ]
        },
        {
          "name": "stderr",
          "output_type": "stream",
          "text": [
            "C:\\Users\\Toan\\anaconda3\\envs\\ml_com\\lib\\site-packages\\lightgbm\\sklearn.py:736: UserWarning: 'verbose' argument is deprecated and will be removed in a future release of LightGBM. Pass 'log_evaluation()' callback via 'callbacks' argument instead.\n",
            "  _log_warning(\"'verbose' argument is deprecated and will be removed in a future release of LightGBM. \"\n",
            "C:\\Users\\Toan\\anaconda3\\envs\\ml_com\\lib\\site-packages\\lightgbm\\basic.py:1487: UserWarning: categorical_feature keyword has been found in `params` and will be ignored.\n",
            "Please use categorical_feature argument of the Dataset constructor to pass this parameter.\n",
            "  _log_warning(f'{key} keyword has been found in `params` and will be ignored.\\n'\n",
            "C:\\Users\\Toan\\anaconda3\\envs\\ml_com\\lib\\site-packages\\lightgbm\\basic.py:1513: UserWarning: categorical_feature in param dict is overridden.\n",
            "  _log_warning(f'{cat_alias} in param dict is overridden.')\n",
            "\u001b[32m[I 2022-04-18 22:56:19,892]\u001b[0m Trial 31 finished with value: 0.7968593481261431 and parameters: {'num_leaves': 10, 'n_estimators': 789, 'learning_rate': 0.07565390290165155, 'feature_fraction': 0.46653837083834476, 'bagging_fraction': 0.944351524470554}. Best is trial 5 with value: 0.8040849795380097.\u001b[0m\n"
          ]
        },
        {
          "name": "stdout",
          "output_type": "stream",
          "text": [
            "F1_SCORE:  0.7793 \n",
            "\n",
            "[LightGBM] [Warning] feature_fraction is set=0.5033326707290389, colsample_bytree=1.0 will be ignored. Current value: feature_fraction=0.5033326707290389\n",
            "[LightGBM] [Warning] bagging_fraction is set=0.8847709615640202, subsample=1.0 will be ignored. Current value: bagging_fraction=0.8847709615640202\n"
          ]
        },
        {
          "name": "stderr",
          "output_type": "stream",
          "text": [
            "C:\\Users\\Toan\\anaconda3\\envs\\ml_com\\lib\\site-packages\\lightgbm\\sklearn.py:736: UserWarning: 'verbose' argument is deprecated and will be removed in a future release of LightGBM. Pass 'log_evaluation()' callback via 'callbacks' argument instead.\n",
            "  _log_warning(\"'verbose' argument is deprecated and will be removed in a future release of LightGBM. \"\n",
            "C:\\Users\\Toan\\anaconda3\\envs\\ml_com\\lib\\site-packages\\lightgbm\\basic.py:1487: UserWarning: categorical_feature keyword has been found in `params` and will be ignored.\n",
            "Please use categorical_feature argument of the Dataset constructor to pass this parameter.\n",
            "  _log_warning(f'{key} keyword has been found in `params` and will be ignored.\\n'\n",
            "C:\\Users\\Toan\\anaconda3\\envs\\ml_com\\lib\\site-packages\\lightgbm\\basic.py:1513: UserWarning: categorical_feature in param dict is overridden.\n",
            "  _log_warning(f'{cat_alias} in param dict is overridden.')\n"
          ]
        },
        {
          "name": "stdout",
          "output_type": "stream",
          "text": [
            "F1_SCORE:  0.1151 \n",
            "\n",
            "[LightGBM] [Warning] feature_fraction is set=0.5033326707290389, colsample_bytree=1.0 will be ignored. Current value: feature_fraction=0.5033326707290389\n",
            "[LightGBM] [Warning] bagging_fraction is set=0.8847709615640202, subsample=1.0 will be ignored. Current value: bagging_fraction=0.8847709615640202\n"
          ]
        },
        {
          "name": "stderr",
          "output_type": "stream",
          "text": [
            "C:\\Users\\Toan\\anaconda3\\envs\\ml_com\\lib\\site-packages\\lightgbm\\sklearn.py:736: UserWarning: 'verbose' argument is deprecated and will be removed in a future release of LightGBM. Pass 'log_evaluation()' callback via 'callbacks' argument instead.\n",
            "  _log_warning(\"'verbose' argument is deprecated and will be removed in a future release of LightGBM. \"\n",
            "C:\\Users\\Toan\\anaconda3\\envs\\ml_com\\lib\\site-packages\\lightgbm\\basic.py:1487: UserWarning: categorical_feature keyword has been found in `params` and will be ignored.\n",
            "Please use categorical_feature argument of the Dataset constructor to pass this parameter.\n",
            "  _log_warning(f'{key} keyword has been found in `params` and will be ignored.\\n'\n",
            "C:\\Users\\Toan\\anaconda3\\envs\\ml_com\\lib\\site-packages\\lightgbm\\basic.py:1513: UserWarning: categorical_feature in param dict is overridden.\n",
            "  _log_warning(f'{cat_alias} in param dict is overridden.')\n"
          ]
        },
        {
          "name": "stdout",
          "output_type": "stream",
          "text": [
            "F1_SCORE:  0.3916 \n",
            "\n",
            "[LightGBM] [Warning] feature_fraction is set=0.5033326707290389, colsample_bytree=1.0 will be ignored. Current value: feature_fraction=0.5033326707290389\n",
            "[LightGBM] [Warning] bagging_fraction is set=0.8847709615640202, subsample=1.0 will be ignored. Current value: bagging_fraction=0.8847709615640202\n"
          ]
        },
        {
          "name": "stderr",
          "output_type": "stream",
          "text": [
            "C:\\Users\\Toan\\anaconda3\\envs\\ml_com\\lib\\site-packages\\lightgbm\\sklearn.py:736: UserWarning: 'verbose' argument is deprecated and will be removed in a future release of LightGBM. Pass 'log_evaluation()' callback via 'callbacks' argument instead.\n",
            "  _log_warning(\"'verbose' argument is deprecated and will be removed in a future release of LightGBM. \"\n",
            "C:\\Users\\Toan\\anaconda3\\envs\\ml_com\\lib\\site-packages\\lightgbm\\basic.py:1487: UserWarning: categorical_feature keyword has been found in `params` and will be ignored.\n",
            "Please use categorical_feature argument of the Dataset constructor to pass this parameter.\n",
            "  _log_warning(f'{key} keyword has been found in `params` and will be ignored.\\n'\n",
            "C:\\Users\\Toan\\anaconda3\\envs\\ml_com\\lib\\site-packages\\lightgbm\\basic.py:1513: UserWarning: categorical_feature in param dict is overridden.\n",
            "  _log_warning(f'{cat_alias} in param dict is overridden.')\n"
          ]
        },
        {
          "name": "stdout",
          "output_type": "stream",
          "text": [
            "F1_SCORE:  0.2974 \n",
            "\n",
            "[LightGBM] [Warning] feature_fraction is set=0.5033326707290389, colsample_bytree=1.0 will be ignored. Current value: feature_fraction=0.5033326707290389\n",
            "[LightGBM] [Warning] bagging_fraction is set=0.8847709615640202, subsample=1.0 will be ignored. Current value: bagging_fraction=0.8847709615640202\n"
          ]
        },
        {
          "name": "stderr",
          "output_type": "stream",
          "text": [
            "C:\\Users\\Toan\\anaconda3\\envs\\ml_com\\lib\\site-packages\\lightgbm\\sklearn.py:736: UserWarning: 'verbose' argument is deprecated and will be removed in a future release of LightGBM. Pass 'log_evaluation()' callback via 'callbacks' argument instead.\n",
            "  _log_warning(\"'verbose' argument is deprecated and will be removed in a future release of LightGBM. \"\n",
            "C:\\Users\\Toan\\anaconda3\\envs\\ml_com\\lib\\site-packages\\lightgbm\\basic.py:1487: UserWarning: categorical_feature keyword has been found in `params` and will be ignored.\n",
            "Please use categorical_feature argument of the Dataset constructor to pass this parameter.\n",
            "  _log_warning(f'{key} keyword has been found in `params` and will be ignored.\\n'\n",
            "C:\\Users\\Toan\\anaconda3\\envs\\ml_com\\lib\\site-packages\\lightgbm\\basic.py:1513: UserWarning: categorical_feature in param dict is overridden.\n",
            "  _log_warning(f'{cat_alias} in param dict is overridden.')\n"
          ]
        },
        {
          "name": "stdout",
          "output_type": "stream",
          "text": [
            "F1_SCORE:  0.4638 \n",
            "\n",
            "[LightGBM] [Warning] feature_fraction is set=0.5033326707290389, colsample_bytree=1.0 will be ignored. Current value: feature_fraction=0.5033326707290389\n",
            "[LightGBM] [Warning] bagging_fraction is set=0.8847709615640202, subsample=1.0 will be ignored. Current value: bagging_fraction=0.8847709615640202\n"
          ]
        },
        {
          "name": "stderr",
          "output_type": "stream",
          "text": [
            "C:\\Users\\Toan\\anaconda3\\envs\\ml_com\\lib\\site-packages\\lightgbm\\sklearn.py:736: UserWarning: 'verbose' argument is deprecated and will be removed in a future release of LightGBM. Pass 'log_evaluation()' callback via 'callbacks' argument instead.\n",
            "  _log_warning(\"'verbose' argument is deprecated and will be removed in a future release of LightGBM. \"\n",
            "C:\\Users\\Toan\\anaconda3\\envs\\ml_com\\lib\\site-packages\\lightgbm\\basic.py:1487: UserWarning: categorical_feature keyword has been found in `params` and will be ignored.\n",
            "Please use categorical_feature argument of the Dataset constructor to pass this parameter.\n",
            "  _log_warning(f'{key} keyword has been found in `params` and will be ignored.\\n'\n",
            "C:\\Users\\Toan\\anaconda3\\envs\\ml_com\\lib\\site-packages\\lightgbm\\basic.py:1513: UserWarning: categorical_feature in param dict is overridden.\n",
            "  _log_warning(f'{cat_alias} in param dict is overridden.')\n",
            "\u001b[32m[I 2022-04-18 22:57:55,140]\u001b[0m Trial 32 finished with value: 0.35145305923833436 and parameters: {'num_leaves': 12, 'n_estimators': 609, 'learning_rate': 0.16497362672800125, 'feature_fraction': 0.5033326707290389, 'bagging_fraction': 0.8847709615640202}. Best is trial 5 with value: 0.8040849795380097.\u001b[0m\n"
          ]
        },
        {
          "name": "stdout",
          "output_type": "stream",
          "text": [
            "F1_SCORE:  0.4893 \n",
            "\n",
            "[LightGBM] [Warning] feature_fraction is set=0.5610142385078413, colsample_bytree=1.0 will be ignored. Current value: feature_fraction=0.5610142385078413\n",
            "[LightGBM] [Warning] bagging_fraction is set=0.9983900760318126, subsample=1.0 will be ignored. Current value: bagging_fraction=0.9983900760318126\n"
          ]
        },
        {
          "name": "stderr",
          "output_type": "stream",
          "text": [
            "C:\\Users\\Toan\\anaconda3\\envs\\ml_com\\lib\\site-packages\\lightgbm\\sklearn.py:736: UserWarning: 'verbose' argument is deprecated and will be removed in a future release of LightGBM. Pass 'log_evaluation()' callback via 'callbacks' argument instead.\n",
            "  _log_warning(\"'verbose' argument is deprecated and will be removed in a future release of LightGBM. \"\n",
            "C:\\Users\\Toan\\anaconda3\\envs\\ml_com\\lib\\site-packages\\lightgbm\\basic.py:1487: UserWarning: categorical_feature keyword has been found in `params` and will be ignored.\n",
            "Please use categorical_feature argument of the Dataset constructor to pass this parameter.\n",
            "  _log_warning(f'{key} keyword has been found in `params` and will be ignored.\\n'\n",
            "C:\\Users\\Toan\\anaconda3\\envs\\ml_com\\lib\\site-packages\\lightgbm\\basic.py:1513: UserWarning: categorical_feature in param dict is overridden.\n",
            "  _log_warning(f'{cat_alias} in param dict is overridden.')\n"
          ]
        },
        {
          "name": "stdout",
          "output_type": "stream",
          "text": [
            "F1_SCORE:  0.8092 \n",
            "\n",
            "[LightGBM] [Warning] feature_fraction is set=0.5610142385078413, colsample_bytree=1.0 will be ignored. Current value: feature_fraction=0.5610142385078413\n",
            "[LightGBM] [Warning] bagging_fraction is set=0.9983900760318126, subsample=1.0 will be ignored. Current value: bagging_fraction=0.9983900760318126\n"
          ]
        },
        {
          "name": "stderr",
          "output_type": "stream",
          "text": [
            "C:\\Users\\Toan\\anaconda3\\envs\\ml_com\\lib\\site-packages\\lightgbm\\sklearn.py:736: UserWarning: 'verbose' argument is deprecated and will be removed in a future release of LightGBM. Pass 'log_evaluation()' callback via 'callbacks' argument instead.\n",
            "  _log_warning(\"'verbose' argument is deprecated and will be removed in a future release of LightGBM. \"\n",
            "C:\\Users\\Toan\\anaconda3\\envs\\ml_com\\lib\\site-packages\\lightgbm\\basic.py:1487: UserWarning: categorical_feature keyword has been found in `params` and will be ignored.\n",
            "Please use categorical_feature argument of the Dataset constructor to pass this parameter.\n",
            "  _log_warning(f'{key} keyword has been found in `params` and will be ignored.\\n'\n",
            "C:\\Users\\Toan\\anaconda3\\envs\\ml_com\\lib\\site-packages\\lightgbm\\basic.py:1513: UserWarning: categorical_feature in param dict is overridden.\n",
            "  _log_warning(f'{cat_alias} in param dict is overridden.')\n"
          ]
        },
        {
          "name": "stdout",
          "output_type": "stream",
          "text": [
            "F1_SCORE:  0.7813 \n",
            "\n",
            "[LightGBM] [Warning] feature_fraction is set=0.5610142385078413, colsample_bytree=1.0 will be ignored. Current value: feature_fraction=0.5610142385078413\n",
            "[LightGBM] [Warning] bagging_fraction is set=0.9983900760318126, subsample=1.0 will be ignored. Current value: bagging_fraction=0.9983900760318126\n"
          ]
        },
        {
          "name": "stderr",
          "output_type": "stream",
          "text": [
            "C:\\Users\\Toan\\anaconda3\\envs\\ml_com\\lib\\site-packages\\lightgbm\\sklearn.py:736: UserWarning: 'verbose' argument is deprecated and will be removed in a future release of LightGBM. Pass 'log_evaluation()' callback via 'callbacks' argument instead.\n",
            "  _log_warning(\"'verbose' argument is deprecated and will be removed in a future release of LightGBM. \"\n",
            "C:\\Users\\Toan\\anaconda3\\envs\\ml_com\\lib\\site-packages\\lightgbm\\basic.py:1487: UserWarning: categorical_feature keyword has been found in `params` and will be ignored.\n",
            "Please use categorical_feature argument of the Dataset constructor to pass this parameter.\n",
            "  _log_warning(f'{key} keyword has been found in `params` and will be ignored.\\n'\n",
            "C:\\Users\\Toan\\anaconda3\\envs\\ml_com\\lib\\site-packages\\lightgbm\\basic.py:1513: UserWarning: categorical_feature in param dict is overridden.\n",
            "  _log_warning(f'{cat_alias} in param dict is overridden.')\n"
          ]
        },
        {
          "name": "stdout",
          "output_type": "stream",
          "text": [
            "F1_SCORE:  0.8407 \n",
            "\n",
            "[LightGBM] [Warning] feature_fraction is set=0.5610142385078413, colsample_bytree=1.0 will be ignored. Current value: feature_fraction=0.5610142385078413\n",
            "[LightGBM] [Warning] bagging_fraction is set=0.9983900760318126, subsample=1.0 will be ignored. Current value: bagging_fraction=0.9983900760318126\n"
          ]
        },
        {
          "name": "stderr",
          "output_type": "stream",
          "text": [
            "C:\\Users\\Toan\\anaconda3\\envs\\ml_com\\lib\\site-packages\\lightgbm\\sklearn.py:736: UserWarning: 'verbose' argument is deprecated and will be removed in a future release of LightGBM. Pass 'log_evaluation()' callback via 'callbacks' argument instead.\n",
            "  _log_warning(\"'verbose' argument is deprecated and will be removed in a future release of LightGBM. \"\n",
            "C:\\Users\\Toan\\anaconda3\\envs\\ml_com\\lib\\site-packages\\lightgbm\\basic.py:1487: UserWarning: categorical_feature keyword has been found in `params` and will be ignored.\n",
            "Please use categorical_feature argument of the Dataset constructor to pass this parameter.\n",
            "  _log_warning(f'{key} keyword has been found in `params` and will be ignored.\\n'\n",
            "C:\\Users\\Toan\\anaconda3\\envs\\ml_com\\lib\\site-packages\\lightgbm\\basic.py:1513: UserWarning: categorical_feature in param dict is overridden.\n",
            "  _log_warning(f'{cat_alias} in param dict is overridden.')\n"
          ]
        },
        {
          "name": "stdout",
          "output_type": "stream",
          "text": [
            "F1_SCORE:  0.8003 \n",
            "\n",
            "[LightGBM] [Warning] feature_fraction is set=0.5610142385078413, colsample_bytree=1.0 will be ignored. Current value: feature_fraction=0.5610142385078413\n",
            "[LightGBM] [Warning] bagging_fraction is set=0.9983900760318126, subsample=1.0 will be ignored. Current value: bagging_fraction=0.9983900760318126\n"
          ]
        },
        {
          "name": "stderr",
          "output_type": "stream",
          "text": [
            "C:\\Users\\Toan\\anaconda3\\envs\\ml_com\\lib\\site-packages\\lightgbm\\sklearn.py:736: UserWarning: 'verbose' argument is deprecated and will be removed in a future release of LightGBM. Pass 'log_evaluation()' callback via 'callbacks' argument instead.\n",
            "  _log_warning(\"'verbose' argument is deprecated and will be removed in a future release of LightGBM. \"\n",
            "C:\\Users\\Toan\\anaconda3\\envs\\ml_com\\lib\\site-packages\\lightgbm\\basic.py:1487: UserWarning: categorical_feature keyword has been found in `params` and will be ignored.\n",
            "Please use categorical_feature argument of the Dataset constructor to pass this parameter.\n",
            "  _log_warning(f'{key} keyword has been found in `params` and will be ignored.\\n'\n",
            "C:\\Users\\Toan\\anaconda3\\envs\\ml_com\\lib\\site-packages\\lightgbm\\basic.py:1513: UserWarning: categorical_feature in param dict is overridden.\n",
            "  _log_warning(f'{cat_alias} in param dict is overridden.')\n",
            "\u001b[32m[I 2022-04-18 23:00:09,003]\u001b[0m Trial 33 finished with value: 0.804340488458444 and parameters: {'num_leaves': 10, 'n_estimators': 707, 'learning_rate': 0.05167480920346117, 'feature_fraction': 0.5610142385078413, 'bagging_fraction': 0.9983900760318126}. Best is trial 33 with value: 0.804340488458444.\u001b[0m\n"
          ]
        },
        {
          "name": "stdout",
          "output_type": "stream",
          "text": [
            "F1_SCORE:  0.7901 \n",
            "\n",
            "[LightGBM] [Warning] feature_fraction is set=0.556896948938272, colsample_bytree=1.0 will be ignored. Current value: feature_fraction=0.556896948938272\n"
          ]
        },
        {
          "name": "stderr",
          "output_type": "stream",
          "text": [
            "C:\\Users\\Toan\\anaconda3\\envs\\ml_com\\lib\\site-packages\\lightgbm\\sklearn.py:736: UserWarning: 'verbose' argument is deprecated and will be removed in a future release of LightGBM. Pass 'log_evaluation()' callback via 'callbacks' argument instead.\n",
            "  _log_warning(\"'verbose' argument is deprecated and will be removed in a future release of LightGBM. \"\n",
            "C:\\Users\\Toan\\anaconda3\\envs\\ml_com\\lib\\site-packages\\lightgbm\\basic.py:1487: UserWarning: categorical_feature keyword has been found in `params` and will be ignored.\n",
            "Please use categorical_feature argument of the Dataset constructor to pass this parameter.\n",
            "  _log_warning(f'{key} keyword has been found in `params` and will be ignored.\\n'\n",
            "C:\\Users\\Toan\\anaconda3\\envs\\ml_com\\lib\\site-packages\\lightgbm\\basic.py:1513: UserWarning: categorical_feature in param dict is overridden.\n",
            "  _log_warning(f'{cat_alias} in param dict is overridden.')\n"
          ]
        },
        {
          "name": "stdout",
          "output_type": "stream",
          "text": [
            "[LightGBM] [Warning] bagging_fraction is set=0.989902582559451, subsample=1.0 will be ignored. Current value: bagging_fraction=0.989902582559451\n",
            "F1_SCORE:  0.3035 \n",
            "\n",
            "[LightGBM] [Warning] feature_fraction is set=0.556896948938272, colsample_bytree=1.0 will be ignored. Current value: feature_fraction=0.556896948938272\n",
            "[LightGBM] [Warning] bagging_fraction is set=0.989902582559451, subsample=1.0 will be ignored. Current value: bagging_fraction=0.989902582559451\n"
          ]
        },
        {
          "name": "stderr",
          "output_type": "stream",
          "text": [
            "C:\\Users\\Toan\\anaconda3\\envs\\ml_com\\lib\\site-packages\\lightgbm\\sklearn.py:736: UserWarning: 'verbose' argument is deprecated and will be removed in a future release of LightGBM. Pass 'log_evaluation()' callback via 'callbacks' argument instead.\n",
            "  _log_warning(\"'verbose' argument is deprecated and will be removed in a future release of LightGBM. \"\n",
            "C:\\Users\\Toan\\anaconda3\\envs\\ml_com\\lib\\site-packages\\lightgbm\\basic.py:1487: UserWarning: categorical_feature keyword has been found in `params` and will be ignored.\n",
            "Please use categorical_feature argument of the Dataset constructor to pass this parameter.\n",
            "  _log_warning(f'{key} keyword has been found in `params` and will be ignored.\\n'\n",
            "C:\\Users\\Toan\\anaconda3\\envs\\ml_com\\lib\\site-packages\\lightgbm\\basic.py:1513: UserWarning: categorical_feature in param dict is overridden.\n",
            "  _log_warning(f'{cat_alias} in param dict is overridden.')\n"
          ]
        },
        {
          "name": "stdout",
          "output_type": "stream",
          "text": [
            "F1_SCORE:  0.2902 \n",
            "\n",
            "[LightGBM] [Warning] feature_fraction is set=0.556896948938272, colsample_bytree=1.0 will be ignored. Current value: feature_fraction=0.556896948938272\n",
            "[LightGBM] [Warning] bagging_fraction is set=0.989902582559451, subsample=1.0 will be ignored. Current value: bagging_fraction=0.989902582559451\n"
          ]
        },
        {
          "name": "stderr",
          "output_type": "stream",
          "text": [
            "C:\\Users\\Toan\\anaconda3\\envs\\ml_com\\lib\\site-packages\\lightgbm\\sklearn.py:736: UserWarning: 'verbose' argument is deprecated and will be removed in a future release of LightGBM. Pass 'log_evaluation()' callback via 'callbacks' argument instead.\n",
            "  _log_warning(\"'verbose' argument is deprecated and will be removed in a future release of LightGBM. \"\n",
            "C:\\Users\\Toan\\anaconda3\\envs\\ml_com\\lib\\site-packages\\lightgbm\\basic.py:1487: UserWarning: categorical_feature keyword has been found in `params` and will be ignored.\n",
            "Please use categorical_feature argument of the Dataset constructor to pass this parameter.\n",
            "  _log_warning(f'{key} keyword has been found in `params` and will be ignored.\\n'\n",
            "C:\\Users\\Toan\\anaconda3\\envs\\ml_com\\lib\\site-packages\\lightgbm\\basic.py:1513: UserWarning: categorical_feature in param dict is overridden.\n",
            "  _log_warning(f'{cat_alias} in param dict is overridden.')\n"
          ]
        },
        {
          "name": "stdout",
          "output_type": "stream",
          "text": [
            "F1_SCORE:  0.1301 \n",
            "\n",
            "[LightGBM] [Warning] feature_fraction is set=0.556896948938272, colsample_bytree=1.0 will be ignored. Current value: feature_fraction=0.556896948938272\n",
            "[LightGBM] [Warning] bagging_fraction is set=0.989902582559451, subsample=1.0 will be ignored. Current value: bagging_fraction=0.989902582559451\n"
          ]
        },
        {
          "name": "stderr",
          "output_type": "stream",
          "text": [
            "C:\\Users\\Toan\\anaconda3\\envs\\ml_com\\lib\\site-packages\\lightgbm\\sklearn.py:736: UserWarning: 'verbose' argument is deprecated and will be removed in a future release of LightGBM. Pass 'log_evaluation()' callback via 'callbacks' argument instead.\n",
            "  _log_warning(\"'verbose' argument is deprecated and will be removed in a future release of LightGBM. \"\n",
            "C:\\Users\\Toan\\anaconda3\\envs\\ml_com\\lib\\site-packages\\lightgbm\\basic.py:1487: UserWarning: categorical_feature keyword has been found in `params` and will be ignored.\n",
            "Please use categorical_feature argument of the Dataset constructor to pass this parameter.\n",
            "  _log_warning(f'{key} keyword has been found in `params` and will be ignored.\\n'\n",
            "C:\\Users\\Toan\\anaconda3\\envs\\ml_com\\lib\\site-packages\\lightgbm\\basic.py:1513: UserWarning: categorical_feature in param dict is overridden.\n",
            "  _log_warning(f'{cat_alias} in param dict is overridden.')\n"
          ]
        },
        {
          "name": "stdout",
          "output_type": "stream",
          "text": [
            "F1_SCORE:  0.2702 \n",
            "\n",
            "[LightGBM] [Warning] feature_fraction is set=0.556896948938272, colsample_bytree=1.0 will be ignored. Current value: feature_fraction=0.556896948938272\n",
            "[LightGBM] [Warning] bagging_fraction is set=0.989902582559451, subsample=1.0 will be ignored. Current value: bagging_fraction=0.989902582559451\n"
          ]
        },
        {
          "name": "stderr",
          "output_type": "stream",
          "text": [
            "C:\\Users\\Toan\\anaconda3\\envs\\ml_com\\lib\\site-packages\\lightgbm\\sklearn.py:736: UserWarning: 'verbose' argument is deprecated and will be removed in a future release of LightGBM. Pass 'log_evaluation()' callback via 'callbacks' argument instead.\n",
            "  _log_warning(\"'verbose' argument is deprecated and will be removed in a future release of LightGBM. \"\n",
            "C:\\Users\\Toan\\anaconda3\\envs\\ml_com\\lib\\site-packages\\lightgbm\\basic.py:1487: UserWarning: categorical_feature keyword has been found in `params` and will be ignored.\n",
            "Please use categorical_feature argument of the Dataset constructor to pass this parameter.\n",
            "  _log_warning(f'{key} keyword has been found in `params` and will be ignored.\\n'\n",
            "C:\\Users\\Toan\\anaconda3\\envs\\ml_com\\lib\\site-packages\\lightgbm\\basic.py:1513: UserWarning: categorical_feature in param dict is overridden.\n",
            "  _log_warning(f'{cat_alias} in param dict is overridden.')\n",
            "\u001b[32m[I 2022-04-18 23:01:28,282]\u001b[0m Trial 34 finished with value: 0.2506187995688145 and parameters: {'num_leaves': 11, 'n_estimators': 698, 'learning_rate': 0.24208554975830376, 'feature_fraction': 0.556896948938272, 'bagging_fraction': 0.989902582559451}. Best is trial 33 with value: 0.804340488458444.\u001b[0m\n"
          ]
        },
        {
          "name": "stdout",
          "output_type": "stream",
          "text": [
            "F1_SCORE:  0.2591 \n",
            "\n",
            "[LightGBM] [Warning] feature_fraction is set=0.5665493402230786, colsample_bytree=1.0 will be ignored. Current value: feature_fraction=0.5665493402230786\n",
            "[LightGBM] [Warning] bagging_fraction is set=0.9988044352363412, subsample=1.0 will be ignored. Current value: bagging_fraction=0.9988044352363412\n"
          ]
        },
        {
          "name": "stderr",
          "output_type": "stream",
          "text": [
            "C:\\Users\\Toan\\anaconda3\\envs\\ml_com\\lib\\site-packages\\lightgbm\\sklearn.py:736: UserWarning: 'verbose' argument is deprecated and will be removed in a future release of LightGBM. Pass 'log_evaluation()' callback via 'callbacks' argument instead.\n",
            "  _log_warning(\"'verbose' argument is deprecated and will be removed in a future release of LightGBM. \"\n",
            "C:\\Users\\Toan\\anaconda3\\envs\\ml_com\\lib\\site-packages\\lightgbm\\basic.py:1487: UserWarning: categorical_feature keyword has been found in `params` and will be ignored.\n",
            "Please use categorical_feature argument of the Dataset constructor to pass this parameter.\n",
            "  _log_warning(f'{key} keyword has been found in `params` and will be ignored.\\n'\n",
            "C:\\Users\\Toan\\anaconda3\\envs\\ml_com\\lib\\site-packages\\lightgbm\\basic.py:1513: UserWarning: categorical_feature in param dict is overridden.\n",
            "  _log_warning(f'{cat_alias} in param dict is overridden.')\n"
          ]
        },
        {
          "name": "stdout",
          "output_type": "stream",
          "text": [
            "F1_SCORE:  0.7576 \n",
            "\n",
            "[LightGBM] [Warning] feature_fraction is set=0.5665493402230786, colsample_bytree=1.0 will be ignored. Current value: feature_fraction=0.5665493402230786\n",
            "[LightGBM] [Warning] bagging_fraction is set=0.9988044352363412, subsample=1.0 will be ignored. Current value: bagging_fraction=0.9988044352363412\n"
          ]
        },
        {
          "name": "stderr",
          "output_type": "stream",
          "text": [
            "C:\\Users\\Toan\\anaconda3\\envs\\ml_com\\lib\\site-packages\\lightgbm\\sklearn.py:736: UserWarning: 'verbose' argument is deprecated and will be removed in a future release of LightGBM. Pass 'log_evaluation()' callback via 'callbacks' argument instead.\n",
            "  _log_warning(\"'verbose' argument is deprecated and will be removed in a future release of LightGBM. \"\n",
            "C:\\Users\\Toan\\anaconda3\\envs\\ml_com\\lib\\site-packages\\lightgbm\\basic.py:1487: UserWarning: categorical_feature keyword has been found in `params` and will be ignored.\n",
            "Please use categorical_feature argument of the Dataset constructor to pass this parameter.\n",
            "  _log_warning(f'{key} keyword has been found in `params` and will be ignored.\\n'\n",
            "C:\\Users\\Toan\\anaconda3\\envs\\ml_com\\lib\\site-packages\\lightgbm\\basic.py:1513: UserWarning: categorical_feature in param dict is overridden.\n",
            "  _log_warning(f'{cat_alias} in param dict is overridden.')\n"
          ]
        },
        {
          "name": "stdout",
          "output_type": "stream",
          "text": [
            "F1_SCORE:  0.7223 \n",
            "\n",
            "[LightGBM] [Warning] feature_fraction is set=0.5665493402230786, colsample_bytree=1.0 will be ignored. Current value: feature_fraction=0.5665493402230786\n",
            "[LightGBM] [Warning] bagging_fraction is set=0.9988044352363412, subsample=1.0 will be ignored. Current value: bagging_fraction=0.9988044352363412\n"
          ]
        },
        {
          "name": "stderr",
          "output_type": "stream",
          "text": [
            "C:\\Users\\Toan\\anaconda3\\envs\\ml_com\\lib\\site-packages\\lightgbm\\sklearn.py:736: UserWarning: 'verbose' argument is deprecated and will be removed in a future release of LightGBM. Pass 'log_evaluation()' callback via 'callbacks' argument instead.\n",
            "  _log_warning(\"'verbose' argument is deprecated and will be removed in a future release of LightGBM. \"\n",
            "C:\\Users\\Toan\\anaconda3\\envs\\ml_com\\lib\\site-packages\\lightgbm\\basic.py:1487: UserWarning: categorical_feature keyword has been found in `params` and will be ignored.\n",
            "Please use categorical_feature argument of the Dataset constructor to pass this parameter.\n",
            "  _log_warning(f'{key} keyword has been found in `params` and will be ignored.\\n'\n",
            "C:\\Users\\Toan\\anaconda3\\envs\\ml_com\\lib\\site-packages\\lightgbm\\basic.py:1513: UserWarning: categorical_feature in param dict is overridden.\n",
            "  _log_warning(f'{cat_alias} in param dict is overridden.')\n"
          ]
        },
        {
          "name": "stdout",
          "output_type": "stream",
          "text": [
            "F1_SCORE:  0.7952 \n",
            "\n",
            "[LightGBM] [Warning] feature_fraction is set=0.5665493402230786, colsample_bytree=1.0 will be ignored. Current value: feature_fraction=0.5665493402230786\n",
            "[LightGBM] [Warning] bagging_fraction is set=0.9988044352363412, subsample=1.0 will be ignored. Current value: bagging_fraction=0.9988044352363412\n"
          ]
        },
        {
          "name": "stderr",
          "output_type": "stream",
          "text": [
            "C:\\Users\\Toan\\anaconda3\\envs\\ml_com\\lib\\site-packages\\lightgbm\\sklearn.py:736: UserWarning: 'verbose' argument is deprecated and will be removed in a future release of LightGBM. Pass 'log_evaluation()' callback via 'callbacks' argument instead.\n",
            "  _log_warning(\"'verbose' argument is deprecated and will be removed in a future release of LightGBM. \"\n",
            "C:\\Users\\Toan\\anaconda3\\envs\\ml_com\\lib\\site-packages\\lightgbm\\basic.py:1487: UserWarning: categorical_feature keyword has been found in `params` and will be ignored.\n",
            "Please use categorical_feature argument of the Dataset constructor to pass this parameter.\n",
            "  _log_warning(f'{key} keyword has been found in `params` and will be ignored.\\n'\n",
            "C:\\Users\\Toan\\anaconda3\\envs\\ml_com\\lib\\site-packages\\lightgbm\\basic.py:1513: UserWarning: categorical_feature in param dict is overridden.\n",
            "  _log_warning(f'{cat_alias} in param dict is overridden.')\n"
          ]
        },
        {
          "name": "stdout",
          "output_type": "stream",
          "text": [
            "F1_SCORE:  0.7422 \n",
            "\n",
            "[LightGBM] [Warning] feature_fraction is set=0.5665493402230786, colsample_bytree=1.0 will be ignored. Current value: feature_fraction=0.5665493402230786\n",
            "[LightGBM] [Warning] bagging_fraction is set=0.9988044352363412, subsample=1.0 will be ignored. Current value: bagging_fraction=0.9988044352363412\n"
          ]
        },
        {
          "name": "stderr",
          "output_type": "stream",
          "text": [
            "C:\\Users\\Toan\\anaconda3\\envs\\ml_com\\lib\\site-packages\\lightgbm\\sklearn.py:736: UserWarning: 'verbose' argument is deprecated and will be removed in a future release of LightGBM. Pass 'log_evaluation()' callback via 'callbacks' argument instead.\n",
            "  _log_warning(\"'verbose' argument is deprecated and will be removed in a future release of LightGBM. \"\n",
            "C:\\Users\\Toan\\anaconda3\\envs\\ml_com\\lib\\site-packages\\lightgbm\\basic.py:1487: UserWarning: categorical_feature keyword has been found in `params` and will be ignored.\n",
            "Please use categorical_feature argument of the Dataset constructor to pass this parameter.\n",
            "  _log_warning(f'{key} keyword has been found in `params` and will be ignored.\\n'\n",
            "C:\\Users\\Toan\\anaconda3\\envs\\ml_com\\lib\\site-packages\\lightgbm\\basic.py:1513: UserWarning: categorical_feature in param dict is overridden.\n",
            "  _log_warning(f'{cat_alias} in param dict is overridden.')\n",
            "\u001b[32m[I 2022-04-18 23:03:04,636]\u001b[0m Trial 35 finished with value: 0.7529293446079304 and parameters: {'num_leaves': 7, 'n_estimators': 534, 'learning_rate': 0.004011695653524799, 'feature_fraction': 0.5665493402230786, 'bagging_fraction': 0.9988044352363412}. Best is trial 33 with value: 0.804340488458444.\u001b[0m\n"
          ]
        },
        {
          "name": "stdout",
          "output_type": "stream",
          "text": [
            "F1_SCORE:  0.7474 \n",
            "\n",
            "[LightGBM] [Warning] feature_fraction is set=0.6061841533555183, colsample_bytree=1.0 will be ignored. Current value: feature_fraction=0.6061841533555183\n",
            "[LightGBM] [Warning] bagging_fraction is set=0.9567417220316193, subsample=1.0 will be ignored. Current value: bagging_fraction=0.9567417220316193\n"
          ]
        },
        {
          "name": "stderr",
          "output_type": "stream",
          "text": [
            "C:\\Users\\Toan\\anaconda3\\envs\\ml_com\\lib\\site-packages\\lightgbm\\sklearn.py:736: UserWarning: 'verbose' argument is deprecated and will be removed in a future release of LightGBM. Pass 'log_evaluation()' callback via 'callbacks' argument instead.\n",
            "  _log_warning(\"'verbose' argument is deprecated and will be removed in a future release of LightGBM. \"\n",
            "C:\\Users\\Toan\\anaconda3\\envs\\ml_com\\lib\\site-packages\\lightgbm\\basic.py:1487: UserWarning: categorical_feature keyword has been found in `params` and will be ignored.\n",
            "Please use categorical_feature argument of the Dataset constructor to pass this parameter.\n",
            "  _log_warning(f'{key} keyword has been found in `params` and will be ignored.\\n'\n",
            "C:\\Users\\Toan\\anaconda3\\envs\\ml_com\\lib\\site-packages\\lightgbm\\basic.py:1513: UserWarning: categorical_feature in param dict is overridden.\n",
            "  _log_warning(f'{cat_alias} in param dict is overridden.')\n"
          ]
        },
        {
          "name": "stdout",
          "output_type": "stream",
          "text": [
            "F1_SCORE:  0.3657 \n",
            "\n",
            "[LightGBM] [Warning] feature_fraction is set=0.6061841533555183, colsample_bytree=1.0 will be ignored. Current value: feature_fraction=0.6061841533555183\n",
            "[LightGBM] [Warning] bagging_fraction is set=0.9567417220316193, subsample=1.0 will be ignored. Current value: bagging_fraction=0.9567417220316193\n"
          ]
        },
        {
          "name": "stderr",
          "output_type": "stream",
          "text": [
            "C:\\Users\\Toan\\anaconda3\\envs\\ml_com\\lib\\site-packages\\lightgbm\\sklearn.py:736: UserWarning: 'verbose' argument is deprecated and will be removed in a future release of LightGBM. Pass 'log_evaluation()' callback via 'callbacks' argument instead.\n",
            "  _log_warning(\"'verbose' argument is deprecated and will be removed in a future release of LightGBM. \"\n",
            "C:\\Users\\Toan\\anaconda3\\envs\\ml_com\\lib\\site-packages\\lightgbm\\basic.py:1487: UserWarning: categorical_feature keyword has been found in `params` and will be ignored.\n",
            "Please use categorical_feature argument of the Dataset constructor to pass this parameter.\n",
            "  _log_warning(f'{key} keyword has been found in `params` and will be ignored.\\n'\n",
            "C:\\Users\\Toan\\anaconda3\\envs\\ml_com\\lib\\site-packages\\lightgbm\\basic.py:1513: UserWarning: categorical_feature in param dict is overridden.\n",
            "  _log_warning(f'{cat_alias} in param dict is overridden.')\n"
          ]
        },
        {
          "name": "stdout",
          "output_type": "stream",
          "text": [
            "F1_SCORE:  0.214 \n",
            "\n",
            "[LightGBM] [Warning] feature_fraction is set=0.6061841533555183, colsample_bytree=1.0 will be ignored. Current value: feature_fraction=0.6061841533555183\n",
            "[LightGBM] [Warning] bagging_fraction is set=0.9567417220316193, subsample=1.0 will be ignored. Current value: bagging_fraction=0.9567417220316193\n"
          ]
        },
        {
          "name": "stderr",
          "output_type": "stream",
          "text": [
            "C:\\Users\\Toan\\anaconda3\\envs\\ml_com\\lib\\site-packages\\lightgbm\\sklearn.py:736: UserWarning: 'verbose' argument is deprecated and will be removed in a future release of LightGBM. Pass 'log_evaluation()' callback via 'callbacks' argument instead.\n",
            "  _log_warning(\"'verbose' argument is deprecated and will be removed in a future release of LightGBM. \"\n",
            "C:\\Users\\Toan\\anaconda3\\envs\\ml_com\\lib\\site-packages\\lightgbm\\basic.py:1487: UserWarning: categorical_feature keyword has been found in `params` and will be ignored.\n",
            "Please use categorical_feature argument of the Dataset constructor to pass this parameter.\n",
            "  _log_warning(f'{key} keyword has been found in `params` and will be ignored.\\n'\n",
            "C:\\Users\\Toan\\anaconda3\\envs\\ml_com\\lib\\site-packages\\lightgbm\\basic.py:1513: UserWarning: categorical_feature in param dict is overridden.\n",
            "  _log_warning(f'{cat_alias} in param dict is overridden.')\n"
          ]
        },
        {
          "name": "stdout",
          "output_type": "stream",
          "text": [
            "F1_SCORE:  0.3346 \n",
            "\n",
            "[LightGBM] [Warning] feature_fraction is set=0.6061841533555183, colsample_bytree=1.0 will be ignored. Current value: feature_fraction=0.6061841533555183\n",
            "[LightGBM] [Warning] bagging_fraction is set=0.9567417220316193, subsample=1.0 will be ignored. Current value: bagging_fraction=0.9567417220316193\n"
          ]
        },
        {
          "name": "stderr",
          "output_type": "stream",
          "text": [
            "C:\\Users\\Toan\\anaconda3\\envs\\ml_com\\lib\\site-packages\\lightgbm\\sklearn.py:736: UserWarning: 'verbose' argument is deprecated and will be removed in a future release of LightGBM. Pass 'log_evaluation()' callback via 'callbacks' argument instead.\n",
            "  _log_warning(\"'verbose' argument is deprecated and will be removed in a future release of LightGBM. \"\n",
            "C:\\Users\\Toan\\anaconda3\\envs\\ml_com\\lib\\site-packages\\lightgbm\\basic.py:1487: UserWarning: categorical_feature keyword has been found in `params` and will be ignored.\n",
            "Please use categorical_feature argument of the Dataset constructor to pass this parameter.\n",
            "  _log_warning(f'{key} keyword has been found in `params` and will be ignored.\\n'\n",
            "C:\\Users\\Toan\\anaconda3\\envs\\ml_com\\lib\\site-packages\\lightgbm\\basic.py:1513: UserWarning: categorical_feature in param dict is overridden.\n",
            "  _log_warning(f'{cat_alias} in param dict is overridden.')\n"
          ]
        },
        {
          "name": "stdout",
          "output_type": "stream",
          "text": [
            "F1_SCORE:  0.2247 \n",
            "\n",
            "[LightGBM] [Warning] feature_fraction is set=0.6061841533555183, colsample_bytree=1.0 will be ignored. Current value: feature_fraction=0.6061841533555183\n",
            "[LightGBM] [Warning] bagging_fraction is set=0.9567417220316193, subsample=1.0 will be ignored. Current value: bagging_fraction=0.9567417220316193\n"
          ]
        },
        {
          "name": "stderr",
          "output_type": "stream",
          "text": [
            "C:\\Users\\Toan\\anaconda3\\envs\\ml_com\\lib\\site-packages\\lightgbm\\sklearn.py:736: UserWarning: 'verbose' argument is deprecated and will be removed in a future release of LightGBM. Pass 'log_evaluation()' callback via 'callbacks' argument instead.\n",
            "  _log_warning(\"'verbose' argument is deprecated and will be removed in a future release of LightGBM. \"\n",
            "C:\\Users\\Toan\\anaconda3\\envs\\ml_com\\lib\\site-packages\\lightgbm\\basic.py:1487: UserWarning: categorical_feature keyword has been found in `params` and will be ignored.\n",
            "Please use categorical_feature argument of the Dataset constructor to pass this parameter.\n",
            "  _log_warning(f'{key} keyword has been found in `params` and will be ignored.\\n'\n",
            "C:\\Users\\Toan\\anaconda3\\envs\\ml_com\\lib\\site-packages\\lightgbm\\basic.py:1513: UserWarning: categorical_feature in param dict is overridden.\n",
            "  _log_warning(f'{cat_alias} in param dict is overridden.')\n",
            "\u001b[32m[I 2022-04-18 23:04:12,765]\u001b[0m Trial 36 finished with value: 0.28493403660181704 and parameters: {'num_leaves': 9, 'n_estimators': 650, 'learning_rate': 0.43980177164867496, 'feature_fraction': 0.6061841533555183, 'bagging_fraction': 0.9567417220316193}. Best is trial 33 with value: 0.804340488458444.\u001b[0m\n"
          ]
        },
        {
          "name": "stdout",
          "output_type": "stream",
          "text": [
            "F1_SCORE:  0.2857 \n",
            "\n",
            "[LightGBM] [Warning] feature_fraction is set=0.6610826751363293, colsample_bytree=1.0 will be ignored. Current value: feature_fraction=0.6610826751363293\n",
            "[LightGBM] [Warning] bagging_fraction is set=0.8365108526820493, subsample=1.0 will be ignored. Current value: bagging_fraction=0.8365108526820493\n"
          ]
        },
        {
          "name": "stderr",
          "output_type": "stream",
          "text": [
            "C:\\Users\\Toan\\anaconda3\\envs\\ml_com\\lib\\site-packages\\lightgbm\\sklearn.py:736: UserWarning: 'verbose' argument is deprecated and will be removed in a future release of LightGBM. Pass 'log_evaluation()' callback via 'callbacks' argument instead.\n",
            "  _log_warning(\"'verbose' argument is deprecated and will be removed in a future release of LightGBM. \"\n",
            "C:\\Users\\Toan\\anaconda3\\envs\\ml_com\\lib\\site-packages\\lightgbm\\basic.py:1487: UserWarning: categorical_feature keyword has been found in `params` and will be ignored.\n",
            "Please use categorical_feature argument of the Dataset constructor to pass this parameter.\n",
            "  _log_warning(f'{key} keyword has been found in `params` and will be ignored.\\n'\n",
            "C:\\Users\\Toan\\anaconda3\\envs\\ml_com\\lib\\site-packages\\lightgbm\\basic.py:1513: UserWarning: categorical_feature in param dict is overridden.\n",
            "  _log_warning(f'{cat_alias} in param dict is overridden.')\n"
          ]
        },
        {
          "name": "stdout",
          "output_type": "stream",
          "text": [
            "F1_SCORE:  0.6083 \n",
            "\n",
            "[LightGBM] [Warning] feature_fraction is set=0.6610826751363293, colsample_bytree=1.0 will be ignored. Current value: feature_fraction=0.6610826751363293\n",
            "[LightGBM] [Warning] bagging_fraction is set=0.8365108526820493, subsample=1.0 will be ignored. Current value: bagging_fraction=0.8365108526820493\n"
          ]
        },
        {
          "name": "stderr",
          "output_type": "stream",
          "text": [
            "C:\\Users\\Toan\\anaconda3\\envs\\ml_com\\lib\\site-packages\\lightgbm\\sklearn.py:736: UserWarning: 'verbose' argument is deprecated and will be removed in a future release of LightGBM. Pass 'log_evaluation()' callback via 'callbacks' argument instead.\n",
            "  _log_warning(\"'verbose' argument is deprecated and will be removed in a future release of LightGBM. \"\n",
            "C:\\Users\\Toan\\anaconda3\\envs\\ml_com\\lib\\site-packages\\lightgbm\\basic.py:1487: UserWarning: categorical_feature keyword has been found in `params` and will be ignored.\n",
            "Please use categorical_feature argument of the Dataset constructor to pass this parameter.\n",
            "  _log_warning(f'{key} keyword has been found in `params` and will be ignored.\\n'\n",
            "C:\\Users\\Toan\\anaconda3\\envs\\ml_com\\lib\\site-packages\\lightgbm\\basic.py:1513: UserWarning: categorical_feature in param dict is overridden.\n",
            "  _log_warning(f'{cat_alias} in param dict is overridden.')\n"
          ]
        },
        {
          "name": "stdout",
          "output_type": "stream",
          "text": [
            "F1_SCORE:  0.6213 \n",
            "\n",
            "[LightGBM] [Warning] feature_fraction is set=0.6610826751363293, colsample_bytree=1.0 will be ignored. Current value: feature_fraction=0.6610826751363293\n",
            "[LightGBM] [Warning] bagging_fraction is set=0.8365108526820493, subsample=1.0 will be ignored. Current value: bagging_fraction=0.8365108526820493\n"
          ]
        },
        {
          "name": "stderr",
          "output_type": "stream",
          "text": [
            "C:\\Users\\Toan\\anaconda3\\envs\\ml_com\\lib\\site-packages\\lightgbm\\sklearn.py:736: UserWarning: 'verbose' argument is deprecated and will be removed in a future release of LightGBM. Pass 'log_evaluation()' callback via 'callbacks' argument instead.\n",
            "  _log_warning(\"'verbose' argument is deprecated and will be removed in a future release of LightGBM. \"\n",
            "C:\\Users\\Toan\\anaconda3\\envs\\ml_com\\lib\\site-packages\\lightgbm\\basic.py:1487: UserWarning: categorical_feature keyword has been found in `params` and will be ignored.\n",
            "Please use categorical_feature argument of the Dataset constructor to pass this parameter.\n",
            "  _log_warning(f'{key} keyword has been found in `params` and will be ignored.\\n'\n",
            "C:\\Users\\Toan\\anaconda3\\envs\\ml_com\\lib\\site-packages\\lightgbm\\basic.py:1513: UserWarning: categorical_feature in param dict is overridden.\n",
            "  _log_warning(f'{cat_alias} in param dict is overridden.')\n"
          ]
        },
        {
          "name": "stdout",
          "output_type": "stream",
          "text": [
            "F1_SCORE:  0.541 \n",
            "\n",
            "[LightGBM] [Warning] feature_fraction is set=0.6610826751363293, colsample_bytree=1.0 will be ignored. Current value: feature_fraction=0.6610826751363293\n",
            "[LightGBM] [Warning] bagging_fraction is set=0.8365108526820493, subsample=1.0 will be ignored. Current value: bagging_fraction=0.8365108526820493\n"
          ]
        },
        {
          "name": "stderr",
          "output_type": "stream",
          "text": [
            "C:\\Users\\Toan\\anaconda3\\envs\\ml_com\\lib\\site-packages\\lightgbm\\sklearn.py:736: UserWarning: 'verbose' argument is deprecated and will be removed in a future release of LightGBM. Pass 'log_evaluation()' callback via 'callbacks' argument instead.\n",
            "  _log_warning(\"'verbose' argument is deprecated and will be removed in a future release of LightGBM. \"\n",
            "C:\\Users\\Toan\\anaconda3\\envs\\ml_com\\lib\\site-packages\\lightgbm\\basic.py:1487: UserWarning: categorical_feature keyword has been found in `params` and will be ignored.\n",
            "Please use categorical_feature argument of the Dataset constructor to pass this parameter.\n",
            "  _log_warning(f'{key} keyword has been found in `params` and will be ignored.\\n'\n",
            "C:\\Users\\Toan\\anaconda3\\envs\\ml_com\\lib\\site-packages\\lightgbm\\basic.py:1513: UserWarning: categorical_feature in param dict is overridden.\n",
            "  _log_warning(f'{cat_alias} in param dict is overridden.')\n"
          ]
        },
        {
          "name": "stdout",
          "output_type": "stream",
          "text": [
            "F1_SCORE:  0.8027 \n",
            "\n",
            "[LightGBM] [Warning] feature_fraction is set=0.6610826751363293, colsample_bytree=1.0 will be ignored. Current value: feature_fraction=0.6610826751363293\n",
            "[LightGBM] [Warning] bagging_fraction is set=0.8365108526820493, subsample=1.0 will be ignored. Current value: bagging_fraction=0.8365108526820493\n"
          ]
        },
        {
          "name": "stderr",
          "output_type": "stream",
          "text": [
            "C:\\Users\\Toan\\anaconda3\\envs\\ml_com\\lib\\site-packages\\lightgbm\\sklearn.py:736: UserWarning: 'verbose' argument is deprecated and will be removed in a future release of LightGBM. Pass 'log_evaluation()' callback via 'callbacks' argument instead.\n",
            "  _log_warning(\"'verbose' argument is deprecated and will be removed in a future release of LightGBM. \"\n",
            "C:\\Users\\Toan\\anaconda3\\envs\\ml_com\\lib\\site-packages\\lightgbm\\basic.py:1487: UserWarning: categorical_feature keyword has been found in `params` and will be ignored.\n",
            "Please use categorical_feature argument of the Dataset constructor to pass this parameter.\n",
            "  _log_warning(f'{key} keyword has been found in `params` and will be ignored.\\n'\n",
            "C:\\Users\\Toan\\anaconda3\\envs\\ml_com\\lib\\site-packages\\lightgbm\\basic.py:1513: UserWarning: categorical_feature in param dict is overridden.\n",
            "  _log_warning(f'{cat_alias} in param dict is overridden.')\n",
            "\u001b[32m[I 2022-04-18 23:05:35,834]\u001b[0m Trial 37 finished with value: 0.6389313211168756 and parameters: {'num_leaves': 7, 'n_estimators': 476, 'learning_rate': 0.1285247864241788, 'feature_fraction': 0.6610826751363293, 'bagging_fraction': 0.8365108526820493}. Best is trial 33 with value: 0.804340488458444.\u001b[0m\n"
          ]
        },
        {
          "name": "stdout",
          "output_type": "stream",
          "text": [
            "F1_SCORE:  0.6212 \n",
            "\n",
            "[LightGBM] [Warning] feature_fraction is set=0.634593091564967, colsample_bytree=1.0 will be ignored. Current value: feature_fraction=0.634593091564967\n"
          ]
        },
        {
          "name": "stderr",
          "output_type": "stream",
          "text": [
            "C:\\Users\\Toan\\anaconda3\\envs\\ml_com\\lib\\site-packages\\lightgbm\\sklearn.py:736: UserWarning: 'verbose' argument is deprecated and will be removed in a future release of LightGBM. Pass 'log_evaluation()' callback via 'callbacks' argument instead.\n",
            "  _log_warning(\"'verbose' argument is deprecated and will be removed in a future release of LightGBM. \"\n",
            "C:\\Users\\Toan\\anaconda3\\envs\\ml_com\\lib\\site-packages\\lightgbm\\basic.py:1487: UserWarning: categorical_feature keyword has been found in `params` and will be ignored.\n",
            "Please use categorical_feature argument of the Dataset constructor to pass this parameter.\n",
            "  _log_warning(f'{key} keyword has been found in `params` and will be ignored.\\n'\n",
            "C:\\Users\\Toan\\anaconda3\\envs\\ml_com\\lib\\site-packages\\lightgbm\\basic.py:1513: UserWarning: categorical_feature in param dict is overridden.\n",
            "  _log_warning(f'{cat_alias} in param dict is overridden.')\n"
          ]
        },
        {
          "name": "stdout",
          "output_type": "stream",
          "text": [
            "[LightGBM] [Warning] bagging_fraction is set=0.8942314944718945, subsample=1.0 will be ignored. Current value: bagging_fraction=0.8942314944718945\n",
            "F1_SCORE:  0.3481 \n",
            "\n",
            "[LightGBM] [Warning] feature_fraction is set=0.634593091564967, colsample_bytree=1.0 will be ignored. Current value: feature_fraction=0.634593091564967\n",
            "[LightGBM] [Warning] bagging_fraction is set=0.8942314944718945, subsample=1.0 will be ignored. Current value: bagging_fraction=0.8942314944718945\n"
          ]
        },
        {
          "name": "stderr",
          "output_type": "stream",
          "text": [
            "C:\\Users\\Toan\\anaconda3\\envs\\ml_com\\lib\\site-packages\\lightgbm\\sklearn.py:736: UserWarning: 'verbose' argument is deprecated and will be removed in a future release of LightGBM. Pass 'log_evaluation()' callback via 'callbacks' argument instead.\n",
            "  _log_warning(\"'verbose' argument is deprecated and will be removed in a future release of LightGBM. \"\n",
            "C:\\Users\\Toan\\anaconda3\\envs\\ml_com\\lib\\site-packages\\lightgbm\\basic.py:1487: UserWarning: categorical_feature keyword has been found in `params` and will be ignored.\n",
            "Please use categorical_feature argument of the Dataset constructor to pass this parameter.\n",
            "  _log_warning(f'{key} keyword has been found in `params` and will be ignored.\\n'\n",
            "C:\\Users\\Toan\\anaconda3\\envs\\ml_com\\lib\\site-packages\\lightgbm\\basic.py:1513: UserWarning: categorical_feature in param dict is overridden.\n",
            "  _log_warning(f'{cat_alias} in param dict is overridden.')\n"
          ]
        },
        {
          "name": "stdout",
          "output_type": "stream",
          "text": [
            "F1_SCORE:  0.4588 \n",
            "\n",
            "[LightGBM] [Warning] feature_fraction is set=0.634593091564967, colsample_bytree=1.0 will be ignored. Current value: feature_fraction=0.634593091564967\n",
            "[LightGBM] [Warning] bagging_fraction is set=0.8942314944718945, subsample=1.0 will be ignored. Current value: bagging_fraction=0.8942314944718945\n"
          ]
        },
        {
          "name": "stderr",
          "output_type": "stream",
          "text": [
            "C:\\Users\\Toan\\anaconda3\\envs\\ml_com\\lib\\site-packages\\lightgbm\\sklearn.py:736: UserWarning: 'verbose' argument is deprecated and will be removed in a future release of LightGBM. Pass 'log_evaluation()' callback via 'callbacks' argument instead.\n",
            "  _log_warning(\"'verbose' argument is deprecated and will be removed in a future release of LightGBM. \"\n",
            "C:\\Users\\Toan\\anaconda3\\envs\\ml_com\\lib\\site-packages\\lightgbm\\basic.py:1487: UserWarning: categorical_feature keyword has been found in `params` and will be ignored.\n",
            "Please use categorical_feature argument of the Dataset constructor to pass this parameter.\n",
            "  _log_warning(f'{key} keyword has been found in `params` and will be ignored.\\n'\n",
            "C:\\Users\\Toan\\anaconda3\\envs\\ml_com\\lib\\site-packages\\lightgbm\\basic.py:1513: UserWarning: categorical_feature in param dict is overridden.\n",
            "  _log_warning(f'{cat_alias} in param dict is overridden.')\n"
          ]
        },
        {
          "name": "stdout",
          "output_type": "stream",
          "text": [
            "F1_SCORE:  0.2811 \n",
            "\n",
            "[LightGBM] [Warning] feature_fraction is set=0.634593091564967, colsample_bytree=1.0 will be ignored. Current value: feature_fraction=0.634593091564967\n",
            "[LightGBM] [Warning] bagging_fraction is set=0.8942314944718945, subsample=1.0 will be ignored. Current value: bagging_fraction=0.8942314944718945\n"
          ]
        },
        {
          "name": "stderr",
          "output_type": "stream",
          "text": [
            "C:\\Users\\Toan\\anaconda3\\envs\\ml_com\\lib\\site-packages\\lightgbm\\sklearn.py:736: UserWarning: 'verbose' argument is deprecated and will be removed in a future release of LightGBM. Pass 'log_evaluation()' callback via 'callbacks' argument instead.\n",
            "  _log_warning(\"'verbose' argument is deprecated and will be removed in a future release of LightGBM. \"\n",
            "C:\\Users\\Toan\\anaconda3\\envs\\ml_com\\lib\\site-packages\\lightgbm\\basic.py:1487: UserWarning: categorical_feature keyword has been found in `params` and will be ignored.\n",
            "Please use categorical_feature argument of the Dataset constructor to pass this parameter.\n",
            "  _log_warning(f'{key} keyword has been found in `params` and will be ignored.\\n'\n",
            "C:\\Users\\Toan\\anaconda3\\envs\\ml_com\\lib\\site-packages\\lightgbm\\basic.py:1513: UserWarning: categorical_feature in param dict is overridden.\n",
            "  _log_warning(f'{cat_alias} in param dict is overridden.')\n"
          ]
        },
        {
          "name": "stdout",
          "output_type": "stream",
          "text": [
            "F1_SCORE:  0.3043 \n",
            "\n",
            "[LightGBM] [Warning] feature_fraction is set=0.634593091564967, colsample_bytree=1.0 will be ignored. Current value: feature_fraction=0.634593091564967\n",
            "[LightGBM] [Warning] bagging_fraction is set=0.8942314944718945, subsample=1.0 will be ignored. Current value: bagging_fraction=0.8942314944718945\n"
          ]
        },
        {
          "name": "stderr",
          "output_type": "stream",
          "text": [
            "C:\\Users\\Toan\\anaconda3\\envs\\ml_com\\lib\\site-packages\\lightgbm\\sklearn.py:736: UserWarning: 'verbose' argument is deprecated and will be removed in a future release of LightGBM. Pass 'log_evaluation()' callback via 'callbacks' argument instead.\n",
            "  _log_warning(\"'verbose' argument is deprecated and will be removed in a future release of LightGBM. \"\n",
            "C:\\Users\\Toan\\anaconda3\\envs\\ml_com\\lib\\site-packages\\lightgbm\\basic.py:1487: UserWarning: categorical_feature keyword has been found in `params` and will be ignored.\n",
            "Please use categorical_feature argument of the Dataset constructor to pass this parameter.\n",
            "  _log_warning(f'{key} keyword has been found in `params` and will be ignored.\\n'\n",
            "C:\\Users\\Toan\\anaconda3\\envs\\ml_com\\lib\\site-packages\\lightgbm\\basic.py:1513: UserWarning: categorical_feature in param dict is overridden.\n",
            "  _log_warning(f'{cat_alias} in param dict is overridden.')\n",
            "\u001b[32m[I 2022-04-18 23:06:19,231]\u001b[0m Trial 38 finished with value: 0.35170311529817033 and parameters: {'num_leaves': 8, 'n_estimators': 338, 'learning_rate': 0.7620741525352577, 'feature_fraction': 0.634593091564967, 'bagging_fraction': 0.8942314944718945}. Best is trial 33 with value: 0.804340488458444.\u001b[0m\n"
          ]
        },
        {
          "name": "stdout",
          "output_type": "stream",
          "text": [
            "F1_SCORE:  0.3662 \n",
            "\n",
            "[LightGBM] [Warning] feature_fraction is set=0.7900926028491161, colsample_bytree=1.0 will be ignored. Current value: feature_fraction=0.7900926028491161\n",
            "[LightGBM] [Warning] bagging_fraction is set=0.7746443499929081, subsample=1.0 will be ignored. Current value: bagging_fraction=0.7746443499929081\n"
          ]
        },
        {
          "name": "stderr",
          "output_type": "stream",
          "text": [
            "C:\\Users\\Toan\\anaconda3\\envs\\ml_com\\lib\\site-packages\\lightgbm\\sklearn.py:736: UserWarning: 'verbose' argument is deprecated and will be removed in a future release of LightGBM. Pass 'log_evaluation()' callback via 'callbacks' argument instead.\n",
            "  _log_warning(\"'verbose' argument is deprecated and will be removed in a future release of LightGBM. \"\n",
            "C:\\Users\\Toan\\anaconda3\\envs\\ml_com\\lib\\site-packages\\lightgbm\\basic.py:1487: UserWarning: categorical_feature keyword has been found in `params` and will be ignored.\n",
            "Please use categorical_feature argument of the Dataset constructor to pass this parameter.\n",
            "  _log_warning(f'{key} keyword has been found in `params` and will be ignored.\\n'\n",
            "C:\\Users\\Toan\\anaconda3\\envs\\ml_com\\lib\\site-packages\\lightgbm\\basic.py:1513: UserWarning: categorical_feature in param dict is overridden.\n",
            "  _log_warning(f'{cat_alias} in param dict is overridden.')\n"
          ]
        },
        {
          "name": "stdout",
          "output_type": "stream",
          "text": [
            "F1_SCORE:  0.8067 \n",
            "\n",
            "[LightGBM] [Warning] feature_fraction is set=0.7900926028491161, colsample_bytree=1.0 will be ignored. Current value: feature_fraction=0.7900926028491161\n",
            "[LightGBM] [Warning] bagging_fraction is set=0.7746443499929081, subsample=1.0 will be ignored. Current value: bagging_fraction=0.7746443499929081\n"
          ]
        },
        {
          "name": "stderr",
          "output_type": "stream",
          "text": [
            "C:\\Users\\Toan\\anaconda3\\envs\\ml_com\\lib\\site-packages\\lightgbm\\sklearn.py:736: UserWarning: 'verbose' argument is deprecated and will be removed in a future release of LightGBM. Pass 'log_evaluation()' callback via 'callbacks' argument instead.\n",
            "  _log_warning(\"'verbose' argument is deprecated and will be removed in a future release of LightGBM. \"\n",
            "C:\\Users\\Toan\\anaconda3\\envs\\ml_com\\lib\\site-packages\\lightgbm\\basic.py:1487: UserWarning: categorical_feature keyword has been found in `params` and will be ignored.\n",
            "Please use categorical_feature argument of the Dataset constructor to pass this parameter.\n",
            "  _log_warning(f'{key} keyword has been found in `params` and will be ignored.\\n'\n",
            "C:\\Users\\Toan\\anaconda3\\envs\\ml_com\\lib\\site-packages\\lightgbm\\basic.py:1513: UserWarning: categorical_feature in param dict is overridden.\n",
            "  _log_warning(f'{cat_alias} in param dict is overridden.')\n"
          ]
        },
        {
          "name": "stdout",
          "output_type": "stream",
          "text": [
            "F1_SCORE:  0.7814 \n",
            "\n",
            "[LightGBM] [Warning] feature_fraction is set=0.7900926028491161, colsample_bytree=1.0 will be ignored. Current value: feature_fraction=0.7900926028491161\n",
            "[LightGBM] [Warning] bagging_fraction is set=0.7746443499929081, subsample=1.0 will be ignored. Current value: bagging_fraction=0.7746443499929081\n"
          ]
        },
        {
          "name": "stderr",
          "output_type": "stream",
          "text": [
            "C:\\Users\\Toan\\anaconda3\\envs\\ml_com\\lib\\site-packages\\lightgbm\\sklearn.py:736: UserWarning: 'verbose' argument is deprecated and will be removed in a future release of LightGBM. Pass 'log_evaluation()' callback via 'callbacks' argument instead.\n",
            "  _log_warning(\"'verbose' argument is deprecated and will be removed in a future release of LightGBM. \"\n",
            "C:\\Users\\Toan\\anaconda3\\envs\\ml_com\\lib\\site-packages\\lightgbm\\basic.py:1487: UserWarning: categorical_feature keyword has been found in `params` and will be ignored.\n",
            "Please use categorical_feature argument of the Dataset constructor to pass this parameter.\n",
            "  _log_warning(f'{key} keyword has been found in `params` and will be ignored.\\n'\n",
            "C:\\Users\\Toan\\anaconda3\\envs\\ml_com\\lib\\site-packages\\lightgbm\\basic.py:1513: UserWarning: categorical_feature in param dict is overridden.\n",
            "  _log_warning(f'{cat_alias} in param dict is overridden.')\n"
          ]
        },
        {
          "name": "stdout",
          "output_type": "stream",
          "text": [
            "F1_SCORE:  0.839 \n",
            "\n",
            "[LightGBM] [Warning] feature_fraction is set=0.7900926028491161, colsample_bytree=1.0 will be ignored. Current value: feature_fraction=0.7900926028491161\n",
            "[LightGBM] [Warning] bagging_fraction is set=0.7746443499929081, subsample=1.0 will be ignored. Current value: bagging_fraction=0.7746443499929081\n"
          ]
        },
        {
          "name": "stderr",
          "output_type": "stream",
          "text": [
            "C:\\Users\\Toan\\anaconda3\\envs\\ml_com\\lib\\site-packages\\lightgbm\\sklearn.py:736: UserWarning: 'verbose' argument is deprecated and will be removed in a future release of LightGBM. Pass 'log_evaluation()' callback via 'callbacks' argument instead.\n",
            "  _log_warning(\"'verbose' argument is deprecated and will be removed in a future release of LightGBM. \"\n",
            "C:\\Users\\Toan\\anaconda3\\envs\\ml_com\\lib\\site-packages\\lightgbm\\basic.py:1487: UserWarning: categorical_feature keyword has been found in `params` and will be ignored.\n",
            "Please use categorical_feature argument of the Dataset constructor to pass this parameter.\n",
            "  _log_warning(f'{key} keyword has been found in `params` and will be ignored.\\n'\n",
            "C:\\Users\\Toan\\anaconda3\\envs\\ml_com\\lib\\site-packages\\lightgbm\\basic.py:1513: UserWarning: categorical_feature in param dict is overridden.\n",
            "  _log_warning(f'{cat_alias} in param dict is overridden.')\n"
          ]
        },
        {
          "name": "stdout",
          "output_type": "stream",
          "text": [
            "F1_SCORE:  0.8257 \n",
            "\n",
            "[LightGBM] [Warning] feature_fraction is set=0.7900926028491161, colsample_bytree=1.0 will be ignored. Current value: feature_fraction=0.7900926028491161\n",
            "[LightGBM] [Warning] bagging_fraction is set=0.7746443499929081, subsample=1.0 will be ignored. Current value: bagging_fraction=0.7746443499929081\n"
          ]
        },
        {
          "name": "stderr",
          "output_type": "stream",
          "text": [
            "C:\\Users\\Toan\\anaconda3\\envs\\ml_com\\lib\\site-packages\\lightgbm\\sklearn.py:736: UserWarning: 'verbose' argument is deprecated and will be removed in a future release of LightGBM. Pass 'log_evaluation()' callback via 'callbacks' argument instead.\n",
            "  _log_warning(\"'verbose' argument is deprecated and will be removed in a future release of LightGBM. \"\n",
            "C:\\Users\\Toan\\anaconda3\\envs\\ml_com\\lib\\site-packages\\lightgbm\\basic.py:1487: UserWarning: categorical_feature keyword has been found in `params` and will be ignored.\n",
            "Please use categorical_feature argument of the Dataset constructor to pass this parameter.\n",
            "  _log_warning(f'{key} keyword has been found in `params` and will be ignored.\\n'\n",
            "C:\\Users\\Toan\\anaconda3\\envs\\ml_com\\lib\\site-packages\\lightgbm\\basic.py:1513: UserWarning: categorical_feature in param dict is overridden.\n",
            "  _log_warning(f'{cat_alias} in param dict is overridden.')\n",
            "\u001b[32m[I 2022-04-18 23:09:30,329]\u001b[0m Trial 39 finished with value: 0.8099290842156943 and parameters: {'num_leaves': 12, 'n_estimators': 588, 'learning_rate': 0.05473800714730781, 'feature_fraction': 0.7900926028491161, 'bagging_fraction': 0.7746443499929081}. Best is trial 39 with value: 0.8099290842156943.\u001b[0m\n"
          ]
        },
        {
          "name": "stdout",
          "output_type": "stream",
          "text": [
            "F1_SCORE:  0.7969 \n",
            "\n",
            "[LightGBM] [Warning] feature_fraction is set=0.7830717354089556, colsample_bytree=1.0 will be ignored. Current value: feature_fraction=0.7830717354089556\n",
            "[LightGBM] [Warning] bagging_fraction is set=0.7807370624462594, subsample=1.0 will be ignored. Current value: bagging_fraction=0.7807370624462594\n"
          ]
        },
        {
          "name": "stderr",
          "output_type": "stream",
          "text": [
            "C:\\Users\\Toan\\anaconda3\\envs\\ml_com\\lib\\site-packages\\lightgbm\\sklearn.py:736: UserWarning: 'verbose' argument is deprecated and will be removed in a future release of LightGBM. Pass 'log_evaluation()' callback via 'callbacks' argument instead.\n",
            "  _log_warning(\"'verbose' argument is deprecated and will be removed in a future release of LightGBM. \"\n",
            "C:\\Users\\Toan\\anaconda3\\envs\\ml_com\\lib\\site-packages\\lightgbm\\basic.py:1487: UserWarning: categorical_feature keyword has been found in `params` and will be ignored.\n",
            "Please use categorical_feature argument of the Dataset constructor to pass this parameter.\n",
            "  _log_warning(f'{key} keyword has been found in `params` and will be ignored.\\n'\n",
            "C:\\Users\\Toan\\anaconda3\\envs\\ml_com\\lib\\site-packages\\lightgbm\\basic.py:1513: UserWarning: categorical_feature in param dict is overridden.\n",
            "  _log_warning(f'{cat_alias} in param dict is overridden.')\n"
          ]
        },
        {
          "name": "stdout",
          "output_type": "stream",
          "text": [
            "F1_SCORE:  0.3653 \n",
            "\n",
            "[LightGBM] [Warning] feature_fraction is set=0.7830717354089556, colsample_bytree=1.0 will be ignored. Current value: feature_fraction=0.7830717354089556\n",
            "[LightGBM] [Warning] bagging_fraction is set=0.7807370624462594, subsample=1.0 will be ignored. Current value: bagging_fraction=0.7807370624462594\n"
          ]
        },
        {
          "name": "stderr",
          "output_type": "stream",
          "text": [
            "C:\\Users\\Toan\\anaconda3\\envs\\ml_com\\lib\\site-packages\\lightgbm\\sklearn.py:736: UserWarning: 'verbose' argument is deprecated and will be removed in a future release of LightGBM. Pass 'log_evaluation()' callback via 'callbacks' argument instead.\n",
            "  _log_warning(\"'verbose' argument is deprecated and will be removed in a future release of LightGBM. \"\n",
            "C:\\Users\\Toan\\anaconda3\\envs\\ml_com\\lib\\site-packages\\lightgbm\\basic.py:1487: UserWarning: categorical_feature keyword has been found in `params` and will be ignored.\n",
            "Please use categorical_feature argument of the Dataset constructor to pass this parameter.\n",
            "  _log_warning(f'{key} keyword has been found in `params` and will be ignored.\\n'\n",
            "C:\\Users\\Toan\\anaconda3\\envs\\ml_com\\lib\\site-packages\\lightgbm\\basic.py:1513: UserWarning: categorical_feature in param dict is overridden.\n",
            "  _log_warning(f'{cat_alias} in param dict is overridden.')\n"
          ]
        },
        {
          "name": "stdout",
          "output_type": "stream",
          "text": [
            "F1_SCORE:  0.2195 \n",
            "\n",
            "[LightGBM] [Warning] feature_fraction is set=0.7830717354089556, colsample_bytree=1.0 will be ignored. Current value: feature_fraction=0.7830717354089556\n",
            "[LightGBM] [Warning] bagging_fraction is set=0.7807370624462594, subsample=1.0 will be ignored. Current value: bagging_fraction=0.7807370624462594\n"
          ]
        },
        {
          "name": "stderr",
          "output_type": "stream",
          "text": [
            "C:\\Users\\Toan\\anaconda3\\envs\\ml_com\\lib\\site-packages\\lightgbm\\sklearn.py:736: UserWarning: 'verbose' argument is deprecated and will be removed in a future release of LightGBM. Pass 'log_evaluation()' callback via 'callbacks' argument instead.\n",
            "  _log_warning(\"'verbose' argument is deprecated and will be removed in a future release of LightGBM. \"\n",
            "C:\\Users\\Toan\\anaconda3\\envs\\ml_com\\lib\\site-packages\\lightgbm\\basic.py:1487: UserWarning: categorical_feature keyword has been found in `params` and will be ignored.\n",
            "Please use categorical_feature argument of the Dataset constructor to pass this parameter.\n",
            "  _log_warning(f'{key} keyword has been found in `params` and will be ignored.\\n'\n",
            "C:\\Users\\Toan\\anaconda3\\envs\\ml_com\\lib\\site-packages\\lightgbm\\basic.py:1513: UserWarning: categorical_feature in param dict is overridden.\n",
            "  _log_warning(f'{cat_alias} in param dict is overridden.')\n"
          ]
        },
        {
          "name": "stdout",
          "output_type": "stream",
          "text": [
            "F1_SCORE:  0.37 \n",
            "\n",
            "[LightGBM] [Warning] feature_fraction is set=0.7830717354089556, colsample_bytree=1.0 will be ignored. Current value: feature_fraction=0.7830717354089556\n",
            "[LightGBM] [Warning] bagging_fraction is set=0.7807370624462594, subsample=1.0 will be ignored. Current value: bagging_fraction=0.7807370624462594\n"
          ]
        },
        {
          "name": "stderr",
          "output_type": "stream",
          "text": [
            "C:\\Users\\Toan\\anaconda3\\envs\\ml_com\\lib\\site-packages\\lightgbm\\sklearn.py:736: UserWarning: 'verbose' argument is deprecated and will be removed in a future release of LightGBM. Pass 'log_evaluation()' callback via 'callbacks' argument instead.\n",
            "  _log_warning(\"'verbose' argument is deprecated and will be removed in a future release of LightGBM. \"\n",
            "C:\\Users\\Toan\\anaconda3\\envs\\ml_com\\lib\\site-packages\\lightgbm\\basic.py:1487: UserWarning: categorical_feature keyword has been found in `params` and will be ignored.\n",
            "Please use categorical_feature argument of the Dataset constructor to pass this parameter.\n",
            "  _log_warning(f'{key} keyword has been found in `params` and will be ignored.\\n'\n",
            "C:\\Users\\Toan\\anaconda3\\envs\\ml_com\\lib\\site-packages\\lightgbm\\basic.py:1513: UserWarning: categorical_feature in param dict is overridden.\n",
            "  _log_warning(f'{cat_alias} in param dict is overridden.')\n"
          ]
        },
        {
          "name": "stdout",
          "output_type": "stream",
          "text": [
            "F1_SCORE:  0.3442 \n",
            "\n",
            "[LightGBM] [Warning] feature_fraction is set=0.7830717354089556, colsample_bytree=1.0 will be ignored. Current value: feature_fraction=0.7830717354089556\n",
            "[LightGBM] [Warning] bagging_fraction is set=0.7807370624462594, subsample=1.0 will be ignored. Current value: bagging_fraction=0.7807370624462594\n"
          ]
        },
        {
          "name": "stderr",
          "output_type": "stream",
          "text": [
            "C:\\Users\\Toan\\anaconda3\\envs\\ml_com\\lib\\site-packages\\lightgbm\\sklearn.py:736: UserWarning: 'verbose' argument is deprecated and will be removed in a future release of LightGBM. Pass 'log_evaluation()' callback via 'callbacks' argument instead.\n",
            "  _log_warning(\"'verbose' argument is deprecated and will be removed in a future release of LightGBM. \"\n",
            "C:\\Users\\Toan\\anaconda3\\envs\\ml_com\\lib\\site-packages\\lightgbm\\basic.py:1487: UserWarning: categorical_feature keyword has been found in `params` and will be ignored.\n",
            "Please use categorical_feature argument of the Dataset constructor to pass this parameter.\n",
            "  _log_warning(f'{key} keyword has been found in `params` and will be ignored.\\n'\n",
            "C:\\Users\\Toan\\anaconda3\\envs\\ml_com\\lib\\site-packages\\lightgbm\\basic.py:1513: UserWarning: categorical_feature in param dict is overridden.\n",
            "  _log_warning(f'{cat_alias} in param dict is overridden.')\n",
            "\u001b[32m[I 2022-04-18 23:11:58,764]\u001b[0m Trial 40 finished with value: 0.33385519253459317 and parameters: {'num_leaves': 12, 'n_estimators': 950, 'learning_rate': 0.3314384917797593, 'feature_fraction': 0.7830717354089556, 'bagging_fraction': 0.7807370624462594}. Best is trial 39 with value: 0.8099290842156943.\u001b[0m\n"
          ]
        },
        {
          "name": "stdout",
          "output_type": "stream",
          "text": [
            "F1_SCORE:  0.3703 \n",
            "\n",
            "[LightGBM] [Warning] feature_fraction is set=0.9125911608337296, colsample_bytree=1.0 will be ignored. Current value: feature_fraction=0.9125911608337296\n"
          ]
        },
        {
          "name": "stderr",
          "output_type": "stream",
          "text": [
            "C:\\Users\\Toan\\anaconda3\\envs\\ml_com\\lib\\site-packages\\lightgbm\\sklearn.py:736: UserWarning: 'verbose' argument is deprecated and will be removed in a future release of LightGBM. Pass 'log_evaluation()' callback via 'callbacks' argument instead.\n",
            "  _log_warning(\"'verbose' argument is deprecated and will be removed in a future release of LightGBM. \"\n",
            "C:\\Users\\Toan\\anaconda3\\envs\\ml_com\\lib\\site-packages\\lightgbm\\basic.py:1487: UserWarning: categorical_feature keyword has been found in `params` and will be ignored.\n",
            "Please use categorical_feature argument of the Dataset constructor to pass this parameter.\n",
            "  _log_warning(f'{key} keyword has been found in `params` and will be ignored.\\n'\n",
            "C:\\Users\\Toan\\anaconda3\\envs\\ml_com\\lib\\site-packages\\lightgbm\\basic.py:1513: UserWarning: categorical_feature in param dict is overridden.\n",
            "  _log_warning(f'{cat_alias} in param dict is overridden.')\n"
          ]
        },
        {
          "name": "stdout",
          "output_type": "stream",
          "text": [
            "[LightGBM] [Warning] bagging_fraction is set=0.6099589912189116, subsample=1.0 will be ignored. Current value: bagging_fraction=0.6099589912189116\n",
            "F1_SCORE:  0.8118 \n",
            "\n",
            "[LightGBM] [Warning] feature_fraction is set=0.9125911608337296, colsample_bytree=1.0 will be ignored. Current value: feature_fraction=0.9125911608337296\n",
            "[LightGBM] [Warning] bagging_fraction is set=0.6099589912189116, subsample=1.0 will be ignored. Current value: bagging_fraction=0.6099589912189116\n"
          ]
        },
        {
          "name": "stderr",
          "output_type": "stream",
          "text": [
            "C:\\Users\\Toan\\anaconda3\\envs\\ml_com\\lib\\site-packages\\lightgbm\\sklearn.py:736: UserWarning: 'verbose' argument is deprecated and will be removed in a future release of LightGBM. Pass 'log_evaluation()' callback via 'callbacks' argument instead.\n",
            "  _log_warning(\"'verbose' argument is deprecated and will be removed in a future release of LightGBM. \"\n",
            "C:\\Users\\Toan\\anaconda3\\envs\\ml_com\\lib\\site-packages\\lightgbm\\basic.py:1487: UserWarning: categorical_feature keyword has been found in `params` and will be ignored.\n",
            "Please use categorical_feature argument of the Dataset constructor to pass this parameter.\n",
            "  _log_warning(f'{key} keyword has been found in `params` and will be ignored.\\n'\n",
            "C:\\Users\\Toan\\anaconda3\\envs\\ml_com\\lib\\site-packages\\lightgbm\\basic.py:1513: UserWarning: categorical_feature in param dict is overridden.\n",
            "  _log_warning(f'{cat_alias} in param dict is overridden.')\n"
          ]
        },
        {
          "name": "stdout",
          "output_type": "stream",
          "text": [
            "F1_SCORE:  0.7889 \n",
            "\n",
            "[LightGBM] [Warning] feature_fraction is set=0.9125911608337296, colsample_bytree=1.0 will be ignored. Current value: feature_fraction=0.9125911608337296\n",
            "[LightGBM] [Warning] bagging_fraction is set=0.6099589912189116, subsample=1.0 will be ignored. Current value: bagging_fraction=0.6099589912189116\n"
          ]
        },
        {
          "name": "stderr",
          "output_type": "stream",
          "text": [
            "C:\\Users\\Toan\\anaconda3\\envs\\ml_com\\lib\\site-packages\\lightgbm\\sklearn.py:736: UserWarning: 'verbose' argument is deprecated and will be removed in a future release of LightGBM. Pass 'log_evaluation()' callback via 'callbacks' argument instead.\n",
            "  _log_warning(\"'verbose' argument is deprecated and will be removed in a future release of LightGBM. \"\n",
            "C:\\Users\\Toan\\anaconda3\\envs\\ml_com\\lib\\site-packages\\lightgbm\\basic.py:1487: UserWarning: categorical_feature keyword has been found in `params` and will be ignored.\n",
            "Please use categorical_feature argument of the Dataset constructor to pass this parameter.\n",
            "  _log_warning(f'{key} keyword has been found in `params` and will be ignored.\\n'\n",
            "C:\\Users\\Toan\\anaconda3\\envs\\ml_com\\lib\\site-packages\\lightgbm\\basic.py:1513: UserWarning: categorical_feature in param dict is overridden.\n",
            "  _log_warning(f'{cat_alias} in param dict is overridden.')\n"
          ]
        },
        {
          "name": "stdout",
          "output_type": "stream",
          "text": [
            "F1_SCORE:  0.8287 \n",
            "\n",
            "[LightGBM] [Warning] feature_fraction is set=0.9125911608337296, colsample_bytree=1.0 will be ignored. Current value: feature_fraction=0.9125911608337296\n",
            "[LightGBM] [Warning] bagging_fraction is set=0.6099589912189116, subsample=1.0 will be ignored. Current value: bagging_fraction=0.6099589912189116\n"
          ]
        },
        {
          "name": "stderr",
          "output_type": "stream",
          "text": [
            "C:\\Users\\Toan\\anaconda3\\envs\\ml_com\\lib\\site-packages\\lightgbm\\sklearn.py:736: UserWarning: 'verbose' argument is deprecated and will be removed in a future release of LightGBM. Pass 'log_evaluation()' callback via 'callbacks' argument instead.\n",
            "  _log_warning(\"'verbose' argument is deprecated and will be removed in a future release of LightGBM. \"\n",
            "C:\\Users\\Toan\\anaconda3\\envs\\ml_com\\lib\\site-packages\\lightgbm\\basic.py:1487: UserWarning: categorical_feature keyword has been found in `params` and will be ignored.\n",
            "Please use categorical_feature argument of the Dataset constructor to pass this parameter.\n",
            "  _log_warning(f'{key} keyword has been found in `params` and will be ignored.\\n'\n",
            "C:\\Users\\Toan\\anaconda3\\envs\\ml_com\\lib\\site-packages\\lightgbm\\basic.py:1513: UserWarning: categorical_feature in param dict is overridden.\n",
            "  _log_warning(f'{cat_alias} in param dict is overridden.')\n"
          ]
        },
        {
          "name": "stdout",
          "output_type": "stream",
          "text": [
            "F1_SCORE:  0.8298 \n",
            "\n",
            "[LightGBM] [Warning] feature_fraction is set=0.9125911608337296, colsample_bytree=1.0 will be ignored. Current value: feature_fraction=0.9125911608337296\n",
            "[LightGBM] [Warning] bagging_fraction is set=0.6099589912189116, subsample=1.0 will be ignored. Current value: bagging_fraction=0.6099589912189116\n"
          ]
        },
        {
          "name": "stderr",
          "output_type": "stream",
          "text": [
            "C:\\Users\\Toan\\anaconda3\\envs\\ml_com\\lib\\site-packages\\lightgbm\\sklearn.py:736: UserWarning: 'verbose' argument is deprecated and will be removed in a future release of LightGBM. Pass 'log_evaluation()' callback via 'callbacks' argument instead.\n",
            "  _log_warning(\"'verbose' argument is deprecated and will be removed in a future release of LightGBM. \"\n",
            "C:\\Users\\Toan\\anaconda3\\envs\\ml_com\\lib\\site-packages\\lightgbm\\basic.py:1487: UserWarning: categorical_feature keyword has been found in `params` and will be ignored.\n",
            "Please use categorical_feature argument of the Dataset constructor to pass this parameter.\n",
            "  _log_warning(f'{key} keyword has been found in `params` and will be ignored.\\n'\n",
            "C:\\Users\\Toan\\anaconda3\\envs\\ml_com\\lib\\site-packages\\lightgbm\\basic.py:1513: UserWarning: categorical_feature in param dict is overridden.\n",
            "  _log_warning(f'{cat_alias} in param dict is overridden.')\n",
            "\u001b[32m[I 2022-04-18 23:15:34,773]\u001b[0m Trial 41 finished with value: 0.8101751814855515 and parameters: {'num_leaves': 12, 'n_estimators': 606, 'learning_rate': 0.04758825215802909, 'feature_fraction': 0.9125911608337296, 'bagging_fraction': 0.6099589912189116}. Best is trial 41 with value: 0.8101751814855515.\u001b[0m\n"
          ]
        },
        {
          "name": "stdout",
          "output_type": "stream",
          "text": [
            "F1_SCORE:  0.7917 \n",
            "\n"
          ]
        },
        {
          "name": "stderr",
          "output_type": "stream",
          "text": [
            "C:\\Users\\Toan\\anaconda3\\envs\\ml_com\\lib\\site-packages\\lightgbm\\sklearn.py:736: UserWarning: 'verbose' argument is deprecated and will be removed in a future release of LightGBM. Pass 'log_evaluation()' callback via 'callbacks' argument instead.\n",
            "  _log_warning(\"'verbose' argument is deprecated and will be removed in a future release of LightGBM. \"\n",
            "C:\\Users\\Toan\\anaconda3\\envs\\ml_com\\lib\\site-packages\\lightgbm\\basic.py:1487: UserWarning: categorical_feature keyword has been found in `params` and will be ignored.\n",
            "Please use categorical_feature argument of the Dataset constructor to pass this parameter.\n",
            "  _log_warning(f'{key} keyword has been found in `params` and will be ignored.\\n'\n",
            "C:\\Users\\Toan\\anaconda3\\envs\\ml_com\\lib\\site-packages\\lightgbm\\basic.py:1513: UserWarning: categorical_feature in param dict is overridden.\n",
            "  _log_warning(f'{cat_alias} in param dict is overridden.')\n"
          ]
        },
        {
          "name": "stdout",
          "output_type": "stream",
          "text": [
            "[LightGBM] [Warning] feature_fraction is set=0.9270366725249224, colsample_bytree=1.0 will be ignored. Current value: feature_fraction=0.9270366725249224\n",
            "[LightGBM] [Warning] bagging_fraction is set=0.6490432081819215, subsample=1.0 will be ignored. Current value: bagging_fraction=0.6490432081819215\n",
            "F1_SCORE:  0.8076 \n",
            "\n",
            "[LightGBM] [Warning] feature_fraction is set=0.9270366725249224, colsample_bytree=1.0 will be ignored. Current value: feature_fraction=0.9270366725249224\n",
            "[LightGBM] [Warning] bagging_fraction is set=0.6490432081819215, subsample=1.0 will be ignored. Current value: bagging_fraction=0.6490432081819215\n"
          ]
        },
        {
          "name": "stderr",
          "output_type": "stream",
          "text": [
            "C:\\Users\\Toan\\anaconda3\\envs\\ml_com\\lib\\site-packages\\lightgbm\\sklearn.py:736: UserWarning: 'verbose' argument is deprecated and will be removed in a future release of LightGBM. Pass 'log_evaluation()' callback via 'callbacks' argument instead.\n",
            "  _log_warning(\"'verbose' argument is deprecated and will be removed in a future release of LightGBM. \"\n",
            "C:\\Users\\Toan\\anaconda3\\envs\\ml_com\\lib\\site-packages\\lightgbm\\basic.py:1487: UserWarning: categorical_feature keyword has been found in `params` and will be ignored.\n",
            "Please use categorical_feature argument of the Dataset constructor to pass this parameter.\n",
            "  _log_warning(f'{key} keyword has been found in `params` and will be ignored.\\n'\n",
            "C:\\Users\\Toan\\anaconda3\\envs\\ml_com\\lib\\site-packages\\lightgbm\\basic.py:1513: UserWarning: categorical_feature in param dict is overridden.\n",
            "  _log_warning(f'{cat_alias} in param dict is overridden.')\n"
          ]
        },
        {
          "name": "stdout",
          "output_type": "stream",
          "text": [
            "F1_SCORE:  0.7821 \n",
            "\n",
            "[LightGBM] [Warning] feature_fraction is set=0.9270366725249224, colsample_bytree=1.0 will be ignored. Current value: feature_fraction=0.9270366725249224\n",
            "[LightGBM] [Warning] bagging_fraction is set=0.6490432081819215, subsample=1.0 will be ignored. Current value: bagging_fraction=0.6490432081819215\n"
          ]
        },
        {
          "name": "stderr",
          "output_type": "stream",
          "text": [
            "C:\\Users\\Toan\\anaconda3\\envs\\ml_com\\lib\\site-packages\\lightgbm\\sklearn.py:736: UserWarning: 'verbose' argument is deprecated and will be removed in a future release of LightGBM. Pass 'log_evaluation()' callback via 'callbacks' argument instead.\n",
            "  _log_warning(\"'verbose' argument is deprecated and will be removed in a future release of LightGBM. \"\n",
            "C:\\Users\\Toan\\anaconda3\\envs\\ml_com\\lib\\site-packages\\lightgbm\\basic.py:1487: UserWarning: categorical_feature keyword has been found in `params` and will be ignored.\n",
            "Please use categorical_feature argument of the Dataset constructor to pass this parameter.\n",
            "  _log_warning(f'{key} keyword has been found in `params` and will be ignored.\\n'\n",
            "C:\\Users\\Toan\\anaconda3\\envs\\ml_com\\lib\\site-packages\\lightgbm\\basic.py:1513: UserWarning: categorical_feature in param dict is overridden.\n",
            "  _log_warning(f'{cat_alias} in param dict is overridden.')\n"
          ]
        },
        {
          "name": "stdout",
          "output_type": "stream",
          "text": [
            "F1_SCORE:  0.8282 \n",
            "\n",
            "[LightGBM] [Warning] feature_fraction is set=0.9270366725249224, colsample_bytree=1.0 will be ignored. Current value: feature_fraction=0.9270366725249224\n",
            "[LightGBM] [Warning] bagging_fraction is set=0.6490432081819215, subsample=1.0 will be ignored. Current value: bagging_fraction=0.6490432081819215\n"
          ]
        },
        {
          "name": "stderr",
          "output_type": "stream",
          "text": [
            "C:\\Users\\Toan\\anaconda3\\envs\\ml_com\\lib\\site-packages\\lightgbm\\sklearn.py:736: UserWarning: 'verbose' argument is deprecated and will be removed in a future release of LightGBM. Pass 'log_evaluation()' callback via 'callbacks' argument instead.\n",
            "  _log_warning(\"'verbose' argument is deprecated and will be removed in a future release of LightGBM. \"\n",
            "C:\\Users\\Toan\\anaconda3\\envs\\ml_com\\lib\\site-packages\\lightgbm\\basic.py:1487: UserWarning: categorical_feature keyword has been found in `params` and will be ignored.\n",
            "Please use categorical_feature argument of the Dataset constructor to pass this parameter.\n",
            "  _log_warning(f'{key} keyword has been found in `params` and will be ignored.\\n'\n",
            "C:\\Users\\Toan\\anaconda3\\envs\\ml_com\\lib\\site-packages\\lightgbm\\basic.py:1513: UserWarning: categorical_feature in param dict is overridden.\n",
            "  _log_warning(f'{cat_alias} in param dict is overridden.')\n"
          ]
        },
        {
          "name": "stdout",
          "output_type": "stream",
          "text": [
            "F1_SCORE:  0.8131 \n",
            "\n",
            "[LightGBM] [Warning] feature_fraction is set=0.9270366725249224, colsample_bytree=1.0 will be ignored. Current value: feature_fraction=0.9270366725249224\n",
            "[LightGBM] [Warning] bagging_fraction is set=0.6490432081819215, subsample=1.0 will be ignored. Current value: bagging_fraction=0.6490432081819215\n"
          ]
        },
        {
          "name": "stderr",
          "output_type": "stream",
          "text": [
            "C:\\Users\\Toan\\anaconda3\\envs\\ml_com\\lib\\site-packages\\lightgbm\\sklearn.py:736: UserWarning: 'verbose' argument is deprecated and will be removed in a future release of LightGBM. Pass 'log_evaluation()' callback via 'callbacks' argument instead.\n",
            "  _log_warning(\"'verbose' argument is deprecated and will be removed in a future release of LightGBM. \"\n",
            "C:\\Users\\Toan\\anaconda3\\envs\\ml_com\\lib\\site-packages\\lightgbm\\basic.py:1487: UserWarning: categorical_feature keyword has been found in `params` and will be ignored.\n",
            "Please use categorical_feature argument of the Dataset constructor to pass this parameter.\n",
            "  _log_warning(f'{key} keyword has been found in `params` and will be ignored.\\n'\n",
            "C:\\Users\\Toan\\anaconda3\\envs\\ml_com\\lib\\site-packages\\lightgbm\\basic.py:1513: UserWarning: categorical_feature in param dict is overridden.\n",
            "  _log_warning(f'{cat_alias} in param dict is overridden.')\n",
            "\u001b[32m[I 2022-04-18 23:19:10,529]\u001b[0m Trial 42 finished with value: 0.804427766787627 and parameters: {'num_leaves': 12, 'n_estimators': 605, 'learning_rate': 0.05074665092681257, 'feature_fraction': 0.9270366725249224, 'bagging_fraction': 0.6490432081819215}. Best is trial 41 with value: 0.8101751814855515.\u001b[0m\n"
          ]
        },
        {
          "name": "stdout",
          "output_type": "stream",
          "text": [
            "F1_SCORE:  0.7911 \n",
            "\n",
            "[LightGBM] [Warning] feature_fraction is set=0.9408235052513154, colsample_bytree=1.0 will be ignored. Current value: feature_fraction=0.9408235052513154\n"
          ]
        },
        {
          "name": "stderr",
          "output_type": "stream",
          "text": [
            "C:\\Users\\Toan\\anaconda3\\envs\\ml_com\\lib\\site-packages\\lightgbm\\sklearn.py:736: UserWarning: 'verbose' argument is deprecated and will be removed in a future release of LightGBM. Pass 'log_evaluation()' callback via 'callbacks' argument instead.\n",
            "  _log_warning(\"'verbose' argument is deprecated and will be removed in a future release of LightGBM. \"\n",
            "C:\\Users\\Toan\\anaconda3\\envs\\ml_com\\lib\\site-packages\\lightgbm\\basic.py:1487: UserWarning: categorical_feature keyword has been found in `params` and will be ignored.\n",
            "Please use categorical_feature argument of the Dataset constructor to pass this parameter.\n",
            "  _log_warning(f'{key} keyword has been found in `params` and will be ignored.\\n'\n",
            "C:\\Users\\Toan\\anaconda3\\envs\\ml_com\\lib\\site-packages\\lightgbm\\basic.py:1513: UserWarning: categorical_feature in param dict is overridden.\n",
            "  _log_warning(f'{cat_alias} in param dict is overridden.')\n"
          ]
        },
        {
          "name": "stdout",
          "output_type": "stream",
          "text": [
            "[LightGBM] [Warning] bagging_fraction is set=0.6164647539507578, subsample=1.0 will be ignored. Current value: bagging_fraction=0.6164647539507578\n",
            "F1_SCORE:  0.8044 \n",
            "\n",
            "[LightGBM] [Warning] feature_fraction is set=0.9408235052513154, colsample_bytree=1.0 will be ignored. Current value: feature_fraction=0.9408235052513154\n",
            "[LightGBM] [Warning] bagging_fraction is set=0.6164647539507578, subsample=1.0 will be ignored. Current value: bagging_fraction=0.6164647539507578\n"
          ]
        },
        {
          "name": "stderr",
          "output_type": "stream",
          "text": [
            "C:\\Users\\Toan\\anaconda3\\envs\\ml_com\\lib\\site-packages\\lightgbm\\sklearn.py:736: UserWarning: 'verbose' argument is deprecated and will be removed in a future release of LightGBM. Pass 'log_evaluation()' callback via 'callbacks' argument instead.\n",
            "  _log_warning(\"'verbose' argument is deprecated and will be removed in a future release of LightGBM. \"\n",
            "C:\\Users\\Toan\\anaconda3\\envs\\ml_com\\lib\\site-packages\\lightgbm\\basic.py:1487: UserWarning: categorical_feature keyword has been found in `params` and will be ignored.\n",
            "Please use categorical_feature argument of the Dataset constructor to pass this parameter.\n",
            "  _log_warning(f'{key} keyword has been found in `params` and will be ignored.\\n'\n",
            "C:\\Users\\Toan\\anaconda3\\envs\\ml_com\\lib\\site-packages\\lightgbm\\basic.py:1513: UserWarning: categorical_feature in param dict is overridden.\n",
            "  _log_warning(f'{cat_alias} in param dict is overridden.')\n"
          ]
        },
        {
          "name": "stdout",
          "output_type": "stream",
          "text": [
            "F1_SCORE:  0.7856 \n",
            "\n",
            "[LightGBM] [Warning] feature_fraction is set=0.9408235052513154, colsample_bytree=1.0 will be ignored. Current value: feature_fraction=0.9408235052513154\n",
            "[LightGBM] [Warning] bagging_fraction is set=0.6164647539507578, subsample=1.0 will be ignored. Current value: bagging_fraction=0.6164647539507578\n"
          ]
        },
        {
          "name": "stderr",
          "output_type": "stream",
          "text": [
            "C:\\Users\\Toan\\anaconda3\\envs\\ml_com\\lib\\site-packages\\lightgbm\\sklearn.py:736: UserWarning: 'verbose' argument is deprecated and will be removed in a future release of LightGBM. Pass 'log_evaluation()' callback via 'callbacks' argument instead.\n",
            "  _log_warning(\"'verbose' argument is deprecated and will be removed in a future release of LightGBM. \"\n",
            "C:\\Users\\Toan\\anaconda3\\envs\\ml_com\\lib\\site-packages\\lightgbm\\basic.py:1487: UserWarning: categorical_feature keyword has been found in `params` and will be ignored.\n",
            "Please use categorical_feature argument of the Dataset constructor to pass this parameter.\n",
            "  _log_warning(f'{key} keyword has been found in `params` and will be ignored.\\n'\n",
            "C:\\Users\\Toan\\anaconda3\\envs\\ml_com\\lib\\site-packages\\lightgbm\\basic.py:1513: UserWarning: categorical_feature in param dict is overridden.\n",
            "  _log_warning(f'{cat_alias} in param dict is overridden.')\n"
          ]
        },
        {
          "name": "stdout",
          "output_type": "stream",
          "text": [
            "F1_SCORE:  0.8327 \n",
            "\n",
            "[LightGBM] [Warning] feature_fraction is set=0.9408235052513154, colsample_bytree=1.0 will be ignored. Current value: feature_fraction=0.9408235052513154\n",
            "[LightGBM] [Warning] bagging_fraction is set=0.6164647539507578, subsample=1.0 will be ignored. Current value: bagging_fraction=0.6164647539507578\n"
          ]
        },
        {
          "name": "stderr",
          "output_type": "stream",
          "text": [
            "C:\\Users\\Toan\\anaconda3\\envs\\ml_com\\lib\\site-packages\\lightgbm\\sklearn.py:736: UserWarning: 'verbose' argument is deprecated and will be removed in a future release of LightGBM. Pass 'log_evaluation()' callback via 'callbacks' argument instead.\n",
            "  _log_warning(\"'verbose' argument is deprecated and will be removed in a future release of LightGBM. \"\n",
            "C:\\Users\\Toan\\anaconda3\\envs\\ml_com\\lib\\site-packages\\lightgbm\\basic.py:1487: UserWarning: categorical_feature keyword has been found in `params` and will be ignored.\n",
            "Please use categorical_feature argument of the Dataset constructor to pass this parameter.\n",
            "  _log_warning(f'{key} keyword has been found in `params` and will be ignored.\\n'\n",
            "C:\\Users\\Toan\\anaconda3\\envs\\ml_com\\lib\\site-packages\\lightgbm\\basic.py:1513: UserWarning: categorical_feature in param dict is overridden.\n",
            "  _log_warning(f'{cat_alias} in param dict is overridden.')\n"
          ]
        },
        {
          "name": "stdout",
          "output_type": "stream",
          "text": [
            "F1_SCORE:  0.8291 \n",
            "\n",
            "[LightGBM] [Warning] feature_fraction is set=0.9408235052513154, colsample_bytree=1.0 will be ignored. Current value: feature_fraction=0.9408235052513154\n",
            "[LightGBM] [Warning] bagging_fraction is set=0.6164647539507578, subsample=1.0 will be ignored. Current value: bagging_fraction=0.6164647539507578\n"
          ]
        },
        {
          "name": "stderr",
          "output_type": "stream",
          "text": [
            "C:\\Users\\Toan\\anaconda3\\envs\\ml_com\\lib\\site-packages\\lightgbm\\sklearn.py:736: UserWarning: 'verbose' argument is deprecated and will be removed in a future release of LightGBM. Pass 'log_evaluation()' callback via 'callbacks' argument instead.\n",
            "  _log_warning(\"'verbose' argument is deprecated and will be removed in a future release of LightGBM. \"\n",
            "C:\\Users\\Toan\\anaconda3\\envs\\ml_com\\lib\\site-packages\\lightgbm\\basic.py:1487: UserWarning: categorical_feature keyword has been found in `params` and will be ignored.\n",
            "Please use categorical_feature argument of the Dataset constructor to pass this parameter.\n",
            "  _log_warning(f'{key} keyword has been found in `params` and will be ignored.\\n'\n",
            "C:\\Users\\Toan\\anaconda3\\envs\\ml_com\\lib\\site-packages\\lightgbm\\basic.py:1513: UserWarning: categorical_feature in param dict is overridden.\n",
            "  _log_warning(f'{cat_alias} in param dict is overridden.')\n",
            "\u001b[32m[I 2022-04-18 23:24:42,910]\u001b[0m Trial 43 finished with value: 0.8083032050903046 and parameters: {'num_leaves': 12, 'n_estimators': 748, 'learning_rate': 0.04256973436117961, 'feature_fraction': 0.9408235052513154, 'bagging_fraction': 0.6164647539507578}. Best is trial 41 with value: 0.8101751814855515.\u001b[0m\n"
          ]
        },
        {
          "name": "stdout",
          "output_type": "stream",
          "text": [
            "F1_SCORE:  0.7898 \n",
            "\n",
            "[LightGBM] [Warning] feature_fraction is set=0.9402464283853548, colsample_bytree=1.0 will be ignored. Current value: feature_fraction=0.9402464283853548\n"
          ]
        },
        {
          "name": "stderr",
          "output_type": "stream",
          "text": [
            "C:\\Users\\Toan\\anaconda3\\envs\\ml_com\\lib\\site-packages\\lightgbm\\sklearn.py:736: UserWarning: 'verbose' argument is deprecated and will be removed in a future release of LightGBM. Pass 'log_evaluation()' callback via 'callbacks' argument instead.\n",
            "  _log_warning(\"'verbose' argument is deprecated and will be removed in a future release of LightGBM. \"\n",
            "C:\\Users\\Toan\\anaconda3\\envs\\ml_com\\lib\\site-packages\\lightgbm\\basic.py:1487: UserWarning: categorical_feature keyword has been found in `params` and will be ignored.\n",
            "Please use categorical_feature argument of the Dataset constructor to pass this parameter.\n",
            "  _log_warning(f'{key} keyword has been found in `params` and will be ignored.\\n'\n",
            "C:\\Users\\Toan\\anaconda3\\envs\\ml_com\\lib\\site-packages\\lightgbm\\basic.py:1513: UserWarning: categorical_feature in param dict is overridden.\n",
            "  _log_warning(f'{cat_alias} in param dict is overridden.')\n"
          ]
        },
        {
          "name": "stdout",
          "output_type": "stream",
          "text": [
            "[LightGBM] [Warning] bagging_fraction is set=0.6323547929848223, subsample=1.0 will be ignored. Current value: bagging_fraction=0.6323547929848223\n",
            "F1_SCORE:  0.7885 \n",
            "\n",
            "[LightGBM] [Warning] feature_fraction is set=0.9402464283853548, colsample_bytree=1.0 will be ignored. Current value: feature_fraction=0.9402464283853548\n",
            "[LightGBM] [Warning] bagging_fraction is set=0.6323547929848223, subsample=1.0 will be ignored. Current value: bagging_fraction=0.6323547929848223\n"
          ]
        },
        {
          "name": "stderr",
          "output_type": "stream",
          "text": [
            "C:\\Users\\Toan\\anaconda3\\envs\\ml_com\\lib\\site-packages\\lightgbm\\sklearn.py:736: UserWarning: 'verbose' argument is deprecated and will be removed in a future release of LightGBM. Pass 'log_evaluation()' callback via 'callbacks' argument instead.\n",
            "  _log_warning(\"'verbose' argument is deprecated and will be removed in a future release of LightGBM. \"\n",
            "C:\\Users\\Toan\\anaconda3\\envs\\ml_com\\lib\\site-packages\\lightgbm\\basic.py:1487: UserWarning: categorical_feature keyword has been found in `params` and will be ignored.\n",
            "Please use categorical_feature argument of the Dataset constructor to pass this parameter.\n",
            "  _log_warning(f'{key} keyword has been found in `params` and will be ignored.\\n'\n",
            "C:\\Users\\Toan\\anaconda3\\envs\\ml_com\\lib\\site-packages\\lightgbm\\basic.py:1513: UserWarning: categorical_feature in param dict is overridden.\n",
            "  _log_warning(f'{cat_alias} in param dict is overridden.')\n"
          ]
        },
        {
          "name": "stdout",
          "output_type": "stream",
          "text": [
            "F1_SCORE:  0.7663 \n",
            "\n",
            "[LightGBM] [Warning] feature_fraction is set=0.9402464283853548, colsample_bytree=1.0 will be ignored. Current value: feature_fraction=0.9402464283853548\n",
            "[LightGBM] [Warning] bagging_fraction is set=0.6323547929848223, subsample=1.0 will be ignored. Current value: bagging_fraction=0.6323547929848223\n"
          ]
        },
        {
          "name": "stderr",
          "output_type": "stream",
          "text": [
            "C:\\Users\\Toan\\anaconda3\\envs\\ml_com\\lib\\site-packages\\lightgbm\\sklearn.py:736: UserWarning: 'verbose' argument is deprecated and will be removed in a future release of LightGBM. Pass 'log_evaluation()' callback via 'callbacks' argument instead.\n",
            "  _log_warning(\"'verbose' argument is deprecated and will be removed in a future release of LightGBM. \"\n",
            "C:\\Users\\Toan\\anaconda3\\envs\\ml_com\\lib\\site-packages\\lightgbm\\basic.py:1487: UserWarning: categorical_feature keyword has been found in `params` and will be ignored.\n",
            "Please use categorical_feature argument of the Dataset constructor to pass this parameter.\n",
            "  _log_warning(f'{key} keyword has been found in `params` and will be ignored.\\n'\n",
            "C:\\Users\\Toan\\anaconda3\\envs\\ml_com\\lib\\site-packages\\lightgbm\\basic.py:1513: UserWarning: categorical_feature in param dict is overridden.\n",
            "  _log_warning(f'{cat_alias} in param dict is overridden.')\n"
          ]
        },
        {
          "name": "stdout",
          "output_type": "stream",
          "text": [
            "F1_SCORE:  0.4407 \n",
            "\n",
            "[LightGBM] [Warning] feature_fraction is set=0.9402464283853548, colsample_bytree=1.0 will be ignored. Current value: feature_fraction=0.9402464283853548\n",
            "[LightGBM] [Warning] bagging_fraction is set=0.6323547929848223, subsample=1.0 will be ignored. Current value: bagging_fraction=0.6323547929848223\n"
          ]
        },
        {
          "name": "stderr",
          "output_type": "stream",
          "text": [
            "C:\\Users\\Toan\\anaconda3\\envs\\ml_com\\lib\\site-packages\\lightgbm\\sklearn.py:736: UserWarning: 'verbose' argument is deprecated and will be removed in a future release of LightGBM. Pass 'log_evaluation()' callback via 'callbacks' argument instead.\n",
            "  _log_warning(\"'verbose' argument is deprecated and will be removed in a future release of LightGBM. \"\n",
            "C:\\Users\\Toan\\anaconda3\\envs\\ml_com\\lib\\site-packages\\lightgbm\\basic.py:1487: UserWarning: categorical_feature keyword has been found in `params` and will be ignored.\n",
            "Please use categorical_feature argument of the Dataset constructor to pass this parameter.\n",
            "  _log_warning(f'{key} keyword has been found in `params` and will be ignored.\\n'\n",
            "C:\\Users\\Toan\\anaconda3\\envs\\ml_com\\lib\\site-packages\\lightgbm\\basic.py:1513: UserWarning: categorical_feature in param dict is overridden.\n",
            "  _log_warning(f'{cat_alias} in param dict is overridden.')\n"
          ]
        },
        {
          "name": "stdout",
          "output_type": "stream",
          "text": [
            "F1_SCORE:  0.7719 \n",
            "\n",
            "[LightGBM] [Warning] feature_fraction is set=0.9402464283853548, colsample_bytree=1.0 will be ignored. Current value: feature_fraction=0.9402464283853548\n",
            "[LightGBM] [Warning] bagging_fraction is set=0.6323547929848223, subsample=1.0 will be ignored. Current value: bagging_fraction=0.6323547929848223\n"
          ]
        },
        {
          "name": "stderr",
          "output_type": "stream",
          "text": [
            "C:\\Users\\Toan\\anaconda3\\envs\\ml_com\\lib\\site-packages\\lightgbm\\sklearn.py:736: UserWarning: 'verbose' argument is deprecated and will be removed in a future release of LightGBM. Pass 'log_evaluation()' callback via 'callbacks' argument instead.\n",
            "  _log_warning(\"'verbose' argument is deprecated and will be removed in a future release of LightGBM. \"\n",
            "C:\\Users\\Toan\\anaconda3\\envs\\ml_com\\lib\\site-packages\\lightgbm\\basic.py:1487: UserWarning: categorical_feature keyword has been found in `params` and will be ignored.\n",
            "Please use categorical_feature argument of the Dataset constructor to pass this parameter.\n",
            "  _log_warning(f'{key} keyword has been found in `params` and will be ignored.\\n'\n",
            "C:\\Users\\Toan\\anaconda3\\envs\\ml_com\\lib\\site-packages\\lightgbm\\basic.py:1513: UserWarning: categorical_feature in param dict is overridden.\n",
            "  _log_warning(f'{cat_alias} in param dict is overridden.')\n",
            "\u001b[32m[I 2022-04-18 23:28:51,699]\u001b[0m Trial 44 finished with value: 0.6659745553157724 and parameters: {'num_leaves': 12, 'n_estimators': 735, 'learning_rate': 0.12352105449955995, 'feature_fraction': 0.9402464283853548, 'bagging_fraction': 0.6323547929848223}. Best is trial 41 with value: 0.8101751814855515.\u001b[0m\n"
          ]
        },
        {
          "name": "stdout",
          "output_type": "stream",
          "text": [
            "F1_SCORE:  0.5624 \n",
            "\n",
            "[LightGBM] [Warning] feature_fraction is set=0.9957980222482098, colsample_bytree=1.0 will be ignored. Current value: feature_fraction=0.9957980222482098\n"
          ]
        },
        {
          "name": "stderr",
          "output_type": "stream",
          "text": [
            "C:\\Users\\Toan\\anaconda3\\envs\\ml_com\\lib\\site-packages\\lightgbm\\sklearn.py:736: UserWarning: 'verbose' argument is deprecated and will be removed in a future release of LightGBM. Pass 'log_evaluation()' callback via 'callbacks' argument instead.\n",
            "  _log_warning(\"'verbose' argument is deprecated and will be removed in a future release of LightGBM. \"\n",
            "C:\\Users\\Toan\\anaconda3\\envs\\ml_com\\lib\\site-packages\\lightgbm\\basic.py:1487: UserWarning: categorical_feature keyword has been found in `params` and will be ignored.\n",
            "Please use categorical_feature argument of the Dataset constructor to pass this parameter.\n",
            "  _log_warning(f'{key} keyword has been found in `params` and will be ignored.\\n'\n",
            "C:\\Users\\Toan\\anaconda3\\envs\\ml_com\\lib\\site-packages\\lightgbm\\basic.py:1513: UserWarning: categorical_feature in param dict is overridden.\n",
            "  _log_warning(f'{cat_alias} in param dict is overridden.')\n"
          ]
        },
        {
          "name": "stdout",
          "output_type": "stream",
          "text": [
            "[LightGBM] [Warning] bagging_fraction is set=0.5643685345602776, subsample=1.0 will be ignored. Current value: bagging_fraction=0.5643685345602776\n",
            "F1_SCORE:  0.7911 \n",
            "\n",
            "[LightGBM] [Warning] feature_fraction is set=0.9957980222482098, colsample_bytree=1.0 will be ignored. Current value: feature_fraction=0.9957980222482098\n",
            "[LightGBM] [Warning] bagging_fraction is set=0.5643685345602776, subsample=1.0 will be ignored. Current value: bagging_fraction=0.5643685345602776\n"
          ]
        },
        {
          "name": "stderr",
          "output_type": "stream",
          "text": [
            "C:\\Users\\Toan\\anaconda3\\envs\\ml_com\\lib\\site-packages\\lightgbm\\sklearn.py:736: UserWarning: 'verbose' argument is deprecated and will be removed in a future release of LightGBM. Pass 'log_evaluation()' callback via 'callbacks' argument instead.\n",
            "  _log_warning(\"'verbose' argument is deprecated and will be removed in a future release of LightGBM. \"\n",
            "C:\\Users\\Toan\\anaconda3\\envs\\ml_com\\lib\\site-packages\\lightgbm\\basic.py:1487: UserWarning: categorical_feature keyword has been found in `params` and will be ignored.\n",
            "Please use categorical_feature argument of the Dataset constructor to pass this parameter.\n",
            "  _log_warning(f'{key} keyword has been found in `params` and will be ignored.\\n'\n",
            "C:\\Users\\Toan\\anaconda3\\envs\\ml_com\\lib\\site-packages\\lightgbm\\basic.py:1513: UserWarning: categorical_feature in param dict is overridden.\n",
            "  _log_warning(f'{cat_alias} in param dict is overridden.')\n"
          ]
        },
        {
          "name": "stdout",
          "output_type": "stream",
          "text": [
            "F1_SCORE:  0.7785 \n",
            "\n",
            "[LightGBM] [Warning] feature_fraction is set=0.9957980222482098, colsample_bytree=1.0 will be ignored. Current value: feature_fraction=0.9957980222482098\n",
            "[LightGBM] [Warning] bagging_fraction is set=0.5643685345602776, subsample=1.0 will be ignored. Current value: bagging_fraction=0.5643685345602776\n"
          ]
        },
        {
          "name": "stderr",
          "output_type": "stream",
          "text": [
            "C:\\Users\\Toan\\anaconda3\\envs\\ml_com\\lib\\site-packages\\lightgbm\\sklearn.py:736: UserWarning: 'verbose' argument is deprecated and will be removed in a future release of LightGBM. Pass 'log_evaluation()' callback via 'callbacks' argument instead.\n",
            "  _log_warning(\"'verbose' argument is deprecated and will be removed in a future release of LightGBM. \"\n",
            "C:\\Users\\Toan\\anaconda3\\envs\\ml_com\\lib\\site-packages\\lightgbm\\basic.py:1487: UserWarning: categorical_feature keyword has been found in `params` and will be ignored.\n",
            "Please use categorical_feature argument of the Dataset constructor to pass this parameter.\n",
            "  _log_warning(f'{key} keyword has been found in `params` and will be ignored.\\n'\n",
            "C:\\Users\\Toan\\anaconda3\\envs\\ml_com\\lib\\site-packages\\lightgbm\\basic.py:1513: UserWarning: categorical_feature in param dict is overridden.\n",
            "  _log_warning(f'{cat_alias} in param dict is overridden.')\n"
          ]
        },
        {
          "name": "stdout",
          "output_type": "stream",
          "text": [
            "F1_SCORE:  0.8175 \n",
            "\n",
            "[LightGBM] [Warning] feature_fraction is set=0.9957980222482098, colsample_bytree=1.0 will be ignored. Current value: feature_fraction=0.9957980222482098\n",
            "[LightGBM] [Warning] bagging_fraction is set=0.5643685345602776, subsample=1.0 will be ignored. Current value: bagging_fraction=0.5643685345602776\n"
          ]
        },
        {
          "name": "stderr",
          "output_type": "stream",
          "text": [
            "C:\\Users\\Toan\\anaconda3\\envs\\ml_com\\lib\\site-packages\\lightgbm\\sklearn.py:736: UserWarning: 'verbose' argument is deprecated and will be removed in a future release of LightGBM. Pass 'log_evaluation()' callback via 'callbacks' argument instead.\n",
            "  _log_warning(\"'verbose' argument is deprecated and will be removed in a future release of LightGBM. \"\n",
            "C:\\Users\\Toan\\anaconda3\\envs\\ml_com\\lib\\site-packages\\lightgbm\\basic.py:1487: UserWarning: categorical_feature keyword has been found in `params` and will be ignored.\n",
            "Please use categorical_feature argument of the Dataset constructor to pass this parameter.\n",
            "  _log_warning(f'{key} keyword has been found in `params` and will be ignored.\\n'\n",
            "C:\\Users\\Toan\\anaconda3\\envs\\ml_com\\lib\\site-packages\\lightgbm\\basic.py:1513: UserWarning: categorical_feature in param dict is overridden.\n",
            "  _log_warning(f'{cat_alias} in param dict is overridden.')\n"
          ]
        },
        {
          "name": "stdout",
          "output_type": "stream",
          "text": [
            "F1_SCORE:  0.8298 \n",
            "\n",
            "[LightGBM] [Warning] feature_fraction is set=0.9957980222482098, colsample_bytree=1.0 will be ignored. Current value: feature_fraction=0.9957980222482098\n",
            "[LightGBM] [Warning] bagging_fraction is set=0.5643685345602776, subsample=1.0 will be ignored. Current value: bagging_fraction=0.5643685345602776\n"
          ]
        },
        {
          "name": "stderr",
          "output_type": "stream",
          "text": [
            "C:\\Users\\Toan\\anaconda3\\envs\\ml_com\\lib\\site-packages\\lightgbm\\sklearn.py:736: UserWarning: 'verbose' argument is deprecated and will be removed in a future release of LightGBM. Pass 'log_evaluation()' callback via 'callbacks' argument instead.\n",
            "  _log_warning(\"'verbose' argument is deprecated and will be removed in a future release of LightGBM. \"\n",
            "C:\\Users\\Toan\\anaconda3\\envs\\ml_com\\lib\\site-packages\\lightgbm\\basic.py:1487: UserWarning: categorical_feature keyword has been found in `params` and will be ignored.\n",
            "Please use categorical_feature argument of the Dataset constructor to pass this parameter.\n",
            "  _log_warning(f'{key} keyword has been found in `params` and will be ignored.\\n'\n",
            "C:\\Users\\Toan\\anaconda3\\envs\\ml_com\\lib\\site-packages\\lightgbm\\basic.py:1513: UserWarning: categorical_feature in param dict is overridden.\n",
            "  _log_warning(f'{cat_alias} in param dict is overridden.')\n",
            "\u001b[32m[I 2022-04-18 23:33:24,015]\u001b[0m Trial 45 finished with value: 0.8027176309786819 and parameters: {'num_leaves': 12, 'n_estimators': 590, 'learning_rate': 0.03377426615084557, 'feature_fraction': 0.9957980222482098, 'bagging_fraction': 0.5643685345602776}. Best is trial 41 with value: 0.8101751814855515.\u001b[0m\n"
          ]
        },
        {
          "name": "stdout",
          "output_type": "stream",
          "text": [
            "F1_SCORE:  0.7967 \n",
            "\n",
            "[LightGBM] [Warning] feature_fraction is set=0.8269026314672314, colsample_bytree=1.0 will be ignored. Current value: feature_fraction=0.8269026314672314\n",
            "[LightGBM] [Warning] bagging_fraction is set=0.6268186218646192, subsample=1.0 will be ignored. Current value: bagging_fraction=0.6268186218646192\n"
          ]
        },
        {
          "name": "stderr",
          "output_type": "stream",
          "text": [
            "C:\\Users\\Toan\\anaconda3\\envs\\ml_com\\lib\\site-packages\\lightgbm\\sklearn.py:736: UserWarning: 'verbose' argument is deprecated and will be removed in a future release of LightGBM. Pass 'log_evaluation()' callback via 'callbacks' argument instead.\n",
            "  _log_warning(\"'verbose' argument is deprecated and will be removed in a future release of LightGBM. \"\n",
            "C:\\Users\\Toan\\anaconda3\\envs\\ml_com\\lib\\site-packages\\lightgbm\\basic.py:1487: UserWarning: categorical_feature keyword has been found in `params` and will be ignored.\n",
            "Please use categorical_feature argument of the Dataset constructor to pass this parameter.\n",
            "  _log_warning(f'{key} keyword has been found in `params` and will be ignored.\\n'\n",
            "C:\\Users\\Toan\\anaconda3\\envs\\ml_com\\lib\\site-packages\\lightgbm\\basic.py:1513: UserWarning: categorical_feature in param dict is overridden.\n",
            "  _log_warning(f'{cat_alias} in param dict is overridden.')\n"
          ]
        },
        {
          "name": "stdout",
          "output_type": "stream",
          "text": [
            "F1_SCORE:  0.2984 \n",
            "\n",
            "[LightGBM] [Warning] feature_fraction is set=0.8269026314672314, colsample_bytree=1.0 will be ignored. Current value: feature_fraction=0.8269026314672314\n",
            "[LightGBM] [Warning] bagging_fraction is set=0.6268186218646192, subsample=1.0 will be ignored. Current value: bagging_fraction=0.6268186218646192\n"
          ]
        },
        {
          "name": "stderr",
          "output_type": "stream",
          "text": [
            "C:\\Users\\Toan\\anaconda3\\envs\\ml_com\\lib\\site-packages\\lightgbm\\sklearn.py:736: UserWarning: 'verbose' argument is deprecated and will be removed in a future release of LightGBM. Pass 'log_evaluation()' callback via 'callbacks' argument instead.\n",
            "  _log_warning(\"'verbose' argument is deprecated and will be removed in a future release of LightGBM. \"\n",
            "C:\\Users\\Toan\\anaconda3\\envs\\ml_com\\lib\\site-packages\\lightgbm\\basic.py:1487: UserWarning: categorical_feature keyword has been found in `params` and will be ignored.\n",
            "Please use categorical_feature argument of the Dataset constructor to pass this parameter.\n",
            "  _log_warning(f'{key} keyword has been found in `params` and will be ignored.\\n'\n",
            "C:\\Users\\Toan\\anaconda3\\envs\\ml_com\\lib\\site-packages\\lightgbm\\basic.py:1513: UserWarning: categorical_feature in param dict is overridden.\n",
            "  _log_warning(f'{cat_alias} in param dict is overridden.')\n"
          ]
        },
        {
          "name": "stdout",
          "output_type": "stream",
          "text": [
            "F1_SCORE:  0.1991 \n",
            "\n",
            "[LightGBM] [Warning] feature_fraction is set=0.8269026314672314, colsample_bytree=1.0 will be ignored. Current value: feature_fraction=0.8269026314672314\n",
            "[LightGBM] [Warning] bagging_fraction is set=0.6268186218646192, subsample=1.0 will be ignored. Current value: bagging_fraction=0.6268186218646192\n"
          ]
        },
        {
          "name": "stderr",
          "output_type": "stream",
          "text": [
            "C:\\Users\\Toan\\anaconda3\\envs\\ml_com\\lib\\site-packages\\lightgbm\\sklearn.py:736: UserWarning: 'verbose' argument is deprecated and will be removed in a future release of LightGBM. Pass 'log_evaluation()' callback via 'callbacks' argument instead.\n",
            "  _log_warning(\"'verbose' argument is deprecated and will be removed in a future release of LightGBM. \"\n",
            "C:\\Users\\Toan\\anaconda3\\envs\\ml_com\\lib\\site-packages\\lightgbm\\basic.py:1487: UserWarning: categorical_feature keyword has been found in `params` and will be ignored.\n",
            "Please use categorical_feature argument of the Dataset constructor to pass this parameter.\n",
            "  _log_warning(f'{key} keyword has been found in `params` and will be ignored.\\n'\n",
            "C:\\Users\\Toan\\anaconda3\\envs\\ml_com\\lib\\site-packages\\lightgbm\\basic.py:1513: UserWarning: categorical_feature in param dict is overridden.\n",
            "  _log_warning(f'{cat_alias} in param dict is overridden.')\n"
          ]
        },
        {
          "name": "stdout",
          "output_type": "stream",
          "text": [
            "F1_SCORE:  0.4088 \n",
            "\n",
            "[LightGBM] [Warning] feature_fraction is set=0.8269026314672314, colsample_bytree=1.0 will be ignored. Current value: feature_fraction=0.8269026314672314\n",
            "[LightGBM] [Warning] bagging_fraction is set=0.6268186218646192, subsample=1.0 will be ignored. Current value: bagging_fraction=0.6268186218646192\n"
          ]
        },
        {
          "name": "stderr",
          "output_type": "stream",
          "text": [
            "C:\\Users\\Toan\\anaconda3\\envs\\ml_com\\lib\\site-packages\\lightgbm\\sklearn.py:736: UserWarning: 'verbose' argument is deprecated and will be removed in a future release of LightGBM. Pass 'log_evaluation()' callback via 'callbacks' argument instead.\n",
            "  _log_warning(\"'verbose' argument is deprecated and will be removed in a future release of LightGBM. \"\n",
            "C:\\Users\\Toan\\anaconda3\\envs\\ml_com\\lib\\site-packages\\lightgbm\\basic.py:1487: UserWarning: categorical_feature keyword has been found in `params` and will be ignored.\n",
            "Please use categorical_feature argument of the Dataset constructor to pass this parameter.\n",
            "  _log_warning(f'{key} keyword has been found in `params` and will be ignored.\\n'\n",
            "C:\\Users\\Toan\\anaconda3\\envs\\ml_com\\lib\\site-packages\\lightgbm\\basic.py:1513: UserWarning: categorical_feature in param dict is overridden.\n",
            "  _log_warning(f'{cat_alias} in param dict is overridden.')\n"
          ]
        },
        {
          "name": "stdout",
          "output_type": "stream",
          "text": [
            "F1_SCORE:  0.4227 \n",
            "\n",
            "[LightGBM] [Warning] feature_fraction is set=0.8269026314672314, colsample_bytree=1.0 will be ignored. Current value: feature_fraction=0.8269026314672314\n"
          ]
        },
        {
          "name": "stderr",
          "output_type": "stream",
          "text": [
            "C:\\Users\\Toan\\anaconda3\\envs\\ml_com\\lib\\site-packages\\lightgbm\\sklearn.py:736: UserWarning: 'verbose' argument is deprecated and will be removed in a future release of LightGBM. Pass 'log_evaluation()' callback via 'callbacks' argument instead.\n",
            "  _log_warning(\"'verbose' argument is deprecated and will be removed in a future release of LightGBM. \"\n",
            "C:\\Users\\Toan\\anaconda3\\envs\\ml_com\\lib\\site-packages\\lightgbm\\basic.py:1487: UserWarning: categorical_feature keyword has been found in `params` and will be ignored.\n",
            "Please use categorical_feature argument of the Dataset constructor to pass this parameter.\n",
            "  _log_warning(f'{key} keyword has been found in `params` and will be ignored.\\n'\n",
            "C:\\Users\\Toan\\anaconda3\\envs\\ml_com\\lib\\site-packages\\lightgbm\\basic.py:1513: UserWarning: categorical_feature in param dict is overridden.\n",
            "  _log_warning(f'{cat_alias} in param dict is overridden.')\n"
          ]
        },
        {
          "name": "stdout",
          "output_type": "stream",
          "text": [
            "[LightGBM] [Warning] bagging_fraction is set=0.6268186218646192, subsample=1.0 will be ignored. Current value: bagging_fraction=0.6268186218646192\n"
          ]
        },
        {
          "name": "stderr",
          "output_type": "stream",
          "text": [
            "\u001b[32m[I 2022-04-18 23:35:53,922]\u001b[0m Trial 46 finished with value: 0.30431501087863577 and parameters: {'num_leaves': 12, 'n_estimators': 659, 'learning_rate': 0.2181277209299775, 'feature_fraction': 0.8269026314672314, 'bagging_fraction': 0.6268186218646192}. Best is trial 41 with value: 0.8101751814855515.\u001b[0m\n"
          ]
        },
        {
          "name": "stdout",
          "output_type": "stream",
          "text": [
            "F1_SCORE:  0.1925 \n",
            "\n",
            "[LightGBM] [Warning] feature_fraction is set=0.9026218636644445, colsample_bytree=1.0 will be ignored. Current value: feature_fraction=0.9026218636644445\n",
            "[LightGBM] [Warning] bagging_fraction is set=0.5861204737077506, subsample=1.0 will be ignored. Current value: bagging_fraction=0.5861204737077506\n"
          ]
        },
        {
          "name": "stderr",
          "output_type": "stream",
          "text": [
            "C:\\Users\\Toan\\anaconda3\\envs\\ml_com\\lib\\site-packages\\lightgbm\\sklearn.py:736: UserWarning: 'verbose' argument is deprecated and will be removed in a future release of LightGBM. Pass 'log_evaluation()' callback via 'callbacks' argument instead.\n",
            "  _log_warning(\"'verbose' argument is deprecated and will be removed in a future release of LightGBM. \"\n",
            "C:\\Users\\Toan\\anaconda3\\envs\\ml_com\\lib\\site-packages\\lightgbm\\basic.py:1487: UserWarning: categorical_feature keyword has been found in `params` and will be ignored.\n",
            "Please use categorical_feature argument of the Dataset constructor to pass this parameter.\n",
            "  _log_warning(f'{key} keyword has been found in `params` and will be ignored.\\n'\n",
            "C:\\Users\\Toan\\anaconda3\\envs\\ml_com\\lib\\site-packages\\lightgbm\\basic.py:1513: UserWarning: categorical_feature in param dict is overridden.\n",
            "  _log_warning(f'{cat_alias} in param dict is overridden.')\n"
          ]
        },
        {
          "name": "stdout",
          "output_type": "stream",
          "text": [
            "F1_SCORE:  0.7826 \n",
            "\n",
            "[LightGBM] [Warning] feature_fraction is set=0.9026218636644445, colsample_bytree=1.0 will be ignored. Current value: feature_fraction=0.9026218636644445\n",
            "[LightGBM] [Warning] bagging_fraction is set=0.5861204737077506, subsample=1.0 will be ignored. Current value: bagging_fraction=0.5861204737077506\n"
          ]
        },
        {
          "name": "stderr",
          "output_type": "stream",
          "text": [
            "C:\\Users\\Toan\\anaconda3\\envs\\ml_com\\lib\\site-packages\\lightgbm\\sklearn.py:736: UserWarning: 'verbose' argument is deprecated and will be removed in a future release of LightGBM. Pass 'log_evaluation()' callback via 'callbacks' argument instead.\n",
            "  _log_warning(\"'verbose' argument is deprecated and will be removed in a future release of LightGBM. \"\n",
            "C:\\Users\\Toan\\anaconda3\\envs\\ml_com\\lib\\site-packages\\lightgbm\\basic.py:1487: UserWarning: categorical_feature keyword has been found in `params` and will be ignored.\n",
            "Please use categorical_feature argument of the Dataset constructor to pass this parameter.\n",
            "  _log_warning(f'{key} keyword has been found in `params` and will be ignored.\\n'\n",
            "C:\\Users\\Toan\\anaconda3\\envs\\ml_com\\lib\\site-packages\\lightgbm\\basic.py:1513: UserWarning: categorical_feature in param dict is overridden.\n",
            "  _log_warning(f'{cat_alias} in param dict is overridden.')\n"
          ]
        },
        {
          "name": "stdout",
          "output_type": "stream",
          "text": [
            "F1_SCORE:  0.7853 \n",
            "\n",
            "[LightGBM] [Warning] feature_fraction is set=0.9026218636644445, colsample_bytree=1.0 will be ignored. Current value: feature_fraction=0.9026218636644445\n",
            "[LightGBM] [Warning] bagging_fraction is set=0.5861204737077506, subsample=1.0 will be ignored. Current value: bagging_fraction=0.5861204737077506\n"
          ]
        },
        {
          "name": "stderr",
          "output_type": "stream",
          "text": [
            "C:\\Users\\Toan\\anaconda3\\envs\\ml_com\\lib\\site-packages\\lightgbm\\sklearn.py:736: UserWarning: 'verbose' argument is deprecated and will be removed in a future release of LightGBM. Pass 'log_evaluation()' callback via 'callbacks' argument instead.\n",
            "  _log_warning(\"'verbose' argument is deprecated and will be removed in a future release of LightGBM. \"\n",
            "C:\\Users\\Toan\\anaconda3\\envs\\ml_com\\lib\\site-packages\\lightgbm\\basic.py:1487: UserWarning: categorical_feature keyword has been found in `params` and will be ignored.\n",
            "Please use categorical_feature argument of the Dataset constructor to pass this parameter.\n",
            "  _log_warning(f'{key} keyword has been found in `params` and will be ignored.\\n'\n",
            "C:\\Users\\Toan\\anaconda3\\envs\\ml_com\\lib\\site-packages\\lightgbm\\basic.py:1513: UserWarning: categorical_feature in param dict is overridden.\n",
            "  _log_warning(f'{cat_alias} in param dict is overridden.')\n"
          ]
        },
        {
          "name": "stdout",
          "output_type": "stream",
          "text": [
            "F1_SCORE:  0.8286 \n",
            "\n",
            "[LightGBM] [Warning] feature_fraction is set=0.9026218636644445, colsample_bytree=1.0 will be ignored. Current value: feature_fraction=0.9026218636644445\n",
            "[LightGBM] [Warning] bagging_fraction is set=0.5861204737077506, subsample=1.0 will be ignored. Current value: bagging_fraction=0.5861204737077506\n"
          ]
        },
        {
          "name": "stderr",
          "output_type": "stream",
          "text": [
            "C:\\Users\\Toan\\anaconda3\\envs\\ml_com\\lib\\site-packages\\lightgbm\\sklearn.py:736: UserWarning: 'verbose' argument is deprecated and will be removed in a future release of LightGBM. Pass 'log_evaluation()' callback via 'callbacks' argument instead.\n",
            "  _log_warning(\"'verbose' argument is deprecated and will be removed in a future release of LightGBM. \"\n",
            "C:\\Users\\Toan\\anaconda3\\envs\\ml_com\\lib\\site-packages\\lightgbm\\basic.py:1487: UserWarning: categorical_feature keyword has been found in `params` and will be ignored.\n",
            "Please use categorical_feature argument of the Dataset constructor to pass this parameter.\n",
            "  _log_warning(f'{key} keyword has been found in `params` and will be ignored.\\n'\n",
            "C:\\Users\\Toan\\anaconda3\\envs\\ml_com\\lib\\site-packages\\lightgbm\\basic.py:1513: UserWarning: categorical_feature in param dict is overridden.\n",
            "  _log_warning(f'{cat_alias} in param dict is overridden.')\n"
          ]
        },
        {
          "name": "stdout",
          "output_type": "stream",
          "text": [
            "F1_SCORE:  0.8123 \n",
            "\n",
            "[LightGBM] [Warning] feature_fraction is set=0.9026218636644445, colsample_bytree=1.0 will be ignored. Current value: feature_fraction=0.9026218636644445\n",
            "[LightGBM] [Warning] bagging_fraction is set=0.5861204737077506, subsample=1.0 will be ignored. Current value: bagging_fraction=0.5861204737077506\n"
          ]
        },
        {
          "name": "stderr",
          "output_type": "stream",
          "text": [
            "C:\\Users\\Toan\\anaconda3\\envs\\ml_com\\lib\\site-packages\\lightgbm\\sklearn.py:736: UserWarning: 'verbose' argument is deprecated and will be removed in a future release of LightGBM. Pass 'log_evaluation()' callback via 'callbacks' argument instead.\n",
            "  _log_warning(\"'verbose' argument is deprecated and will be removed in a future release of LightGBM. \"\n",
            "C:\\Users\\Toan\\anaconda3\\envs\\ml_com\\lib\\site-packages\\lightgbm\\basic.py:1487: UserWarning: categorical_feature keyword has been found in `params` and will be ignored.\n",
            "Please use categorical_feature argument of the Dataset constructor to pass this parameter.\n",
            "  _log_warning(f'{key} keyword has been found in `params` and will be ignored.\\n'\n",
            "C:\\Users\\Toan\\anaconda3\\envs\\ml_com\\lib\\site-packages\\lightgbm\\basic.py:1513: UserWarning: categorical_feature in param dict is overridden.\n",
            "  _log_warning(f'{cat_alias} in param dict is overridden.')\n",
            "\u001b[32m[I 2022-04-18 23:41:24,076]\u001b[0m Trial 47 finished with value: 0.8026492385477797 and parameters: {'num_leaves': 11, 'n_estimators': 877, 'learning_rate': 0.038771144978104743, 'feature_fraction': 0.9026218636644445, 'bagging_fraction': 0.5861204737077506}. Best is trial 41 with value: 0.8101751814855515.\u001b[0m\n"
          ]
        },
        {
          "name": "stdout",
          "output_type": "stream",
          "text": [
            "F1_SCORE:  0.8045 \n",
            "\n"
          ]
        },
        {
          "name": "stderr",
          "output_type": "stream",
          "text": [
            "C:\\Users\\Toan\\anaconda3\\envs\\ml_com\\lib\\site-packages\\lightgbm\\sklearn.py:736: UserWarning: 'verbose' argument is deprecated and will be removed in a future release of LightGBM. Pass 'log_evaluation()' callback via 'callbacks' argument instead.\n",
            "  _log_warning(\"'verbose' argument is deprecated and will be removed in a future release of LightGBM. \"\n",
            "C:\\Users\\Toan\\anaconda3\\envs\\ml_com\\lib\\site-packages\\lightgbm\\basic.py:1487: UserWarning: categorical_feature keyword has been found in `params` and will be ignored.\n",
            "Please use categorical_feature argument of the Dataset constructor to pass this parameter.\n",
            "  _log_warning(f'{key} keyword has been found in `params` and will be ignored.\\n'\n",
            "C:\\Users\\Toan\\anaconda3\\envs\\ml_com\\lib\\site-packages\\lightgbm\\basic.py:1513: UserWarning: categorical_feature in param dict is overridden.\n",
            "  _log_warning(f'{cat_alias} in param dict is overridden.')\n"
          ]
        },
        {
          "name": "stdout",
          "output_type": "stream",
          "text": [
            "[LightGBM] [Warning] feature_fraction is set=0.897176159159028, colsample_bytree=1.0 will be ignored. Current value: feature_fraction=0.897176159159028\n",
            "[LightGBM] [Warning] bagging_fraction is set=0.48868537065428724, subsample=1.0 will be ignored. Current value: bagging_fraction=0.48868537065428724\n",
            "F1_SCORE:  0.4128 \n",
            "\n",
            "[LightGBM] [Warning] feature_fraction is set=0.897176159159028, colsample_bytree=1.0 will be ignored. Current value: feature_fraction=0.897176159159028\n",
            "[LightGBM] [Warning] bagging_fraction is set=0.48868537065428724, subsample=1.0 will be ignored. Current value: bagging_fraction=0.48868537065428724\n"
          ]
        },
        {
          "name": "stderr",
          "output_type": "stream",
          "text": [
            "C:\\Users\\Toan\\anaconda3\\envs\\ml_com\\lib\\site-packages\\lightgbm\\sklearn.py:736: UserWarning: 'verbose' argument is deprecated and will be removed in a future release of LightGBM. Pass 'log_evaluation()' callback via 'callbacks' argument instead.\n",
            "  _log_warning(\"'verbose' argument is deprecated and will be removed in a future release of LightGBM. \"\n",
            "C:\\Users\\Toan\\anaconda3\\envs\\ml_com\\lib\\site-packages\\lightgbm\\basic.py:1487: UserWarning: categorical_feature keyword has been found in `params` and will be ignored.\n",
            "Please use categorical_feature argument of the Dataset constructor to pass this parameter.\n",
            "  _log_warning(f'{key} keyword has been found in `params` and will be ignored.\\n'\n",
            "C:\\Users\\Toan\\anaconda3\\envs\\ml_com\\lib\\site-packages\\lightgbm\\basic.py:1513: UserWarning: categorical_feature in param dict is overridden.\n",
            "  _log_warning(f'{cat_alias} in param dict is overridden.')\n"
          ]
        },
        {
          "name": "stdout",
          "output_type": "stream",
          "text": [
            "F1_SCORE:  0.4128 \n",
            "\n",
            "[LightGBM] [Warning] feature_fraction is set=0.897176159159028, colsample_bytree=1.0 will be ignored. Current value: feature_fraction=0.897176159159028\n",
            "[LightGBM] [Warning] bagging_fraction is set=0.48868537065428724, subsample=1.0 will be ignored. Current value: bagging_fraction=0.48868537065428724\n"
          ]
        },
        {
          "name": "stderr",
          "output_type": "stream",
          "text": [
            "C:\\Users\\Toan\\anaconda3\\envs\\ml_com\\lib\\site-packages\\lightgbm\\sklearn.py:736: UserWarning: 'verbose' argument is deprecated and will be removed in a future release of LightGBM. Pass 'log_evaluation()' callback via 'callbacks' argument instead.\n",
            "  _log_warning(\"'verbose' argument is deprecated and will be removed in a future release of LightGBM. \"\n",
            "C:\\Users\\Toan\\anaconda3\\envs\\ml_com\\lib\\site-packages\\lightgbm\\basic.py:1487: UserWarning: categorical_feature keyword has been found in `params` and will be ignored.\n",
            "Please use categorical_feature argument of the Dataset constructor to pass this parameter.\n",
            "  _log_warning(f'{key} keyword has been found in `params` and will be ignored.\\n'\n",
            "C:\\Users\\Toan\\anaconda3\\envs\\ml_com\\lib\\site-packages\\lightgbm\\basic.py:1513: UserWarning: categorical_feature in param dict is overridden.\n",
            "  _log_warning(f'{cat_alias} in param dict is overridden.')\n"
          ]
        },
        {
          "name": "stdout",
          "output_type": "stream",
          "text": [
            "F1_SCORE:  0.1745 \n",
            "\n",
            "[LightGBM] [Warning] feature_fraction is set=0.897176159159028, colsample_bytree=1.0 will be ignored. Current value: feature_fraction=0.897176159159028\n",
            "[LightGBM] [Warning] bagging_fraction is set=0.48868537065428724, subsample=1.0 will be ignored. Current value: bagging_fraction=0.48868537065428724\n"
          ]
        },
        {
          "name": "stderr",
          "output_type": "stream",
          "text": [
            "C:\\Users\\Toan\\anaconda3\\envs\\ml_com\\lib\\site-packages\\lightgbm\\sklearn.py:736: UserWarning: 'verbose' argument is deprecated and will be removed in a future release of LightGBM. Pass 'log_evaluation()' callback via 'callbacks' argument instead.\n",
            "  _log_warning(\"'verbose' argument is deprecated and will be removed in a future release of LightGBM. \"\n",
            "C:\\Users\\Toan\\anaconda3\\envs\\ml_com\\lib\\site-packages\\lightgbm\\basic.py:1487: UserWarning: categorical_feature keyword has been found in `params` and will be ignored.\n",
            "Please use categorical_feature argument of the Dataset constructor to pass this parameter.\n",
            "  _log_warning(f'{key} keyword has been found in `params` and will be ignored.\\n'\n",
            "C:\\Users\\Toan\\anaconda3\\envs\\ml_com\\lib\\site-packages\\lightgbm\\basic.py:1513: UserWarning: categorical_feature in param dict is overridden.\n",
            "  _log_warning(f'{cat_alias} in param dict is overridden.')\n"
          ]
        },
        {
          "name": "stdout",
          "output_type": "stream",
          "text": [
            "F1_SCORE:  0.1691 \n",
            "\n",
            "[LightGBM] [Warning] feature_fraction is set=0.897176159159028, colsample_bytree=1.0 will be ignored. Current value: feature_fraction=0.897176159159028\n",
            "[LightGBM] [Warning] bagging_fraction is set=0.48868537065428724, subsample=1.0 will be ignored. Current value: bagging_fraction=0.48868537065428724\n"
          ]
        },
        {
          "name": "stderr",
          "output_type": "stream",
          "text": [
            "C:\\Users\\Toan\\anaconda3\\envs\\ml_com\\lib\\site-packages\\lightgbm\\sklearn.py:736: UserWarning: 'verbose' argument is deprecated and will be removed in a future release of LightGBM. Pass 'log_evaluation()' callback via 'callbacks' argument instead.\n",
            "  _log_warning(\"'verbose' argument is deprecated and will be removed in a future release of LightGBM. \"\n",
            "C:\\Users\\Toan\\anaconda3\\envs\\ml_com\\lib\\site-packages\\lightgbm\\basic.py:1487: UserWarning: categorical_feature keyword has been found in `params` and will be ignored.\n",
            "Please use categorical_feature argument of the Dataset constructor to pass this parameter.\n",
            "  _log_warning(f'{key} keyword has been found in `params` and will be ignored.\\n'\n",
            "C:\\Users\\Toan\\anaconda3\\envs\\ml_com\\lib\\site-packages\\lightgbm\\basic.py:1513: UserWarning: categorical_feature in param dict is overridden.\n",
            "  _log_warning(f'{cat_alias} in param dict is overridden.')\n",
            "\u001b[32m[I 2022-04-18 23:44:14,265]\u001b[0m Trial 48 finished with value: 0.3350268524937191 and parameters: {'num_leaves': 12, 'n_estimators': 802, 'learning_rate': 0.1941915126966386, 'feature_fraction': 0.897176159159028, 'bagging_fraction': 0.48868537065428724}. Best is trial 41 with value: 0.8101751814855515.\u001b[0m\n"
          ]
        },
        {
          "name": "stdout",
          "output_type": "stream",
          "text": [
            "F1_SCORE:  0.506 \n",
            "\n",
            "[LightGBM] [Warning] feature_fraction is set=0.9508371613914272, colsample_bytree=1.0 will be ignored. Current value: feature_fraction=0.9508371613914272\n",
            "[LightGBM] [Warning] bagging_fraction is set=0.6600856967220281, subsample=1.0 will be ignored. Current value: bagging_fraction=0.6600856967220281\n"
          ]
        },
        {
          "name": "stderr",
          "output_type": "stream",
          "text": [
            "C:\\Users\\Toan\\anaconda3\\envs\\ml_com\\lib\\site-packages\\lightgbm\\sklearn.py:736: UserWarning: 'verbose' argument is deprecated and will be removed in a future release of LightGBM. Pass 'log_evaluation()' callback via 'callbacks' argument instead.\n",
            "  _log_warning(\"'verbose' argument is deprecated and will be removed in a future release of LightGBM. \"\n",
            "C:\\Users\\Toan\\anaconda3\\envs\\ml_com\\lib\\site-packages\\lightgbm\\basic.py:1487: UserWarning: categorical_feature keyword has been found in `params` and will be ignored.\n",
            "Please use categorical_feature argument of the Dataset constructor to pass this parameter.\n",
            "  _log_warning(f'{key} keyword has been found in `params` and will be ignored.\\n'\n",
            "C:\\Users\\Toan\\anaconda3\\envs\\ml_com\\lib\\site-packages\\lightgbm\\basic.py:1513: UserWarning: categorical_feature in param dict is overridden.\n",
            "  _log_warning(f'{cat_alias} in param dict is overridden.')\n"
          ]
        },
        {
          "name": "stdout",
          "output_type": "stream",
          "text": [
            "F1_SCORE:  0.7663 \n",
            "\n",
            "[LightGBM] [Warning] feature_fraction is set=0.9508371613914272, colsample_bytree=1.0 will be ignored. Current value: feature_fraction=0.9508371613914272\n",
            "[LightGBM] [Warning] bagging_fraction is set=0.6600856967220281, subsample=1.0 will be ignored. Current value: bagging_fraction=0.6600856967220281\n"
          ]
        },
        {
          "name": "stderr",
          "output_type": "stream",
          "text": [
            "C:\\Users\\Toan\\anaconda3\\envs\\ml_com\\lib\\site-packages\\lightgbm\\sklearn.py:736: UserWarning: 'verbose' argument is deprecated and will be removed in a future release of LightGBM. Pass 'log_evaluation()' callback via 'callbacks' argument instead.\n",
            "  _log_warning(\"'verbose' argument is deprecated and will be removed in a future release of LightGBM. \"\n",
            "C:\\Users\\Toan\\anaconda3\\envs\\ml_com\\lib\\site-packages\\lightgbm\\basic.py:1487: UserWarning: categorical_feature keyword has been found in `params` and will be ignored.\n",
            "Please use categorical_feature argument of the Dataset constructor to pass this parameter.\n",
            "  _log_warning(f'{key} keyword has been found in `params` and will be ignored.\\n'\n",
            "C:\\Users\\Toan\\anaconda3\\envs\\ml_com\\lib\\site-packages\\lightgbm\\basic.py:1513: UserWarning: categorical_feature in param dict is overridden.\n",
            "  _log_warning(f'{cat_alias} in param dict is overridden.')\n"
          ]
        },
        {
          "name": "stdout",
          "output_type": "stream",
          "text": [
            "F1_SCORE:  0.7758 \n",
            "\n",
            "[LightGBM] [Warning] feature_fraction is set=0.9508371613914272, colsample_bytree=1.0 will be ignored. Current value: feature_fraction=0.9508371613914272\n",
            "[LightGBM] [Warning] bagging_fraction is set=0.6600856967220281, subsample=1.0 will be ignored. Current value: bagging_fraction=0.6600856967220281\n"
          ]
        },
        {
          "name": "stderr",
          "output_type": "stream",
          "text": [
            "C:\\Users\\Toan\\anaconda3\\envs\\ml_com\\lib\\site-packages\\lightgbm\\sklearn.py:736: UserWarning: 'verbose' argument is deprecated and will be removed in a future release of LightGBM. Pass 'log_evaluation()' callback via 'callbacks' argument instead.\n",
            "  _log_warning(\"'verbose' argument is deprecated and will be removed in a future release of LightGBM. \"\n",
            "C:\\Users\\Toan\\anaconda3\\envs\\ml_com\\lib\\site-packages\\lightgbm\\basic.py:1487: UserWarning: categorical_feature keyword has been found in `params` and will be ignored.\n",
            "Please use categorical_feature argument of the Dataset constructor to pass this parameter.\n",
            "  _log_warning(f'{key} keyword has been found in `params` and will be ignored.\\n'\n",
            "C:\\Users\\Toan\\anaconda3\\envs\\ml_com\\lib\\site-packages\\lightgbm\\basic.py:1513: UserWarning: categorical_feature in param dict is overridden.\n",
            "  _log_warning(f'{cat_alias} in param dict is overridden.')\n"
          ]
        },
        {
          "name": "stdout",
          "output_type": "stream",
          "text": [
            "F1_SCORE:  0.8012 \n",
            "\n",
            "[LightGBM] [Warning] feature_fraction is set=0.9508371613914272, colsample_bytree=1.0 will be ignored. Current value: feature_fraction=0.9508371613914272\n",
            "[LightGBM] [Warning] bagging_fraction is set=0.6600856967220281, subsample=1.0 will be ignored. Current value: bagging_fraction=0.6600856967220281\n"
          ]
        },
        {
          "name": "stderr",
          "output_type": "stream",
          "text": [
            "C:\\Users\\Toan\\anaconda3\\envs\\ml_com\\lib\\site-packages\\lightgbm\\sklearn.py:736: UserWarning: 'verbose' argument is deprecated and will be removed in a future release of LightGBM. Pass 'log_evaluation()' callback via 'callbacks' argument instead.\n",
            "  _log_warning(\"'verbose' argument is deprecated and will be removed in a future release of LightGBM. \"\n",
            "C:\\Users\\Toan\\anaconda3\\envs\\ml_com\\lib\\site-packages\\lightgbm\\basic.py:1487: UserWarning: categorical_feature keyword has been found in `params` and will be ignored.\n",
            "Please use categorical_feature argument of the Dataset constructor to pass this parameter.\n",
            "  _log_warning(f'{key} keyword has been found in `params` and will be ignored.\\n'\n",
            "C:\\Users\\Toan\\anaconda3\\envs\\ml_com\\lib\\site-packages\\lightgbm\\basic.py:1513: UserWarning: categorical_feature in param dict is overridden.\n",
            "  _log_warning(f'{cat_alias} in param dict is overridden.')\n"
          ]
        },
        {
          "name": "stdout",
          "output_type": "stream",
          "text": [
            "F1_SCORE:  0.7687 \n",
            "\n",
            "[LightGBM] [Warning] feature_fraction is set=0.9508371613914272, colsample_bytree=1.0 will be ignored. Current value: feature_fraction=0.9508371613914272\n",
            "[LightGBM] [Warning] bagging_fraction is set=0.6600856967220281, subsample=1.0 will be ignored. Current value: bagging_fraction=0.6600856967220281\n"
          ]
        },
        {
          "name": "stderr",
          "output_type": "stream",
          "text": [
            "C:\\Users\\Toan\\anaconda3\\envs\\ml_com\\lib\\site-packages\\lightgbm\\sklearn.py:736: UserWarning: 'verbose' argument is deprecated and will be removed in a future release of LightGBM. Pass 'log_evaluation()' callback via 'callbacks' argument instead.\n",
            "  _log_warning(\"'verbose' argument is deprecated and will be removed in a future release of LightGBM. \"\n",
            "C:\\Users\\Toan\\anaconda3\\envs\\ml_com\\lib\\site-packages\\lightgbm\\basic.py:1487: UserWarning: categorical_feature keyword has been found in `params` and will be ignored.\n",
            "Please use categorical_feature argument of the Dataset constructor to pass this parameter.\n",
            "  _log_warning(f'{key} keyword has been found in `params` and will be ignored.\\n'\n",
            "C:\\Users\\Toan\\anaconda3\\envs\\ml_com\\lib\\site-packages\\lightgbm\\basic.py:1513: UserWarning: categorical_feature in param dict is overridden.\n",
            "  _log_warning(f'{cat_alias} in param dict is overridden.')\n",
            "\u001b[32m[I 2022-04-18 23:45:47,969]\u001b[0m Trial 49 finished with value: 0.7799246907255758 and parameters: {'num_leaves': 2, 'n_estimators': 676, 'learning_rate': 0.1230158890043171, 'feature_fraction': 0.9508371613914272, 'bagging_fraction': 0.6600856967220281}. Best is trial 41 with value: 0.8101751814855515.\u001b[0m\n"
          ]
        },
        {
          "name": "stdout",
          "output_type": "stream",
          "text": [
            "F1_SCORE:  0.7876 \n",
            "\n"
          ]
        }
      ],
      "source": [
        "import optuna\n",
        "def objective(trial):\n",
        "    # Specify a search space using distributions across plausible values of hyperparameters.\n",
        "    param = {\n",
        "        'boosting_type': 'gbdt',\n",
        "        'objective': 'multiclass',\n",
        "        'num_class':7,\n",
        "        'categorical_feature': category_cols,       \n",
        "        \"seed\": 42,\n",
        "        # 'lambda_l1': trial.suggest_float('lambda_l1', 1e-8, 10.0, log=True),\n",
        "        # 'lambda_l2': trial.suggest_float('lambda_l2', 1e-8, 10.0, log=True),\n",
        "        'num_leaves': trial.suggest_int('num_leaves', 2, 12),\n",
        "        'n_estimators': trial.suggest_int('n_estimators', 100, 1200),\n",
        "        'learning_rate': trial.suggest_float('learning_rate', 1e-3, 1),\n",
        "\n",
        "        'feature_fraction': trial.suggest_float('feature_fraction', 0.4, 1.0),\n",
        "        'bagging_fraction': trial.suggest_float('bagging_fraction', 0.4, 1.0),\n",
        "        # 'bagging_freq': trial.suggest_int('bagging_freq', 1, 7),\n",
        "        # 'min_child_samples': trial.suggest_int('min_child_samples', 5, 100)\n",
        "    }\n",
        "    \n",
        "    # Run LightGBM for the hyperparameter values\n",
        "    lgbcv = lgb(**param,\n",
        "                #    categorical_feature=ids_of_categorical,              \n",
        "                                  \n",
        "                  )\n",
        "    cv_score = []\n",
        "    for n_fold, (train_idx, valid_idx) in enumerate(skf.split(X_train , y_train)):\n",
        "        # print(\"Fold %s\" % (n_fold))\n",
        "        train_x, train_y = X_train .iloc[train_idx], y_train.iloc[train_idx]\n",
        "        valid_x, valid_y = X_train .iloc[valid_idx], y_train.iloc[valid_idx]\n",
        "\n",
        "        clf = lgbcv\n",
        "        clf.fit(train_x, train_y, verbose= False)\n",
        "        score = f1_score(valid_y, clf.predict(valid_x),  average='macro')\n",
        "        print('F1_SCORE: ', round(score, 4), '\\n')\n",
        "        cv_score.append(score)\n",
        "    \n",
        "    return sum(cv_score)/len(cv_score)\n",
        "\n",
        "study = optuna.create_study(direction=\"maximize\")\n",
        "study.optimize(objective, n_trials=50) "
      ]
    },
    {
      "cell_type": "code",
      "execution_count": 166,
      "metadata": {
        "colab": {
          "base_uri": "https://localhost:8080/"
        },
        "id": "tCLZxbYrBVV_",
        "outputId": "f65dc2fb-2a54-4d64-9339-f1fabf80c8e9"
      },
      "outputs": [
        {
          "data": {
            "text/plain": [
              "{'boosting_type': 'gbdt',\n",
              " 'objective': 'multiclass',\n",
              " 'num_class': 7,\n",
              " 'categorical_feature': ['category_max_fre_company_type',\n",
              "  'category_max_fre_out_filled_var_company_type',\n",
              "  'category_last_value_company_type',\n",
              "  'category_max_fre_id_management',\n",
              "  'category_max_fre_out_filled_var_id_management',\n",
              "  'category_last_value_id_management',\n",
              "  'category_max_fre_id_office',\n",
              "  'category_max_fre_out_filled_var_id_office',\n",
              "  'category_last_value_id_office',\n",
              "  'category_max_fre_job_role_encode_knn',\n",
              "  'category_max_fre_out_filled_var_job_role_encode_knn',\n",
              "  'category_last_value_job_role_encode_knn',\n",
              "  'category_max_fre_new_work_province_id',\n",
              "  'category_max_fre_out_filled_var_new_work_province_id',\n",
              "  'category_last_value_new_work_province_id',\n",
              "  'category_bining_olds',\n",
              "  'new_province_id'],\n",
              " 'seed': 42,\n",
              " 'num_leaves': 12,\n",
              " 'n_estimators': 606,\n",
              " 'learning_rate': 0.04758825215802909,\n",
              " 'feature_fraction': 0.9125911608337296,\n",
              " 'bagging_fraction': 0.6099589912189116}"
            ]
          },
          "execution_count": 166,
          "metadata": {},
          "output_type": "execute_result"
        }
      ],
      "source": [
        "## cv :0.8101751814855515\n",
        "best_params = {\n",
        "        'boosting_type': 'gbdt',\n",
        "        'objective': 'multiclass',\n",
        "        'num_class':7,\n",
        "        'categorical_feature': category_cols,       \n",
        "        \"seed\": 42,} \n",
        "best_params.update(study.best_params)\n",
        "best_params"
      ]
    },
    {
      "cell_type": "code",
      "execution_count": 167,
      "metadata": {
        "colab": {
          "base_uri": "https://localhost:8080/"
        },
        "id": "LB0i4ngc-YWH",
        "outputId": "eb2ce793-1eba-4692-f0ea-0f59360a36a3"
      },
      "outputs": [
        {
          "name": "stderr",
          "output_type": "stream",
          "text": [
            "C:\\Users\\Toan\\anaconda3\\envs\\ml_com\\lib\\site-packages\\lightgbm\\basic.py:1487: UserWarning: categorical_feature keyword has been found in `params` and will be ignored.\n",
            "Please use categorical_feature argument of the Dataset constructor to pass this parameter.\n",
            "  _log_warning(f'{key} keyword has been found in `params` and will be ignored.\\n'\n",
            "C:\\Users\\Toan\\anaconda3\\envs\\ml_com\\lib\\site-packages\\lightgbm\\basic.py:1513: UserWarning: categorical_feature in param dict is overridden.\n",
            "  _log_warning(f'{cat_alias} in param dict is overridden.')\n"
          ]
        },
        {
          "name": "stdout",
          "output_type": "stream",
          "text": [
            "[LightGBM] [Warning] feature_fraction is set=0.9125911608337296, colsample_bytree=1.0 will be ignored. Current value: feature_fraction=0.9125911608337296\n",
            "[LightGBM] [Warning] bagging_fraction is set=0.6099589912189116, subsample=1.0 will be ignored. Current value: bagging_fraction=0.6099589912189116\n"
          ]
        }
      ],
      "source": [
        "id_test = df_test['id_bh']\n",
        "X_test = df_test.drop(columns = [ 'id_bh']) \n",
        "X_test[category_cols] = X_test[category_cols].astype('category')\n",
        "\n",
        "X_test = X_test[selected_features]\n",
        "clf = lgb(**best_params)\n",
        "clf.fit( X_train, y_train)\n",
        "preds =  clf.predict(X_test)\n",
        "\n",
        "predict_df = pd.DataFrame()\n",
        "predict_df['id_bh'] =id_test\n",
        "predict_df['label'] = preds\n",
        "\n",
        "## merge voi label_test\n",
        "submit_file = concat_data(test_label,predict_df )"
      ]
    },
    {
      "cell_type": "code",
      "execution_count": 168,
      "metadata": {
        "id": "5pIIUhx3-e01"
      },
      "outputs": [],
      "source": [
        "submit_file.to_csv(\"data/submmit/tuned_lg_with_top250_selected_features_cv081017.csv\", index=False)"
      ]
    },
    {
      "cell_type": "code",
      "execution_count": 172,
      "metadata": {
        "id": "bfLviM0XTdeR"
      },
      "outputs": [],
      "source": [
        "top_fea_250_df = pd.DataFrame(list(top_fea_250), columns = ['top_250_fea'])\n",
        "top_fea_250_df.to_csv(\"top250fea.csv\",  index = False)\n"
      ]
    }
  ],
  "metadata": {
    "colab": {
      "collapsed_sections": [],
      "machine_shape": "hm",
      "name": "features_engineering_phoBERT_job.ipynb",
      "provenance": []
    },
    "interpreter": {
      "hash": "98695b7a08c9cf565d1db0672d8357aa94ece3889704c89d84fdcde5b877d054"
    },
    "kernelspec": {
      "display_name": "Python 3.8.12 ('ml_com')",
      "language": "python",
      "name": "python3"
    },
    "language_info": {
      "codemirror_mode": {
        "name": "ipython",
        "version": 3
      },
      "file_extension": ".py",
      "mimetype": "text/x-python",
      "name": "python",
      "nbconvert_exporter": "python",
      "pygments_lexer": "ipython3",
      "version": "3.8.12"
    }
  },
  "nbformat": 4,
  "nbformat_minor": 0
}
