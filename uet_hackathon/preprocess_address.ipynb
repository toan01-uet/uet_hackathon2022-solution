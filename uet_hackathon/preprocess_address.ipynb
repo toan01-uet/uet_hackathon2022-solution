{
 "cells": [
  {
   "cell_type": "code",
   "execution_count": 2,
   "metadata": {},
   "outputs": [],
   "source": [
    "import pandas as pd\n",
    "import numpy as np\n",
    "import matplotlib.pyplot as plt\n",
    "import seaborn as sns"
   ]
  },
  {
   "cell_type": "code",
   "execution_count": 4,
   "metadata": {},
   "outputs": [],
   "source": [
    "##load dataset\n",
    "file = \"data\"\n",
    "\n",
    "train_info_path = file + \"/info_train.csv\"\n",
    "train_work_path = file + \"/work_train.csv\"\n",
    "train_label_path = file + \"/label_train.csv\"\n",
    "\n",
    "test_info_path = file + \"/info_test.csv\"\n",
    "test_work_path = file + \"/work_test.csv\"\n",
    "test_label_path = file + \"/label_test.csv\"\n",
    "\n",
    "\n",
    "## data frame\n",
    "train_info = pd.read_csv(train_info_path)\n",
    "train_work = pd.read_csv(train_work_path)\n",
    "train_label = pd.read_csv(train_label_path)\n",
    "\n",
    "test_info = pd.read_csv(test_info_path)\n",
    "test_work = pd.read_csv(test_work_path)\n",
    "test_label = pd.read_csv(test_label_path)"
   ]
  },
  {
   "cell_type": "code",
   "execution_count": 5,
   "metadata": {},
   "outputs": [],
   "source": [
    "## concat \n",
    "info = pd.concat([train_info, test_info],axis=0)"
   ]
  },
  {
   "cell_type": "code",
   "execution_count": 6,
   "metadata": {},
   "outputs": [
    {
     "name": "stdout",
     "output_type": "stream",
     "text": [
      "<class 'pandas.core.frame.DataFrame'>\n",
      "Int64Index: 45636 entries, 0 to 18133\n",
      "Data columns (total 4 columns):\n",
      " #   Column    Non-Null Count  Dtype \n",
      "---  ------    --------------  ----- \n",
      " 0   bithYear  45636 non-null  int64 \n",
      " 1   gender    45636 non-null  object\n",
      " 2   address   21907 non-null  object\n",
      " 3   id_bh     45636 non-null  int64 \n",
      "dtypes: int64(2), object(2)\n",
      "memory usage: 1.7+ MB\n"
     ]
    }
   ],
   "source": [
    "info.info()"
   ]
  },
  {
   "cell_type": "markdown",
   "metadata": {},
   "source": [
    "## Process info['address']"
   ]
  },
  {
   "cell_type": "code",
   "execution_count": 9,
   "metadata": {},
   "outputs": [
    {
     "name": "stdout",
     "output_type": "stream",
     "text": [
      "<class 'pandas.core.frame.DataFrame'>\n",
      "Int64Index: 45636 entries, 0 to 18133\n",
      "Data columns (total 4 columns):\n",
      " #   Column    Non-Null Count  Dtype \n",
      "---  ------    --------------  ----- \n",
      " 0   bithYear  45636 non-null  int64 \n",
      " 1   gender    45636 non-null  object\n",
      " 2   address   45636 non-null  object\n",
      " 3   id_bh     45636 non-null  int64 \n",
      "dtypes: int64(2), object(2)\n",
      "memory usage: 1.7+ MB\n"
     ]
    }
   ],
   "source": [
    "info['address'] = info['address'].fillna(-99)\n",
    "info['address'] = info.apply(lambda row: str(row.address).upper(), axis = 1)\n",
    "info.info()"
   ]
  },
  {
   "cell_type": "code",
   "execution_count": 10,
   "metadata": {},
   "outputs": [
    {
     "name": "stdout",
     "output_type": "stream",
     "text": [
      "<ADDRESS>\n",
      "\n",
      "Number unique values of address: 1090\n",
      "\n",
      "-99                   23729\n",
      "VĨNH PHÚC              5275\n",
      "BẮC GIANG              2905\n",
      "NGHỆ AN                2363\n",
      "HÀ NỘI                 1983\n",
      "                      ...  \n",
      "2159                      1\n",
      "3810                      1\n",
      "4407                      1\n",
      "0446                      1\n",
      "YÊN LẠC  VĨNH PHÚC        1\n",
      "Name: address, Length: 1090, dtype: int64\n",
      "\n",
      "['HÀ NỘI' 'THÀNH PHỐ HÀ NỘI' '-99' ... 'TØNH B×NH PH\\xadÍC' '.'\n",
      " 'YÊN LẠC  VĨNH PHÚC']\n",
      "\n",
      "---------------------------------------------------------------------------\n",
      "\n"
     ]
    }
   ],
   "source": [
    "list_cols = {'address'}\n",
    "for col in list_cols:\n",
    "    print(f\"<{col.upper()}>\\n\")\n",
    "    print(f\"Number unique values of {col}: {info[col].nunique()}\\n\")\n",
    "    print(f\"{info[col].value_counts()}\\n\")\n",
    "    print(f\"{info[col].unique()}\\n\")\n",
    "    print(f\"---------------------------------------------------------------------------\\n\")"
   ]
  },
  {
   "cell_type": "code",
   "execution_count": 34,
   "metadata": {},
   "outputs": [],
   "source": [
    "from difflib import SequenceMatcher\n",
    "def similar(a, b):\n",
    "    a = str(a).upper().strip()\n",
    "    b = str(b).upper().strip()\n",
    "    rp_a = ''\n",
    "    rp_b = ''\n",
    "    for s in a.split(' '):\n",
    "        rp_a += s\n",
    "    for s in b.split(' '):\n",
    "        rp_b += s\n",
    "    return SequenceMatcher(None, rp_a, rp_b).ratio()"
   ]
  },
  {
   "cell_type": "code",
   "execution_count": 37,
   "metadata": {},
   "outputs": [],
   "source": [
    "province_dict = {\n",
    "    \"An Giang\": 1,\n",
    "    \"Kon Tum\": 33,\n",
    "\"Bà Rịa – Vũng Tàu\": 2,\n",
    "\"Lai Châu\": 34,\n",
    "\"Bắc Giang\"\t: 3,\n",
    "\"Lâm Đồng\": 35,\n",
    "\t\"Bắc Kạn\": 4,\t\n",
    "\t\"Lạng Sơn\": 36,\n",
    "\t\"Bạc Liêu\": 5,\t\n",
    "\t\"Lào Cai\": 37,\n",
    "\t\"Bắc Ninh\": 6, \t\n",
    "\t\"Long An\": 38,\n",
    "\t\"Bến Tre\": 7,\t\n",
    "\t\"Nam Định\": 39,\n",
    "\t\"Bình Định\"\t: 8,\n",
    "\t\"Nghệ An\": 40,\n",
    "\t\"Bình Dương\": 9\t,\n",
    "\t\"Ninh Bình\": 41,\n",
    "\t\"Bình Phước\"\t: 10,\n",
    "\t\"Ninh Thuận\": 42,\n",
    "\t\"Bình Thuận\"\t: 11,\n",
    "\t\"Phú Thọ\": 43,\n",
    "\t\"Cà Mau\"\t: 12,\n",
    "\t\"Phú Yên\": 44,\n",
    "\t\"Cần Thơ\"\t: 13,\n",
    "\t\"Quảng Bình\": 45,\n",
    "\t\"Cao Bằng\"\t: 14,\n",
    "\t\"Quảng Nam\" : 46,\n",
    "\t\"Đà Nẵng\" : 15,\n",
    "\t\"Quảng Ngãi\": 47,\n",
    "\t\"Đắk Lắk\"\t: 16,\n",
    "\t\"Quảng Ninh\" : 48, \n",
    "\t\"Đắk Nông\"\t: 17,\n",
    "\t\"Quảng Trị\": 49,\n",
    "\t\"Điện Biên\"\t: 18,\n",
    "\t\"Sóc Trăng\": 50,\n",
    "\t\"Đồng Nai\"\t: 19,\n",
    "\t\"Sơn La\": 51,\n",
    "\t\"Đồng Tháp\"\t: 20,\n",
    "\t\"Tây Ninh\": 52,\n",
    "\t\"Gia Lai\"\t: 21,\n",
    "\t\"Thái Bình\": 53,\n",
    "\t\"Hà Giang\"\t: 22,\n",
    "\t\"Thái Nguyên\": 54,\n",
    "\t\"Hà Nam\"\t: 23,\n",
    "\t\"Thanh Hóa\": 55,\n",
    "\t\"Hà Nội\"\t: 24,\n",
    "\t\"Thừa Thiên Huế\": 56,\n",
    "\t\"Hà Tĩnh\"\t: 25,\n",
    "\t\"Tiền Giang\": 57,\n",
    "\t\"Hải Dương\"\t: 26,\n",
    "\t\"TP Hồ Chí Minh\" : 58,\n",
    "\t\"Hải Phòng\"\t: 27, \n",
    "\t\"Trà Vinh\": 59,\n",
    "\t\"Hậu Giang\"\t: 28,\n",
    "\t\"Tuyên Quang\": 60, \n",
    "\t\"Hòa Bình\"\t: 29,\n",
    "\t\"Vĩnh Long\": 61,\n",
    "\t\"Hưng Yên\"\t: 30,\n",
    "\t\"Vĩnh Phúc\": 62,\n",
    "\t\"Khánh Hòa\"\t: 31,\n",
    "\t\"Yên Bái\": 63,\n",
    "\t\"Kiên Giang\": 32\t \t \n",
    "}"
   ]
  },
  {
   "cell_type": "code",
   "execution_count": 39,
   "metadata": {},
   "outputs": [],
   "source": [
    "## caculate similarity\n",
    "for k, v in province_dict.items():\n",
    "    col_name = str(v)\n",
    "    info[col_name] = info.apply(lambda row: similar( row.address, k), axis = 1)"
   ]
  },
  {
   "cell_type": "code",
   "execution_count": 49,
   "metadata": {},
   "outputs": [],
   "source": [
    "## caculate max similarity\n",
    "province_id = list(range(1,64))\n",
    "province_col_name  = [str(x) for x in province_id]\n",
    "info['max_similar_score'] = info[province_col_name].max(axis= 1)\n",
    "info['province_id'] = info[province_col_name].idxmax(axis= 1)"
   ]
  },
  {
   "cell_type": "code",
   "execution_count": 54,
   "metadata": {},
   "outputs": [],
   "source": [
    "## thresh hold = 0.5\n",
    "info['new_province_id']  = info.apply(lambda row: row.province_id if row.max_similar_score > 0.5 else -999, axis = 1)"
   ]
  },
  {
   "cell_type": "code",
   "execution_count": 59,
   "metadata": {},
   "outputs": [],
   "source": [
    "## encode gender male -1, female -0\n",
    "gender_dict ={\"MALE\":1 ,\n",
    " \"FEMALE\": 0}\n",
    "info['gender'] = info['gender'].replace(gender_dict)"
   ]
  },
  {
   "cell_type": "code",
   "execution_count": 61,
   "metadata": {},
   "outputs": [
    {
     "data": {
      "text/plain": [
       "Index(['bithYear', 'gender', 'address', 'id_bh', '1', '33', '2', '34', '3',\n",
       "       '35', '4', '36', '5', '37', '6', '38', '7', '39', '8', '40', '9', '41',\n",
       "       '10', '42', '11', '43', '12', '44', '13', '45', '14', '46', '15', '47',\n",
       "       '16', '48', '17', '49', '18', '50', '19', '51', '20', '52', '21', '53',\n",
       "       '22', '54', '23', '55', '24', '56', '25', '57', '26', '58', '27', '59',\n",
       "       '28', '60', '29', '61', '30', '62', '31', '63', '32',\n",
       "       'max_similar_score', 'province_id', 'new_province_id'],\n",
       "      dtype='object')"
      ]
     },
     "execution_count": 61,
     "metadata": {},
     "output_type": "execute_result"
    }
   ],
   "source": [
    "info.columns"
   ]
  },
  {
   "cell_type": "code",
   "execution_count": 62,
   "metadata": {},
   "outputs": [
    {
     "name": "stdout",
     "output_type": "stream",
     "text": [
      "<class 'pandas.core.frame.DataFrame'>\n",
      "Int64Index: 45636 entries, 0 to 18133\n",
      "Data columns (total 70 columns):\n",
      " #   Column             Non-Null Count  Dtype  \n",
      "---  ------             --------------  -----  \n",
      " 0   bithYear           45636 non-null  int64  \n",
      " 1   gender             45636 non-null  int64  \n",
      " 2   address            45636 non-null  object \n",
      " 3   id_bh              45636 non-null  int64  \n",
      " 4   1                  45636 non-null  float64\n",
      " 5   33                 45636 non-null  float64\n",
      " 6   2                  45636 non-null  float64\n",
      " 7   34                 45636 non-null  float64\n",
      " 8   3                  45636 non-null  float64\n",
      " 9   35                 45636 non-null  float64\n",
      " 10  4                  45636 non-null  float64\n",
      " 11  36                 45636 non-null  float64\n",
      " 12  5                  45636 non-null  float64\n",
      " 13  37                 45636 non-null  float64\n",
      " 14  6                  45636 non-null  float64\n",
      " 15  38                 45636 non-null  float64\n",
      " 16  7                  45636 non-null  float64\n",
      " 17  39                 45636 non-null  float64\n",
      " 18  8                  45636 non-null  float64\n",
      " 19  40                 45636 non-null  float64\n",
      " 20  9                  45636 non-null  float64\n",
      " 21  41                 45636 non-null  float64\n",
      " 22  10                 45636 non-null  float64\n",
      " 23  42                 45636 non-null  float64\n",
      " 24  11                 45636 non-null  float64\n",
      " 25  43                 45636 non-null  float64\n",
      " 26  12                 45636 non-null  float64\n",
      " 27  44                 45636 non-null  float64\n",
      " 28  13                 45636 non-null  float64\n",
      " 29  45                 45636 non-null  float64\n",
      " 30  14                 45636 non-null  float64\n",
      " 31  46                 45636 non-null  float64\n",
      " 32  15                 45636 non-null  float64\n",
      " 33  47                 45636 non-null  float64\n",
      " 34  16                 45636 non-null  float64\n",
      " 35  48                 45636 non-null  float64\n",
      " 36  17                 45636 non-null  float64\n",
      " 37  49                 45636 non-null  float64\n",
      " 38  18                 45636 non-null  float64\n",
      " 39  50                 45636 non-null  float64\n",
      " 40  19                 45636 non-null  float64\n",
      " 41  51                 45636 non-null  float64\n",
      " 42  20                 45636 non-null  float64\n",
      " 43  52                 45636 non-null  float64\n",
      " 44  21                 45636 non-null  float64\n",
      " 45  53                 45636 non-null  float64\n",
      " 46  22                 45636 non-null  float64\n",
      " 47  54                 45636 non-null  float64\n",
      " 48  23                 45636 non-null  float64\n",
      " 49  55                 45636 non-null  float64\n",
      " 50  24                 45636 non-null  float64\n",
      " 51  56                 45636 non-null  float64\n",
      " 52  25                 45636 non-null  float64\n",
      " 53  57                 45636 non-null  float64\n",
      " 54  26                 45636 non-null  float64\n",
      " 55  58                 45636 non-null  float64\n",
      " 56  27                 45636 non-null  float64\n",
      " 57  59                 45636 non-null  float64\n",
      " 58  28                 45636 non-null  float64\n",
      " 59  60                 45636 non-null  float64\n",
      " 60  29                 45636 non-null  float64\n",
      " 61  61                 45636 non-null  float64\n",
      " 62  30                 45636 non-null  float64\n",
      " 63  62                 45636 non-null  float64\n",
      " 64  31                 45636 non-null  float64\n",
      " 65  63                 45636 non-null  float64\n",
      " 66  32                 45636 non-null  float64\n",
      " 67  max_similar_score  45636 non-null  float64\n",
      " 68  province_id        45636 non-null  object \n",
      " 69  new_province_id    45636 non-null  object \n",
      "dtypes: float64(64), int64(3), object(3)\n",
      "memory usage: 24.7+ MB\n"
     ]
    }
   ],
   "source": [
    "info.info()"
   ]
  },
  {
   "cell_type": "code",
   "execution_count": 63,
   "metadata": {},
   "outputs": [],
   "source": [
    "use_cols = [\n",
    "    'id_bh',\n",
    "    'bithYear', \n",
    "    'gender',\n",
    "    'new_province_id'\n",
    "]"
   ]
  },
  {
   "cell_type": "code",
   "execution_count": 64,
   "metadata": {},
   "outputs": [],
   "source": [
    "new_info = info[use_cols]"
   ]
  },
  {
   "cell_type": "code",
   "execution_count": 66,
   "metadata": {},
   "outputs": [],
   "source": [
    "train_info_last = new_info[:len(train_info)]\n",
    "test_info_last = new_info[len(train_info):]"
   ]
  },
  {
   "cell_type": "code",
   "execution_count": 67,
   "metadata": {},
   "outputs": [
    {
     "data": {
      "text/plain": [
       "((27502, 4), (18134, 4))"
      ]
     },
     "execution_count": 67,
     "metadata": {},
     "output_type": "execute_result"
    }
   ],
   "source": [
    "train_info_last.shape, test_info_last.shape"
   ]
  },
  {
   "cell_type": "code",
   "execution_count": 70,
   "metadata": {},
   "outputs": [],
   "source": [
    "train_info_last.to_csv(r\"data/processed_data/train_info.csv\")\n",
    "test_info_last.to_csv(r\"data/processed_data/test_info.csv\")"
   ]
  },
  {
   "cell_type": "code",
   "execution_count": null,
   "metadata": {},
   "outputs": [],
   "source": [
    "# text = re.sub(r'(SÀI GÒN)|(TPHCM)|(HCM)|(TP HCM)','TP HỒ CHÍ MINH',text) #Change some symnonyms\n",
    "# text = re.sub(r'(HN)','HÀ NỘI',text)"
   ]
  }
 ],
 "metadata": {
  "interpreter": {
   "hash": "98695b7a08c9cf565d1db0672d8357aa94ece3889704c89d84fdcde5b877d054"
  },
  "kernelspec": {
   "display_name": "Python 3.8.12 ('ml_com')",
   "language": "python",
   "name": "python3"
  },
  "language_info": {
   "codemirror_mode": {
    "name": "ipython",
    "version": 3
   },
   "file_extension": ".py",
   "mimetype": "text/x-python",
   "name": "python",
   "nbconvert_exporter": "python",
   "pygments_lexer": "ipython3",
   "version": "3.8.12"
  },
  "orig_nbformat": 4
 },
 "nbformat": 4,
 "nbformat_minor": 2
}
